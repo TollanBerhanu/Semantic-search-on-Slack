{
  "nbformat": 4,
  "nbformat_minor": 0,
  "metadata": {
    "colab": {
      "provenance": [],
      "machine_shape": "hm",
      "gpuType": "T4",
      "include_colab_link": true
    },
    "kernelspec": {
      "name": "python3",
      "display_name": "Python 3"
    },
    "language_info": {
      "name": "python"
    },
    "accelerator": "GPU",
    "gpuClass": "standard",
    "widgets": {
      "application/vnd.jupyter.widget-state+json": {
        "1ad09eb7a4074d85b9603fd183c7ddfd": {
          "model_module": "@jupyter-widgets/controls",
          "model_name": "HBoxModel",
          "model_module_version": "1.5.0",
          "state": {
            "_dom_classes": [],
            "_model_module": "@jupyter-widgets/controls",
            "_model_module_version": "1.5.0",
            "_model_name": "HBoxModel",
            "_view_count": null,
            "_view_module": "@jupyter-widgets/controls",
            "_view_module_version": "1.5.0",
            "_view_name": "HBoxView",
            "box_style": "",
            "children": [
              "IPY_MODEL_c8acd9b00c15461b8fc6a6bef94a7ade",
              "IPY_MODEL_1f1866b79230478da5663db22e2e837b",
              "IPY_MODEL_6e363de8ced1493b92904b09a0465e62"
            ],
            "layout": "IPY_MODEL_37cae9330f284c878c6a3270a62de110"
          }
        },
        "c8acd9b00c15461b8fc6a6bef94a7ade": {
          "model_module": "@jupyter-widgets/controls",
          "model_name": "HTMLModel",
          "model_module_version": "1.5.0",
          "state": {
            "_dom_classes": [],
            "_model_module": "@jupyter-widgets/controls",
            "_model_module_version": "1.5.0",
            "_model_name": "HTMLModel",
            "_view_count": null,
            "_view_module": "@jupyter-widgets/controls",
            "_view_module_version": "1.5.0",
            "_view_name": "HTMLView",
            "description": "",
            "description_tooltip": null,
            "layout": "IPY_MODEL_22dd1b5a06a84865aba1f8cfc12d3e92",
            "placeholder": "​",
            "style": "IPY_MODEL_a5fbe330eae948cfb351afc722609b9c",
            "value": "Downloading (…)7f436/.gitattributes: 100%"
          }
        },
        "1f1866b79230478da5663db22e2e837b": {
          "model_module": "@jupyter-widgets/controls",
          "model_name": "FloatProgressModel",
          "model_module_version": "1.5.0",
          "state": {
            "_dom_classes": [],
            "_model_module": "@jupyter-widgets/controls",
            "_model_module_version": "1.5.0",
            "_model_name": "FloatProgressModel",
            "_view_count": null,
            "_view_module": "@jupyter-widgets/controls",
            "_view_module_version": "1.5.0",
            "_view_name": "ProgressView",
            "bar_style": "success",
            "description": "",
            "description_tooltip": null,
            "layout": "IPY_MODEL_5763c4cc80d346d5ad596cc978f89117",
            "max": 1477,
            "min": 0,
            "orientation": "horizontal",
            "style": "IPY_MODEL_57abc71cd21142dea2f74ec4d119f13b",
            "value": 1477
          }
        },
        "6e363de8ced1493b92904b09a0465e62": {
          "model_module": "@jupyter-widgets/controls",
          "model_name": "HTMLModel",
          "model_module_version": "1.5.0",
          "state": {
            "_dom_classes": [],
            "_model_module": "@jupyter-widgets/controls",
            "_model_module_version": "1.5.0",
            "_model_name": "HTMLModel",
            "_view_count": null,
            "_view_module": "@jupyter-widgets/controls",
            "_view_module_version": "1.5.0",
            "_view_name": "HTMLView",
            "description": "",
            "description_tooltip": null,
            "layout": "IPY_MODEL_3ee711ed600f4146ad3c38a4b1da4c1a",
            "placeholder": "​",
            "style": "IPY_MODEL_9dea8770b9454f59b3eec9723a426d55",
            "value": " 1.48k/1.48k [00:00&lt;00:00, 74.1kB/s]"
          }
        },
        "37cae9330f284c878c6a3270a62de110": {
          "model_module": "@jupyter-widgets/base",
          "model_name": "LayoutModel",
          "model_module_version": "1.2.0",
          "state": {
            "_model_module": "@jupyter-widgets/base",
            "_model_module_version": "1.2.0",
            "_model_name": "LayoutModel",
            "_view_count": null,
            "_view_module": "@jupyter-widgets/base",
            "_view_module_version": "1.2.0",
            "_view_name": "LayoutView",
            "align_content": null,
            "align_items": null,
            "align_self": null,
            "border": null,
            "bottom": null,
            "display": null,
            "flex": null,
            "flex_flow": null,
            "grid_area": null,
            "grid_auto_columns": null,
            "grid_auto_flow": null,
            "grid_auto_rows": null,
            "grid_column": null,
            "grid_gap": null,
            "grid_row": null,
            "grid_template_areas": null,
            "grid_template_columns": null,
            "grid_template_rows": null,
            "height": null,
            "justify_content": null,
            "justify_items": null,
            "left": null,
            "margin": null,
            "max_height": null,
            "max_width": null,
            "min_height": null,
            "min_width": null,
            "object_fit": null,
            "object_position": null,
            "order": null,
            "overflow": null,
            "overflow_x": null,
            "overflow_y": null,
            "padding": null,
            "right": null,
            "top": null,
            "visibility": null,
            "width": null
          }
        },
        "22dd1b5a06a84865aba1f8cfc12d3e92": {
          "model_module": "@jupyter-widgets/base",
          "model_name": "LayoutModel",
          "model_module_version": "1.2.0",
          "state": {
            "_model_module": "@jupyter-widgets/base",
            "_model_module_version": "1.2.0",
            "_model_name": "LayoutModel",
            "_view_count": null,
            "_view_module": "@jupyter-widgets/base",
            "_view_module_version": "1.2.0",
            "_view_name": "LayoutView",
            "align_content": null,
            "align_items": null,
            "align_self": null,
            "border": null,
            "bottom": null,
            "display": null,
            "flex": null,
            "flex_flow": null,
            "grid_area": null,
            "grid_auto_columns": null,
            "grid_auto_flow": null,
            "grid_auto_rows": null,
            "grid_column": null,
            "grid_gap": null,
            "grid_row": null,
            "grid_template_areas": null,
            "grid_template_columns": null,
            "grid_template_rows": null,
            "height": null,
            "justify_content": null,
            "justify_items": null,
            "left": null,
            "margin": null,
            "max_height": null,
            "max_width": null,
            "min_height": null,
            "min_width": null,
            "object_fit": null,
            "object_position": null,
            "order": null,
            "overflow": null,
            "overflow_x": null,
            "overflow_y": null,
            "padding": null,
            "right": null,
            "top": null,
            "visibility": null,
            "width": null
          }
        },
        "a5fbe330eae948cfb351afc722609b9c": {
          "model_module": "@jupyter-widgets/controls",
          "model_name": "DescriptionStyleModel",
          "model_module_version": "1.5.0",
          "state": {
            "_model_module": "@jupyter-widgets/controls",
            "_model_module_version": "1.5.0",
            "_model_name": "DescriptionStyleModel",
            "_view_count": null,
            "_view_module": "@jupyter-widgets/base",
            "_view_module_version": "1.2.0",
            "_view_name": "StyleView",
            "description_width": ""
          }
        },
        "5763c4cc80d346d5ad596cc978f89117": {
          "model_module": "@jupyter-widgets/base",
          "model_name": "LayoutModel",
          "model_module_version": "1.2.0",
          "state": {
            "_model_module": "@jupyter-widgets/base",
            "_model_module_version": "1.2.0",
            "_model_name": "LayoutModel",
            "_view_count": null,
            "_view_module": "@jupyter-widgets/base",
            "_view_module_version": "1.2.0",
            "_view_name": "LayoutView",
            "align_content": null,
            "align_items": null,
            "align_self": null,
            "border": null,
            "bottom": null,
            "display": null,
            "flex": null,
            "flex_flow": null,
            "grid_area": null,
            "grid_auto_columns": null,
            "grid_auto_flow": null,
            "grid_auto_rows": null,
            "grid_column": null,
            "grid_gap": null,
            "grid_row": null,
            "grid_template_areas": null,
            "grid_template_columns": null,
            "grid_template_rows": null,
            "height": null,
            "justify_content": null,
            "justify_items": null,
            "left": null,
            "margin": null,
            "max_height": null,
            "max_width": null,
            "min_height": null,
            "min_width": null,
            "object_fit": null,
            "object_position": null,
            "order": null,
            "overflow": null,
            "overflow_x": null,
            "overflow_y": null,
            "padding": null,
            "right": null,
            "top": null,
            "visibility": null,
            "width": null
          }
        },
        "57abc71cd21142dea2f74ec4d119f13b": {
          "model_module": "@jupyter-widgets/controls",
          "model_name": "ProgressStyleModel",
          "model_module_version": "1.5.0",
          "state": {
            "_model_module": "@jupyter-widgets/controls",
            "_model_module_version": "1.5.0",
            "_model_name": "ProgressStyleModel",
            "_view_count": null,
            "_view_module": "@jupyter-widgets/base",
            "_view_module_version": "1.2.0",
            "_view_name": "StyleView",
            "bar_color": null,
            "description_width": ""
          }
        },
        "3ee711ed600f4146ad3c38a4b1da4c1a": {
          "model_module": "@jupyter-widgets/base",
          "model_name": "LayoutModel",
          "model_module_version": "1.2.0",
          "state": {
            "_model_module": "@jupyter-widgets/base",
            "_model_module_version": "1.2.0",
            "_model_name": "LayoutModel",
            "_view_count": null,
            "_view_module": "@jupyter-widgets/base",
            "_view_module_version": "1.2.0",
            "_view_name": "LayoutView",
            "align_content": null,
            "align_items": null,
            "align_self": null,
            "border": null,
            "bottom": null,
            "display": null,
            "flex": null,
            "flex_flow": null,
            "grid_area": null,
            "grid_auto_columns": null,
            "grid_auto_flow": null,
            "grid_auto_rows": null,
            "grid_column": null,
            "grid_gap": null,
            "grid_row": null,
            "grid_template_areas": null,
            "grid_template_columns": null,
            "grid_template_rows": null,
            "height": null,
            "justify_content": null,
            "justify_items": null,
            "left": null,
            "margin": null,
            "max_height": null,
            "max_width": null,
            "min_height": null,
            "min_width": null,
            "object_fit": null,
            "object_position": null,
            "order": null,
            "overflow": null,
            "overflow_x": null,
            "overflow_y": null,
            "padding": null,
            "right": null,
            "top": null,
            "visibility": null,
            "width": null
          }
        },
        "9dea8770b9454f59b3eec9723a426d55": {
          "model_module": "@jupyter-widgets/controls",
          "model_name": "DescriptionStyleModel",
          "model_module_version": "1.5.0",
          "state": {
            "_model_module": "@jupyter-widgets/controls",
            "_model_module_version": "1.5.0",
            "_model_name": "DescriptionStyleModel",
            "_view_count": null,
            "_view_module": "@jupyter-widgets/base",
            "_view_module_version": "1.2.0",
            "_view_name": "StyleView",
            "description_width": ""
          }
        },
        "c11b2e895674440c9b649743d044908c": {
          "model_module": "@jupyter-widgets/controls",
          "model_name": "HBoxModel",
          "model_module_version": "1.5.0",
          "state": {
            "_dom_classes": [],
            "_model_module": "@jupyter-widgets/controls",
            "_model_module_version": "1.5.0",
            "_model_name": "HBoxModel",
            "_view_count": null,
            "_view_module": "@jupyter-widgets/controls",
            "_view_module_version": "1.5.0",
            "_view_name": "HBoxView",
            "box_style": "",
            "children": [
              "IPY_MODEL_465d4e3c766246febd1cef7d0d6c818b",
              "IPY_MODEL_423366f4766c4109910645dacb2402cd",
              "IPY_MODEL_6cbedb68c9e94d1d8fddc1257aea91a4"
            ],
            "layout": "IPY_MODEL_fee7b2dbc9c14eb2a8ebd7a7b5c61b90"
          }
        },
        "465d4e3c766246febd1cef7d0d6c818b": {
          "model_module": "@jupyter-widgets/controls",
          "model_name": "HTMLModel",
          "model_module_version": "1.5.0",
          "state": {
            "_dom_classes": [],
            "_model_module": "@jupyter-widgets/controls",
            "_model_module_version": "1.5.0",
            "_model_name": "HTMLModel",
            "_view_count": null,
            "_view_module": "@jupyter-widgets/controls",
            "_view_module_version": "1.5.0",
            "_view_name": "HTMLView",
            "description": "",
            "description_tooltip": null,
            "layout": "IPY_MODEL_3e66fe726c1a48edad1d436a8ddff65d",
            "placeholder": "​",
            "style": "IPY_MODEL_77ca053105784afbbac649f1872e11aa",
            "value": "Downloading (…)_Pooling/config.json: 100%"
          }
        },
        "423366f4766c4109910645dacb2402cd": {
          "model_module": "@jupyter-widgets/controls",
          "model_name": "FloatProgressModel",
          "model_module_version": "1.5.0",
          "state": {
            "_dom_classes": [],
            "_model_module": "@jupyter-widgets/controls",
            "_model_module_version": "1.5.0",
            "_model_name": "FloatProgressModel",
            "_view_count": null,
            "_view_module": "@jupyter-widgets/controls",
            "_view_module_version": "1.5.0",
            "_view_name": "ProgressView",
            "bar_style": "success",
            "description": "",
            "description_tooltip": null,
            "layout": "IPY_MODEL_c4134e13864e4cad990f49514147da99",
            "max": 270,
            "min": 0,
            "orientation": "horizontal",
            "style": "IPY_MODEL_c7949750ef13450eaba5d02a43df6190",
            "value": 270
          }
        },
        "6cbedb68c9e94d1d8fddc1257aea91a4": {
          "model_module": "@jupyter-widgets/controls",
          "model_name": "HTMLModel",
          "model_module_version": "1.5.0",
          "state": {
            "_dom_classes": [],
            "_model_module": "@jupyter-widgets/controls",
            "_model_module_version": "1.5.0",
            "_model_name": "HTMLModel",
            "_view_count": null,
            "_view_module": "@jupyter-widgets/controls",
            "_view_module_version": "1.5.0",
            "_view_name": "HTMLView",
            "description": "",
            "description_tooltip": null,
            "layout": "IPY_MODEL_d4571a10ffa4407eb0f2367a6f8be92e",
            "placeholder": "​",
            "style": "IPY_MODEL_5d55aafc689945bc8141c0ba18e8c730",
            "value": " 270/270 [00:00&lt;00:00, 15.5kB/s]"
          }
        },
        "fee7b2dbc9c14eb2a8ebd7a7b5c61b90": {
          "model_module": "@jupyter-widgets/base",
          "model_name": "LayoutModel",
          "model_module_version": "1.2.0",
          "state": {
            "_model_module": "@jupyter-widgets/base",
            "_model_module_version": "1.2.0",
            "_model_name": "LayoutModel",
            "_view_count": null,
            "_view_module": "@jupyter-widgets/base",
            "_view_module_version": "1.2.0",
            "_view_name": "LayoutView",
            "align_content": null,
            "align_items": null,
            "align_self": null,
            "border": null,
            "bottom": null,
            "display": null,
            "flex": null,
            "flex_flow": null,
            "grid_area": null,
            "grid_auto_columns": null,
            "grid_auto_flow": null,
            "grid_auto_rows": null,
            "grid_column": null,
            "grid_gap": null,
            "grid_row": null,
            "grid_template_areas": null,
            "grid_template_columns": null,
            "grid_template_rows": null,
            "height": null,
            "justify_content": null,
            "justify_items": null,
            "left": null,
            "margin": null,
            "max_height": null,
            "max_width": null,
            "min_height": null,
            "min_width": null,
            "object_fit": null,
            "object_position": null,
            "order": null,
            "overflow": null,
            "overflow_x": null,
            "overflow_y": null,
            "padding": null,
            "right": null,
            "top": null,
            "visibility": null,
            "width": null
          }
        },
        "3e66fe726c1a48edad1d436a8ddff65d": {
          "model_module": "@jupyter-widgets/base",
          "model_name": "LayoutModel",
          "model_module_version": "1.2.0",
          "state": {
            "_model_module": "@jupyter-widgets/base",
            "_model_module_version": "1.2.0",
            "_model_name": "LayoutModel",
            "_view_count": null,
            "_view_module": "@jupyter-widgets/base",
            "_view_module_version": "1.2.0",
            "_view_name": "LayoutView",
            "align_content": null,
            "align_items": null,
            "align_self": null,
            "border": null,
            "bottom": null,
            "display": null,
            "flex": null,
            "flex_flow": null,
            "grid_area": null,
            "grid_auto_columns": null,
            "grid_auto_flow": null,
            "grid_auto_rows": null,
            "grid_column": null,
            "grid_gap": null,
            "grid_row": null,
            "grid_template_areas": null,
            "grid_template_columns": null,
            "grid_template_rows": null,
            "height": null,
            "justify_content": null,
            "justify_items": null,
            "left": null,
            "margin": null,
            "max_height": null,
            "max_width": null,
            "min_height": null,
            "min_width": null,
            "object_fit": null,
            "object_position": null,
            "order": null,
            "overflow": null,
            "overflow_x": null,
            "overflow_y": null,
            "padding": null,
            "right": null,
            "top": null,
            "visibility": null,
            "width": null
          }
        },
        "77ca053105784afbbac649f1872e11aa": {
          "model_module": "@jupyter-widgets/controls",
          "model_name": "DescriptionStyleModel",
          "model_module_version": "1.5.0",
          "state": {
            "_model_module": "@jupyter-widgets/controls",
            "_model_module_version": "1.5.0",
            "_model_name": "DescriptionStyleModel",
            "_view_count": null,
            "_view_module": "@jupyter-widgets/base",
            "_view_module_version": "1.2.0",
            "_view_name": "StyleView",
            "description_width": ""
          }
        },
        "c4134e13864e4cad990f49514147da99": {
          "model_module": "@jupyter-widgets/base",
          "model_name": "LayoutModel",
          "model_module_version": "1.2.0",
          "state": {
            "_model_module": "@jupyter-widgets/base",
            "_model_module_version": "1.2.0",
            "_model_name": "LayoutModel",
            "_view_count": null,
            "_view_module": "@jupyter-widgets/base",
            "_view_module_version": "1.2.0",
            "_view_name": "LayoutView",
            "align_content": null,
            "align_items": null,
            "align_self": null,
            "border": null,
            "bottom": null,
            "display": null,
            "flex": null,
            "flex_flow": null,
            "grid_area": null,
            "grid_auto_columns": null,
            "grid_auto_flow": null,
            "grid_auto_rows": null,
            "grid_column": null,
            "grid_gap": null,
            "grid_row": null,
            "grid_template_areas": null,
            "grid_template_columns": null,
            "grid_template_rows": null,
            "height": null,
            "justify_content": null,
            "justify_items": null,
            "left": null,
            "margin": null,
            "max_height": null,
            "max_width": null,
            "min_height": null,
            "min_width": null,
            "object_fit": null,
            "object_position": null,
            "order": null,
            "overflow": null,
            "overflow_x": null,
            "overflow_y": null,
            "padding": null,
            "right": null,
            "top": null,
            "visibility": null,
            "width": null
          }
        },
        "c7949750ef13450eaba5d02a43df6190": {
          "model_module": "@jupyter-widgets/controls",
          "model_name": "ProgressStyleModel",
          "model_module_version": "1.5.0",
          "state": {
            "_model_module": "@jupyter-widgets/controls",
            "_model_module_version": "1.5.0",
            "_model_name": "ProgressStyleModel",
            "_view_count": null,
            "_view_module": "@jupyter-widgets/base",
            "_view_module_version": "1.2.0",
            "_view_name": "StyleView",
            "bar_color": null,
            "description_width": ""
          }
        },
        "d4571a10ffa4407eb0f2367a6f8be92e": {
          "model_module": "@jupyter-widgets/base",
          "model_name": "LayoutModel",
          "model_module_version": "1.2.0",
          "state": {
            "_model_module": "@jupyter-widgets/base",
            "_model_module_version": "1.2.0",
            "_model_name": "LayoutModel",
            "_view_count": null,
            "_view_module": "@jupyter-widgets/base",
            "_view_module_version": "1.2.0",
            "_view_name": "LayoutView",
            "align_content": null,
            "align_items": null,
            "align_self": null,
            "border": null,
            "bottom": null,
            "display": null,
            "flex": null,
            "flex_flow": null,
            "grid_area": null,
            "grid_auto_columns": null,
            "grid_auto_flow": null,
            "grid_auto_rows": null,
            "grid_column": null,
            "grid_gap": null,
            "grid_row": null,
            "grid_template_areas": null,
            "grid_template_columns": null,
            "grid_template_rows": null,
            "height": null,
            "justify_content": null,
            "justify_items": null,
            "left": null,
            "margin": null,
            "max_height": null,
            "max_width": null,
            "min_height": null,
            "min_width": null,
            "object_fit": null,
            "object_position": null,
            "order": null,
            "overflow": null,
            "overflow_x": null,
            "overflow_y": null,
            "padding": null,
            "right": null,
            "top": null,
            "visibility": null,
            "width": null
          }
        },
        "5d55aafc689945bc8141c0ba18e8c730": {
          "model_module": "@jupyter-widgets/controls",
          "model_name": "DescriptionStyleModel",
          "model_module_version": "1.5.0",
          "state": {
            "_model_module": "@jupyter-widgets/controls",
            "_model_module_version": "1.5.0",
            "_model_name": "DescriptionStyleModel",
            "_view_count": null,
            "_view_module": "@jupyter-widgets/base",
            "_view_module_version": "1.2.0",
            "_view_name": "StyleView",
            "description_width": ""
          }
        },
        "0fd789034b514ff3b7f1bb0fb3be0c4b": {
          "model_module": "@jupyter-widgets/controls",
          "model_name": "HBoxModel",
          "model_module_version": "1.5.0",
          "state": {
            "_dom_classes": [],
            "_model_module": "@jupyter-widgets/controls",
            "_model_module_version": "1.5.0",
            "_model_name": "HBoxModel",
            "_view_count": null,
            "_view_module": "@jupyter-widgets/controls",
            "_view_module_version": "1.5.0",
            "_view_name": "HBoxView",
            "box_style": "",
            "children": [
              "IPY_MODEL_b9e7e68d7e9845388c6b4afb8a3d2348",
              "IPY_MODEL_d4a42a289cfc48d39b9048a8db97404f",
              "IPY_MODEL_e73c5301b603490ebce3cdf2e02a55c0"
            ],
            "layout": "IPY_MODEL_71edeae3004942e4ac25a9fab50db500"
          }
        },
        "b9e7e68d7e9845388c6b4afb8a3d2348": {
          "model_module": "@jupyter-widgets/controls",
          "model_name": "HTMLModel",
          "model_module_version": "1.5.0",
          "state": {
            "_dom_classes": [],
            "_model_module": "@jupyter-widgets/controls",
            "_model_module_version": "1.5.0",
            "_model_name": "HTMLModel",
            "_view_count": null,
            "_view_module": "@jupyter-widgets/controls",
            "_view_module_version": "1.5.0",
            "_view_name": "HTMLView",
            "description": "",
            "description_tooltip": null,
            "layout": "IPY_MODEL_63ea38be60244aa3bd2a55ecfee09bfc",
            "placeholder": "​",
            "style": "IPY_MODEL_6f8dba00a8aa453f89f09c4f3a925fb5",
            "value": "Downloading (…)/2_Dense/config.json: 100%"
          }
        },
        "d4a42a289cfc48d39b9048a8db97404f": {
          "model_module": "@jupyter-widgets/controls",
          "model_name": "FloatProgressModel",
          "model_module_version": "1.5.0",
          "state": {
            "_dom_classes": [],
            "_model_module": "@jupyter-widgets/controls",
            "_model_module_version": "1.5.0",
            "_model_name": "FloatProgressModel",
            "_view_count": null,
            "_view_module": "@jupyter-widgets/controls",
            "_view_module_version": "1.5.0",
            "_view_name": "ProgressView",
            "bar_style": "success",
            "description": "",
            "description_tooltip": null,
            "layout": "IPY_MODEL_abfb656b4ec649f982c5368dfdc65140",
            "max": 116,
            "min": 0,
            "orientation": "horizontal",
            "style": "IPY_MODEL_3d9808f387264a578b6d50be89a27e45",
            "value": 116
          }
        },
        "e73c5301b603490ebce3cdf2e02a55c0": {
          "model_module": "@jupyter-widgets/controls",
          "model_name": "HTMLModel",
          "model_module_version": "1.5.0",
          "state": {
            "_dom_classes": [],
            "_model_module": "@jupyter-widgets/controls",
            "_model_module_version": "1.5.0",
            "_model_name": "HTMLModel",
            "_view_count": null,
            "_view_module": "@jupyter-widgets/controls",
            "_view_module_version": "1.5.0",
            "_view_name": "HTMLView",
            "description": "",
            "description_tooltip": null,
            "layout": "IPY_MODEL_829f9b9e8d724e21911f7a0c8a608ef6",
            "placeholder": "​",
            "style": "IPY_MODEL_b3eb21022d624dbbbe6eae516a007dbc",
            "value": " 116/116 [00:00&lt;00:00, 5.70kB/s]"
          }
        },
        "71edeae3004942e4ac25a9fab50db500": {
          "model_module": "@jupyter-widgets/base",
          "model_name": "LayoutModel",
          "model_module_version": "1.2.0",
          "state": {
            "_model_module": "@jupyter-widgets/base",
            "_model_module_version": "1.2.0",
            "_model_name": "LayoutModel",
            "_view_count": null,
            "_view_module": "@jupyter-widgets/base",
            "_view_module_version": "1.2.0",
            "_view_name": "LayoutView",
            "align_content": null,
            "align_items": null,
            "align_self": null,
            "border": null,
            "bottom": null,
            "display": null,
            "flex": null,
            "flex_flow": null,
            "grid_area": null,
            "grid_auto_columns": null,
            "grid_auto_flow": null,
            "grid_auto_rows": null,
            "grid_column": null,
            "grid_gap": null,
            "grid_row": null,
            "grid_template_areas": null,
            "grid_template_columns": null,
            "grid_template_rows": null,
            "height": null,
            "justify_content": null,
            "justify_items": null,
            "left": null,
            "margin": null,
            "max_height": null,
            "max_width": null,
            "min_height": null,
            "min_width": null,
            "object_fit": null,
            "object_position": null,
            "order": null,
            "overflow": null,
            "overflow_x": null,
            "overflow_y": null,
            "padding": null,
            "right": null,
            "top": null,
            "visibility": null,
            "width": null
          }
        },
        "63ea38be60244aa3bd2a55ecfee09bfc": {
          "model_module": "@jupyter-widgets/base",
          "model_name": "LayoutModel",
          "model_module_version": "1.2.0",
          "state": {
            "_model_module": "@jupyter-widgets/base",
            "_model_module_version": "1.2.0",
            "_model_name": "LayoutModel",
            "_view_count": null,
            "_view_module": "@jupyter-widgets/base",
            "_view_module_version": "1.2.0",
            "_view_name": "LayoutView",
            "align_content": null,
            "align_items": null,
            "align_self": null,
            "border": null,
            "bottom": null,
            "display": null,
            "flex": null,
            "flex_flow": null,
            "grid_area": null,
            "grid_auto_columns": null,
            "grid_auto_flow": null,
            "grid_auto_rows": null,
            "grid_column": null,
            "grid_gap": null,
            "grid_row": null,
            "grid_template_areas": null,
            "grid_template_columns": null,
            "grid_template_rows": null,
            "height": null,
            "justify_content": null,
            "justify_items": null,
            "left": null,
            "margin": null,
            "max_height": null,
            "max_width": null,
            "min_height": null,
            "min_width": null,
            "object_fit": null,
            "object_position": null,
            "order": null,
            "overflow": null,
            "overflow_x": null,
            "overflow_y": null,
            "padding": null,
            "right": null,
            "top": null,
            "visibility": null,
            "width": null
          }
        },
        "6f8dba00a8aa453f89f09c4f3a925fb5": {
          "model_module": "@jupyter-widgets/controls",
          "model_name": "DescriptionStyleModel",
          "model_module_version": "1.5.0",
          "state": {
            "_model_module": "@jupyter-widgets/controls",
            "_model_module_version": "1.5.0",
            "_model_name": "DescriptionStyleModel",
            "_view_count": null,
            "_view_module": "@jupyter-widgets/base",
            "_view_module_version": "1.2.0",
            "_view_name": "StyleView",
            "description_width": ""
          }
        },
        "abfb656b4ec649f982c5368dfdc65140": {
          "model_module": "@jupyter-widgets/base",
          "model_name": "LayoutModel",
          "model_module_version": "1.2.0",
          "state": {
            "_model_module": "@jupyter-widgets/base",
            "_model_module_version": "1.2.0",
            "_model_name": "LayoutModel",
            "_view_count": null,
            "_view_module": "@jupyter-widgets/base",
            "_view_module_version": "1.2.0",
            "_view_name": "LayoutView",
            "align_content": null,
            "align_items": null,
            "align_self": null,
            "border": null,
            "bottom": null,
            "display": null,
            "flex": null,
            "flex_flow": null,
            "grid_area": null,
            "grid_auto_columns": null,
            "grid_auto_flow": null,
            "grid_auto_rows": null,
            "grid_column": null,
            "grid_gap": null,
            "grid_row": null,
            "grid_template_areas": null,
            "grid_template_columns": null,
            "grid_template_rows": null,
            "height": null,
            "justify_content": null,
            "justify_items": null,
            "left": null,
            "margin": null,
            "max_height": null,
            "max_width": null,
            "min_height": null,
            "min_width": null,
            "object_fit": null,
            "object_position": null,
            "order": null,
            "overflow": null,
            "overflow_x": null,
            "overflow_y": null,
            "padding": null,
            "right": null,
            "top": null,
            "visibility": null,
            "width": null
          }
        },
        "3d9808f387264a578b6d50be89a27e45": {
          "model_module": "@jupyter-widgets/controls",
          "model_name": "ProgressStyleModel",
          "model_module_version": "1.5.0",
          "state": {
            "_model_module": "@jupyter-widgets/controls",
            "_model_module_version": "1.5.0",
            "_model_name": "ProgressStyleModel",
            "_view_count": null,
            "_view_module": "@jupyter-widgets/base",
            "_view_module_version": "1.2.0",
            "_view_name": "StyleView",
            "bar_color": null,
            "description_width": ""
          }
        },
        "829f9b9e8d724e21911f7a0c8a608ef6": {
          "model_module": "@jupyter-widgets/base",
          "model_name": "LayoutModel",
          "model_module_version": "1.2.0",
          "state": {
            "_model_module": "@jupyter-widgets/base",
            "_model_module_version": "1.2.0",
            "_model_name": "LayoutModel",
            "_view_count": null,
            "_view_module": "@jupyter-widgets/base",
            "_view_module_version": "1.2.0",
            "_view_name": "LayoutView",
            "align_content": null,
            "align_items": null,
            "align_self": null,
            "border": null,
            "bottom": null,
            "display": null,
            "flex": null,
            "flex_flow": null,
            "grid_area": null,
            "grid_auto_columns": null,
            "grid_auto_flow": null,
            "grid_auto_rows": null,
            "grid_column": null,
            "grid_gap": null,
            "grid_row": null,
            "grid_template_areas": null,
            "grid_template_columns": null,
            "grid_template_rows": null,
            "height": null,
            "justify_content": null,
            "justify_items": null,
            "left": null,
            "margin": null,
            "max_height": null,
            "max_width": null,
            "min_height": null,
            "min_width": null,
            "object_fit": null,
            "object_position": null,
            "order": null,
            "overflow": null,
            "overflow_x": null,
            "overflow_y": null,
            "padding": null,
            "right": null,
            "top": null,
            "visibility": null,
            "width": null
          }
        },
        "b3eb21022d624dbbbe6eae516a007dbc": {
          "model_module": "@jupyter-widgets/controls",
          "model_name": "DescriptionStyleModel",
          "model_module_version": "1.5.0",
          "state": {
            "_model_module": "@jupyter-widgets/controls",
            "_model_module_version": "1.5.0",
            "_model_name": "DescriptionStyleModel",
            "_view_count": null,
            "_view_module": "@jupyter-widgets/base",
            "_view_module_version": "1.2.0",
            "_view_name": "StyleView",
            "description_width": ""
          }
        },
        "beecbc44ac4c4b4586e854c4775ca97e": {
          "model_module": "@jupyter-widgets/controls",
          "model_name": "HBoxModel",
          "model_module_version": "1.5.0",
          "state": {
            "_dom_classes": [],
            "_model_module": "@jupyter-widgets/controls",
            "_model_module_version": "1.5.0",
            "_model_name": "HBoxModel",
            "_view_count": null,
            "_view_module": "@jupyter-widgets/controls",
            "_view_module_version": "1.5.0",
            "_view_name": "HBoxView",
            "box_style": "",
            "children": [
              "IPY_MODEL_a499ee85080543aba254c94941409a91",
              "IPY_MODEL_7aa864e280c04a6789c8e78953f32e68",
              "IPY_MODEL_925b6b878d0a4cf4a99ae8312bbc23cb"
            ],
            "layout": "IPY_MODEL_a13cfa69e6474e6eb71e8a64f8997ac6"
          }
        },
        "a499ee85080543aba254c94941409a91": {
          "model_module": "@jupyter-widgets/controls",
          "model_name": "HTMLModel",
          "model_module_version": "1.5.0",
          "state": {
            "_dom_classes": [],
            "_model_module": "@jupyter-widgets/controls",
            "_model_module_version": "1.5.0",
            "_model_name": "HTMLModel",
            "_view_count": null,
            "_view_module": "@jupyter-widgets/controls",
            "_view_module_version": "1.5.0",
            "_view_name": "HTMLView",
            "description": "",
            "description_tooltip": null,
            "layout": "IPY_MODEL_79b4103c6fc2495782438cf667afe8ab",
            "placeholder": "​",
            "style": "IPY_MODEL_435965ceab304cf8844a9fb8f709eda6",
            "value": "Downloading pytorch_model.bin: 100%"
          }
        },
        "7aa864e280c04a6789c8e78953f32e68": {
          "model_module": "@jupyter-widgets/controls",
          "model_name": "FloatProgressModel",
          "model_module_version": "1.5.0",
          "state": {
            "_dom_classes": [],
            "_model_module": "@jupyter-widgets/controls",
            "_model_module_version": "1.5.0",
            "_model_name": "FloatProgressModel",
            "_view_count": null,
            "_view_module": "@jupyter-widgets/controls",
            "_view_module_version": "1.5.0",
            "_view_name": "ProgressView",
            "bar_style": "success",
            "description": "",
            "description_tooltip": null,
            "layout": "IPY_MODEL_fe528eeba0164eb9a824e6417bdf1c62",
            "max": 3146603,
            "min": 0,
            "orientation": "horizontal",
            "style": "IPY_MODEL_813b4384377c44b1b144854b96fe3b0f",
            "value": 3146603
          }
        },
        "925b6b878d0a4cf4a99ae8312bbc23cb": {
          "model_module": "@jupyter-widgets/controls",
          "model_name": "HTMLModel",
          "model_module_version": "1.5.0",
          "state": {
            "_dom_classes": [],
            "_model_module": "@jupyter-widgets/controls",
            "_model_module_version": "1.5.0",
            "_model_name": "HTMLModel",
            "_view_count": null,
            "_view_module": "@jupyter-widgets/controls",
            "_view_module_version": "1.5.0",
            "_view_name": "HTMLView",
            "description": "",
            "description_tooltip": null,
            "layout": "IPY_MODEL_d5b97beecbc94a34958699aa8ea8c610",
            "placeholder": "​",
            "style": "IPY_MODEL_f68cf1608ce7479185e8fc6d5aca8371",
            "value": " 3.15M/3.15M [00:00&lt;00:00, 77.5MB/s]"
          }
        },
        "a13cfa69e6474e6eb71e8a64f8997ac6": {
          "model_module": "@jupyter-widgets/base",
          "model_name": "LayoutModel",
          "model_module_version": "1.2.0",
          "state": {
            "_model_module": "@jupyter-widgets/base",
            "_model_module_version": "1.2.0",
            "_model_name": "LayoutModel",
            "_view_count": null,
            "_view_module": "@jupyter-widgets/base",
            "_view_module_version": "1.2.0",
            "_view_name": "LayoutView",
            "align_content": null,
            "align_items": null,
            "align_self": null,
            "border": null,
            "bottom": null,
            "display": null,
            "flex": null,
            "flex_flow": null,
            "grid_area": null,
            "grid_auto_columns": null,
            "grid_auto_flow": null,
            "grid_auto_rows": null,
            "grid_column": null,
            "grid_gap": null,
            "grid_row": null,
            "grid_template_areas": null,
            "grid_template_columns": null,
            "grid_template_rows": null,
            "height": null,
            "justify_content": null,
            "justify_items": null,
            "left": null,
            "margin": null,
            "max_height": null,
            "max_width": null,
            "min_height": null,
            "min_width": null,
            "object_fit": null,
            "object_position": null,
            "order": null,
            "overflow": null,
            "overflow_x": null,
            "overflow_y": null,
            "padding": null,
            "right": null,
            "top": null,
            "visibility": null,
            "width": null
          }
        },
        "79b4103c6fc2495782438cf667afe8ab": {
          "model_module": "@jupyter-widgets/base",
          "model_name": "LayoutModel",
          "model_module_version": "1.2.0",
          "state": {
            "_model_module": "@jupyter-widgets/base",
            "_model_module_version": "1.2.0",
            "_model_name": "LayoutModel",
            "_view_count": null,
            "_view_module": "@jupyter-widgets/base",
            "_view_module_version": "1.2.0",
            "_view_name": "LayoutView",
            "align_content": null,
            "align_items": null,
            "align_self": null,
            "border": null,
            "bottom": null,
            "display": null,
            "flex": null,
            "flex_flow": null,
            "grid_area": null,
            "grid_auto_columns": null,
            "grid_auto_flow": null,
            "grid_auto_rows": null,
            "grid_column": null,
            "grid_gap": null,
            "grid_row": null,
            "grid_template_areas": null,
            "grid_template_columns": null,
            "grid_template_rows": null,
            "height": null,
            "justify_content": null,
            "justify_items": null,
            "left": null,
            "margin": null,
            "max_height": null,
            "max_width": null,
            "min_height": null,
            "min_width": null,
            "object_fit": null,
            "object_position": null,
            "order": null,
            "overflow": null,
            "overflow_x": null,
            "overflow_y": null,
            "padding": null,
            "right": null,
            "top": null,
            "visibility": null,
            "width": null
          }
        },
        "435965ceab304cf8844a9fb8f709eda6": {
          "model_module": "@jupyter-widgets/controls",
          "model_name": "DescriptionStyleModel",
          "model_module_version": "1.5.0",
          "state": {
            "_model_module": "@jupyter-widgets/controls",
            "_model_module_version": "1.5.0",
            "_model_name": "DescriptionStyleModel",
            "_view_count": null,
            "_view_module": "@jupyter-widgets/base",
            "_view_module_version": "1.2.0",
            "_view_name": "StyleView",
            "description_width": ""
          }
        },
        "fe528eeba0164eb9a824e6417bdf1c62": {
          "model_module": "@jupyter-widgets/base",
          "model_name": "LayoutModel",
          "model_module_version": "1.2.0",
          "state": {
            "_model_module": "@jupyter-widgets/base",
            "_model_module_version": "1.2.0",
            "_model_name": "LayoutModel",
            "_view_count": null,
            "_view_module": "@jupyter-widgets/base",
            "_view_module_version": "1.2.0",
            "_view_name": "LayoutView",
            "align_content": null,
            "align_items": null,
            "align_self": null,
            "border": null,
            "bottom": null,
            "display": null,
            "flex": null,
            "flex_flow": null,
            "grid_area": null,
            "grid_auto_columns": null,
            "grid_auto_flow": null,
            "grid_auto_rows": null,
            "grid_column": null,
            "grid_gap": null,
            "grid_row": null,
            "grid_template_areas": null,
            "grid_template_columns": null,
            "grid_template_rows": null,
            "height": null,
            "justify_content": null,
            "justify_items": null,
            "left": null,
            "margin": null,
            "max_height": null,
            "max_width": null,
            "min_height": null,
            "min_width": null,
            "object_fit": null,
            "object_position": null,
            "order": null,
            "overflow": null,
            "overflow_x": null,
            "overflow_y": null,
            "padding": null,
            "right": null,
            "top": null,
            "visibility": null,
            "width": null
          }
        },
        "813b4384377c44b1b144854b96fe3b0f": {
          "model_module": "@jupyter-widgets/controls",
          "model_name": "ProgressStyleModel",
          "model_module_version": "1.5.0",
          "state": {
            "_model_module": "@jupyter-widgets/controls",
            "_model_module_version": "1.5.0",
            "_model_name": "ProgressStyleModel",
            "_view_count": null,
            "_view_module": "@jupyter-widgets/base",
            "_view_module_version": "1.2.0",
            "_view_name": "StyleView",
            "bar_color": null,
            "description_width": ""
          }
        },
        "d5b97beecbc94a34958699aa8ea8c610": {
          "model_module": "@jupyter-widgets/base",
          "model_name": "LayoutModel",
          "model_module_version": "1.2.0",
          "state": {
            "_model_module": "@jupyter-widgets/base",
            "_model_module_version": "1.2.0",
            "_model_name": "LayoutModel",
            "_view_count": null,
            "_view_module": "@jupyter-widgets/base",
            "_view_module_version": "1.2.0",
            "_view_name": "LayoutView",
            "align_content": null,
            "align_items": null,
            "align_self": null,
            "border": null,
            "bottom": null,
            "display": null,
            "flex": null,
            "flex_flow": null,
            "grid_area": null,
            "grid_auto_columns": null,
            "grid_auto_flow": null,
            "grid_auto_rows": null,
            "grid_column": null,
            "grid_gap": null,
            "grid_row": null,
            "grid_template_areas": null,
            "grid_template_columns": null,
            "grid_template_rows": null,
            "height": null,
            "justify_content": null,
            "justify_items": null,
            "left": null,
            "margin": null,
            "max_height": null,
            "max_width": null,
            "min_height": null,
            "min_width": null,
            "object_fit": null,
            "object_position": null,
            "order": null,
            "overflow": null,
            "overflow_x": null,
            "overflow_y": null,
            "padding": null,
            "right": null,
            "top": null,
            "visibility": null,
            "width": null
          }
        },
        "f68cf1608ce7479185e8fc6d5aca8371": {
          "model_module": "@jupyter-widgets/controls",
          "model_name": "DescriptionStyleModel",
          "model_module_version": "1.5.0",
          "state": {
            "_model_module": "@jupyter-widgets/controls",
            "_model_module_version": "1.5.0",
            "_model_name": "DescriptionStyleModel",
            "_view_count": null,
            "_view_module": "@jupyter-widgets/base",
            "_view_module_version": "1.2.0",
            "_view_name": "StyleView",
            "description_width": ""
          }
        },
        "3c1050a674ea4d5faef3c6278adcc984": {
          "model_module": "@jupyter-widgets/controls",
          "model_name": "HBoxModel",
          "model_module_version": "1.5.0",
          "state": {
            "_dom_classes": [],
            "_model_module": "@jupyter-widgets/controls",
            "_model_module_version": "1.5.0",
            "_model_name": "HBoxModel",
            "_view_count": null,
            "_view_module": "@jupyter-widgets/controls",
            "_view_module_version": "1.5.0",
            "_view_name": "HBoxView",
            "box_style": "",
            "children": [
              "IPY_MODEL_1dd76298b622437e8fe8ba30e8b79be2",
              "IPY_MODEL_cce7e1b102244ebfa1a030f407bac34b",
              "IPY_MODEL_dd5eefc35c1d482fbf81cfd0740dfb3c"
            ],
            "layout": "IPY_MODEL_a7f3da1fdd494e6181816ee53e7c3794"
          }
        },
        "1dd76298b622437e8fe8ba30e8b79be2": {
          "model_module": "@jupyter-widgets/controls",
          "model_name": "HTMLModel",
          "model_module_version": "1.5.0",
          "state": {
            "_dom_classes": [],
            "_model_module": "@jupyter-widgets/controls",
            "_model_module_version": "1.5.0",
            "_model_name": "HTMLModel",
            "_view_count": null,
            "_view_module": "@jupyter-widgets/controls",
            "_view_module_version": "1.5.0",
            "_view_name": "HTMLView",
            "description": "",
            "description_tooltip": null,
            "layout": "IPY_MODEL_799923a84dce4023b568cfd213874bfa",
            "placeholder": "​",
            "style": "IPY_MODEL_75f046448d6b4eea8fbf78660e5a36ff",
            "value": "Downloading (…)0daf57f436/README.md: 100%"
          }
        },
        "cce7e1b102244ebfa1a030f407bac34b": {
          "model_module": "@jupyter-widgets/controls",
          "model_name": "FloatProgressModel",
          "model_module_version": "1.5.0",
          "state": {
            "_dom_classes": [],
            "_model_module": "@jupyter-widgets/controls",
            "_model_module_version": "1.5.0",
            "_model_name": "FloatProgressModel",
            "_view_count": null,
            "_view_module": "@jupyter-widgets/controls",
            "_view_module_version": "1.5.0",
            "_view_name": "ProgressView",
            "bar_style": "success",
            "description": "",
            "description_tooltip": null,
            "layout": "IPY_MODEL_63498e229b5f4b809121b584fc9ad763",
            "max": 66342,
            "min": 0,
            "orientation": "horizontal",
            "style": "IPY_MODEL_e617156ac834451a85ebc6028ca40f72",
            "value": 66342
          }
        },
        "dd5eefc35c1d482fbf81cfd0740dfb3c": {
          "model_module": "@jupyter-widgets/controls",
          "model_name": "HTMLModel",
          "model_module_version": "1.5.0",
          "state": {
            "_dom_classes": [],
            "_model_module": "@jupyter-widgets/controls",
            "_model_module_version": "1.5.0",
            "_model_name": "HTMLModel",
            "_view_count": null,
            "_view_module": "@jupyter-widgets/controls",
            "_view_module_version": "1.5.0",
            "_view_name": "HTMLView",
            "description": "",
            "description_tooltip": null,
            "layout": "IPY_MODEL_fb17129c6726428699493fa0c20e3601",
            "placeholder": "​",
            "style": "IPY_MODEL_499640fbec684c26aa93f826f7a364a8",
            "value": " 66.3k/66.3k [00:00&lt;00:00, 2.98MB/s]"
          }
        },
        "a7f3da1fdd494e6181816ee53e7c3794": {
          "model_module": "@jupyter-widgets/base",
          "model_name": "LayoutModel",
          "model_module_version": "1.2.0",
          "state": {
            "_model_module": "@jupyter-widgets/base",
            "_model_module_version": "1.2.0",
            "_model_name": "LayoutModel",
            "_view_count": null,
            "_view_module": "@jupyter-widgets/base",
            "_view_module_version": "1.2.0",
            "_view_name": "LayoutView",
            "align_content": null,
            "align_items": null,
            "align_self": null,
            "border": null,
            "bottom": null,
            "display": null,
            "flex": null,
            "flex_flow": null,
            "grid_area": null,
            "grid_auto_columns": null,
            "grid_auto_flow": null,
            "grid_auto_rows": null,
            "grid_column": null,
            "grid_gap": null,
            "grid_row": null,
            "grid_template_areas": null,
            "grid_template_columns": null,
            "grid_template_rows": null,
            "height": null,
            "justify_content": null,
            "justify_items": null,
            "left": null,
            "margin": null,
            "max_height": null,
            "max_width": null,
            "min_height": null,
            "min_width": null,
            "object_fit": null,
            "object_position": null,
            "order": null,
            "overflow": null,
            "overflow_x": null,
            "overflow_y": null,
            "padding": null,
            "right": null,
            "top": null,
            "visibility": null,
            "width": null
          }
        },
        "799923a84dce4023b568cfd213874bfa": {
          "model_module": "@jupyter-widgets/base",
          "model_name": "LayoutModel",
          "model_module_version": "1.2.0",
          "state": {
            "_model_module": "@jupyter-widgets/base",
            "_model_module_version": "1.2.0",
            "_model_name": "LayoutModel",
            "_view_count": null,
            "_view_module": "@jupyter-widgets/base",
            "_view_module_version": "1.2.0",
            "_view_name": "LayoutView",
            "align_content": null,
            "align_items": null,
            "align_self": null,
            "border": null,
            "bottom": null,
            "display": null,
            "flex": null,
            "flex_flow": null,
            "grid_area": null,
            "grid_auto_columns": null,
            "grid_auto_flow": null,
            "grid_auto_rows": null,
            "grid_column": null,
            "grid_gap": null,
            "grid_row": null,
            "grid_template_areas": null,
            "grid_template_columns": null,
            "grid_template_rows": null,
            "height": null,
            "justify_content": null,
            "justify_items": null,
            "left": null,
            "margin": null,
            "max_height": null,
            "max_width": null,
            "min_height": null,
            "min_width": null,
            "object_fit": null,
            "object_position": null,
            "order": null,
            "overflow": null,
            "overflow_x": null,
            "overflow_y": null,
            "padding": null,
            "right": null,
            "top": null,
            "visibility": null,
            "width": null
          }
        },
        "75f046448d6b4eea8fbf78660e5a36ff": {
          "model_module": "@jupyter-widgets/controls",
          "model_name": "DescriptionStyleModel",
          "model_module_version": "1.5.0",
          "state": {
            "_model_module": "@jupyter-widgets/controls",
            "_model_module_version": "1.5.0",
            "_model_name": "DescriptionStyleModel",
            "_view_count": null,
            "_view_module": "@jupyter-widgets/base",
            "_view_module_version": "1.2.0",
            "_view_name": "StyleView",
            "description_width": ""
          }
        },
        "63498e229b5f4b809121b584fc9ad763": {
          "model_module": "@jupyter-widgets/base",
          "model_name": "LayoutModel",
          "model_module_version": "1.2.0",
          "state": {
            "_model_module": "@jupyter-widgets/base",
            "_model_module_version": "1.2.0",
            "_model_name": "LayoutModel",
            "_view_count": null,
            "_view_module": "@jupyter-widgets/base",
            "_view_module_version": "1.2.0",
            "_view_name": "LayoutView",
            "align_content": null,
            "align_items": null,
            "align_self": null,
            "border": null,
            "bottom": null,
            "display": null,
            "flex": null,
            "flex_flow": null,
            "grid_area": null,
            "grid_auto_columns": null,
            "grid_auto_flow": null,
            "grid_auto_rows": null,
            "grid_column": null,
            "grid_gap": null,
            "grid_row": null,
            "grid_template_areas": null,
            "grid_template_columns": null,
            "grid_template_rows": null,
            "height": null,
            "justify_content": null,
            "justify_items": null,
            "left": null,
            "margin": null,
            "max_height": null,
            "max_width": null,
            "min_height": null,
            "min_width": null,
            "object_fit": null,
            "object_position": null,
            "order": null,
            "overflow": null,
            "overflow_x": null,
            "overflow_y": null,
            "padding": null,
            "right": null,
            "top": null,
            "visibility": null,
            "width": null
          }
        },
        "e617156ac834451a85ebc6028ca40f72": {
          "model_module": "@jupyter-widgets/controls",
          "model_name": "ProgressStyleModel",
          "model_module_version": "1.5.0",
          "state": {
            "_model_module": "@jupyter-widgets/controls",
            "_model_module_version": "1.5.0",
            "_model_name": "ProgressStyleModel",
            "_view_count": null,
            "_view_module": "@jupyter-widgets/base",
            "_view_module_version": "1.2.0",
            "_view_name": "StyleView",
            "bar_color": null,
            "description_width": ""
          }
        },
        "fb17129c6726428699493fa0c20e3601": {
          "model_module": "@jupyter-widgets/base",
          "model_name": "LayoutModel",
          "model_module_version": "1.2.0",
          "state": {
            "_model_module": "@jupyter-widgets/base",
            "_model_module_version": "1.2.0",
            "_model_name": "LayoutModel",
            "_view_count": null,
            "_view_module": "@jupyter-widgets/base",
            "_view_module_version": "1.2.0",
            "_view_name": "LayoutView",
            "align_content": null,
            "align_items": null,
            "align_self": null,
            "border": null,
            "bottom": null,
            "display": null,
            "flex": null,
            "flex_flow": null,
            "grid_area": null,
            "grid_auto_columns": null,
            "grid_auto_flow": null,
            "grid_auto_rows": null,
            "grid_column": null,
            "grid_gap": null,
            "grid_row": null,
            "grid_template_areas": null,
            "grid_template_columns": null,
            "grid_template_rows": null,
            "height": null,
            "justify_content": null,
            "justify_items": null,
            "left": null,
            "margin": null,
            "max_height": null,
            "max_width": null,
            "min_height": null,
            "min_width": null,
            "object_fit": null,
            "object_position": null,
            "order": null,
            "overflow": null,
            "overflow_x": null,
            "overflow_y": null,
            "padding": null,
            "right": null,
            "top": null,
            "visibility": null,
            "width": null
          }
        },
        "499640fbec684c26aa93f826f7a364a8": {
          "model_module": "@jupyter-widgets/controls",
          "model_name": "DescriptionStyleModel",
          "model_module_version": "1.5.0",
          "state": {
            "_model_module": "@jupyter-widgets/controls",
            "_model_module_version": "1.5.0",
            "_model_name": "DescriptionStyleModel",
            "_view_count": null,
            "_view_module": "@jupyter-widgets/base",
            "_view_module_version": "1.2.0",
            "_view_name": "StyleView",
            "description_width": ""
          }
        },
        "d786e42024fb4516b51f56e5819351a6": {
          "model_module": "@jupyter-widgets/controls",
          "model_name": "HBoxModel",
          "model_module_version": "1.5.0",
          "state": {
            "_dom_classes": [],
            "_model_module": "@jupyter-widgets/controls",
            "_model_module_version": "1.5.0",
            "_model_name": "HBoxModel",
            "_view_count": null,
            "_view_module": "@jupyter-widgets/controls",
            "_view_module_version": "1.5.0",
            "_view_name": "HBoxView",
            "box_style": "",
            "children": [
              "IPY_MODEL_20951984051542cc8af803e05d12d492",
              "IPY_MODEL_2c6d1bbdb6bd491387ea02b85e7e1723",
              "IPY_MODEL_f1939cbe26a147a6be277ae9d047b2d6"
            ],
            "layout": "IPY_MODEL_1d8ce136efa84d67a67c7d81ff1876a2"
          }
        },
        "20951984051542cc8af803e05d12d492": {
          "model_module": "@jupyter-widgets/controls",
          "model_name": "HTMLModel",
          "model_module_version": "1.5.0",
          "state": {
            "_dom_classes": [],
            "_model_module": "@jupyter-widgets/controls",
            "_model_module_version": "1.5.0",
            "_model_name": "HTMLModel",
            "_view_count": null,
            "_view_module": "@jupyter-widgets/controls",
            "_view_module_version": "1.5.0",
            "_view_name": "HTMLView",
            "description": "",
            "description_tooltip": null,
            "layout": "IPY_MODEL_244dcbaaf74f4d9fae488412fae3a2d1",
            "placeholder": "​",
            "style": "IPY_MODEL_050fa629b62c4f38ab8d3d042e96e405",
            "value": "Downloading (…)af57f436/config.json: 100%"
          }
        },
        "2c6d1bbdb6bd491387ea02b85e7e1723": {
          "model_module": "@jupyter-widgets/controls",
          "model_name": "FloatProgressModel",
          "model_module_version": "1.5.0",
          "state": {
            "_dom_classes": [],
            "_model_module": "@jupyter-widgets/controls",
            "_model_module_version": "1.5.0",
            "_model_name": "FloatProgressModel",
            "_view_count": null,
            "_view_module": "@jupyter-widgets/controls",
            "_view_module_version": "1.5.0",
            "_view_name": "ProgressView",
            "bar_style": "success",
            "description": "",
            "description_tooltip": null,
            "layout": "IPY_MODEL_e9ec724b1fbe4ca8b8cb5427e5d90070",
            "max": 1521,
            "min": 0,
            "orientation": "horizontal",
            "style": "IPY_MODEL_9aae66f0e69b4d25ad9d0dcbe0e82160",
            "value": 1521
          }
        },
        "f1939cbe26a147a6be277ae9d047b2d6": {
          "model_module": "@jupyter-widgets/controls",
          "model_name": "HTMLModel",
          "model_module_version": "1.5.0",
          "state": {
            "_dom_classes": [],
            "_model_module": "@jupyter-widgets/controls",
            "_model_module_version": "1.5.0",
            "_model_name": "HTMLModel",
            "_view_count": null,
            "_view_module": "@jupyter-widgets/controls",
            "_view_module_version": "1.5.0",
            "_view_name": "HTMLView",
            "description": "",
            "description_tooltip": null,
            "layout": "IPY_MODEL_13dd1029c47d4678ac159b6414b4894d",
            "placeholder": "​",
            "style": "IPY_MODEL_918038d2e79f4d5e8bdb92dfac19ad33",
            "value": " 1.52k/1.52k [00:00&lt;00:00, 46.7kB/s]"
          }
        },
        "1d8ce136efa84d67a67c7d81ff1876a2": {
          "model_module": "@jupyter-widgets/base",
          "model_name": "LayoutModel",
          "model_module_version": "1.2.0",
          "state": {
            "_model_module": "@jupyter-widgets/base",
            "_model_module_version": "1.2.0",
            "_model_name": "LayoutModel",
            "_view_count": null,
            "_view_module": "@jupyter-widgets/base",
            "_view_module_version": "1.2.0",
            "_view_name": "LayoutView",
            "align_content": null,
            "align_items": null,
            "align_self": null,
            "border": null,
            "bottom": null,
            "display": null,
            "flex": null,
            "flex_flow": null,
            "grid_area": null,
            "grid_auto_columns": null,
            "grid_auto_flow": null,
            "grid_auto_rows": null,
            "grid_column": null,
            "grid_gap": null,
            "grid_row": null,
            "grid_template_areas": null,
            "grid_template_columns": null,
            "grid_template_rows": null,
            "height": null,
            "justify_content": null,
            "justify_items": null,
            "left": null,
            "margin": null,
            "max_height": null,
            "max_width": null,
            "min_height": null,
            "min_width": null,
            "object_fit": null,
            "object_position": null,
            "order": null,
            "overflow": null,
            "overflow_x": null,
            "overflow_y": null,
            "padding": null,
            "right": null,
            "top": null,
            "visibility": null,
            "width": null
          }
        },
        "244dcbaaf74f4d9fae488412fae3a2d1": {
          "model_module": "@jupyter-widgets/base",
          "model_name": "LayoutModel",
          "model_module_version": "1.2.0",
          "state": {
            "_model_module": "@jupyter-widgets/base",
            "_model_module_version": "1.2.0",
            "_model_name": "LayoutModel",
            "_view_count": null,
            "_view_module": "@jupyter-widgets/base",
            "_view_module_version": "1.2.0",
            "_view_name": "LayoutView",
            "align_content": null,
            "align_items": null,
            "align_self": null,
            "border": null,
            "bottom": null,
            "display": null,
            "flex": null,
            "flex_flow": null,
            "grid_area": null,
            "grid_auto_columns": null,
            "grid_auto_flow": null,
            "grid_auto_rows": null,
            "grid_column": null,
            "grid_gap": null,
            "grid_row": null,
            "grid_template_areas": null,
            "grid_template_columns": null,
            "grid_template_rows": null,
            "height": null,
            "justify_content": null,
            "justify_items": null,
            "left": null,
            "margin": null,
            "max_height": null,
            "max_width": null,
            "min_height": null,
            "min_width": null,
            "object_fit": null,
            "object_position": null,
            "order": null,
            "overflow": null,
            "overflow_x": null,
            "overflow_y": null,
            "padding": null,
            "right": null,
            "top": null,
            "visibility": null,
            "width": null
          }
        },
        "050fa629b62c4f38ab8d3d042e96e405": {
          "model_module": "@jupyter-widgets/controls",
          "model_name": "DescriptionStyleModel",
          "model_module_version": "1.5.0",
          "state": {
            "_model_module": "@jupyter-widgets/controls",
            "_model_module_version": "1.5.0",
            "_model_name": "DescriptionStyleModel",
            "_view_count": null,
            "_view_module": "@jupyter-widgets/base",
            "_view_module_version": "1.2.0",
            "_view_name": "StyleView",
            "description_width": ""
          }
        },
        "e9ec724b1fbe4ca8b8cb5427e5d90070": {
          "model_module": "@jupyter-widgets/base",
          "model_name": "LayoutModel",
          "model_module_version": "1.2.0",
          "state": {
            "_model_module": "@jupyter-widgets/base",
            "_model_module_version": "1.2.0",
            "_model_name": "LayoutModel",
            "_view_count": null,
            "_view_module": "@jupyter-widgets/base",
            "_view_module_version": "1.2.0",
            "_view_name": "LayoutView",
            "align_content": null,
            "align_items": null,
            "align_self": null,
            "border": null,
            "bottom": null,
            "display": null,
            "flex": null,
            "flex_flow": null,
            "grid_area": null,
            "grid_auto_columns": null,
            "grid_auto_flow": null,
            "grid_auto_rows": null,
            "grid_column": null,
            "grid_gap": null,
            "grid_row": null,
            "grid_template_areas": null,
            "grid_template_columns": null,
            "grid_template_rows": null,
            "height": null,
            "justify_content": null,
            "justify_items": null,
            "left": null,
            "margin": null,
            "max_height": null,
            "max_width": null,
            "min_height": null,
            "min_width": null,
            "object_fit": null,
            "object_position": null,
            "order": null,
            "overflow": null,
            "overflow_x": null,
            "overflow_y": null,
            "padding": null,
            "right": null,
            "top": null,
            "visibility": null,
            "width": null
          }
        },
        "9aae66f0e69b4d25ad9d0dcbe0e82160": {
          "model_module": "@jupyter-widgets/controls",
          "model_name": "ProgressStyleModel",
          "model_module_version": "1.5.0",
          "state": {
            "_model_module": "@jupyter-widgets/controls",
            "_model_module_version": "1.5.0",
            "_model_name": "ProgressStyleModel",
            "_view_count": null,
            "_view_module": "@jupyter-widgets/base",
            "_view_module_version": "1.2.0",
            "_view_name": "StyleView",
            "bar_color": null,
            "description_width": ""
          }
        },
        "13dd1029c47d4678ac159b6414b4894d": {
          "model_module": "@jupyter-widgets/base",
          "model_name": "LayoutModel",
          "model_module_version": "1.2.0",
          "state": {
            "_model_module": "@jupyter-widgets/base",
            "_model_module_version": "1.2.0",
            "_model_name": "LayoutModel",
            "_view_count": null,
            "_view_module": "@jupyter-widgets/base",
            "_view_module_version": "1.2.0",
            "_view_name": "LayoutView",
            "align_content": null,
            "align_items": null,
            "align_self": null,
            "border": null,
            "bottom": null,
            "display": null,
            "flex": null,
            "flex_flow": null,
            "grid_area": null,
            "grid_auto_columns": null,
            "grid_auto_flow": null,
            "grid_auto_rows": null,
            "grid_column": null,
            "grid_gap": null,
            "grid_row": null,
            "grid_template_areas": null,
            "grid_template_columns": null,
            "grid_template_rows": null,
            "height": null,
            "justify_content": null,
            "justify_items": null,
            "left": null,
            "margin": null,
            "max_height": null,
            "max_width": null,
            "min_height": null,
            "min_width": null,
            "object_fit": null,
            "object_position": null,
            "order": null,
            "overflow": null,
            "overflow_x": null,
            "overflow_y": null,
            "padding": null,
            "right": null,
            "top": null,
            "visibility": null,
            "width": null
          }
        },
        "918038d2e79f4d5e8bdb92dfac19ad33": {
          "model_module": "@jupyter-widgets/controls",
          "model_name": "DescriptionStyleModel",
          "model_module_version": "1.5.0",
          "state": {
            "_model_module": "@jupyter-widgets/controls",
            "_model_module_version": "1.5.0",
            "_model_name": "DescriptionStyleModel",
            "_view_count": null,
            "_view_module": "@jupyter-widgets/base",
            "_view_module_version": "1.2.0",
            "_view_name": "StyleView",
            "description_width": ""
          }
        },
        "bf29162a64eb43b7b37c8338ac60dc72": {
          "model_module": "@jupyter-widgets/controls",
          "model_name": "HBoxModel",
          "model_module_version": "1.5.0",
          "state": {
            "_dom_classes": [],
            "_model_module": "@jupyter-widgets/controls",
            "_model_module_version": "1.5.0",
            "_model_name": "HBoxModel",
            "_view_count": null,
            "_view_module": "@jupyter-widgets/controls",
            "_view_module_version": "1.5.0",
            "_view_name": "HBoxView",
            "box_style": "",
            "children": [
              "IPY_MODEL_aeb582ea6d2b490ea8775e3b156412d9",
              "IPY_MODEL_55df356b35e34702b93bf86d1106ce70",
              "IPY_MODEL_8f9c892627fc4318aa71911797bfc5ab"
            ],
            "layout": "IPY_MODEL_0bad2d27829a4f468103423ae9e0426f"
          }
        },
        "aeb582ea6d2b490ea8775e3b156412d9": {
          "model_module": "@jupyter-widgets/controls",
          "model_name": "HTMLModel",
          "model_module_version": "1.5.0",
          "state": {
            "_dom_classes": [],
            "_model_module": "@jupyter-widgets/controls",
            "_model_module_version": "1.5.0",
            "_model_name": "HTMLModel",
            "_view_count": null,
            "_view_module": "@jupyter-widgets/controls",
            "_view_module_version": "1.5.0",
            "_view_name": "HTMLView",
            "description": "",
            "description_tooltip": null,
            "layout": "IPY_MODEL_8c2306cdb42f47d19ba05e1a51b494cd",
            "placeholder": "​",
            "style": "IPY_MODEL_cd959ffdcfb24b0f979f303105f539b7",
            "value": "Downloading (…)ce_transformers.json: 100%"
          }
        },
        "55df356b35e34702b93bf86d1106ce70": {
          "model_module": "@jupyter-widgets/controls",
          "model_name": "FloatProgressModel",
          "model_module_version": "1.5.0",
          "state": {
            "_dom_classes": [],
            "_model_module": "@jupyter-widgets/controls",
            "_model_module_version": "1.5.0",
            "_model_name": "FloatProgressModel",
            "_view_count": null,
            "_view_module": "@jupyter-widgets/controls",
            "_view_module_version": "1.5.0",
            "_view_name": "ProgressView",
            "bar_style": "success",
            "description": "",
            "description_tooltip": null,
            "layout": "IPY_MODEL_c8dc04c8a5b2481e9f2365d7ab267869",
            "max": 122,
            "min": 0,
            "orientation": "horizontal",
            "style": "IPY_MODEL_58ed0b1f18634d5cb97605ce7144c48b",
            "value": 122
          }
        },
        "8f9c892627fc4318aa71911797bfc5ab": {
          "model_module": "@jupyter-widgets/controls",
          "model_name": "HTMLModel",
          "model_module_version": "1.5.0",
          "state": {
            "_dom_classes": [],
            "_model_module": "@jupyter-widgets/controls",
            "_model_module_version": "1.5.0",
            "_model_name": "HTMLModel",
            "_view_count": null,
            "_view_module": "@jupyter-widgets/controls",
            "_view_module_version": "1.5.0",
            "_view_name": "HTMLView",
            "description": "",
            "description_tooltip": null,
            "layout": "IPY_MODEL_58312c838e7c4761839b363700e5a237",
            "placeholder": "​",
            "style": "IPY_MODEL_1a3e4fb90bd2489c91d5f82a9118fc50",
            "value": " 122/122 [00:00&lt;00:00, 4.60kB/s]"
          }
        },
        "0bad2d27829a4f468103423ae9e0426f": {
          "model_module": "@jupyter-widgets/base",
          "model_name": "LayoutModel",
          "model_module_version": "1.2.0",
          "state": {
            "_model_module": "@jupyter-widgets/base",
            "_model_module_version": "1.2.0",
            "_model_name": "LayoutModel",
            "_view_count": null,
            "_view_module": "@jupyter-widgets/base",
            "_view_module_version": "1.2.0",
            "_view_name": "LayoutView",
            "align_content": null,
            "align_items": null,
            "align_self": null,
            "border": null,
            "bottom": null,
            "display": null,
            "flex": null,
            "flex_flow": null,
            "grid_area": null,
            "grid_auto_columns": null,
            "grid_auto_flow": null,
            "grid_auto_rows": null,
            "grid_column": null,
            "grid_gap": null,
            "grid_row": null,
            "grid_template_areas": null,
            "grid_template_columns": null,
            "grid_template_rows": null,
            "height": null,
            "justify_content": null,
            "justify_items": null,
            "left": null,
            "margin": null,
            "max_height": null,
            "max_width": null,
            "min_height": null,
            "min_width": null,
            "object_fit": null,
            "object_position": null,
            "order": null,
            "overflow": null,
            "overflow_x": null,
            "overflow_y": null,
            "padding": null,
            "right": null,
            "top": null,
            "visibility": null,
            "width": null
          }
        },
        "8c2306cdb42f47d19ba05e1a51b494cd": {
          "model_module": "@jupyter-widgets/base",
          "model_name": "LayoutModel",
          "model_module_version": "1.2.0",
          "state": {
            "_model_module": "@jupyter-widgets/base",
            "_model_module_version": "1.2.0",
            "_model_name": "LayoutModel",
            "_view_count": null,
            "_view_module": "@jupyter-widgets/base",
            "_view_module_version": "1.2.0",
            "_view_name": "LayoutView",
            "align_content": null,
            "align_items": null,
            "align_self": null,
            "border": null,
            "bottom": null,
            "display": null,
            "flex": null,
            "flex_flow": null,
            "grid_area": null,
            "grid_auto_columns": null,
            "grid_auto_flow": null,
            "grid_auto_rows": null,
            "grid_column": null,
            "grid_gap": null,
            "grid_row": null,
            "grid_template_areas": null,
            "grid_template_columns": null,
            "grid_template_rows": null,
            "height": null,
            "justify_content": null,
            "justify_items": null,
            "left": null,
            "margin": null,
            "max_height": null,
            "max_width": null,
            "min_height": null,
            "min_width": null,
            "object_fit": null,
            "object_position": null,
            "order": null,
            "overflow": null,
            "overflow_x": null,
            "overflow_y": null,
            "padding": null,
            "right": null,
            "top": null,
            "visibility": null,
            "width": null
          }
        },
        "cd959ffdcfb24b0f979f303105f539b7": {
          "model_module": "@jupyter-widgets/controls",
          "model_name": "DescriptionStyleModel",
          "model_module_version": "1.5.0",
          "state": {
            "_model_module": "@jupyter-widgets/controls",
            "_model_module_version": "1.5.0",
            "_model_name": "DescriptionStyleModel",
            "_view_count": null,
            "_view_module": "@jupyter-widgets/base",
            "_view_module_version": "1.2.0",
            "_view_name": "StyleView",
            "description_width": ""
          }
        },
        "c8dc04c8a5b2481e9f2365d7ab267869": {
          "model_module": "@jupyter-widgets/base",
          "model_name": "LayoutModel",
          "model_module_version": "1.2.0",
          "state": {
            "_model_module": "@jupyter-widgets/base",
            "_model_module_version": "1.2.0",
            "_model_name": "LayoutModel",
            "_view_count": null,
            "_view_module": "@jupyter-widgets/base",
            "_view_module_version": "1.2.0",
            "_view_name": "LayoutView",
            "align_content": null,
            "align_items": null,
            "align_self": null,
            "border": null,
            "bottom": null,
            "display": null,
            "flex": null,
            "flex_flow": null,
            "grid_area": null,
            "grid_auto_columns": null,
            "grid_auto_flow": null,
            "grid_auto_rows": null,
            "grid_column": null,
            "grid_gap": null,
            "grid_row": null,
            "grid_template_areas": null,
            "grid_template_columns": null,
            "grid_template_rows": null,
            "height": null,
            "justify_content": null,
            "justify_items": null,
            "left": null,
            "margin": null,
            "max_height": null,
            "max_width": null,
            "min_height": null,
            "min_width": null,
            "object_fit": null,
            "object_position": null,
            "order": null,
            "overflow": null,
            "overflow_x": null,
            "overflow_y": null,
            "padding": null,
            "right": null,
            "top": null,
            "visibility": null,
            "width": null
          }
        },
        "58ed0b1f18634d5cb97605ce7144c48b": {
          "model_module": "@jupyter-widgets/controls",
          "model_name": "ProgressStyleModel",
          "model_module_version": "1.5.0",
          "state": {
            "_model_module": "@jupyter-widgets/controls",
            "_model_module_version": "1.5.0",
            "_model_name": "ProgressStyleModel",
            "_view_count": null,
            "_view_module": "@jupyter-widgets/base",
            "_view_module_version": "1.2.0",
            "_view_name": "StyleView",
            "bar_color": null,
            "description_width": ""
          }
        },
        "58312c838e7c4761839b363700e5a237": {
          "model_module": "@jupyter-widgets/base",
          "model_name": "LayoutModel",
          "model_module_version": "1.2.0",
          "state": {
            "_model_module": "@jupyter-widgets/base",
            "_model_module_version": "1.2.0",
            "_model_name": "LayoutModel",
            "_view_count": null,
            "_view_module": "@jupyter-widgets/base",
            "_view_module_version": "1.2.0",
            "_view_name": "LayoutView",
            "align_content": null,
            "align_items": null,
            "align_self": null,
            "border": null,
            "bottom": null,
            "display": null,
            "flex": null,
            "flex_flow": null,
            "grid_area": null,
            "grid_auto_columns": null,
            "grid_auto_flow": null,
            "grid_auto_rows": null,
            "grid_column": null,
            "grid_gap": null,
            "grid_row": null,
            "grid_template_areas": null,
            "grid_template_columns": null,
            "grid_template_rows": null,
            "height": null,
            "justify_content": null,
            "justify_items": null,
            "left": null,
            "margin": null,
            "max_height": null,
            "max_width": null,
            "min_height": null,
            "min_width": null,
            "object_fit": null,
            "object_position": null,
            "order": null,
            "overflow": null,
            "overflow_x": null,
            "overflow_y": null,
            "padding": null,
            "right": null,
            "top": null,
            "visibility": null,
            "width": null
          }
        },
        "1a3e4fb90bd2489c91d5f82a9118fc50": {
          "model_module": "@jupyter-widgets/controls",
          "model_name": "DescriptionStyleModel",
          "model_module_version": "1.5.0",
          "state": {
            "_model_module": "@jupyter-widgets/controls",
            "_model_module_version": "1.5.0",
            "_model_name": "DescriptionStyleModel",
            "_view_count": null,
            "_view_module": "@jupyter-widgets/base",
            "_view_module_version": "1.2.0",
            "_view_name": "StyleView",
            "description_width": ""
          }
        },
        "26ee6735abae449a8872b77d026ab52f": {
          "model_module": "@jupyter-widgets/controls",
          "model_name": "HBoxModel",
          "model_module_version": "1.5.0",
          "state": {
            "_dom_classes": [],
            "_model_module": "@jupyter-widgets/controls",
            "_model_module_version": "1.5.0",
            "_model_name": "HBoxModel",
            "_view_count": null,
            "_view_module": "@jupyter-widgets/controls",
            "_view_module_version": "1.5.0",
            "_view_name": "HBoxView",
            "box_style": "",
            "children": [
              "IPY_MODEL_97165369fabc4e49ab25f3848c129d07",
              "IPY_MODEL_89a57565680744688c8f3cfe3b7b7073",
              "IPY_MODEL_15e2a38c0ef446b383566c58f2359f61"
            ],
            "layout": "IPY_MODEL_4c00ecd5e7fb476abaad9019adb14a52"
          }
        },
        "97165369fabc4e49ab25f3848c129d07": {
          "model_module": "@jupyter-widgets/controls",
          "model_name": "HTMLModel",
          "model_module_version": "1.5.0",
          "state": {
            "_dom_classes": [],
            "_model_module": "@jupyter-widgets/controls",
            "_model_module_version": "1.5.0",
            "_model_name": "HTMLModel",
            "_view_count": null,
            "_view_module": "@jupyter-widgets/controls",
            "_view_module_version": "1.5.0",
            "_view_name": "HTMLView",
            "description": "",
            "description_tooltip": null,
            "layout": "IPY_MODEL_5b05f51b7f4d4bb9b1df69332c244b52",
            "placeholder": "​",
            "style": "IPY_MODEL_1bdff196901c4e95840558f90e1fb72e",
            "value": "Downloading pytorch_model.bin: 100%"
          }
        },
        "89a57565680744688c8f3cfe3b7b7073": {
          "model_module": "@jupyter-widgets/controls",
          "model_name": "FloatProgressModel",
          "model_module_version": "1.5.0",
          "state": {
            "_dom_classes": [],
            "_model_module": "@jupyter-widgets/controls",
            "_model_module_version": "1.5.0",
            "_model_name": "FloatProgressModel",
            "_view_count": null,
            "_view_module": "@jupyter-widgets/controls",
            "_view_module_version": "1.5.0",
            "_view_name": "ProgressView",
            "bar_style": "success",
            "description": "",
            "description_tooltip": null,
            "layout": "IPY_MODEL_769c83f60fe244b290c0c884e45f162a",
            "max": 4963705019,
            "min": 0,
            "orientation": "horizontal",
            "style": "IPY_MODEL_decd6ad2145b4f33b7ab393e58dbf18b",
            "value": 4963705019
          }
        },
        "15e2a38c0ef446b383566c58f2359f61": {
          "model_module": "@jupyter-widgets/controls",
          "model_name": "HTMLModel",
          "model_module_version": "1.5.0",
          "state": {
            "_dom_classes": [],
            "_model_module": "@jupyter-widgets/controls",
            "_model_module_version": "1.5.0",
            "_model_name": "HTMLModel",
            "_view_count": null,
            "_view_module": "@jupyter-widgets/controls",
            "_view_module_version": "1.5.0",
            "_view_name": "HTMLView",
            "description": "",
            "description_tooltip": null,
            "layout": "IPY_MODEL_cd0448ba12b64c1fb8c89eb3a7ea44d5",
            "placeholder": "​",
            "style": "IPY_MODEL_4b97cc88bf9c496f9973218a48be1598",
            "value": " 4.96G/4.96G [00:34&lt;00:00, 150MB/s]"
          }
        },
        "4c00ecd5e7fb476abaad9019adb14a52": {
          "model_module": "@jupyter-widgets/base",
          "model_name": "LayoutModel",
          "model_module_version": "1.2.0",
          "state": {
            "_model_module": "@jupyter-widgets/base",
            "_model_module_version": "1.2.0",
            "_model_name": "LayoutModel",
            "_view_count": null,
            "_view_module": "@jupyter-widgets/base",
            "_view_module_version": "1.2.0",
            "_view_name": "LayoutView",
            "align_content": null,
            "align_items": null,
            "align_self": null,
            "border": null,
            "bottom": null,
            "display": null,
            "flex": null,
            "flex_flow": null,
            "grid_area": null,
            "grid_auto_columns": null,
            "grid_auto_flow": null,
            "grid_auto_rows": null,
            "grid_column": null,
            "grid_gap": null,
            "grid_row": null,
            "grid_template_areas": null,
            "grid_template_columns": null,
            "grid_template_rows": null,
            "height": null,
            "justify_content": null,
            "justify_items": null,
            "left": null,
            "margin": null,
            "max_height": null,
            "max_width": null,
            "min_height": null,
            "min_width": null,
            "object_fit": null,
            "object_position": null,
            "order": null,
            "overflow": null,
            "overflow_x": null,
            "overflow_y": null,
            "padding": null,
            "right": null,
            "top": null,
            "visibility": null,
            "width": null
          }
        },
        "5b05f51b7f4d4bb9b1df69332c244b52": {
          "model_module": "@jupyter-widgets/base",
          "model_name": "LayoutModel",
          "model_module_version": "1.2.0",
          "state": {
            "_model_module": "@jupyter-widgets/base",
            "_model_module_version": "1.2.0",
            "_model_name": "LayoutModel",
            "_view_count": null,
            "_view_module": "@jupyter-widgets/base",
            "_view_module_version": "1.2.0",
            "_view_name": "LayoutView",
            "align_content": null,
            "align_items": null,
            "align_self": null,
            "border": null,
            "bottom": null,
            "display": null,
            "flex": null,
            "flex_flow": null,
            "grid_area": null,
            "grid_auto_columns": null,
            "grid_auto_flow": null,
            "grid_auto_rows": null,
            "grid_column": null,
            "grid_gap": null,
            "grid_row": null,
            "grid_template_areas": null,
            "grid_template_columns": null,
            "grid_template_rows": null,
            "height": null,
            "justify_content": null,
            "justify_items": null,
            "left": null,
            "margin": null,
            "max_height": null,
            "max_width": null,
            "min_height": null,
            "min_width": null,
            "object_fit": null,
            "object_position": null,
            "order": null,
            "overflow": null,
            "overflow_x": null,
            "overflow_y": null,
            "padding": null,
            "right": null,
            "top": null,
            "visibility": null,
            "width": null
          }
        },
        "1bdff196901c4e95840558f90e1fb72e": {
          "model_module": "@jupyter-widgets/controls",
          "model_name": "DescriptionStyleModel",
          "model_module_version": "1.5.0",
          "state": {
            "_model_module": "@jupyter-widgets/controls",
            "_model_module_version": "1.5.0",
            "_model_name": "DescriptionStyleModel",
            "_view_count": null,
            "_view_module": "@jupyter-widgets/base",
            "_view_module_version": "1.2.0",
            "_view_name": "StyleView",
            "description_width": ""
          }
        },
        "769c83f60fe244b290c0c884e45f162a": {
          "model_module": "@jupyter-widgets/base",
          "model_name": "LayoutModel",
          "model_module_version": "1.2.0",
          "state": {
            "_model_module": "@jupyter-widgets/base",
            "_model_module_version": "1.2.0",
            "_model_name": "LayoutModel",
            "_view_count": null,
            "_view_module": "@jupyter-widgets/base",
            "_view_module_version": "1.2.0",
            "_view_name": "LayoutView",
            "align_content": null,
            "align_items": null,
            "align_self": null,
            "border": null,
            "bottom": null,
            "display": null,
            "flex": null,
            "flex_flow": null,
            "grid_area": null,
            "grid_auto_columns": null,
            "grid_auto_flow": null,
            "grid_auto_rows": null,
            "grid_column": null,
            "grid_gap": null,
            "grid_row": null,
            "grid_template_areas": null,
            "grid_template_columns": null,
            "grid_template_rows": null,
            "height": null,
            "justify_content": null,
            "justify_items": null,
            "left": null,
            "margin": null,
            "max_height": null,
            "max_width": null,
            "min_height": null,
            "min_width": null,
            "object_fit": null,
            "object_position": null,
            "order": null,
            "overflow": null,
            "overflow_x": null,
            "overflow_y": null,
            "padding": null,
            "right": null,
            "top": null,
            "visibility": null,
            "width": null
          }
        },
        "decd6ad2145b4f33b7ab393e58dbf18b": {
          "model_module": "@jupyter-widgets/controls",
          "model_name": "ProgressStyleModel",
          "model_module_version": "1.5.0",
          "state": {
            "_model_module": "@jupyter-widgets/controls",
            "_model_module_version": "1.5.0",
            "_model_name": "ProgressStyleModel",
            "_view_count": null,
            "_view_module": "@jupyter-widgets/base",
            "_view_module_version": "1.2.0",
            "_view_name": "StyleView",
            "bar_color": null,
            "description_width": ""
          }
        },
        "cd0448ba12b64c1fb8c89eb3a7ea44d5": {
          "model_module": "@jupyter-widgets/base",
          "model_name": "LayoutModel",
          "model_module_version": "1.2.0",
          "state": {
            "_model_module": "@jupyter-widgets/base",
            "_model_module_version": "1.2.0",
            "_model_name": "LayoutModel",
            "_view_count": null,
            "_view_module": "@jupyter-widgets/base",
            "_view_module_version": "1.2.0",
            "_view_name": "LayoutView",
            "align_content": null,
            "align_items": null,
            "align_self": null,
            "border": null,
            "bottom": null,
            "display": null,
            "flex": null,
            "flex_flow": null,
            "grid_area": null,
            "grid_auto_columns": null,
            "grid_auto_flow": null,
            "grid_auto_rows": null,
            "grid_column": null,
            "grid_gap": null,
            "grid_row": null,
            "grid_template_areas": null,
            "grid_template_columns": null,
            "grid_template_rows": null,
            "height": null,
            "justify_content": null,
            "justify_items": null,
            "left": null,
            "margin": null,
            "max_height": null,
            "max_width": null,
            "min_height": null,
            "min_width": null,
            "object_fit": null,
            "object_position": null,
            "order": null,
            "overflow": null,
            "overflow_x": null,
            "overflow_y": null,
            "padding": null,
            "right": null,
            "top": null,
            "visibility": null,
            "width": null
          }
        },
        "4b97cc88bf9c496f9973218a48be1598": {
          "model_module": "@jupyter-widgets/controls",
          "model_name": "DescriptionStyleModel",
          "model_module_version": "1.5.0",
          "state": {
            "_model_module": "@jupyter-widgets/controls",
            "_model_module_version": "1.5.0",
            "_model_name": "DescriptionStyleModel",
            "_view_count": null,
            "_view_module": "@jupyter-widgets/base",
            "_view_module_version": "1.2.0",
            "_view_name": "StyleView",
            "description_width": ""
          }
        },
        "3108e3e0efa84b10aa68c11a3dcd21c7": {
          "model_module": "@jupyter-widgets/controls",
          "model_name": "HBoxModel",
          "model_module_version": "1.5.0",
          "state": {
            "_dom_classes": [],
            "_model_module": "@jupyter-widgets/controls",
            "_model_module_version": "1.5.0",
            "_model_name": "HBoxModel",
            "_view_count": null,
            "_view_module": "@jupyter-widgets/controls",
            "_view_module_version": "1.5.0",
            "_view_name": "HBoxView",
            "box_style": "",
            "children": [
              "IPY_MODEL_bac942ae22ca4a94b0e0f0260298b305",
              "IPY_MODEL_964759f726f744ab9774e68807c4c4f5",
              "IPY_MODEL_ab1a6f7feb1e427abb174b8835530d68"
            ],
            "layout": "IPY_MODEL_36ff9b1b6fcc42569061e81bfed45c28"
          }
        },
        "bac942ae22ca4a94b0e0f0260298b305": {
          "model_module": "@jupyter-widgets/controls",
          "model_name": "HTMLModel",
          "model_module_version": "1.5.0",
          "state": {
            "_dom_classes": [],
            "_model_module": "@jupyter-widgets/controls",
            "_model_module_version": "1.5.0",
            "_model_name": "HTMLModel",
            "_view_count": null,
            "_view_module": "@jupyter-widgets/controls",
            "_view_module_version": "1.5.0",
            "_view_name": "HTMLView",
            "description": "",
            "description_tooltip": null,
            "layout": "IPY_MODEL_0462b481940242eaaf6bdc601ff2bd3d",
            "placeholder": "​",
            "style": "IPY_MODEL_882973b860904eb18db904078ea14b19",
            "value": "Downloading (…)nce_bert_config.json: 100%"
          }
        },
        "964759f726f744ab9774e68807c4c4f5": {
          "model_module": "@jupyter-widgets/controls",
          "model_name": "FloatProgressModel",
          "model_module_version": "1.5.0",
          "state": {
            "_dom_classes": [],
            "_model_module": "@jupyter-widgets/controls",
            "_model_module_version": "1.5.0",
            "_model_name": "FloatProgressModel",
            "_view_count": null,
            "_view_module": "@jupyter-widgets/controls",
            "_view_module_version": "1.5.0",
            "_view_name": "ProgressView",
            "bar_style": "success",
            "description": "",
            "description_tooltip": null,
            "layout": "IPY_MODEL_255c28118bd84a9bb1028679b8e46f13",
            "max": 53,
            "min": 0,
            "orientation": "horizontal",
            "style": "IPY_MODEL_8b21a3bef023432d82de382d6f6ba333",
            "value": 53
          }
        },
        "ab1a6f7feb1e427abb174b8835530d68": {
          "model_module": "@jupyter-widgets/controls",
          "model_name": "HTMLModel",
          "model_module_version": "1.5.0",
          "state": {
            "_dom_classes": [],
            "_model_module": "@jupyter-widgets/controls",
            "_model_module_version": "1.5.0",
            "_model_name": "HTMLModel",
            "_view_count": null,
            "_view_module": "@jupyter-widgets/controls",
            "_view_module_version": "1.5.0",
            "_view_name": "HTMLView",
            "description": "",
            "description_tooltip": null,
            "layout": "IPY_MODEL_7a369e17adf0429bb2225ea4354c2ff7",
            "placeholder": "​",
            "style": "IPY_MODEL_1588cd9db44c454f98847712bafb0880",
            "value": " 53.0/53.0 [00:00&lt;00:00, 3.72kB/s]"
          }
        },
        "36ff9b1b6fcc42569061e81bfed45c28": {
          "model_module": "@jupyter-widgets/base",
          "model_name": "LayoutModel",
          "model_module_version": "1.2.0",
          "state": {
            "_model_module": "@jupyter-widgets/base",
            "_model_module_version": "1.2.0",
            "_model_name": "LayoutModel",
            "_view_count": null,
            "_view_module": "@jupyter-widgets/base",
            "_view_module_version": "1.2.0",
            "_view_name": "LayoutView",
            "align_content": null,
            "align_items": null,
            "align_self": null,
            "border": null,
            "bottom": null,
            "display": null,
            "flex": null,
            "flex_flow": null,
            "grid_area": null,
            "grid_auto_columns": null,
            "grid_auto_flow": null,
            "grid_auto_rows": null,
            "grid_column": null,
            "grid_gap": null,
            "grid_row": null,
            "grid_template_areas": null,
            "grid_template_columns": null,
            "grid_template_rows": null,
            "height": null,
            "justify_content": null,
            "justify_items": null,
            "left": null,
            "margin": null,
            "max_height": null,
            "max_width": null,
            "min_height": null,
            "min_width": null,
            "object_fit": null,
            "object_position": null,
            "order": null,
            "overflow": null,
            "overflow_x": null,
            "overflow_y": null,
            "padding": null,
            "right": null,
            "top": null,
            "visibility": null,
            "width": null
          }
        },
        "0462b481940242eaaf6bdc601ff2bd3d": {
          "model_module": "@jupyter-widgets/base",
          "model_name": "LayoutModel",
          "model_module_version": "1.2.0",
          "state": {
            "_model_module": "@jupyter-widgets/base",
            "_model_module_version": "1.2.0",
            "_model_name": "LayoutModel",
            "_view_count": null,
            "_view_module": "@jupyter-widgets/base",
            "_view_module_version": "1.2.0",
            "_view_name": "LayoutView",
            "align_content": null,
            "align_items": null,
            "align_self": null,
            "border": null,
            "bottom": null,
            "display": null,
            "flex": null,
            "flex_flow": null,
            "grid_area": null,
            "grid_auto_columns": null,
            "grid_auto_flow": null,
            "grid_auto_rows": null,
            "grid_column": null,
            "grid_gap": null,
            "grid_row": null,
            "grid_template_areas": null,
            "grid_template_columns": null,
            "grid_template_rows": null,
            "height": null,
            "justify_content": null,
            "justify_items": null,
            "left": null,
            "margin": null,
            "max_height": null,
            "max_width": null,
            "min_height": null,
            "min_width": null,
            "object_fit": null,
            "object_position": null,
            "order": null,
            "overflow": null,
            "overflow_x": null,
            "overflow_y": null,
            "padding": null,
            "right": null,
            "top": null,
            "visibility": null,
            "width": null
          }
        },
        "882973b860904eb18db904078ea14b19": {
          "model_module": "@jupyter-widgets/controls",
          "model_name": "DescriptionStyleModel",
          "model_module_version": "1.5.0",
          "state": {
            "_model_module": "@jupyter-widgets/controls",
            "_model_module_version": "1.5.0",
            "_model_name": "DescriptionStyleModel",
            "_view_count": null,
            "_view_module": "@jupyter-widgets/base",
            "_view_module_version": "1.2.0",
            "_view_name": "StyleView",
            "description_width": ""
          }
        },
        "255c28118bd84a9bb1028679b8e46f13": {
          "model_module": "@jupyter-widgets/base",
          "model_name": "LayoutModel",
          "model_module_version": "1.2.0",
          "state": {
            "_model_module": "@jupyter-widgets/base",
            "_model_module_version": "1.2.0",
            "_model_name": "LayoutModel",
            "_view_count": null,
            "_view_module": "@jupyter-widgets/base",
            "_view_module_version": "1.2.0",
            "_view_name": "LayoutView",
            "align_content": null,
            "align_items": null,
            "align_self": null,
            "border": null,
            "bottom": null,
            "display": null,
            "flex": null,
            "flex_flow": null,
            "grid_area": null,
            "grid_auto_columns": null,
            "grid_auto_flow": null,
            "grid_auto_rows": null,
            "grid_column": null,
            "grid_gap": null,
            "grid_row": null,
            "grid_template_areas": null,
            "grid_template_columns": null,
            "grid_template_rows": null,
            "height": null,
            "justify_content": null,
            "justify_items": null,
            "left": null,
            "margin": null,
            "max_height": null,
            "max_width": null,
            "min_height": null,
            "min_width": null,
            "object_fit": null,
            "object_position": null,
            "order": null,
            "overflow": null,
            "overflow_x": null,
            "overflow_y": null,
            "padding": null,
            "right": null,
            "top": null,
            "visibility": null,
            "width": null
          }
        },
        "8b21a3bef023432d82de382d6f6ba333": {
          "model_module": "@jupyter-widgets/controls",
          "model_name": "ProgressStyleModel",
          "model_module_version": "1.5.0",
          "state": {
            "_model_module": "@jupyter-widgets/controls",
            "_model_module_version": "1.5.0",
            "_model_name": "ProgressStyleModel",
            "_view_count": null,
            "_view_module": "@jupyter-widgets/base",
            "_view_module_version": "1.2.0",
            "_view_name": "StyleView",
            "bar_color": null,
            "description_width": ""
          }
        },
        "7a369e17adf0429bb2225ea4354c2ff7": {
          "model_module": "@jupyter-widgets/base",
          "model_name": "LayoutModel",
          "model_module_version": "1.2.0",
          "state": {
            "_model_module": "@jupyter-widgets/base",
            "_model_module_version": "1.2.0",
            "_model_name": "LayoutModel",
            "_view_count": null,
            "_view_module": "@jupyter-widgets/base",
            "_view_module_version": "1.2.0",
            "_view_name": "LayoutView",
            "align_content": null,
            "align_items": null,
            "align_self": null,
            "border": null,
            "bottom": null,
            "display": null,
            "flex": null,
            "flex_flow": null,
            "grid_area": null,
            "grid_auto_columns": null,
            "grid_auto_flow": null,
            "grid_auto_rows": null,
            "grid_column": null,
            "grid_gap": null,
            "grid_row": null,
            "grid_template_areas": null,
            "grid_template_columns": null,
            "grid_template_rows": null,
            "height": null,
            "justify_content": null,
            "justify_items": null,
            "left": null,
            "margin": null,
            "max_height": null,
            "max_width": null,
            "min_height": null,
            "min_width": null,
            "object_fit": null,
            "object_position": null,
            "order": null,
            "overflow": null,
            "overflow_x": null,
            "overflow_y": null,
            "padding": null,
            "right": null,
            "top": null,
            "visibility": null,
            "width": null
          }
        },
        "1588cd9db44c454f98847712bafb0880": {
          "model_module": "@jupyter-widgets/controls",
          "model_name": "DescriptionStyleModel",
          "model_module_version": "1.5.0",
          "state": {
            "_model_module": "@jupyter-widgets/controls",
            "_model_module_version": "1.5.0",
            "_model_name": "DescriptionStyleModel",
            "_view_count": null,
            "_view_module": "@jupyter-widgets/base",
            "_view_module_version": "1.2.0",
            "_view_name": "StyleView",
            "description_width": ""
          }
        },
        "e6474044ab144ea1861f46035ebd82c8": {
          "model_module": "@jupyter-widgets/controls",
          "model_name": "HBoxModel",
          "model_module_version": "1.5.0",
          "state": {
            "_dom_classes": [],
            "_model_module": "@jupyter-widgets/controls",
            "_model_module_version": "1.5.0",
            "_model_name": "HBoxModel",
            "_view_count": null,
            "_view_module": "@jupyter-widgets/controls",
            "_view_module_version": "1.5.0",
            "_view_name": "HBoxView",
            "box_style": "",
            "children": [
              "IPY_MODEL_b9aa874779524766bfe5bfcabf5fc5df",
              "IPY_MODEL_9c7d9d2b5a7f4b0b8c290b139924da78",
              "IPY_MODEL_4f19d6e05fc34524aaff33cfb92f4dfc"
            ],
            "layout": "IPY_MODEL_95bfbfcc62744218895c088a2b45ae4f"
          }
        },
        "b9aa874779524766bfe5bfcabf5fc5df": {
          "model_module": "@jupyter-widgets/controls",
          "model_name": "HTMLModel",
          "model_module_version": "1.5.0",
          "state": {
            "_dom_classes": [],
            "_model_module": "@jupyter-widgets/controls",
            "_model_module_version": "1.5.0",
            "_model_name": "HTMLModel",
            "_view_count": null,
            "_view_module": "@jupyter-widgets/controls",
            "_view_module_version": "1.5.0",
            "_view_name": "HTMLView",
            "description": "",
            "description_tooltip": null,
            "layout": "IPY_MODEL_91c09a69dbb44176acfe318418d6a87d",
            "placeholder": "​",
            "style": "IPY_MODEL_910e342a74214d3f991d50a91eed9a7e",
            "value": "Downloading (…)cial_tokens_map.json: 100%"
          }
        },
        "9c7d9d2b5a7f4b0b8c290b139924da78": {
          "model_module": "@jupyter-widgets/controls",
          "model_name": "FloatProgressModel",
          "model_module_version": "1.5.0",
          "state": {
            "_dom_classes": [],
            "_model_module": "@jupyter-widgets/controls",
            "_model_module_version": "1.5.0",
            "_model_name": "FloatProgressModel",
            "_view_count": null,
            "_view_module": "@jupyter-widgets/controls",
            "_view_module_version": "1.5.0",
            "_view_name": "ProgressView",
            "bar_style": "success",
            "description": "",
            "description_tooltip": null,
            "layout": "IPY_MODEL_07919e4694714dc689a79c7bac015e79",
            "max": 2201,
            "min": 0,
            "orientation": "horizontal",
            "style": "IPY_MODEL_be91411c0d6f4bcd8890eb36102d2221",
            "value": 2201
          }
        },
        "4f19d6e05fc34524aaff33cfb92f4dfc": {
          "model_module": "@jupyter-widgets/controls",
          "model_name": "HTMLModel",
          "model_module_version": "1.5.0",
          "state": {
            "_dom_classes": [],
            "_model_module": "@jupyter-widgets/controls",
            "_model_module_version": "1.5.0",
            "_model_name": "HTMLModel",
            "_view_count": null,
            "_view_module": "@jupyter-widgets/controls",
            "_view_module_version": "1.5.0",
            "_view_name": "HTMLView",
            "description": "",
            "description_tooltip": null,
            "layout": "IPY_MODEL_43c354ec697d4491b0f52a762863be15",
            "placeholder": "​",
            "style": "IPY_MODEL_9253029f67e84a60b49f66d2ce0233b2",
            "value": " 2.20k/2.20k [00:00&lt;00:00, 168kB/s]"
          }
        },
        "95bfbfcc62744218895c088a2b45ae4f": {
          "model_module": "@jupyter-widgets/base",
          "model_name": "LayoutModel",
          "model_module_version": "1.2.0",
          "state": {
            "_model_module": "@jupyter-widgets/base",
            "_model_module_version": "1.2.0",
            "_model_name": "LayoutModel",
            "_view_count": null,
            "_view_module": "@jupyter-widgets/base",
            "_view_module_version": "1.2.0",
            "_view_name": "LayoutView",
            "align_content": null,
            "align_items": null,
            "align_self": null,
            "border": null,
            "bottom": null,
            "display": null,
            "flex": null,
            "flex_flow": null,
            "grid_area": null,
            "grid_auto_columns": null,
            "grid_auto_flow": null,
            "grid_auto_rows": null,
            "grid_column": null,
            "grid_gap": null,
            "grid_row": null,
            "grid_template_areas": null,
            "grid_template_columns": null,
            "grid_template_rows": null,
            "height": null,
            "justify_content": null,
            "justify_items": null,
            "left": null,
            "margin": null,
            "max_height": null,
            "max_width": null,
            "min_height": null,
            "min_width": null,
            "object_fit": null,
            "object_position": null,
            "order": null,
            "overflow": null,
            "overflow_x": null,
            "overflow_y": null,
            "padding": null,
            "right": null,
            "top": null,
            "visibility": null,
            "width": null
          }
        },
        "91c09a69dbb44176acfe318418d6a87d": {
          "model_module": "@jupyter-widgets/base",
          "model_name": "LayoutModel",
          "model_module_version": "1.2.0",
          "state": {
            "_model_module": "@jupyter-widgets/base",
            "_model_module_version": "1.2.0",
            "_model_name": "LayoutModel",
            "_view_count": null,
            "_view_module": "@jupyter-widgets/base",
            "_view_module_version": "1.2.0",
            "_view_name": "LayoutView",
            "align_content": null,
            "align_items": null,
            "align_self": null,
            "border": null,
            "bottom": null,
            "display": null,
            "flex": null,
            "flex_flow": null,
            "grid_area": null,
            "grid_auto_columns": null,
            "grid_auto_flow": null,
            "grid_auto_rows": null,
            "grid_column": null,
            "grid_gap": null,
            "grid_row": null,
            "grid_template_areas": null,
            "grid_template_columns": null,
            "grid_template_rows": null,
            "height": null,
            "justify_content": null,
            "justify_items": null,
            "left": null,
            "margin": null,
            "max_height": null,
            "max_width": null,
            "min_height": null,
            "min_width": null,
            "object_fit": null,
            "object_position": null,
            "order": null,
            "overflow": null,
            "overflow_x": null,
            "overflow_y": null,
            "padding": null,
            "right": null,
            "top": null,
            "visibility": null,
            "width": null
          }
        },
        "910e342a74214d3f991d50a91eed9a7e": {
          "model_module": "@jupyter-widgets/controls",
          "model_name": "DescriptionStyleModel",
          "model_module_version": "1.5.0",
          "state": {
            "_model_module": "@jupyter-widgets/controls",
            "_model_module_version": "1.5.0",
            "_model_name": "DescriptionStyleModel",
            "_view_count": null,
            "_view_module": "@jupyter-widgets/base",
            "_view_module_version": "1.2.0",
            "_view_name": "StyleView",
            "description_width": ""
          }
        },
        "07919e4694714dc689a79c7bac015e79": {
          "model_module": "@jupyter-widgets/base",
          "model_name": "LayoutModel",
          "model_module_version": "1.2.0",
          "state": {
            "_model_module": "@jupyter-widgets/base",
            "_model_module_version": "1.2.0",
            "_model_name": "LayoutModel",
            "_view_count": null,
            "_view_module": "@jupyter-widgets/base",
            "_view_module_version": "1.2.0",
            "_view_name": "LayoutView",
            "align_content": null,
            "align_items": null,
            "align_self": null,
            "border": null,
            "bottom": null,
            "display": null,
            "flex": null,
            "flex_flow": null,
            "grid_area": null,
            "grid_auto_columns": null,
            "grid_auto_flow": null,
            "grid_auto_rows": null,
            "grid_column": null,
            "grid_gap": null,
            "grid_row": null,
            "grid_template_areas": null,
            "grid_template_columns": null,
            "grid_template_rows": null,
            "height": null,
            "justify_content": null,
            "justify_items": null,
            "left": null,
            "margin": null,
            "max_height": null,
            "max_width": null,
            "min_height": null,
            "min_width": null,
            "object_fit": null,
            "object_position": null,
            "order": null,
            "overflow": null,
            "overflow_x": null,
            "overflow_y": null,
            "padding": null,
            "right": null,
            "top": null,
            "visibility": null,
            "width": null
          }
        },
        "be91411c0d6f4bcd8890eb36102d2221": {
          "model_module": "@jupyter-widgets/controls",
          "model_name": "ProgressStyleModel",
          "model_module_version": "1.5.0",
          "state": {
            "_model_module": "@jupyter-widgets/controls",
            "_model_module_version": "1.5.0",
            "_model_name": "ProgressStyleModel",
            "_view_count": null,
            "_view_module": "@jupyter-widgets/base",
            "_view_module_version": "1.2.0",
            "_view_name": "StyleView",
            "bar_color": null,
            "description_width": ""
          }
        },
        "43c354ec697d4491b0f52a762863be15": {
          "model_module": "@jupyter-widgets/base",
          "model_name": "LayoutModel",
          "model_module_version": "1.2.0",
          "state": {
            "_model_module": "@jupyter-widgets/base",
            "_model_module_version": "1.2.0",
            "_model_name": "LayoutModel",
            "_view_count": null,
            "_view_module": "@jupyter-widgets/base",
            "_view_module_version": "1.2.0",
            "_view_name": "LayoutView",
            "align_content": null,
            "align_items": null,
            "align_self": null,
            "border": null,
            "bottom": null,
            "display": null,
            "flex": null,
            "flex_flow": null,
            "grid_area": null,
            "grid_auto_columns": null,
            "grid_auto_flow": null,
            "grid_auto_rows": null,
            "grid_column": null,
            "grid_gap": null,
            "grid_row": null,
            "grid_template_areas": null,
            "grid_template_columns": null,
            "grid_template_rows": null,
            "height": null,
            "justify_content": null,
            "justify_items": null,
            "left": null,
            "margin": null,
            "max_height": null,
            "max_width": null,
            "min_height": null,
            "min_width": null,
            "object_fit": null,
            "object_position": null,
            "order": null,
            "overflow": null,
            "overflow_x": null,
            "overflow_y": null,
            "padding": null,
            "right": null,
            "top": null,
            "visibility": null,
            "width": null
          }
        },
        "9253029f67e84a60b49f66d2ce0233b2": {
          "model_module": "@jupyter-widgets/controls",
          "model_name": "DescriptionStyleModel",
          "model_module_version": "1.5.0",
          "state": {
            "_model_module": "@jupyter-widgets/controls",
            "_model_module_version": "1.5.0",
            "_model_name": "DescriptionStyleModel",
            "_view_count": null,
            "_view_module": "@jupyter-widgets/base",
            "_view_module_version": "1.2.0",
            "_view_name": "StyleView",
            "description_width": ""
          }
        },
        "bc38076aa6d246428169425fc318c905": {
          "model_module": "@jupyter-widgets/controls",
          "model_name": "HBoxModel",
          "model_module_version": "1.5.0",
          "state": {
            "_dom_classes": [],
            "_model_module": "@jupyter-widgets/controls",
            "_model_module_version": "1.5.0",
            "_model_name": "HBoxModel",
            "_view_count": null,
            "_view_module": "@jupyter-widgets/controls",
            "_view_module_version": "1.5.0",
            "_view_name": "HBoxView",
            "box_style": "",
            "children": [
              "IPY_MODEL_bf0f467e7acb4e148de9715b8e8d1560",
              "IPY_MODEL_2693550f69464be8ac5e7c5e72995976",
              "IPY_MODEL_daa9328cc7f249a49a300863bef80c6e"
            ],
            "layout": "IPY_MODEL_edb48576bdbe4c1f8b428529eb583941"
          }
        },
        "bf0f467e7acb4e148de9715b8e8d1560": {
          "model_module": "@jupyter-widgets/controls",
          "model_name": "HTMLModel",
          "model_module_version": "1.5.0",
          "state": {
            "_dom_classes": [],
            "_model_module": "@jupyter-widgets/controls",
            "_model_module_version": "1.5.0",
            "_model_name": "HTMLModel",
            "_view_count": null,
            "_view_module": "@jupyter-widgets/controls",
            "_view_module_version": "1.5.0",
            "_view_name": "HTMLView",
            "description": "",
            "description_tooltip": null,
            "layout": "IPY_MODEL_a42a706e2a864d49acea50e305d899b3",
            "placeholder": "​",
            "style": "IPY_MODEL_37dbe7f361144659aad3924163aad9a7",
            "value": "Downloading spiece.model: 100%"
          }
        },
        "2693550f69464be8ac5e7c5e72995976": {
          "model_module": "@jupyter-widgets/controls",
          "model_name": "FloatProgressModel",
          "model_module_version": "1.5.0",
          "state": {
            "_dom_classes": [],
            "_model_module": "@jupyter-widgets/controls",
            "_model_module_version": "1.5.0",
            "_model_name": "FloatProgressModel",
            "_view_count": null,
            "_view_module": "@jupyter-widgets/controls",
            "_view_module_version": "1.5.0",
            "_view_name": "ProgressView",
            "bar_style": "success",
            "description": "",
            "description_tooltip": null,
            "layout": "IPY_MODEL_e86e61d388b64f48b3702328d4973b9c",
            "max": 791656,
            "min": 0,
            "orientation": "horizontal",
            "style": "IPY_MODEL_6276dda1670d4733aad51e0a9eee9edd",
            "value": 791656
          }
        },
        "daa9328cc7f249a49a300863bef80c6e": {
          "model_module": "@jupyter-widgets/controls",
          "model_name": "HTMLModel",
          "model_module_version": "1.5.0",
          "state": {
            "_dom_classes": [],
            "_model_module": "@jupyter-widgets/controls",
            "_model_module_version": "1.5.0",
            "_model_name": "HTMLModel",
            "_view_count": null,
            "_view_module": "@jupyter-widgets/controls",
            "_view_module_version": "1.5.0",
            "_view_name": "HTMLView",
            "description": "",
            "description_tooltip": null,
            "layout": "IPY_MODEL_30d3f438ff524d92a726254260bd9de5",
            "placeholder": "​",
            "style": "IPY_MODEL_6addd2f0ffdc4f25bed077d72639f738",
            "value": " 792k/792k [00:00&lt;00:00, 39.6MB/s]"
          }
        },
        "edb48576bdbe4c1f8b428529eb583941": {
          "model_module": "@jupyter-widgets/base",
          "model_name": "LayoutModel",
          "model_module_version": "1.2.0",
          "state": {
            "_model_module": "@jupyter-widgets/base",
            "_model_module_version": "1.2.0",
            "_model_name": "LayoutModel",
            "_view_count": null,
            "_view_module": "@jupyter-widgets/base",
            "_view_module_version": "1.2.0",
            "_view_name": "LayoutView",
            "align_content": null,
            "align_items": null,
            "align_self": null,
            "border": null,
            "bottom": null,
            "display": null,
            "flex": null,
            "flex_flow": null,
            "grid_area": null,
            "grid_auto_columns": null,
            "grid_auto_flow": null,
            "grid_auto_rows": null,
            "grid_column": null,
            "grid_gap": null,
            "grid_row": null,
            "grid_template_areas": null,
            "grid_template_columns": null,
            "grid_template_rows": null,
            "height": null,
            "justify_content": null,
            "justify_items": null,
            "left": null,
            "margin": null,
            "max_height": null,
            "max_width": null,
            "min_height": null,
            "min_width": null,
            "object_fit": null,
            "object_position": null,
            "order": null,
            "overflow": null,
            "overflow_x": null,
            "overflow_y": null,
            "padding": null,
            "right": null,
            "top": null,
            "visibility": null,
            "width": null
          }
        },
        "a42a706e2a864d49acea50e305d899b3": {
          "model_module": "@jupyter-widgets/base",
          "model_name": "LayoutModel",
          "model_module_version": "1.2.0",
          "state": {
            "_model_module": "@jupyter-widgets/base",
            "_model_module_version": "1.2.0",
            "_model_name": "LayoutModel",
            "_view_count": null,
            "_view_module": "@jupyter-widgets/base",
            "_view_module_version": "1.2.0",
            "_view_name": "LayoutView",
            "align_content": null,
            "align_items": null,
            "align_self": null,
            "border": null,
            "bottom": null,
            "display": null,
            "flex": null,
            "flex_flow": null,
            "grid_area": null,
            "grid_auto_columns": null,
            "grid_auto_flow": null,
            "grid_auto_rows": null,
            "grid_column": null,
            "grid_gap": null,
            "grid_row": null,
            "grid_template_areas": null,
            "grid_template_columns": null,
            "grid_template_rows": null,
            "height": null,
            "justify_content": null,
            "justify_items": null,
            "left": null,
            "margin": null,
            "max_height": null,
            "max_width": null,
            "min_height": null,
            "min_width": null,
            "object_fit": null,
            "object_position": null,
            "order": null,
            "overflow": null,
            "overflow_x": null,
            "overflow_y": null,
            "padding": null,
            "right": null,
            "top": null,
            "visibility": null,
            "width": null
          }
        },
        "37dbe7f361144659aad3924163aad9a7": {
          "model_module": "@jupyter-widgets/controls",
          "model_name": "DescriptionStyleModel",
          "model_module_version": "1.5.0",
          "state": {
            "_model_module": "@jupyter-widgets/controls",
            "_model_module_version": "1.5.0",
            "_model_name": "DescriptionStyleModel",
            "_view_count": null,
            "_view_module": "@jupyter-widgets/base",
            "_view_module_version": "1.2.0",
            "_view_name": "StyleView",
            "description_width": ""
          }
        },
        "e86e61d388b64f48b3702328d4973b9c": {
          "model_module": "@jupyter-widgets/base",
          "model_name": "LayoutModel",
          "model_module_version": "1.2.0",
          "state": {
            "_model_module": "@jupyter-widgets/base",
            "_model_module_version": "1.2.0",
            "_model_name": "LayoutModel",
            "_view_count": null,
            "_view_module": "@jupyter-widgets/base",
            "_view_module_version": "1.2.0",
            "_view_name": "LayoutView",
            "align_content": null,
            "align_items": null,
            "align_self": null,
            "border": null,
            "bottom": null,
            "display": null,
            "flex": null,
            "flex_flow": null,
            "grid_area": null,
            "grid_auto_columns": null,
            "grid_auto_flow": null,
            "grid_auto_rows": null,
            "grid_column": null,
            "grid_gap": null,
            "grid_row": null,
            "grid_template_areas": null,
            "grid_template_columns": null,
            "grid_template_rows": null,
            "height": null,
            "justify_content": null,
            "justify_items": null,
            "left": null,
            "margin": null,
            "max_height": null,
            "max_width": null,
            "min_height": null,
            "min_width": null,
            "object_fit": null,
            "object_position": null,
            "order": null,
            "overflow": null,
            "overflow_x": null,
            "overflow_y": null,
            "padding": null,
            "right": null,
            "top": null,
            "visibility": null,
            "width": null
          }
        },
        "6276dda1670d4733aad51e0a9eee9edd": {
          "model_module": "@jupyter-widgets/controls",
          "model_name": "ProgressStyleModel",
          "model_module_version": "1.5.0",
          "state": {
            "_model_module": "@jupyter-widgets/controls",
            "_model_module_version": "1.5.0",
            "_model_name": "ProgressStyleModel",
            "_view_count": null,
            "_view_module": "@jupyter-widgets/base",
            "_view_module_version": "1.2.0",
            "_view_name": "StyleView",
            "bar_color": null,
            "description_width": ""
          }
        },
        "30d3f438ff524d92a726254260bd9de5": {
          "model_module": "@jupyter-widgets/base",
          "model_name": "LayoutModel",
          "model_module_version": "1.2.0",
          "state": {
            "_model_module": "@jupyter-widgets/base",
            "_model_module_version": "1.2.0",
            "_model_name": "LayoutModel",
            "_view_count": null,
            "_view_module": "@jupyter-widgets/base",
            "_view_module_version": "1.2.0",
            "_view_name": "LayoutView",
            "align_content": null,
            "align_items": null,
            "align_self": null,
            "border": null,
            "bottom": null,
            "display": null,
            "flex": null,
            "flex_flow": null,
            "grid_area": null,
            "grid_auto_columns": null,
            "grid_auto_flow": null,
            "grid_auto_rows": null,
            "grid_column": null,
            "grid_gap": null,
            "grid_row": null,
            "grid_template_areas": null,
            "grid_template_columns": null,
            "grid_template_rows": null,
            "height": null,
            "justify_content": null,
            "justify_items": null,
            "left": null,
            "margin": null,
            "max_height": null,
            "max_width": null,
            "min_height": null,
            "min_width": null,
            "object_fit": null,
            "object_position": null,
            "order": null,
            "overflow": null,
            "overflow_x": null,
            "overflow_y": null,
            "padding": null,
            "right": null,
            "top": null,
            "visibility": null,
            "width": null
          }
        },
        "6addd2f0ffdc4f25bed077d72639f738": {
          "model_module": "@jupyter-widgets/controls",
          "model_name": "DescriptionStyleModel",
          "model_module_version": "1.5.0",
          "state": {
            "_model_module": "@jupyter-widgets/controls",
            "_model_module_version": "1.5.0",
            "_model_name": "DescriptionStyleModel",
            "_view_count": null,
            "_view_module": "@jupyter-widgets/base",
            "_view_module_version": "1.2.0",
            "_view_name": "StyleView",
            "description_width": ""
          }
        },
        "b02c4a90855e41ada912189b52aa5efc": {
          "model_module": "@jupyter-widgets/controls",
          "model_name": "HBoxModel",
          "model_module_version": "1.5.0",
          "state": {
            "_dom_classes": [],
            "_model_module": "@jupyter-widgets/controls",
            "_model_module_version": "1.5.0",
            "_model_name": "HBoxModel",
            "_view_count": null,
            "_view_module": "@jupyter-widgets/controls",
            "_view_module_version": "1.5.0",
            "_view_name": "HBoxView",
            "box_style": "",
            "children": [
              "IPY_MODEL_4037787cdb684df39e861e6e81c59a40",
              "IPY_MODEL_01eb8856d3064ebe91efb630ccbbf2b4",
              "IPY_MODEL_b12e281ec3e046d6b8eedd4a3ae00e9d"
            ],
            "layout": "IPY_MODEL_a8970d63bd4a4c58b74cffcb9816e4d2"
          }
        },
        "4037787cdb684df39e861e6e81c59a40": {
          "model_module": "@jupyter-widgets/controls",
          "model_name": "HTMLModel",
          "model_module_version": "1.5.0",
          "state": {
            "_dom_classes": [],
            "_model_module": "@jupyter-widgets/controls",
            "_model_module_version": "1.5.0",
            "_model_name": "HTMLModel",
            "_view_count": null,
            "_view_module": "@jupyter-widgets/controls",
            "_view_module_version": "1.5.0",
            "_view_name": "HTMLView",
            "description": "",
            "description_tooltip": null,
            "layout": "IPY_MODEL_b6555ceed5e9440e880a2de94b4991c5",
            "placeholder": "​",
            "style": "IPY_MODEL_074d5beef8f143f5b3c3bf13a7e08b9b",
            "value": "Downloading (…)7f436/tokenizer.json: 100%"
          }
        },
        "01eb8856d3064ebe91efb630ccbbf2b4": {
          "model_module": "@jupyter-widgets/controls",
          "model_name": "FloatProgressModel",
          "model_module_version": "1.5.0",
          "state": {
            "_dom_classes": [],
            "_model_module": "@jupyter-widgets/controls",
            "_model_module_version": "1.5.0",
            "_model_name": "FloatProgressModel",
            "_view_count": null,
            "_view_module": "@jupyter-widgets/controls",
            "_view_module_version": "1.5.0",
            "_view_name": "ProgressView",
            "bar_style": "success",
            "description": "",
            "description_tooltip": null,
            "layout": "IPY_MODEL_3fbc3369129144b8bcd4c4703da1defd",
            "max": 2422360,
            "min": 0,
            "orientation": "horizontal",
            "style": "IPY_MODEL_1d5927936bbb4b24946fbfecfed5b7d8",
            "value": 2422360
          }
        },
        "b12e281ec3e046d6b8eedd4a3ae00e9d": {
          "model_module": "@jupyter-widgets/controls",
          "model_name": "HTMLModel",
          "model_module_version": "1.5.0",
          "state": {
            "_dom_classes": [],
            "_model_module": "@jupyter-widgets/controls",
            "_model_module_version": "1.5.0",
            "_model_name": "HTMLModel",
            "_view_count": null,
            "_view_module": "@jupyter-widgets/controls",
            "_view_module_version": "1.5.0",
            "_view_name": "HTMLView",
            "description": "",
            "description_tooltip": null,
            "layout": "IPY_MODEL_d70ccff1350d46c6baf6e214b349e634",
            "placeholder": "​",
            "style": "IPY_MODEL_87c8251cccb3454f98785727d2cad7a9",
            "value": " 2.42M/2.42M [00:00&lt;00:00, 10.6MB/s]"
          }
        },
        "a8970d63bd4a4c58b74cffcb9816e4d2": {
          "model_module": "@jupyter-widgets/base",
          "model_name": "LayoutModel",
          "model_module_version": "1.2.0",
          "state": {
            "_model_module": "@jupyter-widgets/base",
            "_model_module_version": "1.2.0",
            "_model_name": "LayoutModel",
            "_view_count": null,
            "_view_module": "@jupyter-widgets/base",
            "_view_module_version": "1.2.0",
            "_view_name": "LayoutView",
            "align_content": null,
            "align_items": null,
            "align_self": null,
            "border": null,
            "bottom": null,
            "display": null,
            "flex": null,
            "flex_flow": null,
            "grid_area": null,
            "grid_auto_columns": null,
            "grid_auto_flow": null,
            "grid_auto_rows": null,
            "grid_column": null,
            "grid_gap": null,
            "grid_row": null,
            "grid_template_areas": null,
            "grid_template_columns": null,
            "grid_template_rows": null,
            "height": null,
            "justify_content": null,
            "justify_items": null,
            "left": null,
            "margin": null,
            "max_height": null,
            "max_width": null,
            "min_height": null,
            "min_width": null,
            "object_fit": null,
            "object_position": null,
            "order": null,
            "overflow": null,
            "overflow_x": null,
            "overflow_y": null,
            "padding": null,
            "right": null,
            "top": null,
            "visibility": null,
            "width": null
          }
        },
        "b6555ceed5e9440e880a2de94b4991c5": {
          "model_module": "@jupyter-widgets/base",
          "model_name": "LayoutModel",
          "model_module_version": "1.2.0",
          "state": {
            "_model_module": "@jupyter-widgets/base",
            "_model_module_version": "1.2.0",
            "_model_name": "LayoutModel",
            "_view_count": null,
            "_view_module": "@jupyter-widgets/base",
            "_view_module_version": "1.2.0",
            "_view_name": "LayoutView",
            "align_content": null,
            "align_items": null,
            "align_self": null,
            "border": null,
            "bottom": null,
            "display": null,
            "flex": null,
            "flex_flow": null,
            "grid_area": null,
            "grid_auto_columns": null,
            "grid_auto_flow": null,
            "grid_auto_rows": null,
            "grid_column": null,
            "grid_gap": null,
            "grid_row": null,
            "grid_template_areas": null,
            "grid_template_columns": null,
            "grid_template_rows": null,
            "height": null,
            "justify_content": null,
            "justify_items": null,
            "left": null,
            "margin": null,
            "max_height": null,
            "max_width": null,
            "min_height": null,
            "min_width": null,
            "object_fit": null,
            "object_position": null,
            "order": null,
            "overflow": null,
            "overflow_x": null,
            "overflow_y": null,
            "padding": null,
            "right": null,
            "top": null,
            "visibility": null,
            "width": null
          }
        },
        "074d5beef8f143f5b3c3bf13a7e08b9b": {
          "model_module": "@jupyter-widgets/controls",
          "model_name": "DescriptionStyleModel",
          "model_module_version": "1.5.0",
          "state": {
            "_model_module": "@jupyter-widgets/controls",
            "_model_module_version": "1.5.0",
            "_model_name": "DescriptionStyleModel",
            "_view_count": null,
            "_view_module": "@jupyter-widgets/base",
            "_view_module_version": "1.2.0",
            "_view_name": "StyleView",
            "description_width": ""
          }
        },
        "3fbc3369129144b8bcd4c4703da1defd": {
          "model_module": "@jupyter-widgets/base",
          "model_name": "LayoutModel",
          "model_module_version": "1.2.0",
          "state": {
            "_model_module": "@jupyter-widgets/base",
            "_model_module_version": "1.2.0",
            "_model_name": "LayoutModel",
            "_view_count": null,
            "_view_module": "@jupyter-widgets/base",
            "_view_module_version": "1.2.0",
            "_view_name": "LayoutView",
            "align_content": null,
            "align_items": null,
            "align_self": null,
            "border": null,
            "bottom": null,
            "display": null,
            "flex": null,
            "flex_flow": null,
            "grid_area": null,
            "grid_auto_columns": null,
            "grid_auto_flow": null,
            "grid_auto_rows": null,
            "grid_column": null,
            "grid_gap": null,
            "grid_row": null,
            "grid_template_areas": null,
            "grid_template_columns": null,
            "grid_template_rows": null,
            "height": null,
            "justify_content": null,
            "justify_items": null,
            "left": null,
            "margin": null,
            "max_height": null,
            "max_width": null,
            "min_height": null,
            "min_width": null,
            "object_fit": null,
            "object_position": null,
            "order": null,
            "overflow": null,
            "overflow_x": null,
            "overflow_y": null,
            "padding": null,
            "right": null,
            "top": null,
            "visibility": null,
            "width": null
          }
        },
        "1d5927936bbb4b24946fbfecfed5b7d8": {
          "model_module": "@jupyter-widgets/controls",
          "model_name": "ProgressStyleModel",
          "model_module_version": "1.5.0",
          "state": {
            "_model_module": "@jupyter-widgets/controls",
            "_model_module_version": "1.5.0",
            "_model_name": "ProgressStyleModel",
            "_view_count": null,
            "_view_module": "@jupyter-widgets/base",
            "_view_module_version": "1.2.0",
            "_view_name": "StyleView",
            "bar_color": null,
            "description_width": ""
          }
        },
        "d70ccff1350d46c6baf6e214b349e634": {
          "model_module": "@jupyter-widgets/base",
          "model_name": "LayoutModel",
          "model_module_version": "1.2.0",
          "state": {
            "_model_module": "@jupyter-widgets/base",
            "_model_module_version": "1.2.0",
            "_model_name": "LayoutModel",
            "_view_count": null,
            "_view_module": "@jupyter-widgets/base",
            "_view_module_version": "1.2.0",
            "_view_name": "LayoutView",
            "align_content": null,
            "align_items": null,
            "align_self": null,
            "border": null,
            "bottom": null,
            "display": null,
            "flex": null,
            "flex_flow": null,
            "grid_area": null,
            "grid_auto_columns": null,
            "grid_auto_flow": null,
            "grid_auto_rows": null,
            "grid_column": null,
            "grid_gap": null,
            "grid_row": null,
            "grid_template_areas": null,
            "grid_template_columns": null,
            "grid_template_rows": null,
            "height": null,
            "justify_content": null,
            "justify_items": null,
            "left": null,
            "margin": null,
            "max_height": null,
            "max_width": null,
            "min_height": null,
            "min_width": null,
            "object_fit": null,
            "object_position": null,
            "order": null,
            "overflow": null,
            "overflow_x": null,
            "overflow_y": null,
            "padding": null,
            "right": null,
            "top": null,
            "visibility": null,
            "width": null
          }
        },
        "87c8251cccb3454f98785727d2cad7a9": {
          "model_module": "@jupyter-widgets/controls",
          "model_name": "DescriptionStyleModel",
          "model_module_version": "1.5.0",
          "state": {
            "_model_module": "@jupyter-widgets/controls",
            "_model_module_version": "1.5.0",
            "_model_name": "DescriptionStyleModel",
            "_view_count": null,
            "_view_module": "@jupyter-widgets/base",
            "_view_module_version": "1.2.0",
            "_view_name": "StyleView",
            "description_width": ""
          }
        },
        "96515e2aea1642d4b39a76c6b5bd0d53": {
          "model_module": "@jupyter-widgets/controls",
          "model_name": "HBoxModel",
          "model_module_version": "1.5.0",
          "state": {
            "_dom_classes": [],
            "_model_module": "@jupyter-widgets/controls",
            "_model_module_version": "1.5.0",
            "_model_name": "HBoxModel",
            "_view_count": null,
            "_view_module": "@jupyter-widgets/controls",
            "_view_module_version": "1.5.0",
            "_view_name": "HBoxView",
            "box_style": "",
            "children": [
              "IPY_MODEL_ac65ad1822484991b8a990d4852fb50b",
              "IPY_MODEL_3d11d3741904427e8a33e2546e01fe42",
              "IPY_MODEL_a44410a64eee47a09d5dceb3f9334db2"
            ],
            "layout": "IPY_MODEL_f864646063764052a7c8eb64fab49b46"
          }
        },
        "ac65ad1822484991b8a990d4852fb50b": {
          "model_module": "@jupyter-widgets/controls",
          "model_name": "HTMLModel",
          "model_module_version": "1.5.0",
          "state": {
            "_dom_classes": [],
            "_model_module": "@jupyter-widgets/controls",
            "_model_module_version": "1.5.0",
            "_model_name": "HTMLModel",
            "_view_count": null,
            "_view_module": "@jupyter-widgets/controls",
            "_view_module_version": "1.5.0",
            "_view_name": "HTMLView",
            "description": "",
            "description_tooltip": null,
            "layout": "IPY_MODEL_47094ff08e434fc19af2131a595c980f",
            "placeholder": "​",
            "style": "IPY_MODEL_288f80a959f244f99dfffd22c84a4898",
            "value": "Downloading (…)okenizer_config.json: 100%"
          }
        },
        "3d11d3741904427e8a33e2546e01fe42": {
          "model_module": "@jupyter-widgets/controls",
          "model_name": "FloatProgressModel",
          "model_module_version": "1.5.0",
          "state": {
            "_dom_classes": [],
            "_model_module": "@jupyter-widgets/controls",
            "_model_module_version": "1.5.0",
            "_model_name": "FloatProgressModel",
            "_view_count": null,
            "_view_module": "@jupyter-widgets/controls",
            "_view_module_version": "1.5.0",
            "_view_name": "ProgressView",
            "bar_style": "success",
            "description": "",
            "description_tooltip": null,
            "layout": "IPY_MODEL_f4af83f1c28c4bb8b81d1df7b1bbda45",
            "max": 2397,
            "min": 0,
            "orientation": "horizontal",
            "style": "IPY_MODEL_40c7598093f84e6b8bb40c68f6269174",
            "value": 2397
          }
        },
        "a44410a64eee47a09d5dceb3f9334db2": {
          "model_module": "@jupyter-widgets/controls",
          "model_name": "HTMLModel",
          "model_module_version": "1.5.0",
          "state": {
            "_dom_classes": [],
            "_model_module": "@jupyter-widgets/controls",
            "_model_module_version": "1.5.0",
            "_model_name": "HTMLModel",
            "_view_count": null,
            "_view_module": "@jupyter-widgets/controls",
            "_view_module_version": "1.5.0",
            "_view_name": "HTMLView",
            "description": "",
            "description_tooltip": null,
            "layout": "IPY_MODEL_630349d145ef4272add8d773e15431e8",
            "placeholder": "​",
            "style": "IPY_MODEL_bec7e1dca6654a46ac0bbf8a919298c4",
            "value": " 2.40k/2.40k [00:00&lt;00:00, 183kB/s]"
          }
        },
        "f864646063764052a7c8eb64fab49b46": {
          "model_module": "@jupyter-widgets/base",
          "model_name": "LayoutModel",
          "model_module_version": "1.2.0",
          "state": {
            "_model_module": "@jupyter-widgets/base",
            "_model_module_version": "1.2.0",
            "_model_name": "LayoutModel",
            "_view_count": null,
            "_view_module": "@jupyter-widgets/base",
            "_view_module_version": "1.2.0",
            "_view_name": "LayoutView",
            "align_content": null,
            "align_items": null,
            "align_self": null,
            "border": null,
            "bottom": null,
            "display": null,
            "flex": null,
            "flex_flow": null,
            "grid_area": null,
            "grid_auto_columns": null,
            "grid_auto_flow": null,
            "grid_auto_rows": null,
            "grid_column": null,
            "grid_gap": null,
            "grid_row": null,
            "grid_template_areas": null,
            "grid_template_columns": null,
            "grid_template_rows": null,
            "height": null,
            "justify_content": null,
            "justify_items": null,
            "left": null,
            "margin": null,
            "max_height": null,
            "max_width": null,
            "min_height": null,
            "min_width": null,
            "object_fit": null,
            "object_position": null,
            "order": null,
            "overflow": null,
            "overflow_x": null,
            "overflow_y": null,
            "padding": null,
            "right": null,
            "top": null,
            "visibility": null,
            "width": null
          }
        },
        "47094ff08e434fc19af2131a595c980f": {
          "model_module": "@jupyter-widgets/base",
          "model_name": "LayoutModel",
          "model_module_version": "1.2.0",
          "state": {
            "_model_module": "@jupyter-widgets/base",
            "_model_module_version": "1.2.0",
            "_model_name": "LayoutModel",
            "_view_count": null,
            "_view_module": "@jupyter-widgets/base",
            "_view_module_version": "1.2.0",
            "_view_name": "LayoutView",
            "align_content": null,
            "align_items": null,
            "align_self": null,
            "border": null,
            "bottom": null,
            "display": null,
            "flex": null,
            "flex_flow": null,
            "grid_area": null,
            "grid_auto_columns": null,
            "grid_auto_flow": null,
            "grid_auto_rows": null,
            "grid_column": null,
            "grid_gap": null,
            "grid_row": null,
            "grid_template_areas": null,
            "grid_template_columns": null,
            "grid_template_rows": null,
            "height": null,
            "justify_content": null,
            "justify_items": null,
            "left": null,
            "margin": null,
            "max_height": null,
            "max_width": null,
            "min_height": null,
            "min_width": null,
            "object_fit": null,
            "object_position": null,
            "order": null,
            "overflow": null,
            "overflow_x": null,
            "overflow_y": null,
            "padding": null,
            "right": null,
            "top": null,
            "visibility": null,
            "width": null
          }
        },
        "288f80a959f244f99dfffd22c84a4898": {
          "model_module": "@jupyter-widgets/controls",
          "model_name": "DescriptionStyleModel",
          "model_module_version": "1.5.0",
          "state": {
            "_model_module": "@jupyter-widgets/controls",
            "_model_module_version": "1.5.0",
            "_model_name": "DescriptionStyleModel",
            "_view_count": null,
            "_view_module": "@jupyter-widgets/base",
            "_view_module_version": "1.2.0",
            "_view_name": "StyleView",
            "description_width": ""
          }
        },
        "f4af83f1c28c4bb8b81d1df7b1bbda45": {
          "model_module": "@jupyter-widgets/base",
          "model_name": "LayoutModel",
          "model_module_version": "1.2.0",
          "state": {
            "_model_module": "@jupyter-widgets/base",
            "_model_module_version": "1.2.0",
            "_model_name": "LayoutModel",
            "_view_count": null,
            "_view_module": "@jupyter-widgets/base",
            "_view_module_version": "1.2.0",
            "_view_name": "LayoutView",
            "align_content": null,
            "align_items": null,
            "align_self": null,
            "border": null,
            "bottom": null,
            "display": null,
            "flex": null,
            "flex_flow": null,
            "grid_area": null,
            "grid_auto_columns": null,
            "grid_auto_flow": null,
            "grid_auto_rows": null,
            "grid_column": null,
            "grid_gap": null,
            "grid_row": null,
            "grid_template_areas": null,
            "grid_template_columns": null,
            "grid_template_rows": null,
            "height": null,
            "justify_content": null,
            "justify_items": null,
            "left": null,
            "margin": null,
            "max_height": null,
            "max_width": null,
            "min_height": null,
            "min_width": null,
            "object_fit": null,
            "object_position": null,
            "order": null,
            "overflow": null,
            "overflow_x": null,
            "overflow_y": null,
            "padding": null,
            "right": null,
            "top": null,
            "visibility": null,
            "width": null
          }
        },
        "40c7598093f84e6b8bb40c68f6269174": {
          "model_module": "@jupyter-widgets/controls",
          "model_name": "ProgressStyleModel",
          "model_module_version": "1.5.0",
          "state": {
            "_model_module": "@jupyter-widgets/controls",
            "_model_module_version": "1.5.0",
            "_model_name": "ProgressStyleModel",
            "_view_count": null,
            "_view_module": "@jupyter-widgets/base",
            "_view_module_version": "1.2.0",
            "_view_name": "StyleView",
            "bar_color": null,
            "description_width": ""
          }
        },
        "630349d145ef4272add8d773e15431e8": {
          "model_module": "@jupyter-widgets/base",
          "model_name": "LayoutModel",
          "model_module_version": "1.2.0",
          "state": {
            "_model_module": "@jupyter-widgets/base",
            "_model_module_version": "1.2.0",
            "_model_name": "LayoutModel",
            "_view_count": null,
            "_view_module": "@jupyter-widgets/base",
            "_view_module_version": "1.2.0",
            "_view_name": "LayoutView",
            "align_content": null,
            "align_items": null,
            "align_self": null,
            "border": null,
            "bottom": null,
            "display": null,
            "flex": null,
            "flex_flow": null,
            "grid_area": null,
            "grid_auto_columns": null,
            "grid_auto_flow": null,
            "grid_auto_rows": null,
            "grid_column": null,
            "grid_gap": null,
            "grid_row": null,
            "grid_template_areas": null,
            "grid_template_columns": null,
            "grid_template_rows": null,
            "height": null,
            "justify_content": null,
            "justify_items": null,
            "left": null,
            "margin": null,
            "max_height": null,
            "max_width": null,
            "min_height": null,
            "min_width": null,
            "object_fit": null,
            "object_position": null,
            "order": null,
            "overflow": null,
            "overflow_x": null,
            "overflow_y": null,
            "padding": null,
            "right": null,
            "top": null,
            "visibility": null,
            "width": null
          }
        },
        "bec7e1dca6654a46ac0bbf8a919298c4": {
          "model_module": "@jupyter-widgets/controls",
          "model_name": "DescriptionStyleModel",
          "model_module_version": "1.5.0",
          "state": {
            "_model_module": "@jupyter-widgets/controls",
            "_model_module_version": "1.5.0",
            "_model_name": "DescriptionStyleModel",
            "_view_count": null,
            "_view_module": "@jupyter-widgets/base",
            "_view_module_version": "1.2.0",
            "_view_name": "StyleView",
            "description_width": ""
          }
        },
        "46c35e8df3964b1ca3d5580f87e73bfb": {
          "model_module": "@jupyter-widgets/controls",
          "model_name": "HBoxModel",
          "model_module_version": "1.5.0",
          "state": {
            "_dom_classes": [],
            "_model_module": "@jupyter-widgets/controls",
            "_model_module_version": "1.5.0",
            "_model_name": "HBoxModel",
            "_view_count": null,
            "_view_module": "@jupyter-widgets/controls",
            "_view_module_version": "1.5.0",
            "_view_name": "HBoxView",
            "box_style": "",
            "children": [
              "IPY_MODEL_ade267d07edb4d21adfd596f8b1aed57",
              "IPY_MODEL_d0a116df59814f9cb328ea5817c6873b",
              "IPY_MODEL_d93ad407732f4df787b57927d58b3870"
            ],
            "layout": "IPY_MODEL_55eee1d93504453f9fdbb5398b7d5cb0"
          }
        },
        "ade267d07edb4d21adfd596f8b1aed57": {
          "model_module": "@jupyter-widgets/controls",
          "model_name": "HTMLModel",
          "model_module_version": "1.5.0",
          "state": {
            "_dom_classes": [],
            "_model_module": "@jupyter-widgets/controls",
            "_model_module_version": "1.5.0",
            "_model_name": "HTMLModel",
            "_view_count": null,
            "_view_module": "@jupyter-widgets/controls",
            "_view_module_version": "1.5.0",
            "_view_name": "HTMLView",
            "description": "",
            "description_tooltip": null,
            "layout": "IPY_MODEL_92e11a4c43934ecebf2ad942353f0ab0",
            "placeholder": "​",
            "style": "IPY_MODEL_6db850043c5249dc8b393b1e29d4bb6c",
            "value": "Downloading (…)f57f436/modules.json: 100%"
          }
        },
        "d0a116df59814f9cb328ea5817c6873b": {
          "model_module": "@jupyter-widgets/controls",
          "model_name": "FloatProgressModel",
          "model_module_version": "1.5.0",
          "state": {
            "_dom_classes": [],
            "_model_module": "@jupyter-widgets/controls",
            "_model_module_version": "1.5.0",
            "_model_name": "FloatProgressModel",
            "_view_count": null,
            "_view_module": "@jupyter-widgets/controls",
            "_view_module_version": "1.5.0",
            "_view_name": "ProgressView",
            "bar_style": "success",
            "description": "",
            "description_tooltip": null,
            "layout": "IPY_MODEL_b9b921278fee4aadb697ec5959cb3f1f",
            "max": 461,
            "min": 0,
            "orientation": "horizontal",
            "style": "IPY_MODEL_29f7db20f47f4a8788db116cbfa05858",
            "value": 461
          }
        },
        "d93ad407732f4df787b57927d58b3870": {
          "model_module": "@jupyter-widgets/controls",
          "model_name": "HTMLModel",
          "model_module_version": "1.5.0",
          "state": {
            "_dom_classes": [],
            "_model_module": "@jupyter-widgets/controls",
            "_model_module_version": "1.5.0",
            "_model_name": "HTMLModel",
            "_view_count": null,
            "_view_module": "@jupyter-widgets/controls",
            "_view_module_version": "1.5.0",
            "_view_name": "HTMLView",
            "description": "",
            "description_tooltip": null,
            "layout": "IPY_MODEL_8963c95f028e4df3938a58685cd281ae",
            "placeholder": "​",
            "style": "IPY_MODEL_f509c077ac484950a78e34812fd8083a",
            "value": " 461/461 [00:00&lt;00:00, 29.5kB/s]"
          }
        },
        "55eee1d93504453f9fdbb5398b7d5cb0": {
          "model_module": "@jupyter-widgets/base",
          "model_name": "LayoutModel",
          "model_module_version": "1.2.0",
          "state": {
            "_model_module": "@jupyter-widgets/base",
            "_model_module_version": "1.2.0",
            "_model_name": "LayoutModel",
            "_view_count": null,
            "_view_module": "@jupyter-widgets/base",
            "_view_module_version": "1.2.0",
            "_view_name": "LayoutView",
            "align_content": null,
            "align_items": null,
            "align_self": null,
            "border": null,
            "bottom": null,
            "display": null,
            "flex": null,
            "flex_flow": null,
            "grid_area": null,
            "grid_auto_columns": null,
            "grid_auto_flow": null,
            "grid_auto_rows": null,
            "grid_column": null,
            "grid_gap": null,
            "grid_row": null,
            "grid_template_areas": null,
            "grid_template_columns": null,
            "grid_template_rows": null,
            "height": null,
            "justify_content": null,
            "justify_items": null,
            "left": null,
            "margin": null,
            "max_height": null,
            "max_width": null,
            "min_height": null,
            "min_width": null,
            "object_fit": null,
            "object_position": null,
            "order": null,
            "overflow": null,
            "overflow_x": null,
            "overflow_y": null,
            "padding": null,
            "right": null,
            "top": null,
            "visibility": null,
            "width": null
          }
        },
        "92e11a4c43934ecebf2ad942353f0ab0": {
          "model_module": "@jupyter-widgets/base",
          "model_name": "LayoutModel",
          "model_module_version": "1.2.0",
          "state": {
            "_model_module": "@jupyter-widgets/base",
            "_model_module_version": "1.2.0",
            "_model_name": "LayoutModel",
            "_view_count": null,
            "_view_module": "@jupyter-widgets/base",
            "_view_module_version": "1.2.0",
            "_view_name": "LayoutView",
            "align_content": null,
            "align_items": null,
            "align_self": null,
            "border": null,
            "bottom": null,
            "display": null,
            "flex": null,
            "flex_flow": null,
            "grid_area": null,
            "grid_auto_columns": null,
            "grid_auto_flow": null,
            "grid_auto_rows": null,
            "grid_column": null,
            "grid_gap": null,
            "grid_row": null,
            "grid_template_areas": null,
            "grid_template_columns": null,
            "grid_template_rows": null,
            "height": null,
            "justify_content": null,
            "justify_items": null,
            "left": null,
            "margin": null,
            "max_height": null,
            "max_width": null,
            "min_height": null,
            "min_width": null,
            "object_fit": null,
            "object_position": null,
            "order": null,
            "overflow": null,
            "overflow_x": null,
            "overflow_y": null,
            "padding": null,
            "right": null,
            "top": null,
            "visibility": null,
            "width": null
          }
        },
        "6db850043c5249dc8b393b1e29d4bb6c": {
          "model_module": "@jupyter-widgets/controls",
          "model_name": "DescriptionStyleModel",
          "model_module_version": "1.5.0",
          "state": {
            "_model_module": "@jupyter-widgets/controls",
            "_model_module_version": "1.5.0",
            "_model_name": "DescriptionStyleModel",
            "_view_count": null,
            "_view_module": "@jupyter-widgets/base",
            "_view_module_version": "1.2.0",
            "_view_name": "StyleView",
            "description_width": ""
          }
        },
        "b9b921278fee4aadb697ec5959cb3f1f": {
          "model_module": "@jupyter-widgets/base",
          "model_name": "LayoutModel",
          "model_module_version": "1.2.0",
          "state": {
            "_model_module": "@jupyter-widgets/base",
            "_model_module_version": "1.2.0",
            "_model_name": "LayoutModel",
            "_view_count": null,
            "_view_module": "@jupyter-widgets/base",
            "_view_module_version": "1.2.0",
            "_view_name": "LayoutView",
            "align_content": null,
            "align_items": null,
            "align_self": null,
            "border": null,
            "bottom": null,
            "display": null,
            "flex": null,
            "flex_flow": null,
            "grid_area": null,
            "grid_auto_columns": null,
            "grid_auto_flow": null,
            "grid_auto_rows": null,
            "grid_column": null,
            "grid_gap": null,
            "grid_row": null,
            "grid_template_areas": null,
            "grid_template_columns": null,
            "grid_template_rows": null,
            "height": null,
            "justify_content": null,
            "justify_items": null,
            "left": null,
            "margin": null,
            "max_height": null,
            "max_width": null,
            "min_height": null,
            "min_width": null,
            "object_fit": null,
            "object_position": null,
            "order": null,
            "overflow": null,
            "overflow_x": null,
            "overflow_y": null,
            "padding": null,
            "right": null,
            "top": null,
            "visibility": null,
            "width": null
          }
        },
        "29f7db20f47f4a8788db116cbfa05858": {
          "model_module": "@jupyter-widgets/controls",
          "model_name": "ProgressStyleModel",
          "model_module_version": "1.5.0",
          "state": {
            "_model_module": "@jupyter-widgets/controls",
            "_model_module_version": "1.5.0",
            "_model_name": "ProgressStyleModel",
            "_view_count": null,
            "_view_module": "@jupyter-widgets/base",
            "_view_module_version": "1.2.0",
            "_view_name": "StyleView",
            "bar_color": null,
            "description_width": ""
          }
        },
        "8963c95f028e4df3938a58685cd281ae": {
          "model_module": "@jupyter-widgets/base",
          "model_name": "LayoutModel",
          "model_module_version": "1.2.0",
          "state": {
            "_model_module": "@jupyter-widgets/base",
            "_model_module_version": "1.2.0",
            "_model_name": "LayoutModel",
            "_view_count": null,
            "_view_module": "@jupyter-widgets/base",
            "_view_module_version": "1.2.0",
            "_view_name": "LayoutView",
            "align_content": null,
            "align_items": null,
            "align_self": null,
            "border": null,
            "bottom": null,
            "display": null,
            "flex": null,
            "flex_flow": null,
            "grid_area": null,
            "grid_auto_columns": null,
            "grid_auto_flow": null,
            "grid_auto_rows": null,
            "grid_column": null,
            "grid_gap": null,
            "grid_row": null,
            "grid_template_areas": null,
            "grid_template_columns": null,
            "grid_template_rows": null,
            "height": null,
            "justify_content": null,
            "justify_items": null,
            "left": null,
            "margin": null,
            "max_height": null,
            "max_width": null,
            "min_height": null,
            "min_width": null,
            "object_fit": null,
            "object_position": null,
            "order": null,
            "overflow": null,
            "overflow_x": null,
            "overflow_y": null,
            "padding": null,
            "right": null,
            "top": null,
            "visibility": null,
            "width": null
          }
        },
        "f509c077ac484950a78e34812fd8083a": {
          "model_module": "@jupyter-widgets/controls",
          "model_name": "DescriptionStyleModel",
          "model_module_version": "1.5.0",
          "state": {
            "_model_module": "@jupyter-widgets/controls",
            "_model_module_version": "1.5.0",
            "_model_name": "DescriptionStyleModel",
            "_view_count": null,
            "_view_module": "@jupyter-widgets/base",
            "_view_module_version": "1.2.0",
            "_view_name": "StyleView",
            "description_width": ""
          }
        }
      }
    }
  },
  "cells": [
    {
      "cell_type": "markdown",
      "metadata": {
        "id": "view-in-github",
        "colab_type": "text"
      },
      "source": [
        "<a href=\"https://colab.research.google.com/github/TollanBerhanu/Semantic-search-on-Slack/blob/main/Slack_Semantic_Search_(Instructor_Embeddings_%2B_Chroma_DB_%2B_LLaMA2_7B).ipynb\" target=\"_parent\"><img src=\"https://colab.research.google.com/assets/colab-badge.svg\" alt=\"Open In Colab\"/></a>"
      ]
    },
    {
      "cell_type": "code",
      "source": [
        "!pip install gitpython"
      ],
      "metadata": {
        "colab": {
          "base_uri": "https://localhost:8080/"
        },
        "id": "hPWwTMsTDhZ1",
        "outputId": "10b6b815-4991-48b4-b222-3cb404f77a53"
      },
      "execution_count": 1,
      "outputs": [
        {
          "output_type": "stream",
          "name": "stdout",
          "text": [
            "Collecting gitpython\n",
            "  Downloading GitPython-3.1.32-py3-none-any.whl (188 kB)\n",
            "\u001b[2K     \u001b[90m━━━━━━━━━━━━━━━━━━━━━━━━━━━━━━━━━━━━━━━\u001b[0m \u001b[32m188.5/188.5 kB\u001b[0m \u001b[31m2.5 MB/s\u001b[0m eta \u001b[36m0:00:00\u001b[0m\n",
            "\u001b[?25hCollecting gitdb<5,>=4.0.1 (from gitpython)\n",
            "  Downloading gitdb-4.0.10-py3-none-any.whl (62 kB)\n",
            "\u001b[2K     \u001b[90m━━━━━━━━━━━━━━━━━━━━━━━━━━━━━━━━━━━━━━━━\u001b[0m \u001b[32m62.7/62.7 kB\u001b[0m \u001b[31m9.9 MB/s\u001b[0m eta \u001b[36m0:00:00\u001b[0m\n",
            "\u001b[?25hCollecting smmap<6,>=3.0.1 (from gitdb<5,>=4.0.1->gitpython)\n",
            "  Downloading smmap-5.0.0-py3-none-any.whl (24 kB)\n",
            "Installing collected packages: smmap, gitdb, gitpython\n",
            "Successfully installed gitdb-4.0.10 gitpython-3.1.32 smmap-5.0.0\n"
          ]
        }
      ]
    },
    {
      "cell_type": "code",
      "source": [
        "import git\n",
        "import json\n",
        "import os\n",
        "import pandas as pd\n",
        "\n",
        "repo_url = \"https://github.com/TollanBerhanu/MatterMost-LLM-test-Slack-export-Jun-19-2023---Jun-20-2023.git\"\n",
        "slack_data_path = \"/content/slackdata/\"\n",
        "# slack_data_path = '/content/drive/MyDrive/Colab Notebooks/dataset/slack-data/'\n",
        "\n",
        "git.Repo.clone_from(repo_url, slack_data_path)"
      ],
      "metadata": {
        "colab": {
          "base_uri": "https://localhost:8080/"
        },
        "id": "mnp8_O_4DiuV",
        "outputId": "a89dcd6b-8487-4143-c41f-087991dac36c"
      },
      "execution_count": 2,
      "outputs": [
        {
          "output_type": "execute_result",
          "data": {
            "text/plain": [
              "<git.repo.base.Repo '/content/slackdata/.git'>"
            ]
          },
          "metadata": {},
          "execution_count": 2
        }
      ]
    },
    {
      "cell_type": "code",
      "source": [
        "slack_data_path = \"/content/slackdata/\""
      ],
      "metadata": {
        "id": "ypvfo7NEEyJc"
      },
      "execution_count": 3,
      "outputs": []
    },
    {
      "cell_type": "code",
      "source": [
        "\n",
        "def get_all_channels(path):\n",
        "  df = pd.read_json(path + 'channels.json')\n",
        "\n",
        "  channel_ids = [id for id in df['id']]\n",
        "  channel_names = [ name for name in df['name']]\n",
        "\n",
        "  return pd.DataFrame({ 'channel_id': channel_ids, 'channel_name': channel_names } )\n",
        "\n",
        "channels = get_all_channels(slack_data_path)\n",
        "channels"
      ],
      "metadata": {
        "id": "l6XPLPVrqEaV",
        "colab": {
          "base_uri": "https://localhost:8080/",
          "height": 175
        },
        "outputId": "e76dc6af-154b-413f-ac7b-2bda36bf8e52"
      },
      "execution_count": 4,
      "outputs": [
        {
          "output_type": "execute_result",
          "data": {
            "text/plain": [
              "    channel_id  channel_name\n",
              "0  C05D1SE01B7        random\n",
              "1  C05D77W3N76       general\n",
              "2  C05D7863DRA          test\n",
              "3   C05ABCDE01  gptgenerated"
            ],
            "text/html": [
              "\n",
              "\n",
              "  <div id=\"df-abc3c60c-29c3-4492-acc0-edbe1691cfb1\">\n",
              "    <div class=\"colab-df-container\">\n",
              "      <div>\n",
              "<style scoped>\n",
              "    .dataframe tbody tr th:only-of-type {\n",
              "        vertical-align: middle;\n",
              "    }\n",
              "\n",
              "    .dataframe tbody tr th {\n",
              "        vertical-align: top;\n",
              "    }\n",
              "\n",
              "    .dataframe thead th {\n",
              "        text-align: right;\n",
              "    }\n",
              "</style>\n",
              "<table border=\"1\" class=\"dataframe\">\n",
              "  <thead>\n",
              "    <tr style=\"text-align: right;\">\n",
              "      <th></th>\n",
              "      <th>channel_id</th>\n",
              "      <th>channel_name</th>\n",
              "    </tr>\n",
              "  </thead>\n",
              "  <tbody>\n",
              "    <tr>\n",
              "      <th>0</th>\n",
              "      <td>C05D1SE01B7</td>\n",
              "      <td>random</td>\n",
              "    </tr>\n",
              "    <tr>\n",
              "      <th>1</th>\n",
              "      <td>C05D77W3N76</td>\n",
              "      <td>general</td>\n",
              "    </tr>\n",
              "    <tr>\n",
              "      <th>2</th>\n",
              "      <td>C05D7863DRA</td>\n",
              "      <td>test</td>\n",
              "    </tr>\n",
              "    <tr>\n",
              "      <th>3</th>\n",
              "      <td>C05ABCDE01</td>\n",
              "      <td>gptgenerated</td>\n",
              "    </tr>\n",
              "  </tbody>\n",
              "</table>\n",
              "</div>\n",
              "      <button class=\"colab-df-convert\" onclick=\"convertToInteractive('df-abc3c60c-29c3-4492-acc0-edbe1691cfb1')\"\n",
              "              title=\"Convert this dataframe to an interactive table.\"\n",
              "              style=\"display:none;\">\n",
              "\n",
              "  <svg xmlns=\"http://www.w3.org/2000/svg\" height=\"24px\"viewBox=\"0 0 24 24\"\n",
              "       width=\"24px\">\n",
              "    <path d=\"M0 0h24v24H0V0z\" fill=\"none\"/>\n",
              "    <path d=\"M18.56 5.44l.94 2.06.94-2.06 2.06-.94-2.06-.94-.94-2.06-.94 2.06-2.06.94zm-11 1L8.5 8.5l.94-2.06 2.06-.94-2.06-.94L8.5 2.5l-.94 2.06-2.06.94zm10 10l.94 2.06.94-2.06 2.06-.94-2.06-.94-.94-2.06-.94 2.06-2.06.94z\"/><path d=\"M17.41 7.96l-1.37-1.37c-.4-.4-.92-.59-1.43-.59-.52 0-1.04.2-1.43.59L10.3 9.45l-7.72 7.72c-.78.78-.78 2.05 0 2.83L4 21.41c.39.39.9.59 1.41.59.51 0 1.02-.2 1.41-.59l7.78-7.78 2.81-2.81c.8-.78.8-2.07 0-2.86zM5.41 20L4 18.59l7.72-7.72 1.47 1.35L5.41 20z\"/>\n",
              "  </svg>\n",
              "      </button>\n",
              "\n",
              "\n",
              "\n",
              "    <div id=\"df-9250d946-ff8d-49fe-8689-84cdc7881645\">\n",
              "      <button class=\"colab-df-quickchart\" onclick=\"quickchart('df-9250d946-ff8d-49fe-8689-84cdc7881645')\"\n",
              "              title=\"Suggest charts.\"\n",
              "              style=\"display:none;\">\n",
              "\n",
              "<svg xmlns=\"http://www.w3.org/2000/svg\" height=\"24px\"viewBox=\"0 0 24 24\"\n",
              "     width=\"24px\">\n",
              "    <g>\n",
              "        <path d=\"M19 3H5c-1.1 0-2 .9-2 2v14c0 1.1.9 2 2 2h14c1.1 0 2-.9 2-2V5c0-1.1-.9-2-2-2zM9 17H7v-7h2v7zm4 0h-2V7h2v10zm4 0h-2v-4h2v4z\"/>\n",
              "    </g>\n",
              "</svg>\n",
              "      </button>\n",
              "    </div>\n",
              "\n",
              "<style>\n",
              "  .colab-df-quickchart {\n",
              "    background-color: #E8F0FE;\n",
              "    border: none;\n",
              "    border-radius: 50%;\n",
              "    cursor: pointer;\n",
              "    display: none;\n",
              "    fill: #1967D2;\n",
              "    height: 32px;\n",
              "    padding: 0 0 0 0;\n",
              "    width: 32px;\n",
              "  }\n",
              "\n",
              "  .colab-df-quickchart:hover {\n",
              "    background-color: #E2EBFA;\n",
              "    box-shadow: 0px 1px 2px rgba(60, 64, 67, 0.3), 0px 1px 3px 1px rgba(60, 64, 67, 0.15);\n",
              "    fill: #174EA6;\n",
              "  }\n",
              "\n",
              "  [theme=dark] .colab-df-quickchart {\n",
              "    background-color: #3B4455;\n",
              "    fill: #D2E3FC;\n",
              "  }\n",
              "\n",
              "  [theme=dark] .colab-df-quickchart:hover {\n",
              "    background-color: #434B5C;\n",
              "    box-shadow: 0px 1px 3px 1px rgba(0, 0, 0, 0.15);\n",
              "    filter: drop-shadow(0px 1px 2px rgba(0, 0, 0, 0.3));\n",
              "    fill: #FFFFFF;\n",
              "  }\n",
              "</style>\n",
              "\n",
              "    <script>\n",
              "      async function quickchart(key) {\n",
              "        const containerElement = document.querySelector('#' + key);\n",
              "        const charts = await google.colab.kernel.invokeFunction(\n",
              "            'suggestCharts', [key], {});\n",
              "      }\n",
              "    </script>\n",
              "\n",
              "      <script>\n",
              "\n",
              "function displayQuickchartButton(domScope) {\n",
              "  let quickchartButtonEl =\n",
              "    domScope.querySelector('#df-9250d946-ff8d-49fe-8689-84cdc7881645 button.colab-df-quickchart');\n",
              "  quickchartButtonEl.style.display =\n",
              "    google.colab.kernel.accessAllowed ? 'block' : 'none';\n",
              "}\n",
              "\n",
              "        displayQuickchartButton(document);\n",
              "      </script>\n",
              "      <style>\n",
              "    .colab-df-container {\n",
              "      display:flex;\n",
              "      flex-wrap:wrap;\n",
              "      gap: 12px;\n",
              "    }\n",
              "\n",
              "    .colab-df-convert {\n",
              "      background-color: #E8F0FE;\n",
              "      border: none;\n",
              "      border-radius: 50%;\n",
              "      cursor: pointer;\n",
              "      display: none;\n",
              "      fill: #1967D2;\n",
              "      height: 32px;\n",
              "      padding: 0 0 0 0;\n",
              "      width: 32px;\n",
              "    }\n",
              "\n",
              "    .colab-df-convert:hover {\n",
              "      background-color: #E2EBFA;\n",
              "      box-shadow: 0px 1px 2px rgba(60, 64, 67, 0.3), 0px 1px 3px 1px rgba(60, 64, 67, 0.15);\n",
              "      fill: #174EA6;\n",
              "    }\n",
              "\n",
              "    [theme=dark] .colab-df-convert {\n",
              "      background-color: #3B4455;\n",
              "      fill: #D2E3FC;\n",
              "    }\n",
              "\n",
              "    [theme=dark] .colab-df-convert:hover {\n",
              "      background-color: #434B5C;\n",
              "      box-shadow: 0px 1px 3px 1px rgba(0, 0, 0, 0.15);\n",
              "      filter: drop-shadow(0px 1px 2px rgba(0, 0, 0, 0.3));\n",
              "      fill: #FFFFFF;\n",
              "    }\n",
              "  </style>\n",
              "\n",
              "      <script>\n",
              "        const buttonEl =\n",
              "          document.querySelector('#df-abc3c60c-29c3-4492-acc0-edbe1691cfb1 button.colab-df-convert');\n",
              "        buttonEl.style.display =\n",
              "          google.colab.kernel.accessAllowed ? 'block' : 'none';\n",
              "\n",
              "        async function convertToInteractive(key) {\n",
              "          const element = document.querySelector('#df-abc3c60c-29c3-4492-acc0-edbe1691cfb1');\n",
              "          const dataTable =\n",
              "            await google.colab.kernel.invokeFunction('convertToInteractive',\n",
              "                                                     [key], {});\n",
              "          if (!dataTable) return;\n",
              "\n",
              "          const docLinkHtml = 'Like what you see? Visit the ' +\n",
              "            '<a target=\"_blank\" href=https://colab.research.google.com/notebooks/data_table.ipynb>data table notebook</a>'\n",
              "            + ' to learn more about interactive tables.';\n",
              "          element.innerHTML = '';\n",
              "          dataTable['output_type'] = 'display_data';\n",
              "          await google.colab.output.renderOutput(dataTable, element);\n",
              "          const docLink = document.createElement('div');\n",
              "          docLink.innerHTML = docLinkHtml;\n",
              "          element.appendChild(docLink);\n",
              "        }\n",
              "      </script>\n",
              "    </div>\n",
              "  </div>\n"
            ]
          },
          "metadata": {},
          "execution_count": 4
        }
      ]
    },
    {
      "cell_type": "code",
      "source": [
        "import glob\n",
        "import json\n",
        "\n",
        "# Return the metadata of each message in the channel\n",
        "def extract_channel_metadata(path, channel_name):\n",
        "  # use glob to get all the json files in the folder\n",
        "  daily_json_files = glob.glob(path + channel_name +'/*.json')\n",
        "\n",
        "  # just return if the channel doesn't exist (or hasn't been exported yet)\n",
        "  if not daily_json_files:\n",
        "    return\n",
        "\n",
        "  metadata = pd.DataFrame(columns = ['message', 'channel', 'date', 'time', 'user_id', 'user_name'])\n",
        "\n",
        "  # loop over the list of json files (each json file includes every post in that channel for a single day)\n",
        "  for f in daily_json_files:\n",
        "    # read the json file\n",
        "    # today_data = pd.read_json(f)\n",
        "    with open(f, 'r') as file:\n",
        "        # Read the contents\n",
        "        data = file.read()\n",
        "        # Parse the JSON data\n",
        "        today_data = json.loads(data)\n",
        "\n",
        "    today_date = f.split(\"/\")[-1]  # 'f' is the full file path and file name\n",
        "    print('Extracting...', today_date) # the file name is the date\n",
        "\n",
        "    # iterate through all the messages of the day\n",
        "    for msg_data in today_data:\n",
        "      # Skip if its a \"channel_join\" type message or if the actual message content is empty\n",
        "      if ('subtype' in msg_data) or (msg_data['text'] == \"\") or (msg_data['type'] != 'message'):\n",
        "        continue\n",
        "        # TODO: filter out any links, stickers, and other junk\n",
        "        # TODO: replace @Member references by their real names\n",
        "\n",
        "      metadata.loc[len(metadata)] = {\n",
        "            'message': msg_data['text'],\n",
        "            'channel': channel_name,\n",
        "            'date': today_date.split(\".json\")[0], # omit the file extension '.json'\n",
        "            'time': msg_data['ts'],\n",
        "            'user_id': msg_data['user'],\n",
        "            'user_name': msg_data['user_profile']['first_name'] # We can also use 'real_name' if we wanted the full name of the user\n",
        "      }\n",
        "\n",
        "  return metadata"
      ],
      "metadata": {
        "id": "bXruD2kzE7Ld"
      },
      "execution_count": 5,
      "outputs": []
    },
    {
      "cell_type": "markdown",
      "source": [
        "## 3. Generating Embeddings"
      ],
      "metadata": {
        "id": "hCa_VB44FBlC"
      }
    },
    {
      "cell_type": "markdown",
      "source": [
        "### HF Instructor Embeddings"
      ],
      "metadata": {
        "id": "fhs0C0FYASlM"
      }
    },
    {
      "cell_type": "code",
      "execution_count": 6,
      "metadata": {
        "id": "RRYSu48huSUW",
        "colab": {
          "base_uri": "https://localhost:8080/"
        },
        "outputId": "d682a450-e3ad-4a10-9cf2-c915aed7f6e5"
      },
      "outputs": [
        {
          "output_type": "stream",
          "name": "stdout",
          "text": [
            "\u001b[2K     \u001b[90m━━━━━━━━━━━━━━━━━━━━━━━━━━━━━━━━━━━━━━━━\u001b[0m \u001b[32m1.4/1.4 MB\u001b[0m \u001b[31m13.3 MB/s\u001b[0m eta \u001b[36m0:00:00\u001b[0m\n",
            "\u001b[2K     \u001b[90m━━━━━━━━━━━━━━━━━━━━━━━━━━━━━━━━━━━━━━\u001b[0m \u001b[32m399.0/399.0 kB\u001b[0m \u001b[31m38.1 MB/s\u001b[0m eta \u001b[36m0:00:00\u001b[0m\n",
            "\u001b[2K     \u001b[90m━━━━━━━━━━━━━━━━━━━━━━━━━━━━━━━━━━━━━━━━\u001b[0m \u001b[32m86.0/86.0 kB\u001b[0m \u001b[31m12.3 MB/s\u001b[0m eta \u001b[36m0:00:00\u001b[0m\n",
            "\u001b[?25h  Preparing metadata (setup.py) ... \u001b[?25l\u001b[?25hdone\n",
            "\u001b[2K     \u001b[90m━━━━━━━━━━━━━━━━━━━━━━━━━━━━━━━━━━━━━━━━\u001b[0m \u001b[32m90.0/90.0 kB\u001b[0m \u001b[31m12.9 MB/s\u001b[0m eta \u001b[36m0:00:00\u001b[0m\n",
            "\u001b[2K     \u001b[90m━━━━━━━━━━━━━━━━━━━━━━━━━━━━━━━━━━━━━━━━\u001b[0m \u001b[32m62.6/62.6 kB\u001b[0m \u001b[31m9.1 MB/s\u001b[0m eta \u001b[36m0:00:00\u001b[0m\n",
            "\u001b[?25h  Installing build dependencies ... \u001b[?25l\u001b[?25hdone\n",
            "  Getting requirements to build wheel ... \u001b[?25l\u001b[?25hdone\n",
            "  Preparing metadata (pyproject.toml) ... \u001b[?25l\u001b[?25hdone\n",
            "\u001b[2K     \u001b[90m━━━━━━━━━━━━━━━━━━━━━━━━━━━━━━━━━━━━━━━━\u001b[0m \u001b[32m58.4/58.4 kB\u001b[0m \u001b[31m8.6 MB/s\u001b[0m eta \u001b[36m0:00:00\u001b[0m\n",
            "\u001b[2K     \u001b[90m━━━━━━━━━━━━━━━━━━━━━━━━━━━━━━━━━━━━━━━━\u001b[0m \u001b[32m59.5/59.5 kB\u001b[0m \u001b[31m9.0 MB/s\u001b[0m eta \u001b[36m0:00:00\u001b[0m\n",
            "\u001b[2K     \u001b[90m━━━━━━━━━━━━━━━━━━━━━━━━━━━━━━━━━━━━━━━━\u001b[0m \u001b[32m5.3/5.3 MB\u001b[0m \u001b[31m107.0 MB/s\u001b[0m eta \u001b[36m0:00:00\u001b[0m\n",
            "\u001b[2K     \u001b[90m━━━━━━━━━━━━━━━━━━━━━━━━━━━━━━━━━━━━━━━━\u001b[0m \u001b[32m5.9/5.9 MB\u001b[0m \u001b[31m80.6 MB/s\u001b[0m eta \u001b[36m0:00:00\u001b[0m\n",
            "\u001b[2K     \u001b[90m━━━━━━━━━━━━━━━━━━━━━━━━━━━━━━━━━━━━━━━━\u001b[0m \u001b[32m7.8/7.8 MB\u001b[0m \u001b[31m86.5 MB/s\u001b[0m eta \u001b[36m0:00:00\u001b[0m\n",
            "\u001b[2K     \u001b[90m━━━━━━━━━━━━━━━━━━━━━━━━━━━━━━━━━━━━━━━━\u001b[0m \u001b[32m67.3/67.3 kB\u001b[0m \u001b[31m8.4 MB/s\u001b[0m eta \u001b[36m0:00:00\u001b[0m\n",
            "\u001b[?25h  Installing build dependencies ... \u001b[?25l\u001b[?25hdone\n",
            "  Getting requirements to build wheel ... \u001b[?25l\u001b[?25hdone\n",
            "  Preparing metadata (pyproject.toml) ... \u001b[?25l\u001b[?25hdone\n",
            "\u001b[2K     \u001b[90m━━━━━━━━━━━━━━━━━━━━━━━━━━━━━━━━━━━━━━━━\u001b[0m \u001b[32m7.4/7.4 MB\u001b[0m \u001b[31m118.6 MB/s\u001b[0m eta \u001b[36m0:00:00\u001b[0m\n",
            "\u001b[2K     \u001b[90m━━━━━━━━━━━━━━━━━━━━━━━━━━━━━━━━━━━━━━━━\u001b[0m \u001b[32m1.3/1.3 MB\u001b[0m \u001b[31m92.8 MB/s\u001b[0m eta \u001b[36m0:00:00\u001b[0m\n",
            "\u001b[2K     \u001b[90m━━━━━━━━━━━━━━━━━━━━━━━━━━━━━━━━━━━━━━\u001b[0m \u001b[32m268.8/268.8 kB\u001b[0m \u001b[31m35.4 MB/s\u001b[0m eta \u001b[36m0:00:00\u001b[0m\n",
            "\u001b[2K     \u001b[90m━━━━━━━━━━━━━━━━━━━━━━━━━━━━━━━━━━━━━━━━\u001b[0m \u001b[32m49.4/49.4 kB\u001b[0m \u001b[31m6.9 MB/s\u001b[0m eta \u001b[36m0:00:00\u001b[0m\n",
            "\u001b[2K     \u001b[90m━━━━━━━━━━━━━━━━━━━━━━━━━━━━━━━━━━━━━━━━\u001b[0m \u001b[32m67.0/67.0 kB\u001b[0m \u001b[31m9.9 MB/s\u001b[0m eta \u001b[36m0:00:00\u001b[0m\n",
            "\u001b[2K     \u001b[90m━━━━━━━━━━━━━━━━━━━━━━━━━━━━━━━━━━━━━━━━\u001b[0m \u001b[32m46.0/46.0 kB\u001b[0m \u001b[31m6.4 MB/s\u001b[0m eta \u001b[36m0:00:00\u001b[0m\n",
            "\u001b[2K     \u001b[90m━━━━━━━━━━━━━━━━━━━━━━━━━━━━━━━━━━━━━━━━\u001b[0m \u001b[32m1.3/1.3 MB\u001b[0m \u001b[31m89.6 MB/s\u001b[0m eta \u001b[36m0:00:00\u001b[0m\n",
            "\u001b[2K     \u001b[90m━━━━━━━━━━━━━━━━━━━━━━━━━━━━━━━━━━━━━━━━\u001b[0m \u001b[32m58.3/58.3 kB\u001b[0m \u001b[31m9.3 MB/s\u001b[0m eta \u001b[36m0:00:00\u001b[0m\n",
            "\u001b[2K     \u001b[90m━━━━━━━━━━━━━━━━━━━━━━━━━━━━━━━━━━━━━━\u001b[0m \u001b[32m428.8/428.8 kB\u001b[0m \u001b[31m50.1 MB/s\u001b[0m eta \u001b[36m0:00:00\u001b[0m\n",
            "\u001b[2K     \u001b[90m━━━━━━━━━━━━━━━━━━━━━━━━━━━━━━━━━━━━━━━━\u001b[0m \u001b[32m4.1/4.1 MB\u001b[0m \u001b[31m113.7 MB/s\u001b[0m eta \u001b[36m0:00:00\u001b[0m\n",
            "\u001b[2K     \u001b[90m━━━━━━━━━━━━━━━━━━━━━━━━━━━━━━━━━━━━━━━━\u001b[0m \u001b[32m1.3/1.3 MB\u001b[0m \u001b[31m91.8 MB/s\u001b[0m eta \u001b[36m0:00:00\u001b[0m\n",
            "\u001b[2K     \u001b[90m━━━━━━━━━━━━━━━━━━━━━━━━━━━━━━━━━━━━━━\u001b[0m \u001b[32m129.9/129.9 kB\u001b[0m \u001b[31m18.7 MB/s\u001b[0m eta \u001b[36m0:00:00\u001b[0m\n",
            "\u001b[2K     \u001b[90m━━━━━━━━━━━━━━━━━━━━━━━━━━━━━━━━━━━━━━━━\u001b[0m \u001b[32m86.8/86.8 kB\u001b[0m \u001b[31m13.2 MB/s\u001b[0m eta \u001b[36m0:00:00\u001b[0m\n",
            "\u001b[?25h  Building wheel for chroma-hnswlib (pyproject.toml) ... \u001b[?25l\u001b[?25hdone\n",
            "  Building wheel for sentence_transformers (setup.py) ... \u001b[?25l\u001b[?25hdone\n",
            "  Building wheel for pypika (pyproject.toml) ... \u001b[?25l\u001b[?25hdone\n",
            "\u001b[31mERROR: pip's dependency resolver does not currently take into account all the packages that are installed. This behaviour is the source of the following dependency conflicts.\n",
            "google-colab 1.0.0 requires requests==2.27.1, but you have requests 2.31.0 which is incompatible.\u001b[0m\u001b[31m\n",
            "\u001b[0m"
          ]
        }
      ],
      "source": [
        "!pip -q install langchain chromadb sentence_transformers InstructorEmbedding"
      ]
    },
    {
      "cell_type": "code",
      "source": [
        "from InstructorEmbedding import INSTRUCTOR\n",
        "from langchain.embeddings import HuggingFaceInstructEmbeddings"
      ],
      "metadata": {
        "colab": {
          "base_uri": "https://localhost:8080/"
        },
        "id": "MjgWM07hFCX8",
        "outputId": "efcc5758-14e4-495c-c3be-248afcae83de"
      },
      "execution_count": 7,
      "outputs": [
        {
          "output_type": "stream",
          "name": "stderr",
          "text": [
            "/usr/local/lib/python3.10/dist-packages/InstructorEmbedding/instructor.py:7: TqdmExperimentalWarning: Using `tqdm.autonotebook.tqdm` in notebook mode. Use `tqdm.tqdm` instead to force console mode (e.g. in jupyter console)\n",
            "  from tqdm.autonotebook import trange\n"
          ]
        }
      ]
    },
    {
      "cell_type": "code",
      "source": [
        "instructor_embeddings = HuggingFaceInstructEmbeddings(model_name=\"hkunlp/instructor-xl\")\n",
        "                                                      # model_kwargs={\"device\": \"cuda\"})\n"
      ],
      "metadata": {
        "colab": {
          "base_uri": "https://localhost:8080/",
          "height": 500,
          "referenced_widgets": [
            "1ad09eb7a4074d85b9603fd183c7ddfd",
            "c8acd9b00c15461b8fc6a6bef94a7ade",
            "1f1866b79230478da5663db22e2e837b",
            "6e363de8ced1493b92904b09a0465e62",
            "37cae9330f284c878c6a3270a62de110",
            "22dd1b5a06a84865aba1f8cfc12d3e92",
            "a5fbe330eae948cfb351afc722609b9c",
            "5763c4cc80d346d5ad596cc978f89117",
            "57abc71cd21142dea2f74ec4d119f13b",
            "3ee711ed600f4146ad3c38a4b1da4c1a",
            "9dea8770b9454f59b3eec9723a426d55",
            "c11b2e895674440c9b649743d044908c",
            "465d4e3c766246febd1cef7d0d6c818b",
            "423366f4766c4109910645dacb2402cd",
            "6cbedb68c9e94d1d8fddc1257aea91a4",
            "fee7b2dbc9c14eb2a8ebd7a7b5c61b90",
            "3e66fe726c1a48edad1d436a8ddff65d",
            "77ca053105784afbbac649f1872e11aa",
            "c4134e13864e4cad990f49514147da99",
            "c7949750ef13450eaba5d02a43df6190",
            "d4571a10ffa4407eb0f2367a6f8be92e",
            "5d55aafc689945bc8141c0ba18e8c730",
            "0fd789034b514ff3b7f1bb0fb3be0c4b",
            "b9e7e68d7e9845388c6b4afb8a3d2348",
            "d4a42a289cfc48d39b9048a8db97404f",
            "e73c5301b603490ebce3cdf2e02a55c0",
            "71edeae3004942e4ac25a9fab50db500",
            "63ea38be60244aa3bd2a55ecfee09bfc",
            "6f8dba00a8aa453f89f09c4f3a925fb5",
            "abfb656b4ec649f982c5368dfdc65140",
            "3d9808f387264a578b6d50be89a27e45",
            "829f9b9e8d724e21911f7a0c8a608ef6",
            "b3eb21022d624dbbbe6eae516a007dbc",
            "beecbc44ac4c4b4586e854c4775ca97e",
            "a499ee85080543aba254c94941409a91",
            "7aa864e280c04a6789c8e78953f32e68",
            "925b6b878d0a4cf4a99ae8312bbc23cb",
            "a13cfa69e6474e6eb71e8a64f8997ac6",
            "79b4103c6fc2495782438cf667afe8ab",
            "435965ceab304cf8844a9fb8f709eda6",
            "fe528eeba0164eb9a824e6417bdf1c62",
            "813b4384377c44b1b144854b96fe3b0f",
            "d5b97beecbc94a34958699aa8ea8c610",
            "f68cf1608ce7479185e8fc6d5aca8371",
            "3c1050a674ea4d5faef3c6278adcc984",
            "1dd76298b622437e8fe8ba30e8b79be2",
            "cce7e1b102244ebfa1a030f407bac34b",
            "dd5eefc35c1d482fbf81cfd0740dfb3c",
            "a7f3da1fdd494e6181816ee53e7c3794",
            "799923a84dce4023b568cfd213874bfa",
            "75f046448d6b4eea8fbf78660e5a36ff",
            "63498e229b5f4b809121b584fc9ad763",
            "e617156ac834451a85ebc6028ca40f72",
            "fb17129c6726428699493fa0c20e3601",
            "499640fbec684c26aa93f826f7a364a8",
            "d786e42024fb4516b51f56e5819351a6",
            "20951984051542cc8af803e05d12d492",
            "2c6d1bbdb6bd491387ea02b85e7e1723",
            "f1939cbe26a147a6be277ae9d047b2d6",
            "1d8ce136efa84d67a67c7d81ff1876a2",
            "244dcbaaf74f4d9fae488412fae3a2d1",
            "050fa629b62c4f38ab8d3d042e96e405",
            "e9ec724b1fbe4ca8b8cb5427e5d90070",
            "9aae66f0e69b4d25ad9d0dcbe0e82160",
            "13dd1029c47d4678ac159b6414b4894d",
            "918038d2e79f4d5e8bdb92dfac19ad33",
            "bf29162a64eb43b7b37c8338ac60dc72",
            "aeb582ea6d2b490ea8775e3b156412d9",
            "55df356b35e34702b93bf86d1106ce70",
            "8f9c892627fc4318aa71911797bfc5ab",
            "0bad2d27829a4f468103423ae9e0426f",
            "8c2306cdb42f47d19ba05e1a51b494cd",
            "cd959ffdcfb24b0f979f303105f539b7",
            "c8dc04c8a5b2481e9f2365d7ab267869",
            "58ed0b1f18634d5cb97605ce7144c48b",
            "58312c838e7c4761839b363700e5a237",
            "1a3e4fb90bd2489c91d5f82a9118fc50",
            "26ee6735abae449a8872b77d026ab52f",
            "97165369fabc4e49ab25f3848c129d07",
            "89a57565680744688c8f3cfe3b7b7073",
            "15e2a38c0ef446b383566c58f2359f61",
            "4c00ecd5e7fb476abaad9019adb14a52",
            "5b05f51b7f4d4bb9b1df69332c244b52",
            "1bdff196901c4e95840558f90e1fb72e",
            "769c83f60fe244b290c0c884e45f162a",
            "decd6ad2145b4f33b7ab393e58dbf18b",
            "cd0448ba12b64c1fb8c89eb3a7ea44d5",
            "4b97cc88bf9c496f9973218a48be1598",
            "3108e3e0efa84b10aa68c11a3dcd21c7",
            "bac942ae22ca4a94b0e0f0260298b305",
            "964759f726f744ab9774e68807c4c4f5",
            "ab1a6f7feb1e427abb174b8835530d68",
            "36ff9b1b6fcc42569061e81bfed45c28",
            "0462b481940242eaaf6bdc601ff2bd3d",
            "882973b860904eb18db904078ea14b19",
            "255c28118bd84a9bb1028679b8e46f13",
            "8b21a3bef023432d82de382d6f6ba333",
            "7a369e17adf0429bb2225ea4354c2ff7",
            "1588cd9db44c454f98847712bafb0880",
            "e6474044ab144ea1861f46035ebd82c8",
            "b9aa874779524766bfe5bfcabf5fc5df",
            "9c7d9d2b5a7f4b0b8c290b139924da78",
            "4f19d6e05fc34524aaff33cfb92f4dfc",
            "95bfbfcc62744218895c088a2b45ae4f",
            "91c09a69dbb44176acfe318418d6a87d",
            "910e342a74214d3f991d50a91eed9a7e",
            "07919e4694714dc689a79c7bac015e79",
            "be91411c0d6f4bcd8890eb36102d2221",
            "43c354ec697d4491b0f52a762863be15",
            "9253029f67e84a60b49f66d2ce0233b2",
            "bc38076aa6d246428169425fc318c905",
            "bf0f467e7acb4e148de9715b8e8d1560",
            "2693550f69464be8ac5e7c5e72995976",
            "daa9328cc7f249a49a300863bef80c6e",
            "edb48576bdbe4c1f8b428529eb583941",
            "a42a706e2a864d49acea50e305d899b3",
            "37dbe7f361144659aad3924163aad9a7",
            "e86e61d388b64f48b3702328d4973b9c",
            "6276dda1670d4733aad51e0a9eee9edd",
            "30d3f438ff524d92a726254260bd9de5",
            "6addd2f0ffdc4f25bed077d72639f738",
            "b02c4a90855e41ada912189b52aa5efc",
            "4037787cdb684df39e861e6e81c59a40",
            "01eb8856d3064ebe91efb630ccbbf2b4",
            "b12e281ec3e046d6b8eedd4a3ae00e9d",
            "a8970d63bd4a4c58b74cffcb9816e4d2",
            "b6555ceed5e9440e880a2de94b4991c5",
            "074d5beef8f143f5b3c3bf13a7e08b9b",
            "3fbc3369129144b8bcd4c4703da1defd",
            "1d5927936bbb4b24946fbfecfed5b7d8",
            "d70ccff1350d46c6baf6e214b349e634",
            "87c8251cccb3454f98785727d2cad7a9",
            "96515e2aea1642d4b39a76c6b5bd0d53",
            "ac65ad1822484991b8a990d4852fb50b",
            "3d11d3741904427e8a33e2546e01fe42",
            "a44410a64eee47a09d5dceb3f9334db2",
            "f864646063764052a7c8eb64fab49b46",
            "47094ff08e434fc19af2131a595c980f",
            "288f80a959f244f99dfffd22c84a4898",
            "f4af83f1c28c4bb8b81d1df7b1bbda45",
            "40c7598093f84e6b8bb40c68f6269174",
            "630349d145ef4272add8d773e15431e8",
            "bec7e1dca6654a46ac0bbf8a919298c4",
            "46c35e8df3964b1ca3d5580f87e73bfb",
            "ade267d07edb4d21adfd596f8b1aed57",
            "d0a116df59814f9cb328ea5817c6873b",
            "d93ad407732f4df787b57927d58b3870",
            "55eee1d93504453f9fdbb5398b7d5cb0",
            "92e11a4c43934ecebf2ad942353f0ab0",
            "6db850043c5249dc8b393b1e29d4bb6c",
            "b9b921278fee4aadb697ec5959cb3f1f",
            "29f7db20f47f4a8788db116cbfa05858",
            "8963c95f028e4df3938a58685cd281ae",
            "f509c077ac484950a78e34812fd8083a"
          ]
        },
        "id": "Emj46ATxtV9C",
        "outputId": "433d6ccd-d67a-4916-da9f-d730444428d1"
      },
      "execution_count": 8,
      "outputs": [
        {
          "output_type": "display_data",
          "data": {
            "text/plain": [
              "Downloading (…)7f436/.gitattributes:   0%|          | 0.00/1.48k [00:00<?, ?B/s]"
            ],
            "application/vnd.jupyter.widget-view+json": {
              "version_major": 2,
              "version_minor": 0,
              "model_id": "1ad09eb7a4074d85b9603fd183c7ddfd"
            }
          },
          "metadata": {}
        },
        {
          "output_type": "display_data",
          "data": {
            "text/plain": [
              "Downloading (…)_Pooling/config.json:   0%|          | 0.00/270 [00:00<?, ?B/s]"
            ],
            "application/vnd.jupyter.widget-view+json": {
              "version_major": 2,
              "version_minor": 0,
              "model_id": "c11b2e895674440c9b649743d044908c"
            }
          },
          "metadata": {}
        },
        {
          "output_type": "display_data",
          "data": {
            "text/plain": [
              "Downloading (…)/2_Dense/config.json:   0%|          | 0.00/116 [00:00<?, ?B/s]"
            ],
            "application/vnd.jupyter.widget-view+json": {
              "version_major": 2,
              "version_minor": 0,
              "model_id": "0fd789034b514ff3b7f1bb0fb3be0c4b"
            }
          },
          "metadata": {}
        },
        {
          "output_type": "display_data",
          "data": {
            "text/plain": [
              "Downloading pytorch_model.bin:   0%|          | 0.00/3.15M [00:00<?, ?B/s]"
            ],
            "application/vnd.jupyter.widget-view+json": {
              "version_major": 2,
              "version_minor": 0,
              "model_id": "beecbc44ac4c4b4586e854c4775ca97e"
            }
          },
          "metadata": {}
        },
        {
          "output_type": "display_data",
          "data": {
            "text/plain": [
              "Downloading (…)0daf57f436/README.md:   0%|          | 0.00/66.3k [00:00<?, ?B/s]"
            ],
            "application/vnd.jupyter.widget-view+json": {
              "version_major": 2,
              "version_minor": 0,
              "model_id": "3c1050a674ea4d5faef3c6278adcc984"
            }
          },
          "metadata": {}
        },
        {
          "output_type": "display_data",
          "data": {
            "text/plain": [
              "Downloading (…)af57f436/config.json:   0%|          | 0.00/1.52k [00:00<?, ?B/s]"
            ],
            "application/vnd.jupyter.widget-view+json": {
              "version_major": 2,
              "version_minor": 0,
              "model_id": "d786e42024fb4516b51f56e5819351a6"
            }
          },
          "metadata": {}
        },
        {
          "output_type": "display_data",
          "data": {
            "text/plain": [
              "Downloading (…)ce_transformers.json:   0%|          | 0.00/122 [00:00<?, ?B/s]"
            ],
            "application/vnd.jupyter.widget-view+json": {
              "version_major": 2,
              "version_minor": 0,
              "model_id": "bf29162a64eb43b7b37c8338ac60dc72"
            }
          },
          "metadata": {}
        },
        {
          "output_type": "display_data",
          "data": {
            "text/plain": [
              "Downloading pytorch_model.bin:   0%|          | 0.00/4.96G [00:00<?, ?B/s]"
            ],
            "application/vnd.jupyter.widget-view+json": {
              "version_major": 2,
              "version_minor": 0,
              "model_id": "26ee6735abae449a8872b77d026ab52f"
            }
          },
          "metadata": {}
        },
        {
          "output_type": "display_data",
          "data": {
            "text/plain": [
              "Downloading (…)nce_bert_config.json:   0%|          | 0.00/53.0 [00:00<?, ?B/s]"
            ],
            "application/vnd.jupyter.widget-view+json": {
              "version_major": 2,
              "version_minor": 0,
              "model_id": "3108e3e0efa84b10aa68c11a3dcd21c7"
            }
          },
          "metadata": {}
        },
        {
          "output_type": "display_data",
          "data": {
            "text/plain": [
              "Downloading (…)cial_tokens_map.json:   0%|          | 0.00/2.20k [00:00<?, ?B/s]"
            ],
            "application/vnd.jupyter.widget-view+json": {
              "version_major": 2,
              "version_minor": 0,
              "model_id": "e6474044ab144ea1861f46035ebd82c8"
            }
          },
          "metadata": {}
        },
        {
          "output_type": "display_data",
          "data": {
            "text/plain": [
              "Downloading spiece.model:   0%|          | 0.00/792k [00:00<?, ?B/s]"
            ],
            "application/vnd.jupyter.widget-view+json": {
              "version_major": 2,
              "version_minor": 0,
              "model_id": "bc38076aa6d246428169425fc318c905"
            }
          },
          "metadata": {}
        },
        {
          "output_type": "display_data",
          "data": {
            "text/plain": [
              "Downloading (…)7f436/tokenizer.json:   0%|          | 0.00/2.42M [00:00<?, ?B/s]"
            ],
            "application/vnd.jupyter.widget-view+json": {
              "version_major": 2,
              "version_minor": 0,
              "model_id": "b02c4a90855e41ada912189b52aa5efc"
            }
          },
          "metadata": {}
        },
        {
          "output_type": "display_data",
          "data": {
            "text/plain": [
              "Downloading (…)okenizer_config.json:   0%|          | 0.00/2.40k [00:00<?, ?B/s]"
            ],
            "application/vnd.jupyter.widget-view+json": {
              "version_major": 2,
              "version_minor": 0,
              "model_id": "96515e2aea1642d4b39a76c6b5bd0d53"
            }
          },
          "metadata": {}
        },
        {
          "output_type": "display_data",
          "data": {
            "text/plain": [
              "Downloading (…)f57f436/modules.json:   0%|          | 0.00/461 [00:00<?, ?B/s]"
            ],
            "application/vnd.jupyter.widget-view+json": {
              "version_major": 2,
              "version_minor": 0,
              "model_id": "46c35e8df3964b1ca3d5580f87e73bfb"
            }
          },
          "metadata": {}
        },
        {
          "output_type": "stream",
          "name": "stdout",
          "text": [
            "load INSTRUCTOR_Transformer\n",
            "max_seq_length  512\n"
          ]
        }
      ]
    },
    {
      "cell_type": "code",
      "source": [
        "# Return a list of embeddings for all messages of the channel\n",
        "def embed_channel_messages(channel_metadata):\n",
        "  msg_list = channel_metadata['message'].astype(str).tolist()\n",
        "  return instructor_embeddings.embed_documents(msg_list)"
      ],
      "metadata": {
        "id": "EzdqKrWAHdbV"
      },
      "execution_count": 9,
      "outputs": []
    },
    {
      "cell_type": "markdown",
      "source": [
        "## Setting up Chroma DB\n"
      ],
      "metadata": {
        "id": "HqwsGJDhvAQ5"
      }
    },
    {
      "cell_type": "code",
      "source": [
        "import chromadb"
      ],
      "metadata": {
        "id": "XHVE9uFb3Ajj"
      },
      "execution_count": 10,
      "outputs": []
    },
    {
      "cell_type": "code",
      "source": [
        "client = chromadb.PersistentClient(path=\"/chroma/db\")"
      ],
      "metadata": {
        "id": "3m5iAQbhXfNK"
      },
      "execution_count": 11,
      "outputs": []
    },
    {
      "cell_type": "code",
      "source": [
        "sample_collection = client.get_or_create_collection(  # Get a collection object from an existing collection, by name. If it doesn't exist, create it.\n",
        "      name= \"slack_collection\",\n",
        "      metadata= {\"hnsw:space\": \"cosine\"},\n",
        "      # embedding_function= instructor_embeddings       # The default embedding model is 'all-MiniLM-L6-V2'\n",
        "    )"
      ],
      "metadata": {
        "id": "HASSWsxJXg1y"
      },
      "execution_count": 12,
      "outputs": []
    },
    {
      "cell_type": "code",
      "source": [
        "sample_collection.add(\n",
        "    documents=[\"lorem ipsum...\", \"doc2\", \"doc3\"],\n",
        "    metadatas=[{\"chapter\": \"3\", \"verse\": \"16\"}, {\"chapter\": \"3\", \"verse\": \"5\"}, {\"chapter\": \"29\", \"verse\": \"11\"}],\n",
        "    ids=[\"id1\", \"id2\", \"id3\"]\n",
        ")"
      ],
      "metadata": {
        "id": "ep1V3xlQYR7g"
      },
      "execution_count": null,
      "outputs": []
    },
    {
      "cell_type": "code",
      "source": [
        "sample_collection.get(\n",
        "    ids=[\"id1\", \"id2\", \"id3\"],\n",
        "    where={\"metadata\": \"filter\"}\n",
        ")"
      ],
      "metadata": {
        "colab": {
          "base_uri": "https://localhost:8080/"
        },
        "id": "r0etralYZmTe",
        "outputId": "26a71018-5d6d-4fc9-e7bd-fd8d2543e6df"
      },
      "execution_count": null,
      "outputs": [
        {
          "output_type": "execute_result",
          "data": {
            "text/plain": [
              "{'ids': ['id2'],\n",
              " 'embeddings': None,\n",
              " 'metadatas': [{'chapter': '3', 'verse': '5'}],\n",
              " 'documents': ['doc2']}"
            ]
          },
          "metadata": {},
          "execution_count": 29
        }
      ]
    },
    {
      "cell_type": "code",
      "source": [
        "# client.delete_collection(name=\"slack_collection\") # Delete a collection and all associated embeddings, documents, and metadata. ⚠️ This is destructive and not reversible"
      ],
      "metadata": {
        "id": "llBVxIWRYeoX"
      },
      "execution_count": null,
      "outputs": []
    },
    {
      "cell_type": "code",
      "source": [
        "def upsert_channel_embeddings(channel_name, channel_embeddings, channel_data):\n",
        "\n",
        "  no_embeddings = len(channel_embeddings)\n",
        "\n",
        "  parsed_channel_data = json.loads(channel_data.to_json(orient=\"records\"))\n",
        "\n",
        "  for start in range(0, no_embeddings):\n",
        "    # create IDs for all embedded chunks (vectors) ... [channelname_0 -> ... -> channelname_..]\n",
        "    ids = [channel_name+str(x) for x in range(no_embeddings)]\n",
        "\n",
        "    sample_collection.upsert(\n",
        "      ids = ids,\n",
        "      embeddings = channel_embeddings,\n",
        "      metadatas = parsed_channel_data,\n",
        "      # documents = parsed_channel_data['messages']\n",
        "    )\n",
        "\n",
        "  print(sample_collection.peek()) # returns a list of the first 10 items in the collection\n",
        "  print(sample_collection.count()) # returns the number of items in the collection"
      ],
      "metadata": {
        "id": "Baf3JQpTevBe"
      },
      "execution_count": 23,
      "outputs": []
    },
    {
      "cell_type": "code",
      "source": [
        "# Store all messages using the helper functions defined above\n",
        "def upsert_all():\n",
        "  channel_names = channels['channel_name'].tolist()\n",
        "\n",
        "  for channel_name in channel_names:\n",
        "\n",
        "    channel_metadata = extract_channel_metadata(slack_data_path, channel_name)\n",
        "\n",
        "    channel_embeddings = embed_channel_messages(channel_metadata)\n",
        "\n",
        "    upsert_channel_embeddings(channel_name, channel_embeddings, channel_metadata)"
      ],
      "metadata": {
        "id": "xyvh1D1zSLTS"
      },
      "execution_count": 14,
      "outputs": []
    },
    {
      "cell_type": "code",
      "source": [
        "def upsert_channel(channel_name):\n",
        "\n",
        "    channel_metadata = extract_channel_metadata(slack_data_path, channel_name)\n",
        "\n",
        "    channel_embeddings = embed_channel_messages(channel_metadata)\n",
        "\n",
        "    upsert_channel_embeddings(channel_name, channel_embeddings, channel_metadata)\n",
        "\n",
        "upsert_channel('gptgenerated')"
      ],
      "metadata": {
        "id": "s-x0vA6eo96R",
        "outputId": "7c7edd12-cc74-4947-e14b-5205f55279c1",
        "colab": {
          "base_uri": "https://localhost:8080/"
        }
      },
      "execution_count": 28,
      "outputs": [
        {
          "output_type": "stream",
          "name": "stdout",
          "text": [
            "Extracting... 2023-06-19.json\n",
            "{'ids': ['random0', 'general0', 'general1', 'general2', 'general3', 'general4', 'general5', 'general6', 'general7', 'general8'], 'embeddings': [[-0.011160562746226788, 0.03401783108711243, 0.003922768868505955, -0.0632275864481926, -0.018049128353595734, -0.0329098179936409, -0.067227803170681, 0.01648705266416073, -0.022797618061304092, -0.014639563858509064, 0.04024118930101395, 0.05429397150874138, -0.033633265644311905, -0.06350132822990417, 0.05429000407457352, -0.04601822793483734, 0.010767091996967793, -0.07313470542430878, -0.017610616981983185, 0.03295574337244034, -0.01996041275560856, 0.04127046838402748, -0.03470340371131897, -0.029394671320915222, -0.04523390159010887, -0.03003682568669319, -0.01813606545329094, -0.023493384942412376, 0.009207433089613914, 0.009089352563023567, 0.027053063735365868, -0.011877967976033688, 0.029946129769086838, -0.01724068447947502, 0.07021144032478333, -0.01360553689301014, 0.037069808691740036, -0.00863906554877758, 0.03295130655169487, -0.000934750831220299, -0.054342854768037796, 0.07079999148845673, 0.07128064334392548, -0.03530614450573921, 0.040248967707157135, -0.009105061180889606, 0.039325445890426636, 0.046994417905807495, 0.020427478477358818, 0.0032786699011921883, -0.03562476858496666, -0.01759542152285576, 0.028898023068904877, -0.026573646813631058, 0.016424480825662613, -0.06313783675432205, -0.03465091437101364, 0.008998394943773746, -0.0581892654299736, -0.00282651768065989, 0.007519583683460951, 0.01834644004702568, 0.03488108888268471, 0.02373216487467289, -0.011872929520905018, 0.05699225887656212, 0.02710512839257717, 0.021493908017873764, -0.018940193578600883, 0.0343041867017746, -0.08242800086736679, 0.0396202877163887, -0.0015183232026174664, -0.02693442814052105, 0.01444050669670105, 0.0803087055683136, 0.022808481007814407, 0.07220445573329926, 0.011650832369923592, -0.062079720199108124, -0.059759628027677536, 0.00959709845483303, -0.040661782026290894, 0.0034771952778100967, -0.015269244089722633, -0.031076345592737198, -0.01362382061779499, 0.015496743842959404, 0.030932657420635223, 0.08168794959783554, -0.03809206932783127, 0.03630925714969635, -0.009802272543311119, -0.031496621668338776, 0.0077526080422103405, 0.03205753490328789, -0.01692412607371807, 0.0016519835917279124, 0.00729934498667717, -0.056717973202466965, -0.0068712676875293255, 0.03777750954031944, -0.004645287524908781, -0.06776019185781479, 0.0019556935876607895, 0.012498338706791401, 0.02139599248766899, 0.07014923542737961, 0.03982771933078766, 0.005875824019312859, 0.053374480456113815, 0.01195221021771431, 0.010301779955625534, -0.01104443147778511, 0.016399642452597618, -0.04136517271399498, 0.01906776800751686, 0.015631213784217834, -0.018862128257751465, -0.004887368064373732, 0.00022421678295359015, 0.012769272550940514, 0.006880275439471006, 0.03664719685912132, -0.01405190210789442, -0.00611018156632781, 0.04201000556349754, 0.003657727502286434, -0.00026313646230846643, -0.02508074790239334, 0.030532635748386383, -0.02651315927505493, -0.0245125200599432, -0.002318677958101034, 0.03555283695459366, -0.046762529760599136, 0.01829446107149124, 0.00653751939535141, -0.03470451012253761, -0.08310835063457489, 0.02071794681251049, 0.007251981180161238, 0.02767241559922695, -0.0140029052272439, -0.02569381520152092, 0.033396266400814056, 0.0034860505256801844, -0.015494872815907001, 0.003137522144243121, 0.031889937818050385, -0.046127431094646454, -0.012296436354517937, 0.010006137192249298, -0.03175920248031616, -0.009836466051638126, -0.025626830756664276, -0.020197778940200806, -0.010996383614838123, 0.005822347942739725, -0.03516018018126488, 0.07728442549705505, -0.05459606647491455, -0.011508691124618053, 0.020450999960303307, -0.07894392311573029, -0.016231592744588852, -0.025135332718491554, 0.016917429864406586, -0.0011344567174091935, -0.015061353333294392, 0.022660251706838608, 0.05374520272016525, -0.04095986485481262, -7.213360368041322e-05, 0.018558405339717865, -0.04125428944826126, -0.006666355300694704, 0.06133458763360977, 0.02040010318160057, 0.04172927141189575, -0.013168947771191597, -0.02872280962765217, 0.02294539473950863, 0.06332585215568542, -0.007054222282022238, -0.015914611518383026, -0.019214579835534096, -0.015458825044333935, -0.0374167300760746, 0.03159990534186363, -0.006946012377738953, -0.10015273839235306, -0.025817623361945152, 0.04931202530860901, 0.009941646829247475, 0.013749860227108002, 0.028372859582304955, 0.07828513532876968, 0.03913259133696556, 0.00550319766625762, -0.02224724180996418, 0.01885099522769451, 0.07361086457967758, 0.004753332119435072, 0.010607396252453327, 0.09965537488460541, -0.01636829972267151, 0.0665811151266098, 0.01813378557562828, 0.03153811767697334, -0.01567975990474224, 0.01113330852240324, 0.04536538943648338, 0.06805860251188278, -0.022172991186380386, 0.030964702367782593, 0.03550749644637108, -0.003512964118272066, 0.00511279609054327, 0.0731615349650383, -0.03853454440832138, 0.07451817393302917, 0.022173993289470673, -0.019476542249321938, 0.011121063493192196, -0.009757937863469124, -0.042815737426280975, 0.009983520023524761, 0.037231262773275375, 0.03314981982111931, 0.028990881517529488, -0.007129680830985308, 0.029866646975278854, 0.052635371685028076, -0.03702081739902496, -0.043394237756729126, 0.0075720930472016335, -0.019033106043934822, -0.06831689924001694, -0.053922154009342194, -0.0050255125388503075, -0.05311791971325874, -0.047673240303993225, -0.051487091928720474, 0.013330462388694286, 0.02471262961626053, -0.019368266686797142, -0.01599268615245819, 0.004340330604463816, -0.024285227060317993, 0.0014123987639322877, -0.006318768486380577, 0.005348863545805216, 0.04464060068130493, -0.07188861817121506, -0.012761563993990421, -0.017779145389795303, -0.007506634574383497, -0.04161825403571129, -0.004856654442846775, -0.03478473797440529, -0.027358831837773323, -0.04701294004917145, -0.01330360397696495, 0.021712958812713623, 0.027532203122973442, 0.06504737585783005, 0.00179430958814919, 0.04974764585494995, -0.02848071977496147, -0.049411285668611526, 0.03099774196743965, 0.06662120670080185, -0.024560585618019104, 0.006439331918954849, -0.0053016385063529015, 0.0009861669968813658, -0.017583264037966728, -0.06434789299964905, 0.034866660833358765, -0.0100559052079916, -0.08697226643562317, -0.030901100486516953, 0.021030215546488762, 0.018829692155122757, 0.02832356095314026, 0.017830705270171165, -0.017542168498039246, 0.049567919224500656, -0.05656016245484352, 0.04692956432700157, 0.030992990359663963, -0.0544053316116333, -0.021421073004603386, 0.014577535912394524, -0.031841009855270386, -0.009200121276080608, 0.026711011305451393, 0.02783922106027603, 0.06081896647810936, -0.014652419835329056, -0.0028320131823420525, 0.008386683650314808, -0.044994667172431946, -0.00924905389547348, -0.0379488468170166, -0.048073966056108475, -0.01444793026894331, -0.013883466832339764, 0.0018755695782601833, 0.044831644743680954, 0.019667072221636772, -0.0026413071900606155, -0.04155789688229561, 0.005070208106189966, 0.034584928303956985, 0.053122930228710175, 0.01040689181536436, -0.05174107477068901, -0.023879121989011765, 0.07424969971179962, -0.014603371731936932, 0.0008240347378887236, -0.024364009499549866, 0.00758544122800231, -0.0003073844709433615, 0.030485378578305244, 0.05844521149992943, 0.05854171887040138, -0.07649053633213043, 0.02786274626851082, -0.021669011563062668, -0.06192281097173691, 0.08921696245670319, 0.0459011048078537, 0.06019898131489754, -0.013747609220445156, 0.029304923489689827, 0.06701238453388214, 0.023614127188920975, -0.07841632515192032, -0.011934143491089344, -0.024833060801029205, 0.046291615813970566, -0.001520844059996307, -0.016542013734579086, 0.04727235063910484, 0.07648169994354248, -0.07051323354244232, -0.06430604308843613, 0.018716715276241302, 0.027446303516626358, -0.0029458224307745695, 0.05653087794780731, 0.010993177071213722, 0.04491423815488815, -0.009852949529886246, -0.05793607607483864, -0.005700964480638504, 0.017578233033418655, 0.07223382592201233, 0.0038905004039406776, 0.010601356625556946, -0.04413329437375069, 0.011577342636883259, 0.04319731891155243, 0.015147728845477104, -0.05901654437184334, 0.020040521398186684, 0.00790075957775116, 0.06461548060178757, -0.014315029606223106, 0.014470335096120834, 0.017853470519185066, -0.013613833114504814, -0.03466136381030083, -0.04210088029503822, -0.0502401739358902, -0.05334806442260742, -0.06876890361309052, -0.0015297449426725507, 0.012085364200174809, 0.029349979013204575, 0.030556470155715942, 0.042313411831855774, 0.055129099637269974, 0.03360850736498833, -0.059954170137643814, -0.029217328876256943, 0.0315064936876297, -0.029084712266921997, 0.05340217798948288, 0.016401782631874084, -0.030108625069260597, 0.028362784534692764, -0.01193450391292572, -0.006581139750778675, -0.05922055244445801, -0.053801774978637695, 0.019399508833885193, 0.03573329746723175, 0.0015873948577791452, 0.027277467772364616, 0.011756139807403088, 0.01085485890507698, 0.03808706998825073, 0.03558863699436188, 0.038983166217803955, -0.04149264469742775, 0.012772943824529648, 0.024436751380562782, -0.05330416187644005, 0.06182020902633667, 0.014596711844205856, 0.05032625049352646, -0.012199342250823975, 0.022548269480466843, 0.005374416708946228, 0.016994435340166092, 0.03356534242630005, -0.0025032549165189266, -0.035877518355846405, 0.020788870751857758, 0.043386686593294144, -0.0023431903682649136, -0.014784526079893112, -0.0809025764465332, 0.014630424790084362, -0.014845918864011765, 0.009402858093380928, 0.05474681779742241, 0.025635570287704468, 0.009338781237602234, 0.08568472415208817, -0.05295101925730705, 0.06560392677783966, -0.00895802304148674, 0.06327027827501297, -0.043217696249485016, 0.03583691641688347, 0.0333779975771904, -0.03386981785297394, 0.017929991707205772, 0.047678835690021515, 0.023949144408106804, 0.07108999788761139, -0.013959470205008984, 0.0025908667594194412, -0.04013046622276306, 0.006990150082856417, -0.0073530664667487144, -0.030274175107479095, -0.015190240927040577, 0.02482590824365616, -0.005923338234424591, 0.05274627357721329, 0.07171649485826492, -0.03614973649382591, -0.04420960322022438, 0.011549652554094791, -0.021709052845835686, 0.007832037284970284, -0.004067912697792053, 0.04668892174959183, 0.0007233850192278624, -0.04504672810435295, -0.03061342053115368, 0.01771661266684532, 0.009070346131920815, 0.00046270256279967725, 0.015779314562678337, 0.01281728409230709, -0.01269382331520319, -0.05871962755918503, -0.019273553043603897, -0.04781480133533478, -0.038534387946128845, -0.02385924756526947, -0.05013725906610489, -0.058430593460798264, -0.017592502757906914, 0.023122970014810562, -0.05333917215466499, -0.04252523556351662, -0.009642151184380054, 0.03609217330813408, -0.061034779995679855, 0.008985073305666447, 0.06400978565216064, -0.023572543635964394, 0.019105814397335052, -0.011241065338253975, 0.007153483107686043, -0.006696311756968498, -0.0018101742025464773, -0.08518535643815994, -0.06899993866682053, -0.04412999004125595, 0.03757115826010704, -0.007908533327281475, -0.03284565731883049, 0.03510308638215065, 0.009070239961147308, 0.017417332157492638, -0.03726167976856232, 0.00969418603926897, -0.016606921330094337, 0.015014609321951866, -0.007028489839285612, 0.04409308359026909, 0.06420896202325821, -0.023428630083799362, -0.018824240192770958, 0.013442871160805225, 0.017227599397301674, -0.03113793581724167, 0.00027043878799304366, 0.002464471384882927, 0.055899493396282196, -0.04764575511217117, -0.020883552730083466, -0.042104169726371765, 0.006562764290720224, 0.016980797052383423, -0.029299670830368996, -0.01149001531302929, 0.02377275377511978, -0.026107368990778923, -0.05680462718009949, 0.04031982272863388, 0.01627420261502266, -0.016772350296378136, 0.06329523026943207, 0.011665966361761093, 0.05070729926228523, 0.007709098048508167, -0.0381365567445755, -0.0025374109391123056, -0.051978398114442825, -0.012155905365943909, -0.02263488620519638, 0.06822317093610764, 0.0012465919135138392, -0.004325235728174448, -0.04239378869533539, -0.009167452342808247, -0.06894928961992264, -0.05489780008792877, -0.02632013149559498, 0.00048782763769850135, 0.02085198648273945, -0.028598889708518982, -0.07020282000303268, 0.06041618436574936, 0.0034155177418142557, -0.025108765810728073, 0.009615527465939522, -0.027776550501585007, 0.03973180800676346, 0.0087461918592453, -0.004070619586855173, -0.02369382604956627, -0.046456966549158096, 0.03017682209610939, -0.01677860878407955, -0.0207380224019289, 0.03926309943199158, 0.012523788958787918, -0.04038989916443825, 0.03838449344038963, 0.018319183960556984, 0.00837542861700058, 0.05200730636715889, -0.0030441712588071823, 0.09710006415843964, 0.01779954694211483, 0.008142421022057533, 0.020772527903318405, 0.036131128668785095, 0.002130580600351095, 0.06731271743774414, -0.018079131841659546, 0.00037434406112879515, -0.07767948508262634, -0.019184080883860588, -0.03518906980752945, -0.021774593740701675, 0.05305124819278717, -0.024204477667808533, -0.004426474217325449, -0.03759285435080528, 0.038757823407649994, -0.02330132946372032, 0.0072745587676763535, -0.06697718054056168, 0.04135413095355034, 0.047493912279605865, -0.0019497873727232218, -0.06178171932697296, -0.06551000475883484, -0.01828237809240818, -0.009959104470908642, -0.054881371557712555, 0.04156319424510002, 0.08714805543422699, -0.027248209342360497, 0.030712397769093513, 0.02078007347881794, -0.02863314561545849, 0.007465752772986889, 0.0269708801060915, 0.028693685308098793, 0.06282517313957214, 0.0006803030846640468, 0.008296026848256588, 0.026868769899010658, -0.062276653945446014, -0.044221390038728714, 0.02173442952334881, 0.008838662877678871, -0.016001975163817406, 0.002167118713259697, 0.021311840042471886, 0.02689829096198082, -0.006594973150640726, 0.043409574776887894, -0.015406292863190174, -0.03505768999457359, -0.01825966127216816, -0.04101860523223877, 0.010186548344790936, -0.02699928916990757, -0.0076640332117676735, -0.016051532700657845, -0.02432490698993206, -0.05813588947057724, 0.015227383002638817, -0.014153055846691132, 0.026956014335155487, -0.04900302737951279, 0.0022587506100535393, -0.018850795924663544, -0.014201974496245384, 0.021082065999507904, -0.05699026957154274, -0.05375208705663681, -0.0042779711075127125, -0.009722274728119373, 0.0013136430643498898, 0.026595942676067352, -0.0009001026046462357, 0.0042274752631783485, -0.03512530028820038, -0.013019023463129997, -8.344618254341185e-05, 0.0006183945806697011, 0.05637055262923241, 0.01901938207447529, 0.011450206860899925, -0.027765998616814613, -0.058261897414922714, 0.0073486436158418655, -0.0786057710647583, 0.0003690659941639751, -0.03054233081638813, 0.00976607482880354, -0.021647876128554344, 0.016632014885544777, 0.0067346105352044106, -0.017365461215376854, 0.011856622993946075, -0.027943329885601997, 0.027303028851747513, 0.00031101214699447155, -0.010238058865070343, -0.018583891913294792, -0.04877281188964844, 0.0163013506680727, -0.018765324726700783, -0.03209059685468674, -0.020634790882468224, -0.054864272475242615, -0.018535643815994263, -0.021101921796798706, -0.036625076085329056, -0.0399416945874691, -0.03227090835571289, 0.06404219567775726, -0.06995847076177597, 0.03565674275159836, 0.009653658606112003, -0.05241971090435982, 0.011066067963838577, -0.0036936714313924313, 0.003904883749783039, -0.023838093504309654, 0.003326108679175377, 0.06417809426784515, -0.06129833683371544, -0.046678412705659866, -0.02202634885907173, 0.03709917888045311, 0.04120416194200516, -0.06576991826295853, 0.013009952381253242, -0.051806796342134476, 0.026953762397170067, -0.04174116998910904, 0.05209121108055115, -0.050021544098854065, -0.04467142000794411, -0.03670002147555351, -0.0004280665598344058, -0.002518586814403534, -0.01341509260237217, -0.00276956707239151, -0.034494783729314804, 0.005456217564642429, 0.034234896302223206, -0.0005547140026465058, 0.0015203120419755578, 0.015704957768321037, 0.0375564768910408, 0.004658217076212168, -0.04182996228337288, 0.0026372664142400026, -0.019328424707055092, -0.04923015460371971, -0.03595232218503952, 0.010853285901248455, 0.0564618743956089, 0.03672540932893753, -0.06036534532904625, -0.008955332450568676, 0.0059220935218036175, -0.017024995759129524, -0.005542080383747816, 0.02759997360408306, 0.027628218755126, 0.06189754232764244, -7.021569763310254e-05, 0.000523962255101651, -0.00023249999503605068, 0.03527709096670151, 0.06775180995464325, -0.03640831261873245, 0.01658107526600361, 0.030818644911050797, -0.004290411248803139, -0.04385446757078171, -0.06204270198941231, 0.002739234361797571, 0.02489197999238968, -0.007625157479196787, 0.021313833072781563, -0.004684656858444214, 0.0016041871858760715, 0.025645291432738304, -0.011503431014716625, -0.049336086958646774, -0.05887995660305023, 0.034936945885419846, -0.04683622717857361, 0.028053617104887962, -0.03786967694759369, -0.04773447662591934, -0.019560610875487328, 0.05717794597148895], [0.0008787070983089507, 0.03484094887971878, 0.009775669313967228, -0.008549053221940994, -0.06870904564857483, -0.037081096321344376, -0.07177644222974777, 0.0249433983117342, -0.05619946867227554, -0.04206538200378418, 0.014616204425692558, -0.015396276488900185, 0.004996038042008877, -0.06556185334920883, -0.013764002360403538, -0.00497337244451046, -0.004616966005414724, -0.035290881991386414, 0.04561212658882141, -0.01521094050258398, -0.018020205199718475, -0.018066953867673874, -0.012173802591860294, 0.03081033192574978, -0.00836666114628315, -0.06075019761919975, -0.0250859372317791, 0.022010013461112976, -0.022417709231376648, -0.042819250375032425, 0.0726652517914772, -0.021673796698451042, 0.017319152131676674, -0.035613369196653366, 0.04536004737019539, 0.039885520935058594, 0.006441585253924131, -0.039966702461242676, 0.04426318034529686, -0.031031126156449318, -0.03004891611635685, 0.02176346443593502, 0.026476511731743813, 0.016041766852140427, 0.03828945383429527, 0.006613071076571941, 0.03810325264930725, -0.026453571394085884, 0.0067590754479169846, -0.05480783432722092, -0.01687532290816307, -0.0024552259128540754, 0.0009231034200638533, -0.026076870039105415, 0.01287909597158432, -0.05873451754450798, -0.05003023520112038, -0.004421783145517111, 0.00666500348597765, 0.0378921702504158, -0.0553818978369236, 0.0011857887730002403, -0.03377045318484306, -0.02654813602566719, -0.010794551111757755, 0.07388303428888321, 0.056699514389038086, 0.053926531225442886, 0.004815906286239624, 0.02762702852487564, -0.1200142651796341, 0.009355687536299229, -0.030146775767207146, -0.03045368194580078, -0.06414955854415894, 0.02488904632627964, 0.020535705611109734, 0.04181009531021118, 0.010549814440310001, -0.02809685654938221, -0.0755050852894783, -0.01728537678718567, -0.015158106572926044, 0.03204270452260971, 0.0169772207736969, -0.007756891660392284, -0.012973882257938385, 0.0008784921374171972, 0.012405038811266422, 0.016795750707387924, -0.0012629070552065969, -0.05933381989598274, -0.0339634008705616, -0.028284385800361633, -0.0438402034342289, 0.02200680412352085, 0.0063573140650987625, 0.01610805094242096, 0.050702422857284546, -0.058969080448150635, -0.022294603288173676, 0.0195148978382349, -0.07571269571781158, -0.06467296183109283, -0.012665822170674801, 0.004945091437548399, 0.04590338468551636, 0.06672313064336777, -0.004143103025853634, -0.00866102334111929, 0.03166961297392845, 0.035717763006687164, 0.0009019523859024048, 0.032039105892181396, 0.06901879608631134, -0.01400279812514782, 0.05353620648384094, -0.015301697887480259, -0.01968195289373398, 0.030419472604990005, 0.06357042491436005, 0.03308122232556343, -0.0018990796525031328, 0.016947496682405472, -0.03558715805411339, 0.0531475692987442, -0.022785810753703117, 0.008996411226689816, -0.0055329748429358006, -0.012713546864688396, 0.03510881960391998, -0.019773608073592186, -0.03446267545223236, 0.05633459985256195, 0.05934540554881096, -0.04272501543164253, 0.06978027522563934, -0.03843722864985466, -0.035703014582395554, -0.062413591891527176, -0.037537023425102234, -0.02297215722501278, -0.005324757657945156, -0.04119161516427994, -0.03529385104775429, 0.04422031715512276, 0.001094567822292447, -0.01236079540103674, 0.020378272980451584, 0.044532034546136856, -0.00781574659049511, 0.042598918080329895, 0.010724962688982487, 0.00795633252710104, 0.0055696056224405766, -0.004063188564032316, -0.024805452674627304, 0.0343514159321785, -0.028052791953086853, -0.02607252635061741, 0.08089455217123032, -0.03944477438926697, -0.03615480661392212, 0.06603696942329407, -0.10276448726654053, 0.009530331008136272, -0.02307283505797386, -0.032516445964574814, 0.025366807356476784, -0.015234739519655704, 0.013098938390612602, 0.022113343700766563, -0.02314949966967106, -0.005968069192022085, 0.017651239410042763, 0.0408400222659111, -0.029079250991344452, 0.031778331845998764, 0.008665524423122406, -0.0018622472416609526, 0.018858030438423157, 0.01967790722846985, 0.01070735789835453, -0.04128361865878105, 0.03361750394105911, 0.008490018546581268, 0.014277536422014236, 0.003603865159675479, 0.0034469396341592073, 0.03041851706802845, 0.04408443719148636, -0.09735284745693207, 0.0009078943985514343, 0.047223400324583054, 0.02157708629965782, -0.013288827612996101, 0.0009991007391363382, 0.030915187671780586, -0.009253663010895252, 0.030023248866200447, -0.02907636947929859, -0.02041931264102459, 0.03299454599618912, 0.015762653201818466, 0.02587748132646084, 0.031159888952970505, 0.02430287003517151, 0.019166219979524612, -0.026263568550348282, 0.008124927058815956, 0.053330689668655396, 0.03200953081250191, 0.01815849356353283, 0.02732079103589058, -0.010267921723425388, 0.08526728302240372, 0.010178014636039734, -0.030171915888786316, 0.006165194325149059, 0.023264551535248756, -0.04670966416597366, 0.0032477672211825848, 0.04611988738179207, 0.03094380348920822, 0.06886114180088043, 0.009040046483278275, -0.03597185015678406, 0.04642573744058609, 0.036159396171569824, 0.04528277367353439, 0.020646804943680763, -0.05022509768605232, 0.029867039993405342, 0.04128293693065643, -0.019991761073470116, -0.021354814991354942, 0.061186838895082474, -0.08850014954805374, -0.019747445359826088, -0.03375028073787689, 0.06245104968547821, -0.03845975548028946, -0.0394124910235405, -0.02914971485733986, 0.019565047696232796, 0.06978078931570053, -0.03414114937186241, 0.04434226080775261, -0.0919785350561142, -0.027794960886240005, -0.04827073961496353, 0.02079654298722744, -0.022631028667092323, 0.0338737852871418, 0.008448341861367226, -0.035603176802396774, -0.04548758640885353, 0.00444000493735075, 0.008609811775386333, 0.06745492666959763, -0.030718697234988213, 0.006898436229676008, -0.04984993115067482, -0.04001385346055031, -0.02324332669377327, -0.042112451046705246, 0.010213451460003853, -0.07316494733095169, 0.09019538760185242, 0.0007586232968606055, -0.025762274861335754, 0.07150177657604218, -0.012449405156075954, 0.009879840537905693, -0.04279439151287079, -0.0006433996604755521, 0.010098068043589592, 0.03718341514468193, -0.02888629026710987, 0.014900666661560535, -0.025160333141684532, -0.05431605502963066, -0.0335119292140007, -0.006666166242212057, 0.03741121292114258, -0.005984089337289333, 0.03569852188229561, -0.007762812077999115, 0.055794551968574524, -0.07245715707540512, 0.013622436672449112, 0.014367400668561459, -0.06886114925146103, 0.045689091086387634, -0.04134510084986687, -0.015127604827284813, -0.04071241617202759, 0.007530426140874624, 0.022008856758475304, 0.0035778034944087267, -0.033361900597810745, 0.05343998968601227, 0.040248531848192215, -0.04830903559923172, -0.0668044462800026, -0.003873890731483698, -0.07620583474636078, 0.012079485692083836, 0.041963689029216766, -0.02256818301975727, 0.005721213761717081, 0.06697334349155426, 0.004249165765941143, -0.044392332434654236, -0.003104910021647811, -0.020939454436302185, 0.08842898160219193, 0.05328819528222084, 0.008875078521668911, 6.760796168236993e-06, 0.031199757009744644, -0.06138961389660835, 0.012942099943757057, -0.017122089862823486, 0.004353170748800039, 0.03511356934905052, 0.0007320372969843447, 0.04422777518630028, -0.021107884123921394, -0.0435350202023983, 0.10954660922288895, -0.017714383080601692, -0.023942548781633377, 0.05793404206633568, 0.017414677888154984, 0.04288017004728317, 0.007593153044581413, -0.006006971932947636, -0.008093726821243763, 0.013256845995783806, -0.06282500922679901, -0.02539217658340931, -0.010602245107293129, -0.006880040280520916, -0.010702196508646011, 0.004583141766488552, 0.036933451890945435, -0.02684655971825123, -0.01863209344446659, -0.022266628220677376, 0.02636772394180298, 0.0008145397296175361, -0.055988162755966187, -0.012818288058042526, 0.009110338054597378, -0.012542376294732094, 0.044988006353378296, -0.03531690686941147, 0.007933851331472397, 0.0006716718198731542, 0.026579853147268295, 0.022369416430592537, -0.04772595316171646, -0.04338058456778526, 0.017508061602711678, 0.020505517721176147, 0.008129417896270752, -0.04004284366965294, 0.04742484167218208, 0.05419168621301651, 0.06869523227214813, 0.009335690177977085, -0.031773414462804794, -0.006866006180644035, -0.04198982194066048, -0.016511356458067894, -0.047741685062646866, -0.00860943365842104, -0.015882205218076706, -0.03180937096476555, 0.04664008691906929, -0.033835746347904205, 0.003631118219345808, 0.04410184919834137, -0.03482785448431969, -0.013735439628362656, 0.0006110896356403828, -0.026249170303344727, -0.028897928074002266, 0.03659730777144432, -0.0005237541627138853, 0.005034714937210083, 0.04843359813094139, -0.0296477060765028, 0.007996277883648872, 0.0005350045976229012, -0.010474974289536476, -0.053541820496320724, -0.048503126949071884, 0.03255317360162735, 0.01835530996322632, -0.05372840538620949, 0.02199043333530426, -0.023066949099302292, -0.010809886269271374, 0.021436361595988274, -0.05606241896748543, 0.018163209781050682, -0.000992308952845633, 0.01829688623547554, -0.025961043313145638, 0.010298779234290123, -0.016774984076619148, -0.003590464359149337, 0.008445197716355324, -0.04380837082862854, 0.007977941073477268, -0.035530395805835724, 0.03982687368988991, 0.01460331492125988, -0.010706373490393162, 0.020881755277514458, -0.005561348516494036, -0.035302869975566864, 0.018316635861992836, -0.033866193145513535, -0.008589563891291618, 0.03687436506152153, -0.028628289699554443, 0.06254357844591141, -0.019078774377703667, 0.040828317403793335, 0.012796635739505291, -0.00990329124033451, -0.025337673723697662, 0.07185117155313492, -0.04421442002058029, -0.0223102830350399, -0.08927708864212036, 0.0692029520869255, 0.051856640726327896, -0.038166943937540054, 0.021371440961956978, 0.07577966898679733, -0.01040408480912447, 0.001771849230863154, 0.03834813833236694, -0.04819266125559807, 0.026148024946451187, 0.0073706116527318954, 0.005617820657789707, 0.04871244356036186, -0.016848701983690262, 0.029231153428554535, -0.004678687080740929, 0.003953858744353056, 0.0049492307007312775, -0.03966837748885155, -0.01968393847346306, -0.03986433893442154, -0.00273282453417778, -0.026374058797955513, 0.013325977139174938, 0.04869725555181503, -0.008984488435089588, 0.02189658023416996, -0.014005259610712528, 0.06744984537363052, 0.026519466191530228, 0.019414450973272324, 0.025356095284223557, 0.04050690308213234, -0.021487100049853325, -0.07533563673496246, -0.019832810387015343, 0.007797828875482082, -0.0392216220498085, -0.0002709545660763979, 0.011284494772553444, -0.01893804222345352, 0.0023868170101195574, -0.02396756410598755, 0.02051619440317154, -0.03979155048727989, -0.04585643112659454, -0.004922164138406515, -0.05199916660785675, -0.027608515694737434, -0.009197047911584377, -0.02365109510719776, -0.011809698306024075, -0.039072442799806595, 0.02244345284998417, -0.030519437044858932, 0.02517164684832096, -0.03464857488870621, -0.07343223690986633, -0.018765008077025414, 0.007755048107355833, -0.04107348248362541, -0.010693296790122986, 0.02135312557220459, -0.0067646075040102005, 0.03621361777186394, 0.011133178137242794, 0.034509919583797455, -0.0714801624417305, -0.010056308470666409, 0.021459877490997314, 0.015569466166198254, 0.06929947435855865, 0.014064994640648365, 0.027940893545746803, 0.02441844344139099, -0.002507399767637253, -0.030054064467549324, 0.00407850556075573, 0.011608608067035675, 0.0074010007083415985, -0.07909763604402542, -0.0726192519068718, 0.03707127273082733, 0.07966181635856628, 0.04063841700553894, -0.07152608782052994, -0.04673108831048012, 0.05637718364596367, -0.0021905149333178997, -0.06776217371225357, 0.028925277292728424, -0.026288684457540512, -0.000658943725284189, -0.001488223671913147, -0.04627733305096626, -0.013077283278107643, -0.0011141436407342553, 0.011228611692786217, -0.027539262548089027, -0.020688451826572418, -0.09775073826313019, -0.02787596732378006, 0.049875278025865555, -0.06634754687547684, -0.01808427833020687, -0.04113076627254486, -0.005165171343833208, -0.030014941468834877, -0.049892280250787735, -0.03051822818815708, 0.0026397029869258404, -0.04331314563751221, 0.00752017367631197, -0.0685075893998146, 0.08282561600208282, -0.009217917919158936, -0.010489622130990028, 0.03329698368906975, 0.027489278465509415, 0.019719116389751434, 0.0010682025458663702, -0.005803840234875679, -0.04032111167907715, -0.028509557247161865, -0.014185969717800617, -0.10220462828874588, -0.050416719168424606, 0.03504161164164543, -0.0033362871035933495, -0.03720236197113991, 0.022267544642090797, -0.022453587502241135, 0.0027630783151835203, 0.06721580028533936, 0.013600020669400692, 0.051031261682510376, -0.021418623626232147, -0.015988821163773537, 0.05876920744776726, -0.012177295051515102, 0.021050427109003067, 0.02625863067805767, -0.030108371749520302, 0.0014013914624229074, -0.034081779420375824, 0.0047033741138875484, -0.0341527946293354, 0.01890423335134983, -0.02489885874092579, -0.01972726359963417, 0.014485130086541176, -0.0152010228484869, -0.036098383367061615, 0.023258114233613014, -0.024019330739974976, -0.026761021465063095, 0.0895678848028183, 0.044743966311216354, 0.004279365297406912, -0.009172673337161541, -0.018492458388209343, 0.019765617325901985, 0.05879117548465729, -0.036162469536066055, 0.04912616312503815, 0.03912058100104332, 0.014851724728941917, 0.07303783297538757, 0.031866297125816345, 0.014827587641775608, 0.02039123885333538, 0.04021235555410385, -0.023636769503355026, 0.0752519965171814, -0.00384213263168931, -0.01611296460032463, -0.01777404546737671, 0.013113397173583508, 0.03315938264131546, -0.02015618234872818, 0.00039851595647633076, 0.005540075711905956, 0.045525845140218735, 0.023364270105957985, -0.007973885163664818, -0.010434606112539768, -0.01718311570584774, -0.013950067572295666, -0.005458112806081772, -0.005472177639603615, 0.01650405488908291, -0.017291095107793808, -0.03454237058758736, 0.015059295110404491, 0.015006384812295437, -0.04315788298845291, -0.013654174283146858, -0.055904582142829895, -0.016222652047872543, 0.061776045709848404, -0.022446412593126297, -0.007888266816735268, 0.03428787365555763, -0.04150649160146713, 0.05237049609422684, 0.004202385898679495, -0.03529854491353035, 0.0794556513428688, 0.0168289877474308, -0.04950501397252083, 0.004984215833246708, 0.031570155173540115, 0.009516327641904354, -0.06658083200454712, -0.08843466639518738, -0.0440591536462307, -0.04524592310190201, 0.031193293631076813, 0.015604942105710506, -0.014777353033423424, 0.01218712143599987, -0.025362811982631683, 0.03915872424840927, -0.01619267649948597, -0.008440815843641758, 0.018353620544075966, -0.011378152295947075, -0.011084355413913727, -0.021067021414637566, 0.04583381116390228, 0.07430639863014221, -0.021748946979641914, -0.021274015307426453, 0.0008925214060582221, -0.03484274074435234, 0.013812590390443802, -0.03395926207304001, -0.003090291516855359, -0.024170396849513054, -0.03633461520075798, -0.03036363422870636, -0.09072370827198029, 0.03519313409924507, -9.524611959932372e-05, -0.006736834533512592, -0.0029590993653982878, -0.007997770793735981, -0.049103572964668274, 0.055112358182668686, -0.04002766311168671, 0.04764171689748764, -0.010394648648798466, 0.01843676157295704, 0.04510112106800079, -0.008009038865566254, 0.012311839498579502, 0.03307190164923668, -0.02727540396153927, -0.01052034366875887, -0.06686107814311981, -0.025200186297297478, 0.008514245972037315, 0.02986687608063221, 0.04044274240732193, -0.05347859114408493, 0.026374241337180138, -0.007056005299091339, -0.01758238486945629, -0.0008113018120639026, 0.04862716421484947, 0.03282170742750168, -0.0644037276506424, -0.025027355179190636, -0.017839377745985985, -0.017533687874674797, -0.014833846129477024, -0.029477037489414215, -0.01992020569741726, -0.03000158630311489, 0.01537594199180603, 0.03252630680799484, -0.012009388767182827, 0.00706727197393775, -0.03134772554039955, 0.04415419325232506, 0.009552900679409504, 0.027940070256590843, 0.018324458971619606, -0.022307299077510834, 0.022545821964740753, 0.005038062110543251, 0.047065138816833496, 0.010226340033113956, -0.0033526229672133923, 0.0353253111243248, -0.06386253237724304, -0.029864327982068062, 0.018977029249072075, 0.07903049886226654, 0.013513779267668724, 0.03215623274445534, 0.02398828975856304, 0.025617169216275215, 0.008711598813533783, 0.04742112010717392, 0.0207371823489666, -0.03660240024328232, -0.012948843650519848, 0.00709214061498642, -0.009455122984945774, -0.0863548070192337, 0.002311927266418934, 0.04126385971903801, -0.015970563516020775, -0.04142278805375099, 0.028396334499120712, -0.02782902680337429, -0.049284860491752625, 0.03911392390727997, 0.0117160240188241, -0.020081598311662674, -0.041548825800418854, 0.016171453520655632, -0.044273052364587784, 0.03752628341317177, -0.015589632093906403, -0.010508852079510689, 0.024080287665128708, 0.06095918267965317], [-0.0035522219259291887, 0.04090055078268051, 0.04634915664792061, -0.019498497247695923, -0.06267493963241577, -0.036950863897800446, -0.04594958573579788, 0.003359261667355895, -0.0383412204682827, -0.059221796691417694, 0.014739586040377617, 0.0352700836956501, 0.019117528572678566, -0.08905215561389923, 0.002038646722212434, -0.01973106898367405, 0.033772557973861694, -0.02162357233464718, -0.06540415436029434, 0.00027489810599945486, -0.013329640030860901, 0.052200742065906525, -0.036660484969615936, 0.014741187915205956, -0.0088118277490139, -0.04261572286486626, 0.018358279019594193, 0.0018434504745528102, -0.017649341374635696, -0.02742180787026882, 0.03390423581004143, -0.039950691163539886, -0.007510338444262743, -0.03095804713666439, 0.00556566659361124, -0.0006082435720600188, 0.041133902966976166, -0.01801302842795849, 0.010229136794805527, 0.0009167258394882083, -0.019098233431577682, 0.029098432511091232, 0.04279862344264984, -0.023739615455269814, 0.015362718142569065, 0.031835079193115234, 0.051956482231616974, 0.0018967152573168278, 0.047052595764398575, -0.017586717382073402, -0.03899196907877922, -0.056983835995197296, -0.04114082083106041, -0.027892757207155228, -0.015481250360608101, -0.06624097377061844, -0.04738203436136246, 0.03121049702167511, -0.03132108971476555, 0.05090579763054848, -0.004242848139256239, 0.015773775056004524, 0.04121052473783493, 0.024014785885810852, 0.009227871894836426, 0.006130917929112911, 0.06960074603557587, 0.02150096371769905, -0.04204324260354042, -0.010842115618288517, -0.08216755092144012, 0.008570543490350246, -0.019311128184199333, 0.018652012571692467, -0.02801879495382309, 0.05116342753171921, 0.05934806540608406, 0.03166554495692253, 0.058315079659223557, -0.07968629896640778, -0.006976149044930935, -0.0017163824522867799, -0.039507582783699036, 0.020969649776816368, 0.0071615600027143955, 0.007867497391998768, -0.05064038187265396, -0.009981629438698292, 0.060032740235328674, 0.033278852701187134, -0.02080390602350235, -0.06400247663259506, 0.035685207694768906, -0.05050816759467125, 0.014451352879405022, 0.009406257420778275, 0.014456799253821373, -0.01637059450149536, -0.00101329549215734, -0.032600972801446915, -0.049060869961977005, -0.03328999504446983, -0.04077671468257904, -0.12310860306024551, 0.007231287658214569, -0.012645453214645386, 0.017538271844387054, 0.021867478266358376, 0.043680574744939804, 0.036880165338516235, 0.046096645295619965, 0.049399085342884064, -0.01977434568107128, -0.017965536564588547, 0.0632198229432106, -0.013770261779427528, 0.06221161037683487, 0.036915842443704605, -0.027768386527895927, 0.007180570159107447, 0.03903195634484291, 0.015424390323460102, -0.014856414869427681, 0.028926121070981026, -0.004543848801404238, 0.024917354807257652, 0.07971995323896408, -0.017101094126701355, 0.039745625108480453, -0.03766677901148796, 0.004376930184662342, -0.014250492677092552, 0.042900025844573975, -0.030110323801636696, 0.08390866965055466, -0.036600518971681595, 0.04900435358285904, 0.002898689592257142, 0.019448118284344673, -0.08171471208333969, -0.0006285253912210464, 0.014642518013715744, 0.017774032428860664, -0.06974416226148605, -0.0142422616481781, -0.006522976793348789, -0.010205558501183987, -0.035951048135757446, 0.03643558919429779, 0.021893147379159927, 0.006889867130666971, -0.023569509387016296, 0.00021193784778006375, 0.03257656842470169, -0.0165722593665123, 0.018950341269373894, -0.030666247010231018, 0.028547391295433044, 0.01717689260840416, -0.022358853369951248, 0.025748390704393387, -0.03818919509649277, -0.014638494700193405, 0.05574044585227966, -0.053714897483587265, 0.042872004210948944, -0.02805187925696373, -0.035618145018815994, 0.02673056162893772, 0.03270807862281799, 0.003806035965681076, -0.007622485514730215, -0.034046463668346405, -0.0223440770059824, 0.04368996620178223, 0.0007103316602297127, -0.034815967082977295, 0.04853386431932449, 0.03840187191963196, 0.07565990090370178, -0.017101584002375603, 0.024510471150279045, 0.05545862764120102, 0.0448790043592453, 0.0029519100207835436, 0.02640875242650509, -0.0058815134689211845, -0.040011897683143616, 0.04232647642493248, 0.0292133167386055, 0.013247459195554256, -0.08940614759922028, 0.020910967141389847, 0.012549963779747486, 0.08386512845754623, 0.0009490289376117289, 0.02846914902329445, 0.06227154657244682, 0.008544040843844414, 0.02446099743247032, -0.031112639233469963, -0.022578567266464233, 0.01436156127601862, -0.013115526176989079, -0.015560707077383995, -0.0035965268034487963, -0.007626033388078213, 0.035686179995536804, 0.027698537334799767, -0.04994343966245651, -0.008033557794988155, 0.020816868171095848, 0.02286163903772831, -0.005201586987823248, 0.008495879359543324, 0.039540648460388184, -0.026978641748428345, -0.019973156973719597, -0.032625820487737656, 0.011759028770029545, -0.00891964603215456, -0.014113071374595165, 0.01752910204231739, 0.0076764607802033424, 0.020609546452760696, 0.01137836929410696, -0.09546982496976852, 0.03273729607462883, 0.03887040540575981, -0.0036903712898492813, 0.006434977985918522, -0.02092760056257248, 0.10241863876581192, -0.0011437227949500084, 0.01892128586769104, -0.005441289860755205, 0.010081798769533634, -0.041858553886413574, -0.0484423004090786, -0.03270191699266434, 0.04079876095056534, 0.010780836455523968, -0.09531335532665253, -0.05168901011347771, 0.06604393571615219, 0.03998959809541702, -0.04749913886189461, -0.006867260206490755, -0.06071946397423744, -0.00033579368027858436, 0.0033726650290191174, -0.03946813941001892, 0.0020320925395935774, 0.0630972757935524, -0.035230010747909546, -0.0049287425354123116, -0.039054255932569504, -0.016258608549833298, -0.021154487505555153, 0.042911261320114136, -0.033682551234960556, -0.005127421580255032, -0.03691144660115242, -0.029380667954683304, 0.020030532032251358, -0.010465274564921856, 0.03983141481876373, -0.04602677375078201, 0.0103148203343153, -0.01616274006664753, -0.015326271764934063, 0.022542564198374748, 0.07985129207372665, -0.009591695852577686, 0.0008881884277798235, 0.05000234767794609, -0.013573379255831242, -0.02146003395318985, -0.01095989253371954, 0.05251894146203995, 0.012325244024395943, -0.020039856433868408, -0.024685818701982498, -0.02931581437587738, -0.0048383502289652824, 0.03204863518476486, 0.01334812119603157, -0.02106657065451145, 0.06192271411418915, -0.042983219027519226, -0.04581352695822716, 0.0009328814339824021, -0.011810692958533764, 0.0008271537371911108, -0.025845281779766083, 0.018306687474250793, 0.0016914047300815582, -0.0007061429787427187, 0.05584477260708809, 0.005824873689562082, -0.04609505087137222, -0.003258181270211935, -0.0038595222868025303, -0.04496946930885315, -0.06134963408112526, -0.01125703752040863, -0.08703779429197311, -0.036794014275074005, -0.0368669331073761, -0.008108553476631641, 0.04528201371431351, 0.05035979673266411, 0.010263344272971153, -0.009195368736982346, -0.0041316295973956585, -0.01744180917739868, 0.052097197622060776, 0.056289561092853546, -0.0026291669346392155, -0.032120946794748306, 0.04993583261966705, -0.007313667330890894, 0.027026401832699776, -0.02539648488163948, -0.007812537252902985, -0.025261100381612778, 0.02935783565044403, 0.02917948178946972, -0.01482989452779293, -0.10977757722139359, 0.04445432871580124, 0.031009577214717865, -0.05109461024403572, 0.02683238312602043, 0.015003181993961334, 0.03702235221862793, 0.006927466951310635, 0.020707493647933006, 0.078761987388134, 0.025571979582309723, 0.02477424219250679, -0.017706304788589478, -0.027400637045502663, 0.000416386203141883, -0.02103959023952484, 0.022790294140577316, 0.03590760380029678, 0.04488186910748482, -0.021396446973085403, -0.0460747554898262, -0.012848039157688618, 0.03667731210589409, -0.034884434193372726, -0.019639043137431145, -0.006927803624421358, 0.010787914507091045, 0.05908666178584099, -0.013647721149027348, -0.02669593319296837, 0.030884739011526108, -0.004798649810254574, -0.004314788617193699, 0.0026431672740727663, -0.05237473174929619, 0.005684013944119215, -0.007306208368390799, -0.013270293362438679, -0.0806540995836258, 0.03092719055712223, 0.07706815004348755, 0.00998222827911377, -0.0019064265070483088, -0.002946410560980439, 0.06270443648099899, 0.001611498766578734, 0.02920677699148655, -0.04337092116475105, -0.038806017488241196, -0.04501154646277428, -0.03854392096400261, -0.026510344818234444, -0.03626537322998047, 0.03377849981188774, 0.045392923057079315, 0.0035753059200942516, -0.01584228128194809, 0.050828248262405396, -0.02528090961277485, -0.0660729631781578, -0.015423690900206566, 0.03151027485728264, 0.027542846277356148, -0.008510430343449116, -0.0208135973662138, -0.02264409326016903, -0.0432267002761364, -0.05421840772032738, -0.06373618543148041, -0.023421194404363632, 0.08627107739448547, 0.04246043786406517, 0.002265720861032605, -0.002457152819260955, 0.018354441970586777, -0.039473723620176315, 0.04548383504152298, 0.006821871269494295, 0.08820271492004395, 0.0209968201816082, 0.061886921525001526, 1.8549819287727587e-05, -0.0391903780400753, -0.020175620913505554, -0.043275147676467896, 0.05503739416599274, 0.03195648640394211, -0.028749123215675354, -0.0326572060585022, 0.0181127917021513, 0.009190503507852554, -0.027838606387376785, 0.048432208597660065, 0.017011919990181923, 0.03587208315730095, 0.023861737921833992, -0.02008696459233761, 0.0451170951128006, -0.003608471481129527, -0.022118356078863144, 0.034605722874403, -0.011819608509540558, 0.018901465460658073, 0.012950652278959751, 0.018984857946634293, -0.03762097284197807, 0.033646345138549805, -0.04447595775127411, 0.0440370999276638, -0.08861322700977325, 0.03805985301733017, 0.020876305177807808, -0.007929744198918343, 0.038214292377233505, 0.012138862162828445, 0.020635006949305534, -0.02419804036617279, -0.027693599462509155, -0.05095839872956276, -8.926926966523752e-05, -0.011846586130559444, 0.0676448866724968, 0.0381762869656086, 0.02124517783522606, 0.03411028906702995, -0.011926203034818172, 0.024244435131549835, 0.031162351369857788, 0.0224998090416193, -0.02130797691643238, 0.015368938446044922, -0.01115505862981081, -0.015464014373719692, -0.03634590655565262, 0.010424988344311714, -0.04018424078822136, -0.018033111467957497, 0.02977382205426693, 0.008387429639697075, 0.042111799120903015, 0.02489996701478958, 0.015545983798801899, -0.009380151517689228, -0.03533823788166046, -0.02875516377389431, -0.012091191485524178, -0.0032220156863331795, -0.004649894777685404, -0.026448171585798264, -0.023137584328651428, -0.005859845317900181, -0.019290480762720108, -0.02576580084860325, 0.03747810423374176, 0.0009896791307255626, 0.007011731620877981, 0.0024940541479736567, -0.0016441626939922571, 0.0009172866703011096, 0.00652675935998559, -0.0240423996001482, -0.01808168739080429, 0.029695633798837662, -0.006572339218109846, -0.04161534458398819, 0.025669781491160393, -0.022710856050252914, 0.0005470735486596823, -0.05717975273728371, 0.014512966386973858, 0.0042821080423891544, -0.05513231083750725, 0.021885743364691734, 0.008239406161010265, 0.04683332517743111, -0.0016743168234825134, 0.017756769433617592, -0.014734510332345963, -0.0349636934697628, -0.009894130751490593, 0.00921722874045372, 0.10131259262561798, -0.007071192841976881, -0.033349134027957916, 0.008584994822740555, -0.009650450199842453, -0.034750960767269135, 0.04752247780561447, 0.03525641933083534, 0.039493363350629807, -0.04282904416322708, -0.03180240839719772, -0.014431191608309746, 0.058756981045007706, 0.03445952385663986, -0.019023241475224495, -0.06298664212226868, 0.027751052752137184, 0.03689305856823921, -0.04819256439805031, 0.044798508286476135, -0.011292580515146255, 0.02938132733106613, 0.025131847709417343, -0.0022559065837413073, -0.07130809128284454, 0.03698310628533363, -0.03718596696853638, -0.031089749187231064, -0.0755850225687027, -0.03603734076023102, -0.03273864835500717, 0.03341200202703476, -0.020601792261004448, 0.024697886779904366, 0.028879206627607346, -0.001976124243810773, -0.03411584347486496, -0.00733205396682024, -0.0592687614262104, 0.003730422118678689, 0.01155055221170187, -0.026133758947253227, -0.11036014556884766, 0.026905909180641174, -0.014279840514063835, 0.023391399532556534, 0.005776400212198496, -0.006288762670010328, -0.006145157851278782, 0.018944311887025833, 0.02475220523774624, -0.050890274345874786, -0.06225620210170746, -0.017835361883044243, -0.0708828940987587, -0.049826234579086304, 0.06410550326108932, -0.035484105348587036, 0.026599206030368805, -0.0255526602268219, 0.018390601500868797, 0.017229529097676277, 0.04153822362422943, -0.051951609551906586, 0.08488055318593979, -0.03664921596646309, 0.003914718981832266, 0.014392589218914509, 0.007620740681886673, -0.006489935331046581, 0.0290475245565176, -0.06056155264377594, -1.9852775949402712e-05, -0.07166183739900589, -0.03690657019615173, -0.05681800842285156, 0.0050044311210513115, -0.007149011828005314, -0.025673016905784607, 0.04988085851073265, -0.027667520567774773, -0.004479094874113798, -0.031166397035121918, 0.027269935235381126, -0.007372680585831404, 0.03190404921770096, 0.054570358246564865, -0.046552836894989014, -0.02359148859977722, 0.0026560674887150526, -0.009930351749062538, 0.059499260038137436, -0.08681215345859528, -0.006133311428129673, 0.0011588679626584053, 0.01739618554711342, 0.03305252641439438, 0.007952138781547546, -0.008768501691520214, -0.04887445271015167, 0.07614002376794815, 0.022708943113684654, 0.10698642581701279, -0.0005132012302055955, -0.010053098201751709, -0.03995468467473984, 0.007888422347605228, -0.004683514591306448, -0.003170193172991276, 0.023172151297330856, -0.0831679180264473, 0.03393826633691788, -0.024853331968188286, 0.01992824673652649, 0.0400586798787117, 0.034149251878261566, -0.02286711521446705, -0.012434123083949089, -0.022211819887161255, -0.0028508645482361317, -0.04052929952740669, 0.0019231874030083418, 0.047154705971479416, 0.00430583069100976, -0.04702620580792427, -0.02436651848256588, 0.01600678078830242, 0.05420013144612312, 0.05578209459781647, 0.029123270884156227, 0.035598527640104294, -0.009210181422531605, -0.006839003413915634, 0.028505463153123856, -0.003060022834688425, -0.03622741252183914, 0.06696535646915436, -0.011650837026536465, -0.021754760295152664, 0.011151948943734169, -0.037354882806539536, -0.022503111511468887, -0.04443575441837311, -0.06490189582109451, -0.006873821374028921, -0.0016112206503748894, -0.01838763989508152, 0.05216919630765915, -0.033306874334812164, -0.054968465119600296, -0.08453251421451569, 0.04536076635122299, -0.010176658630371094, 0.00589369423687458, 0.057240039110183716, 0.031612370163202286, -0.044900938868522644, -0.021753491833806038, 0.0004258914850652218, 0.022544074803590775, -0.05517581105232239, -0.018017008900642395, 0.013234268873929977, -0.01644333079457283, 0.045033641159534454, 0.008432216942310333, 0.014448423869907856, -0.02154390886425972, -0.025199929252266884, 0.005096252541989088, -0.006110740825533867, -0.02864929288625717, 0.02801271341741085, 0.00658063031733036, -0.02829146757721901, -0.06501450389623642, -0.0180001650005579, 0.042667191475629807, -0.03288155794143677, 0.02974868379533291, -0.017180414870381355, -0.032995741814374924, 0.03549284115433693, 0.02902451902627945, 0.00023515404609497637, -0.033409472554922104, 0.043708685785532, 0.030348874628543854, -0.04048222675919533, -0.01686197519302368, 0.007825992070138454, -0.005851124878972769, 0.04292046278715134, -0.06953691691160202, 0.018770167604088783, 0.021174002438783646, -0.02056724764406681, 0.005408007651567459, 0.05033465102314949, -0.010132749564945698, -0.05930565297603607, -0.05209476128220558, 0.022943973541259766, -0.02066594362258911, -0.04091356694698334, 0.04038833826780319, -0.017548687756061554, -0.048169929534196854, 0.026438605040311813, -0.003616111585870385, -0.007687022443860769, 0.018061960116028786, -0.013446071185171604, 0.0686022937297821, 0.030621500685811043, -0.02033603936433792, 0.014714698307216167, -0.009105704724788666, -0.044900212436914444, -0.0003989756805822253, 0.022959642112255096, -0.04675519838929176, 0.0035117510706186295, 0.023809637874364853, -0.006026884075254202, -0.07262613624334335, -0.006792100146412849, 0.05710608884692192, -0.011307715438306332, 0.06847183406352997, -0.009205831214785576, 0.015748443081974983, 0.010417855344712734, 0.0070313080213963985, 0.04773873835802078, -0.0073616597801446915, -0.008839784190058708, 0.05798886716365814, -0.07664728909730911, -0.06029177084565163, -0.039985910058021545, -0.018437059596180916, -0.024991391226649284, -0.04755079373717308, 0.04784320294857025, 0.025042805820703506, -0.05663430318236351, -0.01637062430381775, 0.09184383600950241, -0.047630518674850464, -0.004186485428363085, 0.020791659131646156, -0.018594838678836823, 0.005737962666898966, 0.013330523855984211, -0.00881943479180336, -0.03373584896326065, 0.06052697077393532], [0.030651381239295006, 0.03327444568276405, 0.010769044049084187, -0.06663458794355392, -0.034313004463911057, -0.03721711412072182, -0.03855028748512268, 0.05139993876218796, -0.018192173913121223, -0.04247049242258072, 0.05896088480949402, 0.03461841493844986, -0.04372403398156166, -0.13281217217445374, -0.014540501870214939, -0.0066445195116102695, 0.004014933481812477, -0.03386843577027321, -0.012229236774146557, -0.0015639223856851459, -0.004076911136507988, -0.011254136450588703, -0.043283164501190186, 0.01864391192793846, -0.014424252323806286, -0.0780569314956665, -0.05400911718606949, -0.002747970400378108, 0.0025311463978141546, 0.04214497283101082, 0.0353899821639061, 0.012118356302380562, 0.012003729119896889, -0.04195727780461311, -0.02559082582592964, 0.028106696903705597, -0.045331861823797226, -0.03410882502794266, -0.007647164631634951, -0.03955933079123497, -0.045430541038513184, 0.03136026859283447, 0.008345707319676876, -0.00587632367387414, 0.03860807791352272, -0.0036254229489713907, -0.008692440576851368, 0.03334349766373634, -0.009715885855257511, -0.0009383545839227736, -0.025165604427456856, 0.015462273731827736, 0.021158233284950256, 0.017191605642437935, -0.017873676493763924, 0.0030596491415053606, -0.01546157244592905, 0.02471558377146721, 0.0316668339073658, -0.00644492544233799, 0.012354652397334576, -0.023311136290431023, 0.03134898096323013, 0.02040165476500988, 0.03356628865003586, 0.010090494528412819, 0.045619897544384, 0.013468043878674507, 0.04955828934907913, 0.015333415940403938, 0.015077522024512291, 0.03844225034117699, -0.00331494421698153, -0.01401621475815773, -0.07723910361528397, 0.02893657423555851, 0.017134832218289375, -0.016994429752230644, 0.09325753152370453, -0.012801751494407654, -0.05184277519583702, 0.007814005017280579, -0.07119052857160568, -0.021889016032218933, 0.0034224006813019514, -0.07217371463775635, -0.008016264997422695, -0.02347097359597683, 0.039739273488521576, 0.08728253841400146, 0.028241591528058052, 0.009920661337673664, -0.03823520243167877, -0.029715148732066154, 0.02212115004658699, 0.009399892762303352, 0.017571469768881798, 0.03182809054851532, -0.04473363980650902, -0.00038963445695117116, -0.04852495342493057, 0.0345822274684906, -0.052752040326595306, -0.06544703245162964, -0.003445979440584779, -0.05849917605519295, -0.004106252919882536, 0.03836768493056297, 0.02091694436967373, 0.03546076640486717, 0.05453433841466904, 0.04490269720554352, 0.007900889031589031, 0.001706718816421926, 0.018372422084212303, -0.057626135647296906, 0.03314635157585144, -0.000815137755125761, -0.059546735137701035, 0.017489241436123848, 0.025296397507190704, 0.03697425127029419, 0.023267481476068497, -0.0001177113808807917, -0.020211059600114822, 0.032456204295158386, 0.047698844224214554, 0.028219155967235565, 0.005947883240878582, -0.017331494018435478, -0.013990129344165325, -0.02539237216114998, 0.035326890647411346, 0.010141676291823387, 0.04051823914051056, -0.06074358522891998, 0.04973020777106285, -0.013212962076067924, -0.025361942127346992, -0.04589567333459854, 0.03478959575295448, 0.0329638347029686, 0.0405208021402359, -0.08330384641885757, -0.04340393841266632, 0.025745872408151627, -0.009638823568820953, -0.0012761133257299662, 0.03883478790521622, 0.06497934460639954, -0.05001920461654663, 0.022232171148061752, 0.010303238406777382, -0.012275844812393188, -0.014297066256403923, 0.017417918890714645, -0.004300644621253014, 0.0002863538102246821, 0.08420903980731964, 0.011760708875954151, 0.04389180243015289, 0.0013874127762392163, -0.006399204023182392, 0.020965468138456345, -0.11899758875370026, -0.0028750982601195574, 0.014895682223141193, 0.02046172134578228, 0.020287957042455673, 0.045942436903715134, 0.09274137020111084, -0.028601251542568207, 0.0038527175784111023, -0.01195161510258913, 0.036066021770238876, -0.027187123894691467, -0.040359094738960266, 0.0638735443353653, 0.05975842475891113, -0.006315904203802347, -0.01015225425362587, -0.014759721234440804, 0.03983699902892113, 0.07480224221944809, -0.002902603941038251, -0.01679093949496746, -0.0717313140630722, -0.02322234958410263, 0.05470962077379227, 0.03297699987888336, 0.05453029274940491, -0.07963955402374268, 0.018673153594136238, 0.05003818869590759, 0.05220606178045273, -0.04735083505511284, -0.02353566512465477, 0.07767943292856216, 0.009366468526422977, 0.021393051370978355, -0.008862430229783058, 0.019843682646751404, 0.01882939226925373, 0.00845069158822298, -0.011401340365409851, 0.08429709076881409, 0.008112898096442223, -9.222088556271046e-05, 0.006955672521144152, 0.011359067633748055, -0.03477468341588974, 0.043426238000392914, 0.02123904600739479, 0.01773175597190857, 0.008236521854996681, 0.05549635365605354, -0.04551566764712334, -0.04795129969716072, -0.03605467453598976, 0.046469565480947495, 0.003320090938359499, 0.05102796480059624, 0.031694356352090836, -0.037815459072589874, 0.04961637780070305, -0.004999005701392889, -0.033853691071271896, 0.02327766828238964, 0.06191699579358101, -0.022741906344890594, 0.02682100236415863, 0.003007973311468959, 0.028270695358514786, 0.011086767539381981, 0.022749068215489388, -0.041467662900686264, 0.05448448657989502, -0.08697838336229324, -0.047419510781764984, -0.04063970968127251, 0.04142133146524429, -0.02707630768418312, -0.037176068872213364, -0.02693469077348709, 0.028429893776774406, 0.07081320136785507, -0.006375535391271114, -0.0012376101221889257, 0.00019154053006786853, -0.028615767136216164, 0.016428813338279724, -0.05099615082144737, -0.003960852045565844, 0.05064092203974724, -0.03593311458826065, 0.03567887097597122, -0.020156757906079292, 0.002800093963742256, -0.03560580685734749, -0.005107002332806587, -0.025230122730135918, -0.04511856287717819, -0.0031734080985188484, -0.030442237854003906, -0.04014613479375839, 0.004726074635982513, 0.019197747111320496, -0.05816248059272766, 0.08226504176855087, 0.011820120736956596, -0.006068275310099125, 0.08108136802911758, -0.006843069102615118, -0.06638015806674957, -0.004532326012849808, -0.02770225889980793, -0.004033014178276062, -0.0017791042337194085, -0.04205949231982231, 0.08494232594966888, -0.01933216117322445, -0.031208770349621773, 0.023076506331562996, -0.03266536816954613, 0.02429567649960518, -0.0047551789321005344, -0.01529451459646225, -0.023769648745656013, 0.05910636857151985, -0.030017780140042305, -0.009297030046582222, 0.038739368319511414, -0.03378386050462723, 0.022683290764689445, -0.008542606607079506, -0.021058635786175728, 0.048303309828042984, -0.016679132357239723, 0.05979049578309059, -0.014504621736705303, -0.026962358504533768, -0.0035281165037304163, -0.018293270841240883, -0.022560182958841324, -0.05358064919710159, 0.0076419031247496605, -0.04938173294067383, -0.04642147570848465, -0.0358174704015255, 0.034420114010572433, 0.04791870340704918, 0.02053716778755188, 0.02007426880300045, -0.06352363526821136, -0.01186454575508833, 0.0017237908905372024, 0.010142050683498383, 0.04562631994485855, -0.03927573189139366, 0.0018521563615649939, 0.021671675145626068, -0.0039011770859360695, 0.0010764431208372116, -0.05702250450849533, 0.0005389582947827876, -0.0013765515759587288, 0.05032758414745331, 0.06353095918893814, 0.05307607725262642, -0.06936870515346527, 0.08178309351205826, 0.026408860459923744, -0.04575647786259651, 0.004465046338737011, 0.048550695180892944, -0.005264983978122473, -0.015484265051782131, -0.02047555334866047, 0.04046408087015152, 0.03223338723182678, -0.024020463228225708, 0.011370541527867317, -0.03581949323415756, -0.05023614317178726, -0.04534987732768059, 0.00276913377456367, 0.016009489074349403, 0.07270720601081848, -0.05514625459909439, -0.05643409490585327, -0.0069361659698188305, -0.02211736887693405, -0.038886070251464844, 0.0034531583078205585, 0.0350780114531517, -0.024744300171732903, 0.00810850691050291, 0.0714227631688118, 0.010009956546127796, 0.0651223212480545, 0.052411969751119614, 0.0060937367379665375, -0.020644661039114, -0.02214747667312622, 0.018071524798870087, 0.021003857254981995, -0.01820606365799904, -0.02145875245332718, 0.0507427379488945, 0.08227711915969849, 0.00023964753199834377, -0.01916513592004776, 0.06348457932472229, -0.01604275405406952, -0.02615121379494667, -0.017681019380688667, -0.01684892550110817, -0.08274149149656296, -0.018319670110940933, 0.01646668091416359, -0.004483974073082209, -0.03478709235787392, 0.04871267080307007, 0.043232861906290054, 0.03269960358738899, 0.008349982090294361, -0.006257133558392525, -0.053122859448194504, -0.013804042711853981, 0.06892045587301254, 0.03741341456770897, 0.034497328102588654, -0.005943501368165016, 0.008352164179086685, 0.030420146882534027, -0.06039911508560181, -0.037753164768218994, -0.018516389653086662, 0.02437490038573742, 0.03825721517205238, 0.04607661813497543, -0.03692067414522171, 0.021858805790543556, 0.049503881484270096, 0.07588841766119003, 0.011455263942480087, 0.024429138749837875, 0.052266690880060196, -0.013177473098039627, 0.03995819762349129, 0.015220096334815025, -0.03052876703441143, -0.04885081574320793, -0.01776307448744774, -0.05116082727909088, -0.010256616398692131, -0.0025776291731745005, -0.022500356659293175, 0.002823243383318186, 0.016774103045463562, 9.661247895564884e-05, 0.010604558512568474, -0.013087739236652851, -0.0007959168287925422, -0.028955945745110512, -0.03075398877263069, 0.07887911051511765, -0.024238789454102516, -0.035063255578279495, 0.055739376693964005, 0.021052192896604538, 0.042431194335222244, -0.06198925897479057, 0.02833849936723709, 0.003118390217423439, 0.027546193450689316, -0.03380443528294563, 0.0033617892768234015, -0.009160191752016544, 0.05830324813723564, -0.04049734026193619, -0.008012223057448864, 0.016033541411161423, 0.059838827699422836, 0.03294086083769798, 0.013923076912760735, 0.0031361952424049377, -0.033975750207901, 0.038925621658563614, 0.058160450309515, -0.004479113966226578, 0.029580870643258095, -0.013018700294196606, 0.07800386101007462, -0.01943945325911045, 0.03166843205690384, 0.004222556483000517, 0.028192367404699326, -0.057531632483005524, -0.026089679449796677, 0.01346774585545063, 0.03774486854672432, -0.03979878127574921, -0.024329733103513718, -0.008846026845276356, -0.013578795827925205, -0.01379348710179329, 0.03110014647245407, 0.05377684533596039, 0.027175037190318108, 0.028771940618753433, 0.013856102712452412, 0.017931029200553894, -0.004239866975694895, -0.0020501608960330486, -0.03657989576458931, 0.006929808761924505, 0.009897331707179546, -0.029503490775823593, -0.03094172663986683, 0.014429891481995583, -0.006655228789895773, 0.015760166570544243, 0.036692969501018524, 0.036650385707616806, 0.05728999525308609, -0.03923232853412628, 0.03798294439911842, -0.013022766448557377, -0.029971683397889137, -0.014140840619802475, 0.01808398962020874, -0.017211586236953735, -0.03812738507986069, 0.0011696122819557786, -0.0644388496875763, -0.05719923600554466, -0.02939404547214508, 0.035734858363866806, -0.02842596545815468, -0.07446803152561188, 0.0005112916696816683, -0.015562271699309349, 0.06639561802148819, 0.011343361809849739, -0.00880825612694025, -0.029601318761706352, 0.015589265152812004, 0.02290503866970539, 0.0321994349360466, 0.04084373638033867, -0.0018406988820061088, -0.007185645867139101, -0.03743448480963707, 0.04801177233457565, 0.03577529639005661, 0.024689480662345886, 0.0057114060036838055, 0.02213074080646038, -0.05543530732393265, -0.015366025269031525, -0.034609124064445496, 0.0528036430478096, -0.017375817522406578, 0.04196172580122948, -0.008830356411635876, 0.05037843808531761, 0.024306047707796097, -0.006860411260277033, 0.042183175683021545, -0.0076188282109797, -0.0002967985928989947, 0.02313447743654251, -0.0532030425965786, -0.017991341650485992, 0.061662402004003525, -0.0014530154876410961, 0.0016509154811501503, -0.0531669445335865, -0.030275771394371986, -0.03724342957139015, -0.05765235796570778, 0.012801524251699448, 0.0095348060131073, -0.0486578643321991, 0.012551232241094112, 0.007100855465978384, -0.03905142843723297, -0.007496988866478205, 0.006648493465036154, 0.018741058185696602, -0.039163943380117416, -0.07232729345560074, 0.09446168690919876, 0.008751925081014633, 0.028519025072455406, 0.04716247692704201, -0.008105107583105564, 0.0067381300032138824, 0.0007743544992990792, -0.03663775324821472, -0.020760156214237213, -0.01670919917523861, 0.009960592724382877, -0.03325158357620239, -0.045295391231775284, 0.02881659008562565, -0.03773893043398857, 0.004720787052065134, -0.022879913449287415, 0.04242024943232536, 0.009795519523322582, 0.031883709132671356, -0.03539099544286728, 0.0451858825981617, -0.022223463281989098, 0.08558641374111176, 0.005785660818219185, 0.0013700939016416669, -0.0014720149338245392, 0.06510364264249802, -0.024260511621832848, -0.017325101420283318, 0.0033534581307321787, -0.0561387836933136, -0.03728866949677467, 0.006159179378300905, -0.006230265833437443, -0.039726268500089645, 0.039051126688718796, 0.027806416153907776, -0.00195651245303452, 0.0001975915947696194, 0.03332824259996414, -0.017050065100193024, 0.028142910450696945, 0.058069948107004166, -0.005810865201056004, 0.00501594552770257, -0.013216265477240086, 0.012036234140396118, 0.009029600769281387, -0.014324178919196129, 0.03529753163456917, 0.016496576368808746, 0.0767442062497139, 0.03102758899331093, -0.041807834059000015, -0.010664108209311962, -0.01278336625546217, 0.06492775678634644, -0.022239668294787407, 0.06528830528259277, 0.039788104593753815, 0.019323159009218216, -0.01236767414957285, -0.06710954010486603, 0.024500064551830292, 0.02828175015747547, 0.015828007832169533, -0.0042576841078698635, 0.022634396329522133, -0.038510292768478394, 0.030029883608222008, 0.018844205886125565, 0.002942087594419718, -0.06124184653162956, -0.023053187876939774, -0.01805899851024151, -0.0049998280592262745, -0.04171029105782509, -0.07889949530363083, 0.004408324137330055, -0.0018530079396441579, -0.01472505647689104, -0.008020835928618908, -0.04828784614801407, -0.001788900583051145, 0.036343663930892944, 0.018269341439008713, 0.04687756672501564, -0.015946442261338234, -0.06635863333940506, 0.10039842128753662, 0.016653435304760933, -0.04005589708685875, 0.02102043852210045, 0.0038243087474256754, -0.054350558668375015, 0.04667035490274429, -0.05232657119631767, -0.022567393258213997, -0.02825002931058407, -0.037250958383083344, -0.0025373040698468685, -0.003940555267035961, 0.03251723572611809, 0.02272924594581127, -0.011197439394891262, -0.042252492159605026, -0.04897475242614746, 0.06770247220993042, -0.05452393740415573, 0.00840961467474699, -0.01185417640954256, 0.001111236633732915, -0.02405853383243084, 0.004678545985370874, -0.0018623368814587593, -0.0034804209135472775, 0.01335576269775629, -0.06438162922859192, -0.001337592490017414, 0.012770047411322594, 0.0450856052339077, -0.039891377091407776, 0.03950752690434456, -0.02103530801832676, -0.045462969690561295, 0.0023969104513525963, 0.010418681427836418, -0.03713732585310936, -0.00650021294131875, 0.004188478458672762, -0.014440772123634815, -0.0026267303619533777, 0.017051778733730316, 0.05480814352631569, -0.01324671134352684, -0.041426561772823334, -0.003355004359036684, -0.007252896670252085, 0.05428364500403404, 0.012191573157906532, 0.03110514208674431, -0.016624953597784042, 0.022166786715388298, 0.06863737106323242, 0.0036273254081606865, -0.08047559857368469, -0.008115950971841812, 0.017827866598963737, 0.039041414856910706, -0.04683713614940643, 0.04940496385097504, -0.025487100705504417, -0.03622462600469589, -0.0293279979377985, 0.05498514324426651, 0.015345177613198757, -0.0646279826760292, -0.0071388171054422855, 0.022280773147940636, 0.03982803225517273, -0.014730089344084263, 0.04769308865070343, -0.03057136759161949, -0.016807639971375465, 0.022259868681430817, 0.004870476666837931, -0.0280169527977705, 0.022412577643990517, 0.0048781163059175014, 0.04541289806365967, -0.037868890911340714, -0.01775355450809002, 0.012988585978746414, -0.0013405565405264497, -0.03644491359591484, 0.026063961908221245, 0.05419575795531273, -0.029798835515975952, 0.015982333570718765, 0.037018049508333206, 0.015587430447340012, -0.02278655208647251, 0.016667095944285393, 0.051735665649175644, -0.03651636093854904, 0.08159897476434708, -0.008336166851222515, 0.002053425880149007, 0.007251604460179806, 0.022926680743694305, 0.08760133385658264, -0.0196207445114851, -0.02111833170056343, 0.03423716127872467, -0.016532132402062416, -0.036422740668058395, 0.016933342441916466, -0.010462027043104172, 0.0033428119495511055, 0.00011081212142016739, -0.026715969666838646, -0.012484841980040073, -0.056764181703329086, 0.020621677860617638, 0.040686409920454025, 0.007024409249424934, -0.007837844081223011, -0.003868908854201436, -0.022575052455067635, 0.01286712009459734, -0.04896822199225426, -0.04637710005044937, -0.030269579961895943, 0.05015223100781441], [0.028900939971208572, 0.04734037443995476, -0.03400686755776405, -0.02321738563477993, -0.020622653886675835, -0.025711435824632645, -0.07669057697057724, -0.01312223356217146, -0.015985975041985512, -0.052309975028038025, 0.11164255440235138, 0.06643087416887283, -0.05864984914660454, -0.06261905282735825, 0.023137541487812996, 0.00317524210549891, 0.022117696702480316, -0.027572350576519966, 0.005765249952673912, 0.03035692684352398, 0.014433782547712326, 0.03362452983856201, -0.06879721581935883, -0.003985581453889608, -0.018082059919834137, -0.06102641299366951, 0.018530381843447685, 0.004453055560588837, 0.026216858997941017, 0.01886613480746746, 0.05482354387640953, -0.0004443818179424852, -0.02077854424715042, -0.02795294113457203, 0.06777860224246979, -0.019276313483715057, 0.00017805444076657295, 0.004308041650801897, 0.024647528305649757, -0.033916544169187546, -0.022044038400053978, 0.08179532736539841, 0.007439947221428156, -0.04430428519845009, 0.07425044476985931, 0.04757799580693245, 0.024529529735445976, 0.004210717976093292, 0.03387089818716049, -0.06575663387775421, -0.0190572589635849, -0.01743263565003872, 0.009802968241274357, -0.060768287628889084, 0.00013864166976418346, -0.03487730771303177, -0.060612134635448456, 0.010576975531876087, -0.034008417278528214, 0.0283044520765543, -0.023386916145682335, -0.02577522210776806, 0.02485015243291855, -0.0008408522699028254, 0.018819333985447884, 0.05365445092320442, 0.04447583109140396, 0.025002403184771538, -0.04453742504119873, -0.011979660950601101, -0.08664142340421677, 0.0059857540763914585, -0.04536433517932892, -0.043658096343278885, -0.017849816009402275, 0.05325562506914139, 0.00946833286434412, 0.07209917902946472, 0.004146464169025421, -0.09261789917945862, -0.06656310707330704, 0.015681345015764236, -0.04518542438745499, -0.036572787910699844, 0.0050434828735888, 0.0011466625146567822, -0.015827812254428864, -0.014793356880545616, 0.0208930391818285, 0.04561809450387955, -0.040830351412296295, 0.0032798436004668474, 0.018628574907779694, -0.008743220940232277, 0.0028380851726979017, -0.0003953191335313022, 0.030357487499713898, 0.019612625241279602, -0.03395739942789078, 0.0045456672087311745, -0.025009172037243843, 0.06113819777965546, -0.010945291258394718, -0.07862482219934464, 0.014251063577830791, 0.012290433049201965, 0.014807204715907574, -0.011043798178434372, 0.0279975775629282, 0.017447449266910553, 0.07313941419124603, 0.05469546467065811, 0.00018495471158530563, 0.018749315291643143, 0.022938264533877373, -0.06998258829116821, 0.06029258668422699, 0.03626738116145134, 0.013002632185816765, 0.03866388276219368, -0.012690845876932144, 0.04898212105035782, 0.0037077267188578844, 0.03674560785293579, -0.02580379880964756, 0.03833657503128052, 0.019300805404782295, -0.029101449996232986, 0.007837981916964054, -0.05134239420294762, 0.04107536002993584, 0.02751416154205799, -0.005522366613149643, -0.02935025840997696, 0.08908554911613464, -0.019745415076613426, 0.02534179389476776, 0.027899155393242836, 0.007185949478298426, -0.10388751327991486, 0.026628583669662476, 0.045243147760629654, 0.03778398782014847, -0.002145894803106785, -0.08618428558111191, 0.047811109572649, -0.04926242306828499, -0.003003968857228756, 0.026522062718868256, -0.01126107294112444, 0.0027897630352526903, -0.002565491246059537, 0.03432634472846985, 0.02702484093606472, -0.006365816108882427, -0.05772840231657028, 0.01523570902645588, 0.000371061876649037, 0.03525782376527786, -0.029813434928655624, 0.051651231944561005, -0.00825398601591587, -0.01830446347594261, 0.039621759206056595, -0.06693333387374878, 0.024699607864022255, -0.0125331562012434, 0.013284792192280293, -0.008011803962290287, 0.049257948994636536, 0.0036964856553822756, 0.03255578875541687, -0.01308415737003088, -0.021912934258580208, 0.07716694474220276, -0.038027968257665634, -0.010878847911953926, 0.07686679810285568, 0.022867413237690926, 0.07040802389383316, -0.013289964757859707, 0.007588239386677742, 0.00879448652267456, 0.04729711264371872, -0.015351008623838425, -0.026558376848697662, -0.003721969434991479, -0.014685160480439663, 0.020503925159573555, 0.05075946822762489, 0.02184583619236946, -0.08335351198911667, 0.045268699526786804, 0.04025038331747055, 0.01438877359032631, -0.002665312495082617, 0.012868918478488922, 0.0557057149708271, 0.025656336918473244, 0.020513389259576797, 0.04012710973620415, -0.008976929821074009, 0.017774689942598343, 0.032850850373506546, 0.016467466950416565, 0.0698029026389122, 0.02074924111366272, 0.05374780297279358, 0.01658862829208374, -0.0025143700186163187, -0.01121804304420948, 0.03336050733923912, 0.02545347437262535, 0.04248024523258209, -0.014137082733213902, 0.05999525636434555, -0.028815295547246933, -0.0044515724293887615, -0.03650370612740517, 0.04815446212887764, 0.023834004998207092, 0.04283548891544342, 0.03442827984690666, 0.008775574155151844, 0.043197501450777054, -0.022845255210995674, -0.03736669942736626, 0.025143146514892578, 0.047577451914548874, 0.051490746438503265, 0.06619597971439362, -0.013446349650621414, 0.05353729426860809, 0.05969836935400963, -0.031553808599710464, -0.019305827096104622, 0.06217394024133682, -0.044029273092746735, -0.05570020154118538, 0.025084182620048523, 0.04658298194408417, -0.005784821696579456, -0.04927713796496391, -0.036901067942380905, 0.03656499460339546, 0.038125455379486084, -0.009905367158353329, -0.009282887913286686, 0.00764051778241992, 0.03105263039469719, -0.02002410776913166, -0.05605676397681236, 0.007846308872103691, 0.007849298417568207, -0.001777870231308043, 0.028192248195409775, -0.0021782026160508394, -0.02929944172501564, -0.008593393489718437, 0.017598113045096397, -0.041746847331523895, 0.0030057558324187994, -0.05713411048054695, -0.03791110962629318, 0.002441742457449436, -0.03106013312935829, 0.0019835145212709904, -0.0424688421189785, 0.03734324127435684, -0.04990920051932335, -0.07090899348258972, 0.05287611484527588, 0.0017200964502990246, -0.011088919825851917, 0.01848834753036499, 0.007721221540123224, 0.02718948759138584, 0.008368914015591145, -0.030863052234053612, 0.06695442646741867, -0.03772376477718353, -0.04511892795562744, 0.0011674497509375215, -0.03319564089179039, -0.024049369618296623, 0.01624983176589012, 0.018758274614810944, -0.029699781909585, 0.05703858658671379, -0.03671666607260704, -0.000475599110359326, 0.007975832559168339, -0.023770596832036972, -0.02767946943640709, -0.046492960304021835, 0.024823134765028954, -0.013668268918991089, 0.026182282716035843, 0.043405089527368546, 0.02282930165529251, -0.02779139205813408, 0.0021652423311024904, 0.017672166228294373, -0.006165966857224703, -0.06639657914638519, 0.008744023740291595, -0.03979698568582535, 0.015545187518000603, -0.04591823369264603, 0.0422142893075943, 0.024198587983846664, 0.04060782119631767, 0.04465688765048981, -0.02518911100924015, -0.011917950585484505, 0.02103891596198082, 0.01548724714666605, -0.011369763873517513, -0.0018863973673433065, -0.05480115860700607, 0.0544641874730587, -0.022536059841513634, -0.005286085419356823, -0.026578446850180626, 0.04531789943575859, -0.02541455812752247, 0.03916146606206894, 0.027395762503147125, -0.004680756479501724, -0.08599673211574554, 0.027691492810845375, 0.028809668496251106, -0.045488446950912476, 0.04901454597711563, 0.011692672036588192, 0.034935299307107925, -0.0033363178372383118, 0.03974509984254837, 0.034094180911779404, 0.0021807553712278605, -0.02253650315105915, -0.003403682028874755, 0.0013820974854752421, -0.021475745365023613, 0.016346417367458344, -0.06214164197444916, 0.03965900093317032, 0.08051419258117676, -0.07386773079633713, -0.06626273691654205, 0.020982427522540092, 0.030985966324806213, -0.04444103315472603, 0.04102236032485962, 0.03599224612116814, 0.025796115398406982, 0.004716484807431698, -0.021997908130288124, -0.0005443674162961543, 0.04230128973722458, 0.043927501887083054, 0.038561634719371796, 0.02448626048862934, -0.035736627876758575, 0.0040243882685899734, 0.043821658939123154, 0.009298142977058887, -0.05612872168421745, 0.011527985334396362, 0.04512253403663635, 0.04197876527905464, -0.019612837582826614, -0.009643884375691414, -0.01972457580268383, -0.008259369060397148, -0.018932083621621132, -0.0415140800178051, -0.0681941881775856, -0.03800191730260849, -0.034397926181554794, -0.017551381140947342, 0.02978319302201271, 0.049820080399513245, 0.032269999384880066, 0.04901091754436493, 0.05970397964119911, 0.03684447705745697, -0.05779781937599182, 0.004756720270961523, 0.046136558055877686, 0.042031846940517426, 0.03521306440234184, 0.0379389189183712, 0.03722166270017624, 0.00956790056079626, -0.029256613925099373, -0.028585752472281456, -0.016624590381979942, -0.02759895659983158, 0.03943004459142685, 0.04957069084048271, -0.021771077066659927, -0.029228778555989265, 0.04398148134350777, 0.03461812064051628, 0.0623454824090004, 0.004711849614977837, 0.06379041075706482, 0.0001522728125564754, 0.06329768151044846, 0.05891309306025505, -0.05597323551774025, 0.039432547986507416, -0.04520920664072037, -0.0007151564350351691, 0.013776994310319424, 0.0018136762082576752, 0.004200001247227192, 0.032259661704301834, 0.02947913482785225, -0.02767685241997242, 0.012372373603284359, 0.03731020167469978, 0.03437527269124985, 0.00847250409424305, 0.011714918538928032, -0.029312994331121445, 0.007397971581667662, -0.02414187416434288, 0.0030524730682373047, 0.04273582994937897, 0.04513942822813988, -0.032237619161605835, 0.010394779033958912, -0.006933735683560371, 0.023275332525372505, -0.014753165654838085, 0.0019587904680520296, -0.059851374477148056, 0.03593635931611061, 0.02198721468448639, 0.04541770741343498, 0.02499348856508732, 0.07559113949537277, 0.008453312329947948, -0.001602598698809743, -0.050534527748823166, -0.021242376416921616, 0.0167335644364357, 0.009716840460896492, -0.007286773528903723, 0.005972063634544611, -0.008054817095398903, 0.049934275448322296, 0.0012329680612310767, 0.05094878375530243, 0.024238955229520798, -0.024940529838204384, -0.005909869447350502, -0.04167875275015831, 0.012939322739839554, 0.038011591881513596, 0.0272944625467062, -0.005530108232051134, -0.0036177020519971848, 0.007639716379344463, -0.020132994279265404, 0.008389580994844437, 0.027951302006840706, 0.03929523006081581, 0.03286037966609001, 0.031179096549749374, -0.038643673062324524, -0.04235617443919182, -0.01769063249230385, -0.04886193946003914, 0.013234774582087994, -0.027009084820747375, -0.02164347842335701, -0.02150341123342514, -0.0011466252617537975, 0.05032968148589134, -0.002582177519798279, -0.04020575433969498, -0.04408404976129532, 0.05353410169482231, -0.04500648006796837, 0.006048114970326424, 0.020868688821792603, -0.015147504396736622, 0.034294016659259796, -0.0033745241817086935, -0.007848740555346012, -0.0367446094751358, 0.018454845994710922, -0.07175514101982117, -0.0112594123929739, -0.043728988617658615, -0.011908050626516342, -0.0365091934800148, -0.028131354600191116, 0.0037661748938262463, 0.011466134339571, 0.05685349926352501, -0.046764910221099854, -0.003634210443124175, 0.01917492225766182, 0.03660411387681961, -0.005249923560768366, 0.013168439269065857, 0.08056916296482086, -0.027197908610105515, -0.004853301681578159, 0.0417901948094368, 0.04271869361400604, -0.02888343296945095, 0.0101398890838027, 0.010677007958292961, 0.01702171377837658, -0.007948033511638641, -0.030106287449598312, -0.02614481933414936, 0.02928985469043255, 0.018121836706995964, -0.008772245608270168, -0.0013761617010459304, 0.021740645170211792, -0.018035536631941795, 0.009635861963033676, 0.04060329496860504, -0.045092228800058365, -0.04953562095761299, 0.029211940243840218, -0.0320395790040493, 0.010210983455181122, 0.03993374854326248, -0.004849678836762905, 0.022777915000915527, -0.0821458026766777, -0.017055576667189598, -0.034628547728061676, 0.0569562129676342, 0.002489484613761306, 0.027486639097332954, -0.009104222990572453, 0.0354168564081192, -0.017193589359521866, -0.03986195847392082, -0.014500654302537441, -0.0242764912545681, -0.004599725361913443, -0.019497644156217575, -0.048419974744319916, 0.10037875175476074, 0.005482322070747614, 0.011414255015552044, 0.030438389629125595, -0.026501329615712166, 0.04026814177632332, -0.013906772248446941, 0.00875861756503582, -0.020262273028492928, -0.03401575982570648, 0.04235415533185005, -0.036162927746772766, -0.012335230596363544, 0.0785655826330185, 0.014137954451143742, -0.030954845249652863, 0.0075829289853572845, 0.019972382113337517, -0.0001189117319881916, 0.02468148060142994, -0.013861546292901039, 0.08175516128540039, -0.00358992419205606, 0.018410926684737206, 0.015682509168982506, 0.026744814589619637, 0.02707156352698803, 0.039222702383995056, -0.06488896161317825, 0.01930352859199047, -0.041038282215595245, -0.04288613051176071, -0.023952189832925797, -0.0050430260598659515, 0.04447086900472641, -0.006528306752443314, 0.027078239247202873, -0.029100283980369568, 0.01683950424194336, -0.043681953102350235, 0.009543516673147678, -0.06946087628602982, 0.04589969664812088, 0.07066771388053894, -0.024757202714681625, -0.022358188405632973, -0.014754821546375751, -0.014352062717080116, 0.028688248246908188, -0.04098930209875107, -0.012096090242266655, 0.07561632245779037, 0.025779185816645622, 0.025728700682520866, -0.019154012203216553, -0.00903991237282753, -0.033345699310302734, 0.05684290826320648, 0.00938732735812664, 0.04627908393740654, -0.0013889898546040058, -0.001658512745052576, -0.005200304090976715, -0.0397961251437664, 0.0029974025674164295, -0.010904748924076557, 0.05878312513232231, -0.041560422629117966, -0.0074077448807656765, 0.0023339532781392336, 0.021045275032520294, 0.009239161387085915, 0.04853266105055809, -0.044418878853321075, -0.036722782999277115, -0.007454775273799896, -0.04628059267997742, -0.01612221822142601, -0.03795429319143295, 0.029170909896492958, -0.00352323055267334, 0.0005217966390773654, -0.023152627050876617, -0.015457956120371819, 0.017601829022169113, 0.043567053973674774, -0.0036679564509540796, -0.030349435284733772, -0.01349120307713747, -0.00751293171197176, -0.02097388543188572, -0.043918389827013016, -0.06442733854055405, 0.02385672740638256, -0.005466689355671406, -0.06613112986087799, 0.07269115000963211, 0.007633193861693144, -0.013961313292384148, -0.050164103507995605, -0.08376933634281158, -0.04459398239850998, -0.02185753360390663, 0.06956515461206436, 0.02401651442050934, -0.017431750893592834, -0.06277957558631897, -0.07725294679403305, 0.022416625171899796, -0.048689138144254684, -0.037087295204401016, -0.003761261934414506, 0.005152179393917322, -0.017149120569229126, 0.031306006014347076, -0.012666124850511551, -0.004606987815350294, 0.008205450139939785, -0.03784894570708275, 0.00575802568346262, 0.00806302297860384, -0.009047026745975018, -0.03460414335131645, -0.03837137669324875, -0.007649230770766735, -0.05833011120557785, -0.034866079688072205, 0.042233288288116455, -0.049880657345056534, -0.015593430027365685, -0.013067326508462429, -0.0539839044213295, -0.03726234287023544, -0.02878524735569954, 0.07371726632118225, -0.047440823167562485, 0.05553371086716652, -0.01614074967801571, -0.021985974162817, 0.01611322909593582, -0.009326973930001259, 0.034641243517398834, 0.005145305767655373, 0.004013372585177422, 0.08991432934999466, -0.05545581132173538, -0.053255345672369, 0.0278443843126297, -0.0015281792730093002, 0.0783960148692131, -0.08638579398393631, 0.032704051584005356, -0.048457108438014984, 0.016513964161276817, -0.016364900395274162, 0.07060086727142334, -0.04245360568165779, -0.016503388062119484, -0.03494235873222351, 0.02147332951426506, -0.0011113338405266404, -0.012059356085956097, 0.024051254615187645, -0.01943991705775261, -0.007417191285640001, 0.03024219162762165, -0.03747887164354324, 0.006357181817293167, 0.029357746243476868, 0.012611988931894302, 0.00458073616027832, -0.027381282299757004, -0.004247488919645548, 0.03073420561850071, -0.04069545865058899, 0.0047298031859099865, 0.014700927771627903, 0.05503604933619499, 0.006600236054509878, -0.030271267518401146, 0.022032534703612328, 0.05128105357289314, -0.0049883355386555195, 0.022059768438339233, 0.033803343772888184, -0.0037896810099482536, 0.07042033225297928, 0.009236960671842098, 0.042517341673374176, 0.014639652334153652, 0.010670781135559082, 0.05555574968457222, -0.061686914414167404, -0.0007581643876619637, 0.008279027417302132, -0.0419665165245533, -0.008903074078261852, -0.0319816991686821, -0.029906870797276497, -0.00556166423484683, -0.020737342536449432, 0.021439945325255394, 0.006945704575628042, -0.04067463055253029, 0.07427043467760086, 0.02696070447564125, -0.05729493498802185, -0.027948888018727303, 0.03077293373644352, -0.006660270970314741, -0.003825026797130704, -0.00099120382219553, -0.035812102258205414, -0.012179344892501831, 0.09771928191184998], [0.10364092141389847, 0.019274458289146423, 0.01189445797353983, -0.0024818982928991318, -0.006580252666026354, -0.03798564523458481, -0.04999126121401787, 0.014474272727966309, -0.013779976405203342, -0.028019068762660027, 0.06311062723398209, 0.0393584705889225, -0.016784770414233208, -0.06381674110889435, -0.009307388216257095, 0.004006592556834221, 0.005423558410257101, 0.009542054496705532, 0.01272787619382143, -0.00619778735563159, -0.06131739169359207, 0.007132500875741243, -0.03183028846979141, 0.043553706258535385, -0.015428454615175724, -0.07306257635354996, 0.03461220860481262, 0.006174513604491949, -0.03996286541223526, -0.010845445096492767, 0.06205017492175102, -0.008935141377151012, 0.015417350456118584, -0.014778896234929562, 0.01250607892870903, 0.0505695603787899, 0.0037612183950841427, -0.022267824038863182, 0.0271440576761961, -0.01504292618483305, -0.02506856992840767, 0.012775981798768044, 0.05718658119440079, -0.03155132010579109, 0.02569940872490406, -0.009998403489589691, 0.029379844665527344, 0.005935391876846552, 0.016119545325636864, 0.007071715779602528, -0.06597406417131424, -0.0032623307779431343, 0.00024508059141226113, -0.017640862613916397, -0.021874038502573967, 0.019015997648239136, 0.012949319556355476, 0.009381445124745369, -0.015629390254616737, 0.02471570111811161, 0.029199378564953804, 0.01694381609559059, 0.03588489070534706, 0.024094074964523315, 0.005947567522525787, 0.024013450369238853, 0.055537186563014984, 0.043696898967027664, -0.04136661812663078, 0.009498880244791508, -0.028236830607056618, 0.014238969422876835, -0.013174557127058506, -0.011274125427007675, -0.03548362851142883, 0.062302228063344955, 0.025078915059566498, 0.06392575800418854, 0.036072637885808945, -0.03558992221951485, -0.06382796168327332, 0.02598641626536846, -0.018230194225907326, -0.009711328893899918, -0.024387851357460022, -0.0530310794711113, -0.021512694656848907, -0.012602212838828564, 0.012169869616627693, 0.0470089316368103, -0.019407637417316437, -0.0006359111284837127, -0.016176298260688782, -0.03092028759419918, 0.02898246981203556, -0.0045575606636703014, 0.09245962649583817, 0.01688571088016033, -0.017554640769958496, -0.024679478257894516, -0.013987971469759941, 0.011481784284114838, -0.023079585283994675, -0.06285227090120316, -0.0035167094320058823, -0.022307202219963074, 0.012834466993808746, 0.022900214418768883, 0.053209468722343445, 0.019519653171300888, 0.06367941200733185, 0.08257021754980087, -0.007159715984016657, -0.056208934634923935, 0.04503805562853813, -0.032820284366607666, 0.02405211701989174, 0.046127863228321075, -0.03613950312137604, 0.03742852807044983, 0.04035928100347519, 0.023730313405394554, -0.011997777968645096, 0.03395868465304375, -0.056400466710329056, 0.0115131177008152, 0.059865646064281464, -0.014541495591402054, 0.040134429931640625, -0.017391962930560112, 0.012435111217200756, -0.03205399215221405, 0.055041734129190445, -0.031059855595231056, 0.0815819650888443, -0.06207612156867981, 0.05507288873195648, 0.030034836381673813, 0.019521979615092278, -0.10666115581989288, 0.030007893219590187, -0.0006536735454574227, 0.05851957947015762, -0.017316970974206924, -0.03616943210363388, 0.02266937866806984, -0.0033584567718207836, 0.02245429903268814, 0.014314649626612663, 0.0019705689046531916, -0.006108550354838371, -0.029287386685609818, 0.01755942590534687, 0.01807139813899994, -0.027130255475640297, 0.008071387186646461, 0.004632982425391674, 0.016833681613206863, 0.038246408104896545, -0.014389396645128727, 0.04469336196780205, -0.030849024653434753, -0.0336172841489315, 0.04676419124007225, -0.09040716290473938, 0.026411503553390503, -0.014833357185125351, -0.0022836513817310333, 0.03321807458996773, 0.0017853875178843737, 0.003349198726937175, 0.017588840797543526, -0.03778793662786484, 0.023669496178627014, 0.04997751861810684, -0.029491638764739037, -0.004699653014540672, 0.10684263706207275, 0.017253661528229713, 0.07783595472574234, -0.021220911294221878, -0.006192226894199848, 0.058203767985105515, 0.021225489675998688, -0.0688660740852356, -0.010684861801564693, -0.03161419555544853, -0.03871889039874077, 0.034950997680425644, 0.04779616370797157, 0.04706975072622299, -0.05678049102425575, 0.0026276339776813984, 0.05877692997455597, 0.03359285742044449, -0.05056951567530632, 0.04222001135349274, 0.09286383539438248, 0.0460699163377285, -0.008137263357639313, 0.008136766031384468, -0.04672623425722122, -0.026681413874030113, 0.003204665845260024, -0.053065210580825806, 0.05803272873163223, -0.011103538796305656, 0.014107109978795052, 0.0176876038312912, 0.0020577113609761, -0.03027164191007614, 0.012001165188848972, -0.005463842768222094, 0.012067894451320171, -0.011248094961047173, 0.046731606125831604, 0.02616496942937374, -0.04841744527220726, -0.03955937549471855, 0.07522688060998917, -0.01083438191562891, 0.0026761507615447044, -0.0013932081637904048, -0.02134399488568306, 0.06097850203514099, 0.06500910222530365, -0.06792961061000824, -0.01968563161790371, 0.08157488703727722, -0.0246659517288208, 0.005155470222234726, -0.0009174441802315414, 0.020038709044456482, -0.007531420793384314, -0.008968539535999298, -0.022940196096897125, 0.039085447788238525, -0.009705167263746262, -0.05133005976676941, -0.05788634717464447, 0.02580558881163597, -0.012914693914353848, -0.038619689643383026, -0.057266321033239365, 0.03372778743505478, 0.07629148662090302, -0.0456279031932354, -0.003544081700965762, -0.05674915388226509, -0.01798933930695057, -0.03780046105384827, -0.00206686370074749, -0.03172895684838295, 0.011957523413002491, -0.044557251036167145, -0.01730497181415558, -0.00901980884373188, 0.0360669270157814, -0.01719292625784874, -0.0056052980944514275, -0.0287593025714159, 0.00018253376765642315, 0.0006266708951443434, -0.03885051980614662, -0.04413135349750519, 0.004634908400475979, 0.00958350021392107, -0.026672538369894028, 0.06263774633407593, -0.02658434584736824, 0.02014288865029812, 0.04836326465010643, 0.025264175608754158, -0.001024879515171051, 0.03370947018265724, 0.025301959365606308, -0.023747041821479797, -0.010676075704395771, -0.028174806386232376, 0.005087501369416714, 0.016127806156873703, -0.02267109975218773, 0.0057356515899300575, -0.04465536028146744, 0.043220531195402145, 0.015937699005007744, -0.010634019039571285, -0.034096796065568924, 0.05771845206618309, 0.009746276773512363, 0.015987953171133995, -0.00593707337975502, -0.04026443511247635, 0.021861394867300987, -0.022589201107621193, 0.010002302005887032, 0.01351909525692463, 0.039872363209724426, 0.062127310782670975, 0.0161723792552948, -0.010252454318106174, 0.004964048508554697, 0.03381076082587242, -0.017924534156918526, -0.02138585038483143, -0.03209433704614639, -0.04909538850188255, 0.00940894428640604, -0.012324378825724125, 0.007404784671962261, 0.03083583526313305, 0.03153674304485321, 0.0239106398075819, 0.021051550284028053, -0.04005048796534538, -0.011314013041555882, 0.033996716141700745, 0.011322811245918274, -0.009769666008651257, 0.004510520026087761, 0.07546805590391159, -0.058568596839904785, -0.0057412139140069485, -0.029175257310271263, -0.003973023500293493, 0.019915368407964706, 0.01026136428117752, 0.039784640073776245, 0.026980610564351082, -0.08241307735443115, -0.005693505052477121, 0.08888399600982666, -0.08546879887580872, 0.01977757178246975, 0.029589686542749405, -0.0015793348429724574, -0.011420456692576408, -0.015333741903305054, 0.028809737414121628, 0.05094073712825775, -0.030404044315218925, 0.04530012235045433, 0.0006121438345871866, -0.02660829946398735, -0.02247270941734314, -0.0763135626912117, 0.0072979493997991085, 0.08783140778541565, -0.0637374296784401, -0.06512735038995743, -0.015498447231948376, 0.022964900359511375, -0.06520592421293259, -0.0017263020854443312, 0.006367252208292484, 0.01850096881389618, -0.007067000959068537, -0.013142992742359638, 0.014828902669250965, 0.07676444947719574, 0.050962746143341064, 0.007438978645950556, -0.023615986108779907, -0.021119194105267525, 0.02552332915365696, -0.03176279738545418, -0.014714503660798073, -0.05300477147102356, 0.02680836245417595, 0.06612367928028107, 0.0632566586136818, 0.016436373814940453, -0.027272749692201614, 0.05943050608038902, -0.018301036208868027, 0.02025442197918892, 0.003377266228199005, -0.025992052629590034, 0.013322248123586178, -0.002481666626408696, 0.009262979961931705, -0.033771347254514694, 0.055675942450761795, 0.04409405216574669, 0.04463581368327141, 0.05662231892347336, 0.04438865929841995, -0.04441522806882858, -0.0027936315163969994, 0.013853592798113823, 0.04433772712945938, 0.025273049250245094, -0.01631622016429901, 0.02078808657824993, 0.05168713256716728, -0.04511047527194023, -0.06582530587911606, -0.025511641055345535, 0.002142262412235141, 0.0337970145046711, 0.020325616002082825, 0.02821088396012783, -0.0007779552834108472, 0.025827256962656975, 0.01663442701101303, 0.013349049724638462, -0.05119035765528679, 0.06344260275363922, -0.0029087867587804794, 0.03835437074303627, 0.02751540206372738, 0.005980763118714094, 0.006512126419693232, -0.019031912088394165, -0.007295806892216206, -0.010660495609045029, 0.058865055441856384, 0.03445915877819061, 0.004649041686207056, 0.005126868840306997, 0.028840871527791023, 0.010873068124055862, -0.05853947624564171, 0.03005627542734146, 0.006648645270615816, -0.024606861174106598, 0.05811154469847679, 0.0035967642907053232, -0.07759029418230057, 0.0010455083101987839, 0.03429985046386719, 0.030286623165011406, -0.024561310186982155, 0.034798845648765564, 0.00781820435076952, 0.003598244162276387, -0.020651178434491158, 0.028370054438710213, -0.05070831626653671, 0.07880834490060806, 0.00831593293696642, -0.03800394758582115, 0.0016964803216978908, 0.012209879234433174, 0.0569596067070961, 0.011749525554478168, -0.024745920673012733, 0.009512999095022678, 0.011749397031962872, 0.045469701290130615, -0.037419699132442474, 0.00011051871842937544, -0.009960384108126163, 0.021277032792568207, 0.005069003440439701, 0.08317196369171143, 0.006372426170855761, -0.02831108681857586, 0.0030909362249076366, 0.037093810737133026, 0.019546816125512123, -0.012735937722027302, -0.006714954040944576, 0.004078317433595657, -0.005039587616920471, -0.024285854771733284, -0.03048868291079998, 0.019755719229578972, 0.05413853004574776, 0.04228391498327255, 0.03653236851096153, -0.015060748904943466, -0.011046060360968113, -0.010626250877976418, 0.007859383709728718, -0.05161097273230553, 0.04346929490566254, 0.005746113136410713, -0.008953157812356949, 0.01867767982184887, -0.05197128280997276, -0.010724034160375595, -0.007040521129965782, -0.01459394209086895, 0.0018189793918281794, 0.0454988069832325, -0.07467449456453323, 0.03398953378200531, 0.005739095155149698, -0.0245783980935812, -0.03748989477753639, -0.012052333913743496, -0.0176225658506155, -0.006147692445665598, -0.04117799922823906, -0.025469472631812096, -0.023726297542452812, -0.05099262669682503, 0.06292013823986053, -0.017124252393841743, -0.05095638707280159, -0.056579262018203735, -0.0038583320565521717, 0.05489861220121384, -0.03235547989606857, 0.04452987015247345, -0.038718607276678085, 0.038307663053274155, 0.009436425752937794, 0.04329696670174599, 0.07494799792766571, -0.005647700279951096, -0.0041725123301148415, 0.021382438018918037, 0.005672357510775328, -0.05947386100888252, 0.037504520267248154, -0.036286741495132446, 0.0375395193696022, -0.06236112117767334, -0.0010882759233936667, -0.04642602428793907, 0.03181476518511772, 0.051601964980363846, 0.03333105891942978, -0.026145562529563904, 0.024482373148202896, 0.02406049519777298, -0.031192217022180557, 0.0006509101367555559, 0.003940343391150236, -0.0011335849994793534, 0.03771531581878662, -0.00012665448593907058, -0.05686653405427933, 0.061636459082365036, 0.027238914743065834, 0.017772013321518898, -0.05094094201922417, -0.034335050731897354, -0.0554489865899086, 0.006613982375711203, -0.03253979980945587, 0.0061142719350755215, -0.013538730330765247, 0.037947602570056915, -0.02369070239365101, 0.00644655292853713, -0.013073386624455452, 0.006356531288474798, 0.0048523517325520515, -0.0364559106528759, -0.07607181370258331, 0.07339297235012054, -0.03950407728552818, 0.004292953293770552, 0.03686930984258652, -0.011209509335458279, 0.014121283777058125, 0.02126198634505272, -0.02362186834216118, -0.0055631487630307674, -0.03960946202278137, 0.04296431317925453, -0.044895969331264496, -0.07787983119487762, 0.03612489998340607, 0.0016822171164676547, -0.012318543158471584, 0.0018595404690131545, -0.000535833474714309, 0.03565005958080292, 0.00029499176889657974, -0.07191918045282364, 0.06279902905225754, -0.02616281434893608, 0.037893034517765045, -0.0027322066016495228, 0.037474438548088074, -0.02351180836558342, 0.05145496875047684, -0.01270405761897564, -0.005569858010858297, -0.07968513667583466, -0.049952756613492966, -0.029065357521176338, -0.05277569591999054, 0.028691917657852173, -0.056028928607702255, 0.0034216311760246754, -0.052443213760852814, 0.009507431648671627, -0.05223621428012848, 0.015387248247861862, -0.008541247807443142, 0.01948680356144905, 0.06841828674077988, -0.049680884927511215, -0.04470477253198624, -0.058201126754283905, 0.003761266591027379, -0.03209903836250305, -0.0972876027226448, 0.039781052619218826, 0.01536183524876833, 0.034872427582740784, 0.04132024571299553, -0.023752953857183456, 0.0034931981936097145, -0.05445975810289383, 0.05688489228487015, -0.03155810013413429, 0.08938039839267731, 0.022572975605726242, 0.019543103873729706, -0.004085068125277758, -0.035749588161706924, 0.046192873269319534, -0.030553385615348816, 0.014356840401887894, -0.03137379512190819, 0.01888664811849594, -0.03310834616422653, 0.001850300352089107, 0.006640809588134289, -0.006788989063352346, -0.017909446731209755, -0.03712257742881775, -0.0367581769824028, -0.03615985065698624, -0.040391482412815094, -0.011697753332555294, 0.05840916931629181, 0.03930177912116051, -0.06623489409685135, -0.017541984096169472, -0.0014203435275703669, 0.02677682228386402, 0.041262660175561905, 0.021011751145124435, -0.020819952711462975, -0.02479284629225731, -0.009440573863685131, 0.04276032745838165, -0.007402293384075165, -0.07639825344085693, 0.012860368937253952, -0.03998579829931259, -0.07791900634765625, 0.046455275267362595, -0.0383547767996788, 0.016811732202768326, -0.0337468646466732, -0.05043698102235794, 0.021703124046325684, -0.03794034942984581, 0.01603085733950138, 0.04242242872714996, -0.03459436446428299, -0.0561797134578228, -0.050342343747615814, 0.021496189758181572, -0.043442536145448685, 0.01731364242732525, 0.008671327494084835, 0.030407072976231575, -0.012649554759263992, 0.01001754216849804, 0.020163116976618767, 0.011105408892035484, -0.04219863936305046, -0.02037147246301174, -0.038293760269880295, -0.0328490324318409, 0.03752721846103668, -0.008431382477283478, 0.04335185885429382, -0.02060539275407791, -0.06695549935102463, 0.007042826618999243, -0.005437033716589212, -0.008921192027628422, 0.04635533317923546, 0.012054193764925003, -0.019741419702768326, -0.014132212847471237, -0.001070713740773499, 0.0398903526365757, -0.05449700728058815, 0.01558577548712492, 0.012826645746827126, -0.016809605062007904, 0.03321869298815727, -0.002569623524323106, 0.009966946206986904, -0.015793023630976677, 0.03412822633981705, 0.05137495696544647, -0.03192466124892235, -0.060276634991168976, -0.01151032280176878, -0.022600699216127396, 0.08795750886201859, -0.016022304072976112, 0.003664230229333043, -0.03735967352986336, 0.03130181506276131, -0.013472103513777256, 0.051386769860982895, -0.0050368960946798325, -0.08698434382677078, -0.021502284333109856, 0.02896772138774395, -0.05063840001821518, 0.006662724073976278, 0.02584649808704853, -0.023459110409021378, -0.024377819150686264, 0.005212561227381229, 0.00904866587370634, 0.00406260509043932, -0.014240152202546597, -0.00914528127759695, 0.027899129316210747, -0.025473464280366898, -0.045537445694208145, 0.02299654111266136, 0.010090979747474194, -0.05615349858999252, 0.061948273330926895, 0.07392741739749908, -0.059965699911117554, -0.017467202618718147, 0.03650718182325363, 0.02731674537062645, -0.01399743091315031, 0.011931179091334343, 0.022826671600341797, -0.03460776060819626, 0.0781799703836441, -0.04091401770710945, 0.028492342680692673, -0.005181658547371626, 0.01847204379737377, 0.05868498235940933, 0.0017886079149320722, -0.02470998838543892, 0.03488069772720337, -0.016918832436203957, 0.0076298159547150135, -0.01976185478270054, -0.0008139930432662368, 0.026272572576999664, -0.026513803750276566, 0.03188125789165497, -0.032954297959804535, -0.05256234109401703, 0.03013029135763645, 0.03462136536836624, 0.013982743956148624, 0.022262344136834145, -0.016351064667105675, -0.04336901381611824, 0.010172420181334019, -0.029081877321004868, -0.04161692410707474, -0.0516965314745903, 0.051106274127960205], [0.019333502277731895, 0.015531424432992935, 0.02119981124997139, -0.06694208085536957, -0.04377346485853195, -0.06728797405958176, -0.05292510986328125, 0.010149515233933926, -0.023606207221746445, -0.0007859005127102137, 0.07197943329811096, 0.07819655537605286, -0.07930752635002136, -0.05578193813562393, -0.007486032322049141, -0.014524689875543118, 0.015933917835354805, -0.035087160766124725, -0.04917985945940018, 0.042225487530231476, 6.881794979562983e-05, 0.01499843504279852, -0.032515574246644974, 0.0334952175617218, 0.006262095179408789, -0.04865289106965065, -0.016548341140151024, 0.021599315106868744, -0.02588692493736744, -0.006757963914424181, 0.022416044026613235, -0.03562983125448227, 0.031370609998703, -0.013096599839627743, 0.024862779304385185, -0.0020100977271795273, -0.014625892974436283, -0.023799875751137733, 0.03548414260149002, -0.05869079381227493, -0.017733706161379814, 0.0075839790515601635, 0.00026902329409494996, -0.03652505204081535, -0.004221613518893719, 0.06094590947031975, -0.020521683618426323, 0.023428350687026978, 0.03429170697927475, -0.02060476690530777, -0.05145041644573212, -0.025708340108394623, 0.006746527273207903, -0.04080348089337349, 0.010240581817924976, -0.011339622549712658, 0.014660210348665714, 0.025310898199677467, -0.01986459270119667, 0.03815554454922676, 0.015216602012515068, -0.0040908195078372955, -0.013860943727195263, -0.01857190765440464, 0.02366006001830101, 0.07805100083351135, 0.010491140186786652, 0.00979637261480093, -0.008163376711308956, 0.021755386143922806, -0.025407765060663223, 0.04617396742105484, -0.038064319640398026, -0.020393621176481247, -0.062256477773189545, 0.08162376284599304, 0.030432283878326416, 0.02584596909582615, 0.07720418274402618, -0.03870447725057602, -0.07023149728775024, -0.009503199718892574, -0.05879732221364975, -0.004056517966091633, 0.01041971705853939, -0.0239215437322855, 0.0008597501437179744, 0.034601278603076935, 0.06582265347242355, 0.10615649074316025, -0.023528674617409706, -0.001984767382964492, -0.017983894795179367, -0.012748719193041325, 0.0025067408569157124, 0.026045989245176315, 0.053384698927402496, 0.013096639886498451, -0.03894170746207237, 0.012626742012798786, -0.024920880794525146, -0.013983211480081081, -0.01553384680300951, -0.06808403879404068, -0.04104715585708618, 0.008161400444805622, 0.013826456852257252, 0.03357315436005592, 0.015648268163204193, -0.029756853356957436, 0.06205268204212189, 0.04397396743297577, -0.013545642606914043, -0.02751840464770794, -0.013763460330665112, -0.048840973526239395, 0.0372125469148159, 0.030130403116345406, 0.00835335161536932, -0.009909083135426044, -0.02914627082645893, 0.017490239813923836, 0.004225631710141897, 0.005610301624983549, -0.020328335464000702, 0.020544052124023438, 0.033692616969347, 0.0011501075932756066, 0.03573388233780861, -0.018995195627212524, 0.008121147751808167, -0.018594592809677124, 0.032034702599048615, 0.005606106948107481, 0.07394403964281082, -0.038372576236724854, 0.059398919343948364, 0.011058785952627659, 0.041564639657735825, -0.04417591542005539, 0.03913142532110214, -0.02080630697309971, 0.031691018491983414, -0.039932847023010254, -0.019628966227173805, 0.03308891877532005, -0.08009286224842072, 0.016762902960181236, 0.02669527381658554, -0.02547469362616539, -0.034893542528152466, 0.03633612394332886, 0.0435054749250412, 0.03229862079024315, -0.044668253511190414, 9.50227549765259e-05, 0.01257843803614378, 0.011241101659834385, 0.03307759761810303, -0.006089866627007723, 0.04342197626829147, 0.017954271286725998, -0.06041484326124191, 0.0025120682548731565, -0.08512496203184128, 0.021182307973504066, 0.018322989344596863, -0.0021520282607525587, 0.0363263301551342, -0.0007840920006856322, -0.07020903378725052, -0.009620972909033298, -0.012516576796770096, -0.027669358998537064, 0.022464517503976822, 0.019961046054959297, -0.010275089181959629, 0.06590363383293152, -0.00465485081076622, 0.06541313976049423, -0.02784891054034233, -0.018374690786004066, 0.013719496317207813, 0.050348907709121704, -0.052273619920015335, 0.026888905093073845, -0.06417474150657654, -0.002220436464995146, 0.00887882150709629, 0.05433182418346405, 0.009999893605709076, -0.05648597329854965, 0.024298908188939095, 0.017968740314245224, -0.020333722233772278, -0.016152989119291306, -0.029607662931084633, 0.036358900368213654, 0.004621155560016632, 0.01174970343708992, 0.015100643038749695, -0.041900210082530975, 0.03293236345052719, 0.0354088619351387, -0.028293874114751816, -0.019587524235248566, 0.007191911805421114, 0.03782613202929497, -0.017528725787997246, -0.017044439911842346, -0.01284655462950468, 0.05773559957742691, 0.008698342368006706, -0.010347875766456127, 0.002704676240682602, 0.035053983330726624, 0.003614063374698162, 0.005396233405917883, 0.011294675059616566, 0.04678827151656151, -0.0019975483883172274, 0.04753611609339714, 0.04318061098456383, 0.008772493340075016, 0.013209396973252296, -0.0022014565765857697, -0.0527433417737484, 0.0074988557025790215, 0.022812264040112495, 0.021008607000112534, 0.018225766718387604, -0.03559383377432823, 0.04714956134557724, 0.021301694214344025, -0.0006184579688124359, -0.0635906532406807, 0.026400363072752953, -0.06162061542272568, 0.005914132576435804, 0.022045454010367393, 0.017405282706022263, -0.017283346503973007, -0.015497983433306217, -0.008345290087163448, 0.10259288549423218, 0.05591066926717758, -0.0310997124761343, 0.018820486962795258, -0.03261380270123482, -0.021756425499916077, -0.013855921104550362, -0.05471176281571388, -0.0208271574229002, 0.09212402999401093, -0.026572037488222122, 0.0006372348289005458, 0.010194281116127968, 0.02112482488155365, -0.021565722301602364, 0.06662765145301819, -0.08140124380588531, -0.025352386757731438, -0.020578082650899887, -0.04081647843122482, 0.001510420348495245, 0.005680914502590895, 0.01014243345707655, -0.03389091044664383, 0.07323524355888367, -0.010702168568968773, -0.037713371217250824, 0.007551509886980057, 0.05308188125491142, -0.06440035253763199, 0.006454245653003454, -0.03530703857541084, 0.029921332374215126, -0.04200048744678497, -0.05564511939883232, 0.05854746326804161, -0.03567047789692879, -0.044020604342222214, -0.060545969754457474, 0.009134971536695957, -0.0005570824723690748, 0.024893291294574738, 0.03076641447842121, -0.010523566044867039, 0.07376542687416077, -0.002781673101708293, 0.0018117624567821622, 0.02568471059203148, -0.0400417298078537, 0.04932128265500069, -0.0015609407564625144, -0.01545979268848896, 0.00892147608101368, 0.028845924884080887, 0.06308387219905853, -0.019236773252487183, -0.026276234537363052, 0.007626047823578119, 0.09721196442842484, -0.03523356467485428, -0.0028088693507015705, 0.009418056346476078, -0.042698126286268234, 0.020992523059248924, 0.019586337730288506, 0.0459049828350544, 0.019216399639844894, 0.02053483948111534, 0.049900684505701065, -0.03823288530111313, -0.013062925077974796, 0.0667073056101799, 0.02647584117949009, 0.01560618169605732, -0.012492169626057148, -0.02122977189719677, 0.010247083380818367, -0.0351792611181736, 0.04052766412496567, -0.03265635296702385, 0.026725593954324722, 0.03997397422790527, 0.042741481214761734, 0.056670427322387695, 0.06486702710390091, -0.05182698741555214, 0.005783052649348974, 0.0651417151093483, -0.06055474281311035, 0.016996508464217186, 0.027852419763803482, 0.0007580347009934485, -0.03853869438171387, -0.056108929216861725, 0.04119633138179779, 0.0038832728751003742, -0.025862935930490494, -0.013346776366233826, -0.018125250935554504, -0.009209856390953064, -0.014235458336770535, -0.02128111757338047, 0.045023173093795776, 0.09522560983896255, -0.08110172301530838, -0.01677367277443409, 0.019737817347049713, 0.02472776360809803, -0.008631550706923008, 0.001920066075399518, 0.014689842239022255, -0.0195977371186018, 0.025933610275387764, -0.045334454625844955, 0.02691594325006008, 0.05181073397397995, 0.04614913463592529, 0.07854914665222168, 0.04063994064927101, 0.01084427535533905, -0.011054285801947117, 0.02154465764760971, -0.02260429598391056, -0.06553725153207779, 0.008658449165523052, 0.07361012697219849, 0.03505043685436249, -0.026850616559386253, 0.011040532030165195, 0.023854730650782585, -0.035814445465803146, -0.015277834609150887, -0.03274613991379738, -0.030696257948875427, -0.038062211126089096, -0.033915821462869644, -0.05190863460302353, 0.02913692779839039, 0.04334794729948044, 0.03170904889702797, 0.0032042451202869415, 0.03100246749818325, 0.03267263248562813, -0.00302524003200233, -0.032742977142333984, 8.886960131349042e-05, -0.0062599871307611465, 0.022130616009235382, -0.007535314653068781, 0.031847529113292694, -0.01599208079278469, -0.02359669841825962, -0.02433856390416622, -0.03188334032893181, -0.022061016410589218, 0.05334888771176338, -0.00787350907921791, 0.0004955086624249816, -0.00374355586245656, 0.02176283486187458, 0.007052359636873007, 0.019088681787252426, -0.005031278822571039, 0.08300124108791351, -0.01879648119211197, 0.01792779378592968, 0.022577527910470963, -0.06076722592115402, -0.023420413956046104, 0.009158071130514145, -0.04111957177519798, 0.011080801486968994, 0.001105948002077639, 0.00024290033616125584, -0.015133108012378216, -0.01481667160987854, -0.027156300842761993, 0.022585835307836533, -0.01761181838810444, 0.05387777090072632, -0.03707002103328705, -0.023001523688435555, 0.007488693110644817, 0.02400163933634758, -0.026896130293607712, 0.01357209775596857, 0.01784745417535305, 0.035330262035131454, 0.05032966285943985, 0.015200603753328323, -0.00022369451471604407, 0.016671955585479736, -0.05639829859137535, 0.0017869131406769156, -0.09145823121070862, 0.024409735575318336, 0.01318648923188448, 0.030213139951229095, -0.010771865025162697, 0.05801435559988022, -0.0025221179239451885, 0.0023715184070169926, -0.026080384850502014, -0.015006037428975105, 0.00820985622704029, 0.053944848477840424, -0.026375481858849525, 0.04219524934887886, -0.04926537722349167, 0.01843452639877796, -0.05351123958826065, 0.04462242126464844, -0.020126009359955788, 0.015169006772339344, -0.020344017073512077, 0.012409727089107037, -0.0025678861420601606, -0.013634764589369297, -0.024810975417494774, 0.012840687297284603, 0.04496476799249649, 0.004100245889276266, 0.011638765223324299, 0.059485241770744324, 0.0523512065410614, -0.010177087970077991, 0.015279505401849747, 0.07101477682590485, 0.014284830540418625, 0.015098200179636478, -0.012557861395180225, -0.05664357542991638, 0.005912144668400288, -0.055739015340805054, 0.025729479268193245, 0.007250071503221989, 0.02464134991168976, -0.009056363254785538, 0.015953022986650467, 0.0068747736513614655, 0.004926650784909725, 0.03622584789991379, -0.07958406209945679, 0.03865043818950653, -0.02430022321641445, 0.027462050318717957, 0.004976153373718262, -0.016424475237727165, -0.0038749296218156815, -0.03813983500003815, 0.01635335385799408, -0.06982950121164322, -0.009701278060674667, -0.08301293849945068, 0.009562167339026928, -0.021158361807465553, -0.0793878361582756, -0.0029485032428056, -0.006295479834079742, 0.07795851677656174, -0.019936950877308846, -0.01617269776761532, -0.009239316917955875, -0.01875752955675125, 0.012108774855732918, 0.02172797918319702, 0.050113383680582047, -0.053658030927181244, 0.0038916445337235928, -0.00281744496896863, 0.018287669867277145, -0.01889246329665184, 0.05717569217085838, 0.03182637318968773, 0.0682087168097496, -0.03385939076542854, 0.003964622970670462, -0.04430767148733139, 0.029269376769661903, -0.03547820821404457, -0.01944967731833458, -0.014476336538791656, 0.04345906898379326, -0.016149476170539856, -0.008541852235794067, 0.04641997069120407, 0.015170512720942497, -0.03915143385529518, 0.04327905923128128, 0.012865284457802773, 0.010678466409444809, 0.030352888628840446, 0.004825377371162176, 0.02998991124331951, -0.05266520008444786, -0.03452223911881447, -0.03482582047581673, -0.018922792747616768, -0.06809990853071213, -0.031720273196697235, 0.012252296321094036, 0.05844875052571297, -0.0026542088016867638, -0.06500744819641113, -0.04684074968099594, 0.011853228323161602, -0.023484807461500168, -0.007838323712348938, -0.04645999148488045, 0.06725947558879852, -0.005517205223441124, 0.0398545004427433, 0.03790745884180069, -0.00885628443211317, -0.015833087265491486, 0.024444952607154846, 0.0017128875479102135, 0.0040824078023433685, -0.06573937088251114, 0.03384587541222572, -0.05112127587199211, -0.03303883224725723, 0.06577342003583908, -0.01699366606771946, -0.011330404318869114, -0.019723230972886086, 0.03943590074777603, 0.01652393490076065, -0.02675648406147957, -0.08451900631189346, 0.05125168710947037, -0.012609093450009823, 0.047273702919483185, 0.007553574163466692, 0.028836369514465332, -0.006540424190461636, 0.004219724331051111, -0.03235460817813873, 0.0023867422714829445, -0.06406042724847794, -0.034351807087659836, -0.018040437251329422, -0.006813800428062677, 0.012522437609732151, -0.056319113820791245, 0.012944702059030533, -0.07893090695142746, -0.0324254184961319, 0.034383732825517654, 0.0501258485019207, -0.061830390244722366, 0.02105374075472355, 0.049143705517053604, 0.0014885271666571498, -0.010089564137160778, -0.020287835970520973, 0.027611562982201576, 0.0757974311709404, -0.03555312752723694, 0.02109639346599579, 0.027255848050117493, 0.05398458242416382, 0.053803183138370514, -0.02736927941441536, 0.009323541074991226, -0.06060713157057762, 0.016802025958895683, -0.003977821208536625, 0.11718127876520157, 0.014774655923247337, -0.0036918227560818195, 0.006519393529742956, -0.0027162604965269566, -0.009233380667865276, -0.01043296605348587, 0.03783852979540825, 0.020082421600818634, 0.034072041511535645, -0.04881180450320244, 0.022406434640288353, 0.015864098444581032, 0.017836732789874077, -0.0475551001727581, 0.023884017020463943, -0.008985894732177258, -0.03400512412190437, -0.02143939957022667, -0.04157985746860504, 0.005317812319844961, -0.009536946192383766, -0.029186738654971123, -0.030375340953469276, 0.02619306743144989, -0.020481208339333534, 0.027766086161136627, -0.047933075577020645, 0.042249955236911774, 0.023895904421806335, -0.021381206810474396, 0.044404152780771255, -0.005886031314730644, -0.07732048630714417, 0.039873696863651276, -0.009057360701262951, -0.0711720809340477, 0.04313453659415245, -0.017913322895765305, -0.05812733247876167, -0.030697422102093697, -0.02865530736744404, -0.031873203814029694, -0.01312713511288166, 0.060773275792598724, 0.014164204709231853, 0.0018993942067027092, -0.020212778821587563, -0.07266519218683243, 0.03992597386240959, -0.03841601312160492, -0.04028758034110069, -0.02820582687854767, 0.0023257306311279535, 0.0038564049173146486, 0.002227051416411996, -0.0027961956802755594, 0.061817120760679245, -0.032215408980846405, -0.039149269461631775, -0.052925508469343185, -0.03154335170984268, 0.026728739961981773, -0.02350037544965744, 0.004807671997696161, -0.007828416302800179, -0.07553958147764206, 0.015584399923682213, -0.005210148636251688, -0.02674891985952854, 0.007659090682864189, 0.016215838491916656, 0.027706585824489594, -0.02853834442794323, -0.011185704730451107, 0.03312436863780022, -0.023141158744692802, 0.022441614419221878, -0.029629914090037346, -0.0244562067091465, 0.026967748999595642, 0.015509398654103279, -0.0006466580671258271, -0.045453060418367386, 0.010043879970908165, 0.08666915446519852, -0.09441065043210983, -0.06699645519256592, -0.013093871995806694, 0.0024883814621716738, 0.03233726695179939, 0.0028584422543644905, 0.02534468099474907, -0.052758000791072845, 0.05015899986028671, -0.024173608049750328, 0.07157817482948303, 0.04424253851175308, -0.04806892201304436, -0.025347542017698288, 0.02510671317577362, -0.01431109569966793, -0.0014610422076657414, 0.04578477516770363, -0.056855130940675735, 0.0049027553759515285, 0.02748788893222809, -0.021723901852965355, -0.021869095042347908, -0.004392267670482397, -0.027064744383096695, 0.0797727182507515, -0.04850919917225838, 0.011125744320452213, -0.017468286678195, -0.04163177311420441, -0.04614495486021042, 0.03748103231191635, 0.049260202795267105, -0.08088446408510208, 0.003839547745883465, 0.06433819234371185, -0.005876610055565834, 0.009156948886811733, 0.0456811860203743, 0.06606613844633102, -0.033192381262779236, 0.06882525235414505, 0.009067378006875515, 0.058447983115911484, 0.011861954815685749, -0.01738009601831436, 0.036058567464351654, -0.04770953208208084, -0.0020141403656452894, 0.02404620684683323, -0.01957576908171177, -0.011878430843353271, -0.008929233066737652, -0.032888319343328476, -0.031425829976797104, -0.010857920162379742, -0.011912841349840164, -0.045028205960989, -0.01088667567819357, 0.0480215959250927, 0.03134603053331375, -0.025150926783680916, -0.0002442724071443081, 0.002758906688541174, -0.015058889053761959, 0.025207558646798134, -0.021421493962407112, -0.03783039748668671, 0.012471776455640793, 0.07039567083120346], [0.013753378763794899, 0.012651238590478897, -0.0041407993994653225, -0.05203363299369812, -0.005119258537888527, -0.06649042665958405, -0.06702464073896408, 0.017696121707558632, -0.02459586411714554, -0.01433470193296671, 0.049528591334819794, 0.089570052921772, -0.0630694031715393, -0.04889509454369545, -0.020752903074026108, -0.008297188207507133, 0.027346797287464142, -0.03041175939142704, -0.022169413045048714, 0.025326602160930634, 0.00435910327360034, 0.03321707993745804, -0.03654975816607475, 0.02179797925055027, -0.02325926348567009, -0.09855079650878906, -0.0099303824827075, 0.023737797513604164, -0.013456323184072971, -0.025375260040163994, 0.030651865527033806, 0.0020256920251995325, 0.012163292616605759, -0.04847637936472893, 0.06235520541667938, -0.011544524691998959, 0.006329637486487627, 0.009969341568648815, 0.03205068036913872, -0.0573863685131073, 0.0057899528183043, -0.007892047986388206, 0.024607209488749504, -0.03388049826025963, 0.013046136125922203, 0.033039554953575134, -0.04919987916946411, 0.027158252894878387, 0.0039578890427947044, -0.012912565842270851, -0.041319116950035095, -0.028187863528728485, 0.004106221254914999, -0.04750974103808403, 0.006604218389838934, -0.03199350833892822, -0.001256594667211175, 0.028504937887191772, -0.013826809823513031, 0.061457134783267975, 0.021485432982444763, 0.006537039764225483, 0.008196206763386726, 0.0017648754874244332, 0.019572557881474495, 0.054136212915182114, 0.006309011019766331, 0.03793284669518471, 0.0034550491254776716, 0.05986012890934944, -0.055814698338508606, 0.04347739741206169, -0.04256619140505791, -0.01106598973274231, -0.05128645896911621, 0.09711997210979462, 0.05559062957763672, 0.027963483706116676, 0.0860527977347374, -0.043213892728090286, -0.05666544660925865, 0.012363121844828129, -0.05643025413155556, -0.03199028968811035, 0.014272083528339863, -0.04778926074504852, -0.03606119379401207, 0.035096537321805954, 0.07008927315473557, 0.09433573484420776, -0.04153705760836601, 0.00867711752653122, -0.00928196869790554, -0.010065408423542976, 0.02108454890549183, 0.029481012374162674, 0.0639214888215065, -0.014959156513214111, -0.0446288138628006, -0.011966482736170292, -0.013833751901984215, 0.021458394825458527, -0.01804032176733017, -0.08838117122650146, -0.012121759355068207, -0.003248315304517746, 0.016928743571043015, 0.05313834920525551, 0.03199024125933647, 0.0017558475956320763, 0.05240727588534355, 0.04035479202866554, 0.028932999819517136, 0.00960212666541338, -0.012308320961892605, -0.028150340542197227, 0.06158016249537468, 0.015661044046282768, 0.010549517348408699, -0.01669788360595703, 0.02132708579301834, 0.024233737960457802, -0.005660324823111296, 0.029092315584421158, -0.030094128102064133, 0.020945971831679344, 0.055626120418310165, -0.007555126678198576, 0.03676723688840866, -0.021905476227402687, 0.015848618000745773, 0.01566789299249649, 0.005034125875681639, -0.011880832724273205, 0.08201513439416885, -0.04369430989027023, 0.07507263869047165, 0.021044518798589706, 0.018789047375321388, -0.06511618942022324, 0.01816140115261078, -0.01223529502749443, 0.01698392815887928, -0.03841746598482132, -0.04146513715386391, 0.023498252034187317, -0.03902458772063255, -0.001688965829089284, 0.03966456651687622, 0.015046495012938976, -0.06019899994134903, 0.0170186385512352, 0.02536073885858059, 0.014382685534656048, -0.05576934665441513, -0.004418092779815197, 0.002221449976786971, -0.008362867869436741, 0.016176342964172363, -0.00834838580340147, 0.03421802073717117, -0.0029761085752397776, -0.04075967147946358, -0.01370210200548172, -0.06985373795032501, 0.017635922878980637, 0.02099926955997944, -0.007285059429705143, 0.04978928714990616, 0.015069383196532726, -0.033287692815065384, 0.01079398300498724, -0.016795238479971886, -0.03367004916071892, 0.008479081094264984, 0.03426094725728035, -0.020394163206219673, 0.06806962192058563, -0.010331505909562111, 0.031373970210552216, -0.019868407398462296, -0.018008923158049583, 0.055422909557819366, 0.054462071508169174, -0.022102704271674156, 0.0006812948849983513, -0.07596615701913834, -0.041914306581020355, 0.02065090462565422, 0.036881789565086365, 0.017204485833644867, -0.05589503049850464, 0.03473480045795441, 0.04882822930812836, 0.0257834754884243, -0.009678421542048454, -0.032039426267147064, 0.04067610576748848, -0.013611364178359509, 0.04521436244249344, 0.018135523423552513, -0.04187921807169914, 0.003263815538957715, 0.03666702285408974, -0.05465329438447952, 0.024302130565047264, 0.014724405482411385, 0.007626792415976524, 0.0007828176021575928, -0.020766744390130043, -0.014326011762022972, 0.04436840862035751, 0.01025298424065113, -0.012034149840474129, 0.012608852237462997, 0.015875326469540596, 0.00010500428470550105, -0.006422205362468958, -0.003353595733642578, 0.03215650096535683, 0.020607788115739822, 0.034136366099119186, 0.04659169912338257, -0.014619478024542332, 0.06186090409755707, -0.03886127471923828, -0.02316824533045292, -0.01369132474064827, 0.03673944249749184, 0.028468474745750427, 0.050422728061676025, -0.014968158677220345, 0.030441205948591232, 0.002749520353972912, -0.05182857811450958, -0.032417453825473785, 0.008498161099851131, -0.07363302260637283, -0.02020101808011532, -0.01011387724429369, 0.02151719108223915, -0.0008374811732210219, -0.0017036049393936992, -0.013125571422278881, 0.07827978581190109, 0.07673501968383789, -0.06128159910440445, 0.015334275551140308, -0.04236892983317375, 0.0038365377113223076, -0.033736005425453186, -0.05156775191426277, -0.02524343878030777, 0.08418836444616318, -0.04004336893558502, -0.00588273024186492, -0.002123995451256633, -0.010780359618365765, -0.02719956450164318, 0.07061764597892761, -0.053602010011672974, 0.026191532611846924, -0.02384280227124691, -0.0363127663731575, 0.005896642338484526, -0.007034998387098312, -0.0026218362618237734, -0.03819252550601959, 0.05954473093152046, -0.03850390389561653, -0.06427963078022003, 0.009062870405614376, 0.008961617946624756, -0.049050576984882355, 0.0024809197057038546, -0.024191224947571754, 0.04042236879467964, -0.03804967552423477, -0.053497541695833206, 0.05504966899752617, -0.07334999740123749, -0.01633773185312748, -0.05979792773723602, -0.0038429254200309515, -0.0034588987473398447, 0.012695553712546825, 0.028284331783652306, -0.04862850531935692, 0.06338446587324142, -0.033183496445417404, -0.03129099681973457, 0.028863295912742615, -0.04713399335741997, 0.012711183167994022, -0.011599014513194561, 0.005819002632051706, 0.023505989462137222, 0.033428020775318146, 0.056765273213386536, -0.008389982394874096, -0.012777942232787609, -0.007616044953465462, 0.10064911097288132, -0.03630635514855385, -0.015628386288881302, 0.0350676104426384, -0.038280487060546875, 0.034809235483407974, 0.03969884663820267, 0.027533816173672676, 0.03849324584007263, 0.01967039704322815, 0.06708278506994247, -0.010968067683279514, -0.015035419724881649, 0.05855423957109451, 0.03541143983602524, 0.023861601948738098, -0.017099428921937943, -0.021060330793261528, 0.05171797052025795, -0.030656713992357254, 0.03741070255637169, 0.012754282914102077, 0.039776451885700226, 0.029978057369589806, 0.04034896939992905, 0.061131566762924194, 0.04505174979567528, -0.0658361092209816, 0.0272004883736372, 0.050138331949710846, -0.10136274248361588, 0.005934629589319229, 0.048709768801927567, -0.006784685421735048, -0.0016229974571615458, -0.052485350519418716, 0.03916388377547264, 0.015031252056360245, -0.04489567130804062, -0.022116603329777718, 0.00013218572712503374, -0.03626663237810135, -0.011493302881717682, -0.004271348472684622, 0.042230889201164246, 0.07309683412313461, -0.05143565684556961, -0.05201547592878342, 0.05695832893252373, 0.03350081294775009, 0.006465177517384291, -0.004484058823436499, 0.02566635049879551, -0.043297216296195984, 0.0460665225982666, -0.02531442977488041, 0.007149257231503725, 0.052861426025629044, 0.05993198975920677, 0.05639683082699776, 0.01395814772695303, 0.004233676008880138, 0.024497566744685173, 0.013384455814957619, -0.01622413843870163, -0.07384715974330902, -0.00033953203819692135, 0.04369255527853966, 0.03781433030962944, -0.015006953850388527, -0.024063119664788246, 0.029937706887722015, -0.002387016313150525, -0.0016768467612564564, -0.012870936654508114, -0.052357420325279236, -0.015884505584836006, -0.00117960711941123, -0.051315389573574066, -0.0034708415623754263, 0.04822748526930809, 0.03655225783586502, 0.04332224652171135, 0.028999868780374527, 0.05035087838768959, -0.009854183532297611, -0.04767302796244621, -0.0050635067746043205, 0.03003995679318905, 0.045289114117622375, 0.00420647207647562, 0.030278274789452553, -0.004960623104125261, -0.030305275693535805, -0.01452820748090744, -0.02884695492684841, -0.025808293372392654, 0.01615317352116108, 0.027205007150769234, 0.031342167407274246, -0.0041918219067156315, 0.016877349466085434, 0.015798725187778473, 0.013613075017929077, -0.027712196111679077, 0.05392429232597351, -0.025170212611556053, 0.03452157601714134, 0.03925669565796852, -0.055207546800374985, -0.024302063509821892, 0.0188689436763525, -0.041875146329402924, 0.03850892558693886, -0.028679627925157547, 0.0003635877219494432, 0.004696072544902563, -0.015231187455356121, -0.020081687718629837, 0.017157617956399918, -0.008335098624229431, 0.0254674069583416, -0.0286470428109169, 0.003354753367602825, 0.014956949278712273, 0.0282879825681448, -0.010998434387147427, -0.01578224077820778, 0.020590750500559807, 0.04803622514009476, 0.046512942761182785, 0.012717919424176216, 0.00824380200356245, 0.02894308604300022, -0.06672589480876923, 0.00446043536067009, -0.0714232325553894, 0.028726186603307724, 0.016425563022494316, 0.02201598323881626, 0.01740306243300438, 0.04564008116722107, 0.0034139330964535475, -0.010083592496812344, -0.013097880408167839, -0.020322663709521294, 0.038158513605594635, 0.026882559061050415, -0.0028819628059864044, 0.03241799771785736, -0.023540202528238297, 0.039829615503549576, -0.06339294463396072, 0.02887939289212227, -0.03384349122643471, 0.024792464450001717, -0.01730390638113022, 0.024554526433348656, -0.011616414412856102, 0.01459852047264576, -0.016680238768458366, -0.007762297987937927, 0.041466984897851944, 0.022354906424880028, -0.0037203840911388397, 0.037686143070459366, 0.037940606474876404, -0.01072349026799202, 0.05512043461203575, 0.05910094454884529, 0.0029190622735768557, -0.036639947444200516, 0.011125059798359871, -0.029214492067694664, -0.007606708910316229, -0.035109251737594604, 0.010070888325572014, 0.0036987289786338806, 0.013191941194236279, -0.0032336271833628416, 0.02139301784336567, -0.026761474087834358, -0.0021248478442430496, 0.043209008872509, -0.04174984246492386, 0.01638728566467762, -0.010877124033868313, -0.003691195510327816, -0.011924111284315586, -0.010222841054201126, 0.014906274154782295, -0.04505803808569908, 0.01509773824363947, -0.043530985713005066, -0.010189689695835114, -0.10363748669624329, 0.021112123504281044, -0.024653753265738487, -0.05881427228450775, -0.021620312705636024, -0.01037354115396738, 0.08405663818120956, -0.02757563814520836, -0.008117158897221088, -0.021369677037000656, -0.033522188663482666, 0.010598594322800636, -0.01027518231421709, 0.057033929973840714, -0.07669781893491745, 0.018605152145028114, 0.012920604087412357, 0.017543328925967216, 0.016542479395866394, 0.030677320435643196, 0.04842778667807579, 0.062070105224847794, -0.03453780338168144, 0.010939888656139374, -0.01564161293208599, 0.037646614015102386, 0.0032283314503729343, -0.017948031425476074, -0.03283688426017761, 0.06540602445602417, 0.017065325751900673, -0.025226116180419922, 0.06874728947877884, -0.002610099734738469, -0.07875131815671921, 0.03201068565249443, 0.003713079495355487, 0.01221336517482996, 0.021353011950850487, 0.024788787588477135, 0.02245991677045822, -0.06455686688423157, -0.03717925772070885, -0.030204635113477707, -0.007380761206150055, -0.07912818342447281, -0.029903749004006386, 0.003015209222212434, 0.026434076949954033, 0.0043605780228972435, -0.057227641344070435, -0.026978230103850365, -0.02726307138800621, -0.010277836583554745, -0.02127312496304512, -0.07827312499284744, 0.04454723000526428, -0.03209830820560455, 0.0024792090989649296, 0.03449306637048721, -0.00871199369430542, -0.011135239154100418, 0.04726510867476463, -0.012097005732357502, -0.0015100723830983043, -0.0660945326089859, 0.009699554182589054, -0.08495857566595078, -0.02761981077492237, 0.06151555851101875, 0.012038303539156914, 0.006800456903874874, -0.0013099904172122478, 0.04496436566114426, 0.0019554824102669954, 0.0005572368972934783, -0.03970583528280258, 0.08483147621154785, -0.007176445797085762, 0.05077528953552246, 0.001159081351943314, 0.02559569664299488, -0.0020482284016907215, 0.006321518216282129, -0.029559146612882614, -0.03033273294568062, -0.053380563855171204, -0.019918207079172134, -0.025765638798475266, -0.01419044565409422, 0.042228519916534424, -0.032104987651109695, 0.02891872078180313, -0.03260955214500427, -0.03527842462062836, 0.026730388402938843, 0.057183638215065, -0.05508710443973541, 0.0214979350566864, 0.07561640441417694, -0.011932684108614922, -0.030863480642437935, 0.0287645161151886, 0.030658498406410217, 0.05541954189538956, -0.04572376236319542, 0.03658151254057884, 0.02295061945915222, 0.05312178656458855, 0.03474254906177521, -0.023848483338952065, 0.0059660086408257484, -0.08303897827863693, 0.05302815139293671, -0.004481709562242031, 0.09921842068433762, -0.001894647371955216, -0.03988394886255264, -0.005352067295461893, -0.02120199427008629, 0.013913304544985294, -0.007607916835695505, 0.048515863716602325, -0.0029340728651732206, 0.05357900634407997, -0.06515953689813614, 0.049345362931489944, 0.01881047710776329, 0.029181640595197678, -0.054942309856414795, -0.004823506344109774, -0.017771359533071518, -0.024668144062161446, -0.019854102283716202, -0.04962687939405441, 0.013090352527797222, -0.014195811003446579, -0.06114464998245239, -0.049817152321338654, 0.03420434519648552, -0.013511761091649532, 0.029093945398926735, -0.0643225684762001, 0.03643863648176193, 0.026645278558135033, -0.02137790434062481, 0.02691524289548397, -0.025481607764959335, -0.06541378051042557, 0.024287192150950432, -0.021002771332859993, -0.0367191880941391, 0.023881202563643456, -0.012144812382757664, -0.06829743832349777, -0.001978602260351181, -0.026209594681859016, -0.03166776895523071, -0.007562822662293911, 0.03241867944598198, 0.02138739451766014, -0.024360189214348793, -0.012139033526182175, -0.07631051540374756, 0.021373236551880836, -0.046082448214292526, -0.03204069286584854, -0.023187872022390366, -0.013829106464982033, -0.013909772038459778, -0.0008294052677229047, -0.03333597257733345, 0.012676539830863476, -0.041458360850811005, -0.044990334659814835, -0.03623370826244354, -0.0045190309174358845, 0.010835481807589531, -0.0007168746087700129, 0.0010311416117474437, 0.0010100729996338487, -0.07054487615823746, -0.006871745456010103, 0.008968659676611423, -0.019849523901939392, 0.003786801127716899, 0.017079908400774002, 0.024875015020370483, -0.020408257842063904, -0.013361896388232708, 0.03307900205254555, -0.026917384937405586, 0.0010463778162375093, -0.014886812306940556, -0.00627272529527545, 0.05567855387926102, -0.0018048337660729885, 0.0016270081978291273, -0.01298443228006363, 0.013180634938180447, 0.0840446949005127, -0.0879877358675003, -0.056045014411211014, -0.029839422553777695, 0.009060213342308998, 0.02090962789952755, -0.005353317130357027, 0.03497906029224396, -0.0395209901034832, 0.06799481064081192, -0.03203520178794861, 0.032591626048088074, 0.008846772834658623, -0.05067213624715805, -0.053557075560092926, 0.04632440209388733, -0.008069119416177273, -0.020314959809184074, 0.03911313787102699, -0.025817489251494408, 0.0034878116566687822, 0.044520288705825806, -0.016616223379969597, 0.002969874069094658, 0.005836840253323317, -0.0037547522224485874, 0.06111973896622658, -0.054623208940029144, -0.0019732597284018993, 0.0014507422456517816, -0.03838331997394562, -0.053929831832647324, 0.05946002155542374, 0.06007133424282074, -0.06769159436225891, -0.008039616048336029, 0.061142075806856155, -0.02080976590514183, -0.0071684750728309155, 0.06270845979452133, 0.05018332973122597, -0.051204830408096313, 0.03288443386554718, 0.017509667202830315, 0.05259553715586662, 0.004309557843953371, -0.006872560828924179, 0.03155570477247238, -0.03577664867043495, -0.021925032138824463, -0.012446107342839241, -0.018505388870835304, 0.009499610401690006, 0.011825842782855034, -0.019321804866194725, -0.0022932004649192095, -0.018204985186457634, -0.02098381705582142, -0.017019545659422874, 0.004235497210174799, 0.044977765530347824, 0.031653016805648804, -0.03333801403641701, 0.003934962674975395, -0.013048251159489155, 0.0005866166902706027, 0.017087295651435852, -0.02845873311161995, -0.046777889132499695, -0.021885858848690987, 0.07706895470619202], [0.04045227915048599, 0.00729139382019639, 0.051186054944992065, -0.05132913216948509, -0.027603114023804665, -0.03024590201675892, -0.06327579915523529, -0.01165524497628212, -0.004979477263987064, -0.027940625324845314, 0.06856474280357361, 0.03933410719037056, -0.043307919055223465, -0.04635266214609146, 0.0070863463915884495, -0.0017249215161427855, -0.019581736996769905, -0.05037253350019455, -0.011647243984043598, 0.015984615311026573, -0.04794003441929817, 0.017734896391630173, -0.06706848740577698, 0.04150152951478958, -0.014895094558596611, -0.02473338693380356, 0.030346298590302467, -0.012484320439398289, -0.015043672174215317, 0.014982365071773529, 0.04416552558541298, -0.03492867201566696, -0.0008801919757388532, -0.03158542513847351, 0.06738456338644028, -0.013120791874825954, 0.003059366950765252, -0.04402155429124832, -0.014491616748273373, -0.01176491379737854, -0.054306965321302414, 0.10011953860521317, 0.07401944696903229, -0.002555484650656581, 0.05500907823443413, -0.004725298844277859, 0.026234032586216927, 0.03845563903450966, 0.050828296691179276, -0.023857342079281807, -0.04681642726063728, 0.0002430381573503837, 0.0025705923326313496, -0.014663081616163254, 0.018067145720124245, -0.025317290797829628, -0.030196934938430786, 0.035224150866270065, 0.0009860439458861947, 0.014502636156976223, 0.004605431575328112, 0.00888507254421711, 0.03396538645029068, 0.00960211455821991, 0.04111736640334129, 0.03609921410679817, 0.0561094805598259, 0.015755929052829742, -0.021895065903663635, 0.0001680061686784029, -0.038653675466775894, 0.01636306382715702, -0.04323648661375046, -0.019675225019454956, -0.02890227548778057, 0.04228338226675987, 0.05263369902968407, 0.030381271615624428, 0.0003432017983868718, -0.02354929968714714, -0.04923652112483978, 0.01876118965446949, -0.04940367862582207, 0.010374294593930244, 0.004569521639496088, -0.02881602756679058, 0.0008668610244058073, 0.01786593347787857, 0.02101854234933853, 0.06138519570231438, -0.02547178976237774, -0.013291132636368275, -0.04490431770682335, -0.028167638927698135, 0.04167410358786583, 0.017366863787174225, -0.02904501184821129, 0.03503652289509773, -0.03300970792770386, -0.022048702463507652, -0.03318728506565094, 0.03859146311879158, -0.041436199098825455, -0.05514722317457199, -0.007282773964107037, -0.0012080916203558445, 0.019818682223558426, 0.03092409297823906, 0.05264514312148094, 0.00874535646289587, 0.0630364641547203, 0.03528678044676781, 0.040315892547369, -0.004816860426217318, 0.017207324504852295, -0.03582678735256195, 0.06535018980503082, 0.03583446890115738, -0.04018736630678177, 0.029166318476200104, 0.018589535728096962, 0.02192726731300354, 0.01705780439078808, -0.029850199818611145, -0.035287998616695404, 0.03271902725100517, 0.03403530269861221, 0.03114009089767933, 0.020790698006749153, -0.07909490168094635, 0.03377395495772362, -0.023535890504717827, -0.01823407970368862, 0.012474278919398785, 0.022701285779476166, -0.03801192715764046, 0.03702004253864288, 0.02041097730398178, -0.019324272871017456, -0.0823272243142128, 0.02554471418261528, 0.07590542733669281, -0.01868351921439171, -0.0546300895512104, -0.039784643799066544, 0.01745537482202053, -0.0039460198022425175, 0.008378736674785614, 0.021556735038757324, 0.010293622501194477, -0.03500386327505112, 0.006001913920044899, 0.04119200259447098, 0.004935901146382093, -0.018122104927897453, 0.025640740990638733, 0.01462435070425272, -0.018193664029240608, 0.05542245879769325, -0.04636003077030182, 0.05209014564752579, -0.02937936782836914, -0.023920850828289986, 0.035766035318374634, -0.062171634286642075, 0.012463018298149109, 0.020081399008631706, -0.017073653638362885, 0.039373837411403656, -0.01862252689898014, 0.04609353467822075, -0.02109096571803093, -0.031698811799287796, -0.031668517738580704, 0.0660846158862114, -0.007222246844321489, -0.0064966995269060135, 0.08757274597883224, 0.0005504965083673596, 0.03259269893169403, -0.04151338338851929, 0.05040013790130615, 0.011285807937383652, -3.364282747497782e-05, -0.037242352962493896, -0.0017505070427432656, -0.02871682122349739, -0.04307853803038597, -0.008030230179429054, 0.016115223988890648, 0.017165547236800194, -0.08254627883434296, 0.04796875640749931, 0.035581983625888824, 0.08110219240188599, 0.010558346286416054, 0.015946509316563606, 0.07596912235021591, 0.004267754964530468, 0.009906210005283356, 0.023445267230272293, -0.023775901645421982, 0.005295397248119116, 0.040328558534383774, 0.028551174327731133, 0.014197192154824734, 0.03665999695658684, 0.032866138964891434, 0.016865838319063187, -0.0006256214110180736, -0.0453469455242157, 0.06389812380075455, 0.03706564009189606, 0.00565382419154048, 0.008765362203121185, 0.009049005806446075, 0.024965306743979454, -0.06187028810381889, -0.02519776113331318, 0.05529652535915375, -0.03396593779325485, 0.017377294600009918, -0.013112415559589863, -0.020321214571595192, 0.03061228059232235, -0.016993742436170578, -0.05215192213654518, -0.012397842481732368, 0.05265018716454506, 0.002456611953675747, 0.05424287170171738, -0.011320159770548344, 0.03890170156955719, 0.045792967081069946, 0.022508641704916954, -0.07524021714925766, 0.013301665894687176, -0.023509804159402847, -0.025816064327955246, -0.05320725962519646, 0.04940798506140709, 0.015016160905361176, 0.020991915836930275, -0.044622380286455154, 0.04441918432712555, 0.04877793788909912, -0.0358784943819046, -0.03650917485356331, 0.0208065677434206, 0.024968255311250687, -0.013882586732506752, -0.010439224541187286, 0.010636570863425732, 0.030597668141126633, -0.0440664142370224, -0.03387625142931938, -0.007461921777576208, 0.016553452238440514, -0.05048434063792229, 0.026392348110675812, -0.04630286991596222, -0.02571595460176468, -0.06774736195802689, -0.03457530960440636, -2.4341374228242785e-05, -0.019183162599802017, 0.024984849616885185, -0.012699037790298462, 0.0682062953710556, -0.016744771972298622, -0.01624475046992302, 0.029759328812360764, 0.01309065893292427, -0.027525432407855988, 0.023465635254979134, 0.05481217801570892, 0.0337093286216259, -0.023922670632600784, -0.07638547569513321, 0.01604459248483181, 0.007946435362100601, -0.04988585039973259, 0.05159399285912514, -0.011518800631165504, 0.03140817582607269, 0.017772279679775238, 0.019702594727277756, -0.033292464911937714, -0.01885860599577427, -0.062315504997968674, 0.020413435995578766, 0.03854560852050781, -0.005408226978033781, 0.026057247072458267, -0.013835658319294453, 0.020334061235189438, 0.06308635324239731, 0.003605807200074196, 0.07917727530002594, 0.020304754376411438, -0.022383078932762146, 0.012279323302209377, 0.005450209602713585, -0.0195497814565897, -0.04948538914322853, 0.02363821305334568, -0.09799831360578537, 0.008710083551704884, 0.005838753189891577, -0.013390867039561272, 0.09666810929775238, 0.03812306001782417, 0.03157755360007286, 0.03166206553578377, -0.019591830670833588, -0.026241760700941086, 0.048295486718416214, 0.004237820859998465, -0.004317575134336948, -0.011732546612620354, 0.05890321731567383, -0.01866297423839569, 0.010155322030186653, -0.03488820791244507, 0.027038967236876488, -0.06987332552671432, 0.03210752084851265, 0.02600596472620964, 0.047560229897499084, -0.048861756920814514, 0.05929281935095787, 0.037432339042425156, -0.04554571211338043, 0.06432212144136429, 0.003247421234846115, 0.09408511966466904, -0.025227544829249382, 0.012467704713344574, -0.005768211092799902, 0.017731504514813423, -0.08071207255125046, -0.017588311806321144, 0.039624232798814774, -0.01342328917235136, -0.02587100863456726, -0.028287051245570183, 0.008258367888629436, 0.02540542371571064, -0.06072157621383667, -0.06389287114143372, -0.0069427331909537315, 0.04930571839213371, -0.007109737955033779, 0.01490518357604742, 0.017225515097379684, 0.013378215953707695, -0.015053319744765759, -0.008773342706263065, -0.029435135424137115, 0.04348279908299446, 0.02232232503592968, 0.03154493123292923, 0.052873533219099045, -0.016392575576901436, 0.0326044037938118, -0.009989000856876373, -0.04988780990242958, -0.03458866477012634, 0.019965654239058495, 0.050867997109889984, 0.06519953906536102, -0.053665969520807266, -0.030562682077288628, 0.000973626272752881, -0.0353388749063015, 0.004583104979246855, -0.025982389226555824, -0.08331725746393204, -0.026656754314899445, -0.01838637702167034, -0.028787272050976753, 0.05631452053785324, -0.0008968758629634976, 0.05899182707071304, 0.047879479825496674, -0.013514233753085136, 0.03369677811861038, -0.037747904658317566, -0.006252208724617958, 0.04998723790049553, 0.03409045189619064, 0.04090424254536629, 0.05837194249033928, -0.03486127778887749, 0.01287318579852581, -0.04296410456299782, -0.036241356283426285, -0.016389647498726845, -0.055546462535858154, 0.03543802723288536, 0.03335846588015556, -0.011540780775249004, -0.023566437885165215, 0.020317209884524345, 0.021639345213770866, 0.07532069832086563, -0.024214167147874832, 0.04454859718680382, 0.08235743641853333, 0.0343499630689621, 0.048339422792196274, -0.04203064739704132, -0.008836263790726662, -0.033065833151340485, -0.014745034277439117, -0.014367659576237202, -0.033032335340976715, -0.0010706960456445813, 0.05754002928733826, 0.0061106570065021515, -0.00477075669914484, 0.015776287764310837, 0.0040625762194395065, 0.046346329152584076, 0.028885915875434875, 0.017338575795292854, 0.0445895791053772, -0.001148190232925117, -0.04026253521442413, 0.019803963601589203, 0.00812842883169651, 0.04860083758831024, -0.02574571967124939, 0.04957094416022301, -0.04781762883067131, 0.013132886961102486, -0.049981191754341125, 0.0024843181017786264, -0.03620417043566704, 0.06658332794904709, -0.02502889558672905, -0.022779680788517, 0.040561556816101074, 0.04252671077847481, -0.008135923184454441, -0.015269038267433643, -0.02615092322230339, -0.001594729837961495, 0.015557290986180305, 0.004646626766771078, -0.05340103805065155, 0.00489291176199913, 0.009838348254561424, 0.04564724117517471, 0.024161726236343384, 0.05824343487620354, 0.03900126740336418, -0.028300171718001366, -0.023419657722115517, -0.03318753093481064, -0.008561154827475548, 0.019236722961068153, 0.0028517621103674173, 0.013070011511445045, -0.032573044300079346, -0.0006472142995335162, 0.012890391051769257, -0.06535328924655914, 0.05278459191322327, 0.06194169074296951, 0.015901723876595497, 0.004652887117117643, -0.016755705699324608, -0.0293432530015707, -0.04298932105302811, -0.01625068299472332, -0.003390621393918991, -0.011277282610535622, -0.0025668658781796694, -0.0242003183811903, 0.03442349284887314, -0.036833636462688446, -0.033463772386312485, -0.03351619094610214, -0.013057295233011246, 0.045773714780807495, -0.04132595285773277, -0.0320657342672348, 0.02091795764863491, -0.02737245336174965, 0.005452286452054977, -0.07418368011713028, -0.011909383349120617, -0.060251619666814804, 0.009508843533694744, -0.041488345712423325, -0.06944786757230759, -0.03600209206342697, 0.07401460409164429, -0.04719747602939606, -0.013838347978889942, 0.01986025460064411, -0.024595942348241806, 0.04960178583860397, -0.008392609655857086, 0.03097030706703663, -0.04355992376804352, 0.020048966631293297, -0.011717910878360271, -0.004520116839557886, 0.04185904189944267, -0.044662587344646454, 0.006115238182246685, 0.03839734196662903, -0.0010743868770077825, -0.05973867326974869, -0.0199838038533926, 0.008270136080682278, 0.02723010815680027, -0.08217619359493256, -0.006476374808698893, -0.021482795476913452, 0.03133081644773483, 0.053612612187862396, 0.014932505786418915, -0.04333086684346199, 0.03521313890814781, -0.005703703500330448, -0.04933265596628189, 0.014188221655786037, -0.03379522264003754, -0.03578025475144386, -0.0030462893191725016, -0.019259335473179817, -0.02191263996064663, 0.009005982428789139, -0.008643222972750664, 0.025393156334757805, -0.04405141621828079, 0.020070495083928108, -0.058400943875312805, 0.04795166850090027, -0.030187683179974556, 0.03007517009973526, -0.047867197543382645, 0.03360119089484215, -0.0037887440994381905, -0.049993179738521576, 0.010360125452280045, -0.01042590569704771, -0.03038838505744934, -0.04185719043016434, -0.06627237051725388, 0.07248973846435547, -0.01619729772210121, 0.03993014246225357, 0.038857486099004745, -0.015046803280711174, 0.022971946746110916, -0.0049715968780219555, -0.049736615270376205, -0.03226397931575775, -0.002941118786111474, -0.00011117009853478521, -0.05475758761167526, -0.03552890941500664, 0.0701199620962143, 0.027607344090938568, -0.020668286830186844, -0.05685042962431908, -0.007153234910219908, 0.04939732700586319, 0.04510130360722542, -0.03440451994538307, 0.0659693107008934, 0.028746536001563072, -0.0037185349501669407, 0.004090015776455402, -0.0056145465932786465, 0.0013675648951902986, 0.029036998748779297, -0.02057003229856491, -0.01971711404621601, -0.04225466772913933, -0.06419982016086578, -0.019158486276865005, 0.01860610581934452, 0.023526359349489212, -0.0327128991484642, 0.002693106885999441, -0.00460855383425951, -0.012420779094099998, -0.009278252720832825, 0.008168640546500683, -0.009695909917354584, 0.0442289263010025, 0.0361250638961792, -0.10550201684236526, -0.013377450406551361, -0.06661354750394821, 0.017766302451491356, 0.016947034746408463, -0.05003451928496361, 0.0073514110408723354, 0.04954557120800018, 0.032698675990104675, 0.01914549432694912, 0.054063230752944946, 0.0009034248651005328, 0.01151205413043499, 0.05436985194683075, -0.005960321985185146, 0.058268506079912186, 0.0018478214042261243, 0.03967633843421936, -0.04250890761613846, -0.0276782289147377, 0.014983860775828362, 0.0012151721166446805, 0.012275954708456993, -0.029810048639774323, 0.0002618417202029377, 0.006077656522393227, 0.012613416649401188, 0.04860461875796318, 0.008540510199964046, -0.05533784627914429, -0.052623286843299866, -0.014111442491412163, -0.04586965590715408, -0.013768979348242283, -0.04128206521272659, -0.005180802661925554, -0.00026985639124177396, -0.049570661038160324, -0.01893644966185093, -0.05754745006561279, 0.012264289893209934, 0.010940070264041424, 0.016423121094703674, -0.0039925104938447475, -0.03202509135007858, -0.07273618876934052, 0.010359270498156548, -0.05767180025577545, -0.008784718811511993, 0.043518077582120895, 0.026701970025897026, -0.03521842509508133, 0.08168239891529083, -0.0028418407309800386, 0.004893217235803604, -0.06802204996347427, -0.07063033431768417, -0.05179566144943237, -0.016175325959920883, 0.04058511555194855, 0.02918807603418827, 0.04140086472034454, -0.06551645696163177, -0.030600953847169876, 0.02820463851094246, -0.044748544692993164, 0.02829541079699993, 0.009342284873127937, -0.004885431844741106, -0.011005924083292484, 0.030737806111574173, 0.0036511188372969627, 0.00668298127129674, -0.057812731713056564, 0.013704678043723106, 0.0014244350604712963, 0.03355282172560692, 0.033814605325460434, -0.028411271050572395, -0.002251586876809597, 0.0043696085922420025, -0.08940500020980835, -0.05335522070527077, 0.014511906541883945, -0.030033204704523087, -0.012593166902661324, 0.006647241301834583, -0.045183077454566956, -0.0393761470913887, -0.04141079634428024, 0.025897551327943802, -0.007382925134152174, 0.006230721715837717, -0.033837754279375076, -0.045724764466285706, 0.0026498448569327593, -0.005076033063232899, 0.08244083821773529, -0.04867701604962349, 0.02301824651658535, 0.029710108414292336, -0.02196200005710125, -0.04773304611444473, 0.009982788003981113, 0.008138217963278294, 0.04533404856920242, -0.03990212455391884, 0.038308076560497284, -0.023764368146657944, -0.014972012490034103, -0.028755594044923782, 0.06096208095550537, -0.01174800843000412, -0.02332715503871441, -0.0538657009601593, -0.02275291457772255, -0.028029143810272217, -0.0027177908923476934, 0.012610954232513905, -0.04827297851443291, -0.031835753470659256, -0.002368525369092822, 0.062039829790592194, -0.04624781757593155, 0.022150207310914993, -0.054079074412584305, 0.05131527781486511, 0.00755417812615633, -0.0012702096719294786, -0.018449798226356506, -0.03391561657190323, -0.015698447823524475, 0.04054204747080803, 0.037232596427202225, 0.016294803470373154, 0.016458524391055107, 0.012460424564778805, -0.00779309356585145, -0.0020263968035578728, 0.027494581416249275, 0.04124501347541809, -0.040805503726005554, 0.07303082197904587, -0.015791531652212143, 0.017085880041122437, -0.004922163672745228, 0.013820909895002842, 0.10225235670804977, -0.06292670220136642, 0.003376462496817112, 0.011727302335202694, -0.03463728353381157, -0.02562114968895912, 0.0026638181880116463, -0.007281550671905279, 0.04777553677558899, -0.0067764283157885075, -0.007805577479302883, -0.0173202995210886, -0.032203637063503265, 0.015891052782535553, 0.013912380672991276, -0.022268466651439667, -0.0005818766658194363, 0.0444495715200901, -0.03742397949099541, -0.002851480385288596, -0.044571686536073685, -0.005759755149483681, -0.03367340937256813, 0.06931156665086746], [0.006618387997150421, 0.021189631894230843, 0.03808918595314026, -0.00793489534407854, -0.048229023814201355, -0.050945792347192764, -0.052444662898778915, -0.00875338539481163, -0.005508829839527607, 0.019108891487121582, 0.017972348257899284, 0.03343797102570534, -0.02513165958225727, -0.08793360739946365, -0.03129725530743599, -0.021951768547296524, 0.008473042398691177, -0.05218343809247017, 0.006750101689249277, 0.024143170565366745, -0.023886511102318764, -0.001018850482068956, -0.08524530380964279, -0.012642228044569492, -0.010336305014789104, -0.07721178233623505, 0.029636455699801445, 0.026899047195911407, -0.02489892765879631, -0.019126003608107567, 0.06874017417430878, 0.02448960207402706, 0.04601156711578369, -0.054716989398002625, 0.04739461839199066, -0.003164984518662095, 0.021463077515363693, -0.06282366812229156, 0.004776663146913052, -0.0489281490445137, -0.02670169435441494, 0.025927603244781494, 0.07018375396728516, -0.026844561100006104, 0.04032439738512039, 0.009393298998475075, 0.04410132020711899, 0.015137778595089912, -0.008197088725864887, -0.004936541896313429, 0.0026395111344754696, 0.0074713705107569695, 0.02019241452217102, -0.02645719423890114, 0.06220075860619545, -0.0341203548014164, -0.03130185604095459, 0.023901522159576416, -0.003602805780246854, 0.013038607314229012, -0.019887147471308708, 0.027817299589514732, -0.014313449151813984, -0.020930858328938484, -0.0028081287164241076, 0.010378541424870491, 0.04390646889805794, 0.056886427104473114, 0.01735863648355007, 0.015568018890917301, -0.05298050865530968, -0.02053000032901764, -0.042393188923597336, -0.003405944909900427, -0.06237269192934036, 0.038528524339199066, 0.0557192899286747, 0.04404490441083908, 0.029063284397125244, -0.006221157964318991, -0.04014306515455246, -0.0027304019313305616, -0.055308662354946136, 0.025715230032801628, 0.0010690257186070085, -0.005600806791335344, -0.042896464467048645, 0.0036732738371938467, 0.02963191643357277, 0.03683934733271599, -0.028918638825416565, -0.005981205962598324, -0.012037072330713272, -0.00886162556707859, 0.01691313274204731, 0.01719822734594345, 0.0010522118536755443, -0.010388734750449657, 0.037166111171245575, -0.030262509360909462, -0.027757082134485245, 0.004464775789529085, -0.05187760293483734, -0.0916428416967392, 0.001910418039187789, 0.004581796005368233, 0.04562591388821602, 0.012899533845484257, 0.0218549445271492, 0.02989812381565571, 0.04201089218258858, 0.024137727916240692, 0.00662870891392231, 0.0249223280698061, 0.058197639882564545, -0.04192470386624336, 0.02717217430472374, -0.008407793939113617, -0.053668782114982605, 0.024043571203947067, 0.04563033580780029, 0.053657416254282, -0.011961217038333416, 0.04674321413040161, -0.01839860901236534, 0.0021121941972523928, 0.02490963228046894, -0.0018335288623347878, -0.008051954209804535, -0.05218574032187462, 0.0342196449637413, -0.07444708794355392, 0.001064859563484788, 0.006158032920211554, 0.11221940815448761, -0.07474719732999802, 0.015299110673367977, -0.01983947865664959, 0.0071142204105854034, -0.0963427796959877, 0.06771274656057358, 0.01118701696395874, 0.00909578986465931, -0.05809103325009346, -0.022691309452056885, 0.05937494710087776, -0.06305085122585297, -0.002014185069128871, -0.010405627079308033, 0.01767927035689354, -0.027635127305984497, 0.024125196039676666, 0.02181546576321125, -0.05652473121881485, -0.05663765221834183, -0.03372735530138016, -0.023235971108078957, 0.02022605389356613, -0.01628018729388714, 0.002315265592187643, 0.023755405098199844, 0.017245875671505928, -0.05110029876232147, 0.07786499708890915, -0.06239579990506172, -0.02701476216316223, -0.05037359893321991, -0.033003393560647964, -0.020552022382616997, -0.020614072680473328, -0.005553547292947769, -0.004841864109039307, -0.0709754228591919, -0.024017322808504105, 0.011948597617447376, -0.008826744742691517, -0.05750534310936928, 0.07822562009096146, 0.03521730378270149, 0.04531565681099892, -0.023258553817868233, 0.008214889094233513, 0.04784870147705078, 0.011538234539330006, -0.005411689169704914, -0.01744309440255165, -0.028673188760876656, -0.04052635654807091, -0.03412050008773804, 0.024372167885303497, -0.02404623106122017, -0.07491035014390945, -0.009233269840478897, 0.07947243005037308, 0.00936422124505043, -0.05093872547149658, 0.07265032082796097, 0.04962645098567009, -0.0036487861070781946, 0.041378457099199295, 0.009436313062906265, 0.021448643878102303, 0.01815403811633587, -0.008980206213891506, -0.014147019013762474, 0.046598441898822784, 0.03235655650496483, 0.029202474281191826, -0.009422180242836475, 0.00019467891252133995, 0.004946392960846424, 0.011254285462200642, 0.02983716130256653, -0.020892677828669548, 0.024524331092834473, 0.02560706064105034, 0.016840390861034393, -0.05576995387673378, 0.009347476065158844, 0.03167911246418953, -0.011722534894943237, -0.027885930612683296, 0.044535357505083084, -0.011017290875315666, 0.054860807955265045, -0.025717545300722122, -0.05677683278918266, 0.045484770089387894, 0.055369406938552856, 0.021074093878269196, 0.0509304441511631, -0.013283931650221348, 0.030271053314208984, 0.044930439442396164, -0.013294612988829613, -0.040626075118780136, 0.04675738885998726, -0.04063773155212402, -0.0061417012475430965, -0.022210201248526573, -0.04103388264775276, -0.029425647109746933, -0.009674199856817722, -0.036067601293325424, 0.011823096312582493, 0.04848169907927513, -0.005991763435304165, -0.02670894004404545, -0.02766004204750061, 0.0014599012210965157, 0.0014871357707306743, -0.008642135187983513, -0.00479411194100976, 0.056582510471343994, -0.022780314087867737, -0.06703508645296097, -0.039300188422203064, 0.016443748027086258, -0.022459333762526512, 0.029511500149965286, -0.0366724468767643, -0.01089639775454998, -0.058313705027103424, -0.034076426178216934, -0.04320742189884186, -0.030720463022589684, 0.04920630902051926, -0.04765968769788742, 0.07031899690628052, -0.03902886435389519, -0.05884344503283501, 0.09298714250326157, 0.036976445466279984, -0.026373030617833138, 0.031961824744939804, 0.026369480416178703, 0.03340989351272583, -0.012052071280777454, -0.04538249224424362, -0.02100292593240738, -0.016556140035390854, -0.06357205659151077, 0.00761721795424819, -0.02210002765059471, 0.03842197731137276, -0.016159476712346077, 0.018083542585372925, -0.019384006038308144, 0.04328461363911629, -0.029582617804408073, -0.04813408479094505, 0.0506293848156929, -0.029862573370337486, -0.03241569548845291, -0.03401270508766174, 0.03303263708949089, 0.0064284540712833405, 0.020056571811437607, 0.01747700572013855, -0.0009575052536092699, -0.0020636257249861956, 0.04406042769551277, 0.0001786391221685335, -0.06395191699266434, -0.05867481231689453, 0.05387284606695175, -0.09741701185703278, -0.007076219655573368, 0.0064308312721550465, -0.011251203715801239, 0.03824811801314354, 0.027850236743688583, 0.017473440617322922, 0.018176667392253876, -0.011422531679272652, 0.0010184458224102855, 0.07396392524242401, 0.01637508161365986, 0.006978044286370277, -0.005585624370723963, 0.03323063254356384, -0.025723857805132866, 0.03271903097629547, -0.056464895606040955, 0.01768699288368225, 0.016543617472052574, 0.047692134976387024, 0.06309689581394196, 0.0032399017363786697, -0.056986093521118164, 0.024779682978987694, -0.009008927270770073, -0.026730218902230263, 0.03715088963508606, 0.05200611799955368, 0.002107025822624564, 0.00040117677417583764, 0.0033079071436077356, 0.056407004594802856, 0.01035240013152361, -0.08830596506595612, -0.016569292172789574, -0.028936199843883514, -0.040431659668684006, -0.021264687180519104, -0.012170575559139252, 0.01630345731973648, 0.007523707579821348, -0.09264302998781204, -0.024949243292212486, 0.013342201709747314, 0.025457167997956276, -0.06965235620737076, -0.0077485800720751286, 0.04053055867552757, 0.0005317127797752619, 0.04495466127991676, -0.014927110634744167, 0.024407636374235153, 0.04427352920174599, 0.015439385548233986, -0.002921350533142686, -0.02122095413506031, -0.007319364696741104, 0.017128491774201393, -0.005438853055238724, -0.01614105887711048, 0.0043429057113826275, -0.00315661053173244, 0.06516042351722717, -0.0003544926585163921, -0.0058621629141271114, -0.0348968543112278, 0.00040488867671228945, -0.063868448138237, 0.020114384591579437, -0.07143653184175491, -0.06874080002307892, -0.054002437740564346, -0.016474444419145584, 0.04104911908507347, 0.020936258137226105, 0.013012112118303776, 0.07844136655330658, 0.017466222867369652, -0.006771832704544067, 0.002110204426571727, -0.05971464142203331, 0.004551529418677092, -0.011096125468611717, -0.011668074876070023, 0.01735008880496025, 0.005227869376540184, -0.001800196128897369, 0.03977569192647934, -0.01037480216473341, -0.034550175070762634, -0.03392286226153374, -0.06666816025972366, 0.03113204799592495, 0.00028865336207672954, -0.005474236328154802, -0.0015337781514972448, -0.0036494850646704435, 0.00019835730199702084, 0.03321969136595726, 0.026769794523715973, -0.01035064086318016, 0.018724223598837852, 0.02604568935930729, -0.02123429626226425, -0.037786632776260376, -0.020443156361579895, 0.013990755192935467, 0.026454735547304153, -0.006022684276103973, -0.003715038998052478, -0.0030393905472010374, 0.01835525780916214, 0.020508460700511932, 0.0003453943063504994, -0.018764814361929893, 0.011434892192482948, 0.05537505820393562, -0.024493688717484474, -0.015668753534555435, -0.01673314906656742, 0.004881297238171101, -0.01429849211126566, 0.03918925300240517, 0.018397150561213493, 0.03990780934691429, 0.01025165431201458, 0.028793979436159134, 0.029801251366734505, 0.028087500482797623, -0.10831684619188309, 0.03345360979437828, -0.04480141028761864, 0.04374535754323006, 0.006075783632695675, -0.008907029405236244, 0.0071933697909116745, 0.031311556696891785, 0.038945961743593216, 0.009165585041046143, -0.02549973502755165, -0.04806234687566757, 0.014548689126968384, 0.027153411880135536, 0.008125402964651585, 0.05818294733762741, -0.02660892903804779, 0.04250550642609596, -0.03174562007188797, 0.05777658522129059, 0.02127871662378311, -0.00784198846668005, 0.003953929990530014, -0.0033678910695016384, 0.015443279407918453, 0.0415857695043087, -0.04282337427139282, 0.03426835685968399, -0.07619689404964447, -0.008766592480242252, 0.021105308085680008, 0.050417881458997726, 0.030133463442325592, 0.0483640655875206, 0.018544187769293785, 0.0362430177628994, -0.03239018842577934, -0.037360645830631256, -0.01823042333126068, -0.038642168045043945, -0.022640295326709747, -0.034857891499996185, -0.008823325857520103, -0.03427303209900856, -0.014820502139627934, -0.028086915612220764, 0.031003635376691818, -0.02557276003062725, 0.028629647567868233, 0.036187849938869476, -0.05225956439971924, -0.0202296394854784, 0.038105558604002, -0.041247233748435974, -0.046162478625774384, 0.009341319091618061, 0.012426386587321758, -0.044797275215387344, -0.011872921139001846, -0.05396479740738869, -0.06579724699258804, -0.04061057046055794, 0.024867743253707886, -0.0629255399107933, -0.047774605453014374, 0.012218767777085304, 0.04105052724480629, 0.05143143609166145, 0.023790692910552025, 0.0038867457769811153, -0.04591760411858559, 0.0056728096678853035, -0.02111734449863434, -0.018888838589191437, 0.055879995226860046, -0.06341705471277237, 0.01187915075570345, 0.03626369684934616, -0.008979703299701214, -0.021397752687335014, 0.03539465367794037, 0.022042062133550644, 0.0020289237145334482, -0.0633823350071907, -0.020311972126364708, -0.009183884598314762, 0.07099741697311401, 0.03287149965763092, -0.034114666283130646, -0.02686181291937828, 0.06138705089688301, -0.0035595453809946775, -0.07425832748413086, 0.04774763435125351, -0.07540556788444519, 0.01190592348575592, 0.0016735056415200233, 0.010639908723533154, -0.0023244579788297415, -0.002804091200232506, -0.053188737481832504, -0.008655420504510403, -0.05312531441450119, -0.07356178015470505, -0.04516073688864708, 0.02074640430510044, -0.05828890949487686, -0.04316685348749161, -0.06375669687986374, 0.023357901722192764, -0.016505809500813484, -0.05362027883529663, -0.04056520387530327, 0.010355454869568348, -0.020614856854081154, -0.03503483906388283, -0.057129405438899994, 0.028934650123119354, 0.01365600898861885, 0.026676053181290627, 0.0062833623960614204, -0.008534565567970276, 0.04129442945122719, 0.012443412095308304, -0.02305634878575802, -0.04604711756110191, -0.03165365383028984, 0.021724317222833633, -0.08602418005466461, -0.05449831113219261, 0.06526430696249008, -0.016913743689656258, -0.050287727266550064, -0.011655366979539394, -0.012861719354987144, 0.0007816494326107204, 0.037983790040016174, -0.023170042783021927, 0.031435009092092514, -0.05601773038506508, -0.008753905072808266, 0.036047808825969696, 0.04090029001235962, 0.023999765515327454, 0.028950924053788185, -0.06776022166013718, -0.03899962827563286, -0.0313665047287941, -0.006916778162121773, -0.04541459307074547, -0.03429952636361122, 0.036246221512556076, -0.03477078303694725, -0.012267944402992725, -0.03171288222074509, -0.03570253774523735, 0.002314772456884384, -0.023963922634720802, 0.003633474698290229, 0.08232055604457855, 0.03774043545126915, -0.06865101307630539, 0.026822606101632118, -0.02276795171201229, -0.02131551317870617, 0.05714856833219528, -0.01620672084391117, 0.03974840044975281, 0.033637143671512604, 0.06372097879648209, 0.024187380447983742, -0.03258350118994713, 0.014267455786466599, -0.014525912702083588, 0.04468034580349922, -0.0059595778584480286, 0.06635826826095581, -0.007018186151981354, 0.028827326372265816, -0.010476546362042427, 0.0017487439326941967, -0.04131371155381203, 0.027662958949804306, 0.05287538468837738, -0.02572738192975521, 0.017888767644762993, 0.029797310009598732, 0.006377751007676125, 0.04826786369085312, -0.013644170947372913, -0.020728081464767456, -0.024886898696422577, -0.0025929377879947424, -0.0031528647523373365, -0.02108805812895298, -0.052858613431453705, -0.03614964336156845, -0.0009115722496062517, -0.0527966171503067, -0.0039709629490971565, -0.01478294562548399, 0.008209281601011753, 0.038416165858507156, 0.018039338290691376, 0.02927309460937977, 0.007949166931211948, -0.06319388747215271, 0.03808509558439255, -0.03960346058011055, -0.032082922756671906, 0.07225483655929565, -0.0024699061177670956, -0.02707512304186821, 0.026626665145158768, -0.046327535063028336, 0.0014353588921949267, -0.04571894183754921, -0.0793895572423935, -0.06051545590162277, 0.004356882069259882, 0.029192619025707245, 0.017270134761929512, 0.027083562687039375, -0.022799761965870857, -0.03941090777516365, 0.049880895763635635, -0.07726794481277466, 0.011184344999492168, -0.025036698207259178, -6.055903668311657e-06, -0.030937617644667625, -0.005197488237172365, 0.021720949560403824, 0.05043613910675049, -0.04441077634692192, -0.013228797353804111, -0.00604119012132287, 0.0015934541588649154, 0.025619026273489, -0.007571532856673002, 0.0041373297572135925, 0.005180074833333492, -0.026540081948041916, 0.02817939966917038, -0.04380422458052635, -0.02032615803182125, -0.0011105092708021402, 0.02218014933168888, 0.0008786542457528412, -0.038428619503974915, -0.020083533599972725, 0.04485821723937988, -0.012079723179340363, 0.058382298797369, -0.0036457970272749662, -0.030171092599630356, 0.018917137756943703, -0.03619728609919548, 0.06251832097768784, -0.012980788946151733, -0.014249555766582489, 0.04889073595404625, -0.058554358780384064, -0.04164173826575279, -0.02081684209406376, 0.01542362105101347, 0.019975051283836365, -0.0383254811167717, -0.01227494515478611, -0.030638178810477257, -0.01073819026350975, -0.012574510648846626, 0.048710841685533524, 0.015555540099740028, -0.09506300836801529, -0.04020843282341957, -0.010067989118397236, -0.021486150100827217, 0.022008556872606277, 0.003678025444969535, -0.038049034774303436, -0.013546300120651722, -0.014625409618020058, 0.024202624335885048, -0.04353832080960274, 0.014454052783548832, 0.006664300803095102, 0.03303159773349762, 0.03736349567770958, 0.004310260061174631, 0.01893828809261322, -0.014109584502875805, 0.016315044835209846, -0.0001260084827663377, 0.05461994931101799, 0.03677699342370033, 0.012909093871712685, -0.005742600653320551, -0.03087044507265091, -0.016577940434217453, 0.05173846706748009, 0.04972181096673012, -0.00734194228425622, 0.07121466845273972, 0.01841077208518982, 0.045715756714344025, -0.015295996330678463, -0.028795801103115082, 0.05925982818007469, -0.05912114679813385, -0.019185461103916168, 0.05189403146505356, -0.04170811548829079, -0.05694868415594101, -0.0511077344417572, 0.04469408839941025, -0.010559964925050735, -0.02866583876311779, 0.02201869525015354, -0.03611620515584946, -0.06432123482227325, 0.025089219212532043, 0.056567270308732986, -0.015404803678393364, -0.011489479802548885, 0.01422012411057949, -0.0071789599023759365, 0.026075001806020737, 0.00478290906175971, -0.03390653803944588, -0.013617290183901787, 0.06439348310232162]], 'metadatas': [{'channel': 'random', 'date': '2023-06-19', 'message': 'Random shiii', 'time': '1687166237.151359', 'user_id': 'U05DHDPL4FK', 'user_name': 'kenenisaalemayhu0'}, {'channel': 'general', 'date': '2023-06-19', 'message': 'hello', 'time': '1687166197.580079', 'user_id': 'U05DHDPL4FK', 'user_name': 'kenenisaalemayhu0'}, {'channel': 'general', 'date': '2023-06-19', 'message': '<https://haystack.deepset.ai/tutorials/08_preprocessing>', 'time': '1687166202.864639', 'user_id': 'U05DHDPL4FK', 'user_name': 'kenenisaalemayhu0'}, {'channel': 'general', 'date': '2023-06-19', 'message': \"Good work.. now we don't have to worry about exporting data.\", 'time': '1687166814.786429', 'user_id': 'U05CQ93C3FZ', 'user_name': 'Tollan'}, {'channel': 'general', 'date': '2023-06-19', 'message': \"It's best if we just post random topics here to test the semantic search.\", 'time': '1687166901.338569', 'user_id': 'U05CQ93C3FZ', 'user_name': 'Tollan'}, {'channel': 'general', 'date': '2023-06-19', 'message': 'yeah then we’ll see how we can clean the data', 'time': '1687167171.439409', 'user_id': 'U05DHDPL4FK', 'user_name': 'kenenisaalemayhu0'}, {'channel': 'general', 'date': '2023-06-19', 'message': 'but we can’t use it for search since it’ll be very small', 'time': '1687167197.595189', 'user_id': 'U05DHDPL4FK', 'user_name': 'kenenisaalemayhu0'}, {'channel': 'general', 'date': '2023-06-19', 'message': \"Oh.. u r right.. the search probably won't work properly with a small amount of data.\", 'time': '1687168952.621439', 'user_id': 'U05CQ93C3FZ', 'user_name': 'Tollan'}, {'channel': 'general', 'date': '2023-06-19', 'message': 'And we should also post some stickers... :grinning: :smile: :grin:', 'time': '1687169124.658349', 'user_id': 'U05CQ93C3FZ', 'user_name': 'Tollan'}, {'channel': 'general', 'date': '2023-06-19', 'message': 'Also, welcome <@U05D4M7RGQ3>', 'time': '1687169174.199539', 'user_id': 'U05CQ93C3FZ', 'user_name': 'Tollan'}], 'documents': [None, None, None, None, None, None, None, None, None, None]}\n",
            "57\n"
          ]
        }
      ]
    },
    {
      "cell_type": "code",
      "source": [
        "upsert_all()"
      ],
      "metadata": {
        "id": "-T18gCFHTKWS"
      },
      "execution_count": null,
      "outputs": []
    },
    {
      "cell_type": "code",
      "source": [
        "# Load the persisted database from disk, and use it as normal.\n",
        "vectordb = Chroma(persist_directory= '/chroma/db')"
      ],
      "metadata": {
        "id": "A-h1y_eAHmD-",
        "outputId": "1f158286-e993-4782-fd11-9eae4ce4f76e",
        "colab": {
          "base_uri": "https://localhost:8080/",
          "height": 183
        }
      },
      "execution_count": 19,
      "outputs": [
        {
          "output_type": "error",
          "ename": "NameError",
          "evalue": "ignored",
          "traceback": [
            "\u001b[0;31m---------------------------------------------------------------------------\u001b[0m",
            "\u001b[0;31mNameError\u001b[0m                                 Traceback (most recent call last)",
            "\u001b[0;32m<ipython-input-19-79f56e0c9c82>\u001b[0m in \u001b[0;36m<cell line: 2>\u001b[0;34m()\u001b[0m\n\u001b[1;32m      1\u001b[0m \u001b[0;31m# Load the persisted database from disk, and use it as normal.\u001b[0m\u001b[0;34m\u001b[0m\u001b[0;34m\u001b[0m\u001b[0m\n\u001b[0;32m----> 2\u001b[0;31m \u001b[0mvectordb\u001b[0m \u001b[0;34m=\u001b[0m \u001b[0mChroma\u001b[0m\u001b[0;34m(\u001b[0m\u001b[0mpersist_directory\u001b[0m\u001b[0;34m=\u001b[0m \u001b[0;34m'/chroma/db'\u001b[0m\u001b[0;34m)\u001b[0m\u001b[0;34m\u001b[0m\u001b[0;34m\u001b[0m\u001b[0m\n\u001b[0m",
            "\u001b[0;31mNameError\u001b[0m: name 'Chroma' is not defined"
          ]
        }
      ]
    },
    {
      "cell_type": "markdown",
      "source": [
        "## Make a retriever"
      ],
      "metadata": {
        "id": "siLXR-XT0JoI"
      }
    },
    {
      "cell_type": "code",
      "source": [
        "def get_context_from_pinecone(query):\n",
        "  # Generate embeddings for the query\n",
        "  embedded_query = instructor_embeddings.embed_query(query)\n",
        "\n",
        "  query_response = sample_collection.query(\n",
        "      query_embeddings = embedded_query,\n",
        "      n_results = 10,\n",
        "      # where = {\"metadata_field\": \"is_equal_to_this\"},\n",
        "      where = {\n",
        "          \"channel\": {\"$in\": [\"general\", \"random\"]}\n",
        "          # \"user_id\": {\"$in\": [\"U05D1SQDNSH\", \"U05DHDPL4FK\", \"U05CQ93C3FZ\", \"U05D4M7RGQ3\"]}\n",
        "      }\n",
        "      # where_document={\"$contains\":\"search_string\"}\n",
        "  )\n",
        "\n",
        "  print(query_response)"
      ],
      "metadata": {
        "id": "7h7hrBSYk40W"
      },
      "execution_count": null,
      "outputs": []
    },
    {
      "cell_type": "code",
      "source": [
        "retriever = vectordb.as_retriever()"
      ],
      "metadata": {
        "id": "6ObunFU30Lxh"
      },
      "execution_count": null,
      "outputs": []
    },
    {
      "cell_type": "code",
      "source": [
        "docs = retriever.get_relevant_documents(\"What is Flash attention?\")"
      ],
      "metadata": {
        "id": "cYA-H59u0Skn"
      },
      "execution_count": null,
      "outputs": []
    },
    {
      "cell_type": "code",
      "source": [
        "len(docs)"
      ],
      "metadata": {
        "colab": {
          "base_uri": "https://localhost:8080/"
        },
        "id": "h0iAuh_B0ZjE",
        "outputId": "05fd7e14-1b3c-4d4a-8acf-9d9f30dd38ff"
      },
      "execution_count": null,
      "outputs": [
        {
          "output_type": "execute_result",
          "data": {
            "text/plain": [
              "4"
            ]
          },
          "metadata": {},
          "execution_count": 18
        }
      ]
    },
    {
      "cell_type": "code",
      "source": [
        "docs[0]"
      ],
      "metadata": {
        "colab": {
          "base_uri": "https://localhost:8080/"
        },
        "id": "Vws1udbPaPmQ",
        "outputId": "ffb57f2d-6636-4cf1-b871-786f71eda3ce"
      },
      "execution_count": null,
      "outputs": [
        {
          "output_type": "execute_result",
          "data": {
            "text/plain": [
              "Document(page_content='access.\\nWe propose FlashAttention , a new attention algorithm that computes exact attention with far fewer\\nmemory accesses. Our main goal is to avoid reading and writing the attention matrix to and from HBM.\\nThis requires (i) computing the softmax reduction without access to the whole input (ii) not storing the large\\nintermediate attention matrix for the backward pass. We apply two well-established techniques to address\\nthese challenges. (i) We restructure the attention computation to split the input into blocks and make several\\npasses over input blocks, thus incrementally performing the softmax reduction (also known as tiling). (ii) We\\nstore the softmax normalization factor from the forward pass to quickly recompute attention on-chip in the\\nbackward pass, which is faster than the standard approach of reading the intermediate attention matrix from\\nHBM. We implement FlashAttention in CUDA to achieve ﬁne-grained control over memory access and', metadata={'page': 1, 'source': 'new_papers/new_papers/Flash-attention.pdf'})"
            ]
          },
          "metadata": {},
          "execution_count": 19
        }
      ]
    },
    {
      "cell_type": "code",
      "source": [
        "retriever = vectordb.as_retriever(search_kwargs={\"k\": 3})"
      ],
      "metadata": {
        "id": "jVWgPJXs1yRq"
      },
      "execution_count": null,
      "outputs": []
    },
    {
      "cell_type": "code",
      "source": [
        "retriever.search_type"
      ],
      "metadata": {
        "colab": {
          "base_uri": "https://localhost:8080/",
          "height": 35
        },
        "id": "H4N0IhRM0hHL",
        "outputId": "8fff8f36-98eb-4cab-a4d2-32a41073fc5c"
      },
      "execution_count": null,
      "outputs": [
        {
          "output_type": "execute_result",
          "data": {
            "text/plain": [
              "'similarity'"
            ],
            "application/vnd.google.colaboratory.intrinsic+json": {
              "type": "string"
            }
          },
          "metadata": {},
          "execution_count": 21
        }
      ]
    },
    {
      "cell_type": "code",
      "source": [
        "retriever.search_kwargs"
      ],
      "metadata": {
        "colab": {
          "base_uri": "https://localhost:8080/"
        },
        "id": "4jXL9u-u0prF",
        "outputId": "98398ca8-3fbb-4309-8173-8c62c48f55e4"
      },
      "execution_count": null,
      "outputs": [
        {
          "output_type": "execute_result",
          "data": {
            "text/plain": [
              "{'k': 3}"
            ]
          },
          "metadata": {},
          "execution_count": 22
        }
      ]
    },
    {
      "cell_type": "markdown",
      "source": [
        "## Make a chain"
      ],
      "metadata": {
        "id": "4Ia-4OXa5IeP"
      }
    },
    {
      "cell_type": "code",
      "source": [
        "# create the chain to answer questions\n",
        "qa_chain = RetrievalQA.from_chain_type(llm=OpenAI(),\n",
        "                                  chain_type=\"stuff\",\n",
        "                                  retriever=retriever,\n",
        "                                  return_source_documents=True)"
      ],
      "metadata": {
        "id": "MGx8XblM4shW",
        "outputId": "27ff38b4-04d1-4c1d-953d-b3838cfb3a6c",
        "colab": {
          "base_uri": "https://localhost:8080/",
          "height": 345
        }
      },
      "execution_count": null,
      "outputs": [
        {
          "output_type": "error",
          "ename": "ValidationError",
          "evalue": "ignored",
          "traceback": [
            "\u001b[0;31m---------------------------------------------------------------------------\u001b[0m",
            "\u001b[0;31mValidationError\u001b[0m                           Traceback (most recent call last)",
            "\u001b[0;32m<ipython-input-23-57f38fa530c2>\u001b[0m in \u001b[0;36m<cell line: 2>\u001b[0;34m()\u001b[0m\n\u001b[1;32m      1\u001b[0m \u001b[0;31m# create the chain to answer questions\u001b[0m\u001b[0;34m\u001b[0m\u001b[0;34m\u001b[0m\u001b[0m\n\u001b[0;32m----> 2\u001b[0;31m qa_chain = RetrievalQA.from_chain_type(llm=OpenAI(), \n\u001b[0m\u001b[1;32m      3\u001b[0m                                   \u001b[0mchain_type\u001b[0m\u001b[0;34m=\u001b[0m\u001b[0;34m\"stuff\"\u001b[0m\u001b[0;34m,\u001b[0m\u001b[0;34m\u001b[0m\u001b[0;34m\u001b[0m\u001b[0m\n\u001b[1;32m      4\u001b[0m                                   \u001b[0mretriever\u001b[0m\u001b[0;34m=\u001b[0m\u001b[0mretriever\u001b[0m\u001b[0;34m,\u001b[0m\u001b[0;34m\u001b[0m\u001b[0;34m\u001b[0m\u001b[0m\n\u001b[1;32m      5\u001b[0m                                   return_source_documents=True)\n",
            "\u001b[0;32m/usr/local/lib/python3.10/dist-packages/langchain/load/serializable.py\u001b[0m in \u001b[0;36m__init__\u001b[0;34m(self, **kwargs)\u001b[0m\n\u001b[1;32m     72\u001b[0m \u001b[0;34m\u001b[0m\u001b[0m\n\u001b[1;32m     73\u001b[0m     \u001b[0;32mdef\u001b[0m \u001b[0m__init__\u001b[0m\u001b[0;34m(\u001b[0m\u001b[0mself\u001b[0m\u001b[0;34m,\u001b[0m \u001b[0;34m**\u001b[0m\u001b[0mkwargs\u001b[0m\u001b[0;34m:\u001b[0m \u001b[0mAny\u001b[0m\u001b[0;34m)\u001b[0m \u001b[0;34m->\u001b[0m \u001b[0;32mNone\u001b[0m\u001b[0;34m:\u001b[0m\u001b[0;34m\u001b[0m\u001b[0;34m\u001b[0m\u001b[0m\n\u001b[0;32m---> 74\u001b[0;31m         \u001b[0msuper\u001b[0m\u001b[0;34m(\u001b[0m\u001b[0;34m)\u001b[0m\u001b[0;34m.\u001b[0m\u001b[0m__init__\u001b[0m\u001b[0;34m(\u001b[0m\u001b[0;34m**\u001b[0m\u001b[0mkwargs\u001b[0m\u001b[0;34m)\u001b[0m\u001b[0;34m\u001b[0m\u001b[0;34m\u001b[0m\u001b[0m\n\u001b[0m\u001b[1;32m     75\u001b[0m         \u001b[0mself\u001b[0m\u001b[0;34m.\u001b[0m\u001b[0m_lc_kwargs\u001b[0m \u001b[0;34m=\u001b[0m \u001b[0mkwargs\u001b[0m\u001b[0;34m\u001b[0m\u001b[0;34m\u001b[0m\u001b[0m\n\u001b[1;32m     76\u001b[0m \u001b[0;34m\u001b[0m\u001b[0m\n",
            "\u001b[0;32m/usr/local/lib/python3.10/dist-packages/pydantic/main.cpython-310-x86_64-linux-gnu.so\u001b[0m in \u001b[0;36mpydantic.main.BaseModel.__init__\u001b[0;34m()\u001b[0m\n",
            "\u001b[0;31mValidationError\u001b[0m: 1 validation error for OpenAI\n__root__\n  Did not find openai_api_key, please add an environment variable `OPENAI_API_KEY` which contains it, or pass  `openai_api_key` as a named parameter. (type=value_error)"
          ]
        }
      ]
    },
    {
      "cell_type": "code",
      "source": [
        "## Cite sources\n",
        "\n",
        "import textwrap\n",
        "\n",
        "def wrap_text_preserve_newlines(text, width=110):\n",
        "    # Split the input text into lines based on newline characters\n",
        "    lines = text.split('\\n')\n",
        "\n",
        "    # Wrap each line individually\n",
        "    wrapped_lines = [textwrap.fill(line, width=width) for line in lines]\n",
        "\n",
        "    # Join the wrapped lines back together using newline characters\n",
        "    wrapped_text = '\\n'.join(wrapped_lines)\n",
        "\n",
        "    return wrapped_text\n",
        "\n",
        "def process_llm_response(llm_response):\n",
        "    print(wrap_text_preserve_newlines(llm_response['result']))\n",
        "    print('\\n\\nSources:')\n",
        "    for source in llm_response[\"source_documents\"]:\n",
        "        print(source.metadata['source'])"
      ],
      "metadata": {
        "id": "LZEo26mw8e5k"
      },
      "execution_count": null,
      "outputs": []
    },
    {
      "cell_type": "code",
      "source": [
        "# full example\n",
        "query = \"What is Flash attention?\"\n",
        "llm_response = qa_chain(query)\n",
        "process_llm_response(llm_response)"
      ],
      "metadata": {
        "colab": {
          "base_uri": "https://localhost:8080/"
        },
        "id": "wKfX4vX-5RFT",
        "outputId": "8aa76c83-388d-4d2d-ede4-4e2692d99005"
      },
      "execution_count": null,
      "outputs": [
        {
          "output_type": "stream",
          "name": "stdout",
          "text": [
            " FlashAttention is an IO-aware exact attention algorithm that uses tiling to reduce the number of memory\n",
            "reads/writes between GPU high bandwidth memory (HBM) and GPU on-chip SRAM. It is designed to improve the\n",
            "quality of Transformers and enable them to scale to longer sequences.\n",
            "\n",
            "\n",
            "Sources:\n",
            "new_papers/new_papers/Flash-attention.pdf\n",
            "new_papers/new_papers/Flash-attention.pdf\n",
            "new_papers/new_papers/Flash-attention.pdf\n"
          ]
        }
      ]
    },
    {
      "cell_type": "code",
      "source": [
        "# break it down\n",
        "query = \"What does IO-aware mean?\"\n",
        "llm_response = qa_chain(query)\n",
        "process_llm_response(llm_response)\n",
        "# llm_response"
      ],
      "metadata": {
        "colab": {
          "base_uri": "https://localhost:8080/"
        },
        "id": "olRm73t3rNt2",
        "outputId": "11bef497-6ce9-4e88-a3eb-87f7cb3fb4bd"
      },
      "execution_count": null,
      "outputs": [
        {
          "output_type": "stream",
          "name": "stdout",
          "text": [
            " IO-aware means optimizing for reading and writing to fast/slow memory. It has a long history in computer\n",
            "science and been known by many names, such as the working set model, data locality, the Rooﬂine model of\n",
            "arithmetic intensity, analyses of scalability, and standard textbook treatments of computer architecture.\n",
            "\n",
            "\n",
            "Sources:\n",
            "new_papers/new_papers/Flash-attention.pdf\n",
            "new_papers/new_papers/Flash-attention.pdf\n",
            "new_papers/new_papers/Flash-attention.pdf\n"
          ]
        }
      ]
    },
    {
      "cell_type": "code",
      "source": [
        "query = \"What is tiling in flash-attention?\"\n",
        "llm_response = qa_chain(query)\n",
        "process_llm_response(llm_response)"
      ],
      "metadata": {
        "colab": {
          "base_uri": "https://localhost:8080/"
        },
        "id": "wg-e6fh6rNwz",
        "outputId": "78f790d6-d172-4be8-e57e-4761021781e3"
      },
      "execution_count": null,
      "outputs": [
        {
          "output_type": "stream",
          "name": "stdout",
          "text": [
            " Tiling in flash-attention is a technique used to split the input into blocks and make several passes over\n",
            "input blocks to incrementally perform the softmax reduction.\n",
            "\n",
            "\n",
            "Sources:\n",
            "new_papers/new_papers/Flash-attention.pdf\n",
            "new_papers/new_papers/Flash-attention.pdf\n",
            "new_papers/new_papers/Flash-attention.pdf\n"
          ]
        }
      ]
    },
    {
      "cell_type": "code",
      "source": [
        "query = \"What is toolformer?\"\n",
        "llm_response = qa_chain(query)\n",
        "process_llm_response(llm_response)"
      ],
      "metadata": {
        "colab": {
          "base_uri": "https://localhost:8080/"
        },
        "id": "cuFf8D-rrN0I",
        "outputId": "8caf5954-8337-488d-8942-29f4422a5a6b"
      },
      "execution_count": null,
      "outputs": [
        {
          "output_type": "stream",
          "name": "stdout",
          "text": [
            " Toolformer is a language model that learns in a self-supervised way how to use different tools such as search\n",
            "engines, calculators, and translation systems via simple API calls.\n",
            "\n",
            "\n",
            "Sources:\n",
            "new_papers/new_papers/toolformer.pdf\n",
            "new_papers/new_papers/toolformer.pdf\n",
            "new_papers/new_papers/toolformer.pdf\n"
          ]
        }
      ]
    },
    {
      "cell_type": "code",
      "source": [
        "query = \"What tools can be used with toolformer?\"\n",
        "llm_response = qa_chain(query)\n",
        "process_llm_response(llm_response)"
      ],
      "metadata": {
        "colab": {
          "base_uri": "https://localhost:8080/"
        },
        "id": "yMyu13ouwgqs",
        "outputId": "34eda6db-c31e-41f2-b17e-5ec4212659d4"
      },
      "execution_count": null,
      "outputs": [
        {
          "output_type": "stream",
          "name": "stdout",
          "text": [
            " Toolformer can use search engines, calculators, and translation systems via simple API calls.\n",
            "\n",
            "\n",
            "Sources:\n",
            "new_papers/new_papers/toolformer.pdf\n",
            "new_papers/new_papers/toolformer.pdf\n",
            "new_papers/new_papers/toolformer.pdf\n"
          ]
        }
      ]
    },
    {
      "cell_type": "code",
      "source": [
        "query = \"How many examples do we need to provide for each tool?\"\n",
        "llm_response = qa_chain(query)\n",
        "process_llm_response(llm_response)"
      ],
      "metadata": {
        "colab": {
          "base_uri": "https://localhost:8080/"
        },
        "id": "t5KETxphrN3d",
        "outputId": "7f3245d5-2c00-4edb-d417-0a8d0600fb0f"
      },
      "execution_count": null,
      "outputs": [
        {
          "output_type": "stream",
          "name": "stdout",
          "text": [
            " We only need a handful of manually labeled examples for few-shot prompting.\n",
            "\n",
            "\n",
            "Sources:\n",
            "new_papers/new_papers/Augmenting LLMs Survey.pdf\n",
            "new_papers/new_papers/toolformer.pdf\n",
            "new_papers/new_papers/Augmenting LLMs Survey.pdf\n"
          ]
        }
      ]
    },
    {
      "cell_type": "code",
      "source": [
        "query = \"What are the best retrieval augmentations for LLMs?\"\n",
        "llm_response = qa_chain(query)\n",
        "process_llm_response(llm_response)"
      ],
      "metadata": {
        "colab": {
          "base_uri": "https://localhost:8080/"
        },
        "id": "692pHNkFrN5z",
        "outputId": "1503fccb-1a5d-4989-da8b-e8be675a870a"
      },
      "execution_count": null,
      "outputs": [
        {
          "output_type": "stream",
          "name": "stdout",
          "text": [
            " According to the text, dense and sparse retrievers can be used to augment a LM. Dense retrievers work with a\n",
            "dense query and dense LMs while having less parameters, while sparse retrievers work with sparse bag-of-words\n",
            "representations of the documents and the queries. Additionally, LMs can be augmented with reasoning strategies\n",
            "and external tools to provide more relevant context.\n",
            "\n",
            "\n",
            "Sources:\n",
            "new_papers/new_papers/Augmenting LLMs Survey.pdf\n",
            "new_papers/new_papers/Augmenting LLMs Survey.pdf\n",
            "new_papers/new_papers/Augmenting LLMs Survey.pdf\n"
          ]
        }
      ]
    },
    {
      "cell_type": "code",
      "source": [
        "query = \"What are the differences between REALM and RAG?\"\n",
        "llm_response = qa_chain(query)\n",
        "process_llm_response(llm_response)"
      ],
      "metadata": {
        "colab": {
          "base_uri": "https://localhost:8080/"
        },
        "id": "Dl7hy8IvFFL0",
        "outputId": "fe50bb0f-37bb-4d9b-c7da-800311927ff8"
      },
      "execution_count": null,
      "outputs": [
        {
          "output_type": "stream",
          "name": "stdout",
          "text": [
            " REALM (Guu et al. ,2020) is the first method to jointly train end-to-end a retrieval system with an encoder\n",
            "LM, while RAG (Lewis et al. ,2020) jointly fine-tunes the retriever with a sequence-to-sequence model.\n",
            "\n",
            "\n",
            "Sources:\n",
            "new_papers/new_papers/Augmenting LLMs Survey.pdf\n",
            "new_papers/new_papers/Augmenting LLMs Survey.pdf\n",
            "new_papers/new_papers/ReACT.pdf\n"
          ]
        }
      ]
    },
    {
      "cell_type": "code",
      "source": [
        "qa_chain.retriever.search_type , qa_chain.retriever.vectorstore"
      ],
      "metadata": {
        "colab": {
          "base_uri": "https://localhost:8080/"
        },
        "id": "IPIhZWAR5n3X",
        "outputId": "fb91c258-90d1-40ae-c73a-2fa69724257b"
      },
      "execution_count": null,
      "outputs": [
        {
          "output_type": "execute_result",
          "data": {
            "text/plain": [
              "('similarity', <langchain.vectorstores.chroma.Chroma at 0x7f0cbf5433d0>)"
            ]
          },
          "metadata": {},
          "execution_count": 39
        }
      ]
    },
    {
      "cell_type": "code",
      "source": [
        "print(qa_chain.combine_documents_chain.llm_chain.prompt.template)"
      ],
      "metadata": {
        "colab": {
          "base_uri": "https://localhost:8080/"
        },
        "id": "3_lp0_796P_-",
        "outputId": "7461df8f-5f8d-4e78-f944-9e71142494cf"
      },
      "execution_count": null,
      "outputs": [
        {
          "output_type": "stream",
          "name": "stdout",
          "text": [
            "Use the following pieces of context to answer the question at the end. If you don't know the answer, just say that you don't know, don't try to make up an answer.\n",
            "\n",
            "{context}\n",
            "\n",
            "Question: {question}\n",
            "Helpful Answer:\n"
          ]
        }
      ]
    },
    {
      "cell_type": "markdown",
      "source": [
        "## Deleteing the DB"
      ],
      "metadata": {
        "id": "SSxVCnNi5h1-"
      }
    },
    {
      "cell_type": "code",
      "source": [
        "!zip -r db.zip ./db"
      ],
      "metadata": {
        "colab": {
          "base_uri": "https://localhost:8080/"
        },
        "id": "H7xmepGJ2GAE",
        "outputId": "92b53c84-ef81-4000-db5a-2c2ec09db311"
      },
      "execution_count": null,
      "outputs": [
        {
          "output_type": "stream",
          "name": "stdout",
          "text": [
            "  adding: db/ (stored 0%)\n",
            "  adding: db/chroma-collections.parquet (deflated 50%)\n",
            "  adding: db/index/ (stored 0%)\n",
            "  adding: db/index/index_metadata_59c51927-205d-4fd7-88d8-c7ba851bd2a5.pkl (deflated 5%)\n",
            "  adding: db/index/uuid_to_id_59c51927-205d-4fd7-88d8-c7ba851bd2a5.pkl (deflated 39%)\n",
            "  adding: db/index/index_59c51927-205d-4fd7-88d8-c7ba851bd2a5.bin (deflated 17%)\n",
            "  adding: db/index/id_to_uuid_59c51927-205d-4fd7-88d8-c7ba851bd2a5.pkl (deflated 35%)\n",
            "  adding: db/chroma-embeddings.parquet (deflated 29%)\n"
          ]
        }
      ]
    },
    {
      "cell_type": "code",
      "source": [
        "# To cleanup, you can delete the collection\n",
        "vectordb.delete_collection()\n",
        "vectordb.persist()\n",
        "\n",
        "# delete the directory\n",
        "!rm -rf db/"
      ],
      "metadata": {
        "id": "Jl84qGQt5Wu5"
      },
      "execution_count": null,
      "outputs": []
    },
    {
      "cell_type": "markdown",
      "source": [
        "## Starting again loading the db\n",
        "\n",
        "restart the runtime"
      ],
      "metadata": {
        "id": "R2r0ZIBPJp-K"
      }
    },
    {
      "cell_type": "code",
      "source": [
        "!unzip db.zip"
      ],
      "metadata": {
        "colab": {
          "base_uri": "https://localhost:8080/"
        },
        "id": "8pc7CM_mTQAt",
        "outputId": "f8e311fb-7d68-43af-ffd6-f66a9259766a"
      },
      "execution_count": null,
      "outputs": [
        {
          "output_type": "stream",
          "name": "stdout",
          "text": [
            "Archive:  db.zip\n",
            "   creating: db/\n",
            "  inflating: db/chroma-collections.parquet  \n",
            "   creating: db/index/\n",
            "  inflating: db/index/index_metadata_59c51927-205d-4fd7-88d8-c7ba851bd2a5.pkl  \n",
            "  inflating: db/index/uuid_to_id_59c51927-205d-4fd7-88d8-c7ba851bd2a5.pkl  \n",
            "  inflating: db/index/index_59c51927-205d-4fd7-88d8-c7ba851bd2a5.bin  \n",
            "  inflating: db/index/id_to_uuid_59c51927-205d-4fd7-88d8-c7ba851bd2a5.pkl  \n",
            "  inflating: db/chroma-embeddings.parquet  \n"
          ]
        }
      ]
    },
    {
      "cell_type": "code",
      "source": [
        "import os\n",
        "\n",
        "os.environ[\"OPENAI_API_KEY\"] = \"\""
      ],
      "metadata": {
        "id": "us3F8ZKeRiz2"
      },
      "execution_count": null,
      "outputs": []
    },
    {
      "cell_type": "code",
      "source": [
        "from langchain.vectorstores import Chroma\n",
        "from langchain.embeddings import OpenAIEmbeddings\n",
        "\n",
        "from langchain.chat_models import ChatOpenAI\n",
        "from langchain.chains import RetrievalQA"
      ],
      "metadata": {
        "id": "qK1nY4PkKYGo"
      },
      "execution_count": null,
      "outputs": []
    },
    {
      "cell_type": "code",
      "source": [
        "persist_directory = 'db'\n",
        "embedding = OpenAIEmbeddings()\n",
        "\n",
        "vectordb2 = Chroma(persist_directory=persist_directory,\n",
        "                  embedding_function=embedding,\n",
        "                   )\n",
        "\n",
        "retriever = vectordb2.as_retriever(search_kwargs={\"k\": 2})"
      ],
      "metadata": {
        "colab": {
          "base_uri": "https://localhost:8080/"
        },
        "id": "396RyNbS4EXx",
        "outputId": "502d5c81-0823-4c00-89ca-7b4dd08bee26"
      },
      "execution_count": null,
      "outputs": [
        {
          "output_type": "stream",
          "name": "stderr",
          "text": [
            "WARNING:chromadb:Using embedded DuckDB with persistence: data will be stored in: db\n"
          ]
        }
      ]
    },
    {
      "cell_type": "code",
      "source": [
        "# Set up the turbo LLM\n",
        "turbo_llm = ChatOpenAI(\n",
        "    temperature=0,\n",
        "    model_name='gpt-3.5-turbo'\n",
        ")"
      ],
      "metadata": {
        "id": "F3vkSxxYKCZ9"
      },
      "execution_count": null,
      "outputs": []
    },
    {
      "cell_type": "code",
      "source": [
        "# create the chain to answer questions\n",
        "qa_chain = RetrievalQA.from_chain_type(llm=turbo_llm,\n",
        "                                  chain_type=\"stuff\",\n",
        "                                  retriever=retriever,\n",
        "                                  return_source_documents=True)"
      ],
      "metadata": {
        "id": "PsR60NH5KCfj"
      },
      "execution_count": null,
      "outputs": []
    },
    {
      "cell_type": "code",
      "source": [
        "## Cite sources\n",
        "def process_llm_response(llm_response):\n",
        "    print(llm_response['result'])\n",
        "    print('\\n\\nSources:')\n",
        "    for source in llm_response[\"source_documents\"]:\n",
        "        print(source.metadata['source'])"
      ],
      "metadata": {
        "id": "RWulTG0eKCfk"
      },
      "execution_count": null,
      "outputs": []
    },
    {
      "cell_type": "code",
      "source": [
        "# full example\n",
        "query = \"How much money did Pando raise?\"\n",
        "llm_response = qa_chain(query)\n",
        "process_llm_response(llm_response)"
      ],
      "metadata": {
        "colab": {
          "base_uri": "https://localhost:8080/"
        },
        "outputId": "766f131a-daaf-462f-842a-f7bd10a081fd",
        "id": "mDp-g2FtKCfk"
      },
      "execution_count": null,
      "outputs": [
        {
          "output_type": "stream",
          "name": "stdout",
          "text": [
            "Pando raised $30 million in a Series B round, bringing its total raised to $45 million.\n",
            "\n",
            "\n",
            "Sources:\n",
            "new_articles/05-03-ai-powered-supply-chain-startup-pando-lands-30m-investment.txt\n",
            "new_articles/05-03-ai-powered-supply-chain-startup-pando-lands-30m-investment.txt\n"
          ]
        }
      ]
    },
    {
      "cell_type": "markdown",
      "source": [
        "### Chat prompts"
      ],
      "metadata": {
        "id": "7fPl26c-TbWw"
      }
    },
    {
      "cell_type": "code",
      "source": [
        "print(qa_chain.combine_documents_chain.llm_chain.prompt.messages[0].prompt.template)"
      ],
      "metadata": {
        "id": "wwyuhrpu5XqM",
        "colab": {
          "base_uri": "https://localhost:8080/"
        },
        "outputId": "0f2c8060-4002-49ba-8869-6a9990c2c6d6"
      },
      "execution_count": null,
      "outputs": [
        {
          "output_type": "stream",
          "name": "stdout",
          "text": [
            "Use the following pieces of context to answer the users question. \n",
            "If you don't know the answer, just say that you don't know, don't try to make up an answer.\n",
            "----------------\n",
            "{context}\n"
          ]
        }
      ]
    },
    {
      "cell_type": "code",
      "source": [
        "print(qa_chain.combine_documents_chain.llm_chain.prompt.messages[1].prompt.template)"
      ],
      "metadata": {
        "colab": {
          "base_uri": "https://localhost:8080/"
        },
        "id": "LcWXvSCHRvHO",
        "outputId": "d7a3acee-9ef1-4c08-b2a0-187f2cd90c8f"
      },
      "execution_count": null,
      "outputs": [
        {
          "output_type": "stream",
          "name": "stdout",
          "text": [
            "{question}\n"
          ]
        }
      ]
    },
    {
      "cell_type": "code",
      "source": [],
      "metadata": {
        "id": "978QWCeJSRdu"
      },
      "execution_count": null,
      "outputs": []
    }
  ]
}